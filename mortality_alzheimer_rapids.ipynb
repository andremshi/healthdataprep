{
  "cells": [
    {
      "cell_type": "markdown",
      "metadata": {
        "id": "view-in-github",
        "colab_type": "text"
      },
      "source": [
        "<a href=\"https://colab.research.google.com/github/andremshi/healthdataprep/blob/main/mortality_alzheimer_rapids.ipynb\" target=\"_parent\"><img src=\"https://colab.research.google.com/assets/colab-badge.svg\" alt=\"Open In Colab\"/></a>"
      ]
    },
    {
      "cell_type": "code",
      "source": [
        "import locale\n",
        "locale.getpreferredencoding = lambda: \"UTF-8\"\n",
        "!nvidia-smi"
      ],
      "metadata": {
        "colab": {
          "base_uri": "https://localhost:8080/"
        },
        "id": "qsL8Xsph8Kxx",
        "outputId": "410642bf-307c-42bd-e633-52dc90776111"
      },
      "execution_count": 1,
      "outputs": [
        {
          "output_type": "stream",
          "name": "stdout",
          "text": [
            "Wed Dec 27 12:11:51 2023       \n",
            "+---------------------------------------------------------------------------------------+\n",
            "| NVIDIA-SMI 535.104.05             Driver Version: 535.104.05   CUDA Version: 12.2     |\n",
            "|-----------------------------------------+----------------------+----------------------+\n",
            "| GPU  Name                 Persistence-M | Bus-Id        Disp.A | Volatile Uncorr. ECC |\n",
            "| Fan  Temp   Perf          Pwr:Usage/Cap |         Memory-Usage | GPU-Util  Compute M. |\n",
            "|                                         |                      |               MIG M. |\n",
            "|=========================================+======================+======================|\n",
            "|   0  Tesla T4                       Off | 00000000:00:04.0 Off |                    0 |\n",
            "| N/A   64C    P8              10W /  70W |      0MiB / 15360MiB |      0%      Default |\n",
            "|                                         |                      |                  N/A |\n",
            "+-----------------------------------------+----------------------+----------------------+\n",
            "                                                                                         \n",
            "+---------------------------------------------------------------------------------------+\n",
            "| Processes:                                                                            |\n",
            "|  GPU   GI   CI        PID   Type   Process name                            GPU Memory |\n",
            "|        ID   ID                                                             Usage      |\n",
            "|=======================================================================================|\n",
            "|  No running processes found                                                           |\n",
            "+---------------------------------------------------------------------------------------+\n"
          ]
        }
      ]
    },
    {
      "cell_type": "code",
      "source": [
        "# This get the RAPIDS-Colab install files and test check your GPU.  Run this and the next cell only.\n",
        "# Please read the output of this cell.  If your Colab Instance is not RAPIDS compatible, it will warn you and give you remediation steps.\n",
        "!git clone https://github.com/rapidsai/rapidsai-csp-utils.git\n",
        "!python rapidsai-csp-utils/colab/pip-install.py"
      ],
      "metadata": {
        "colab": {
          "base_uri": "https://localhost:8080/"
        },
        "id": "VqBY-75o8OKC",
        "outputId": "34df8553-8d4c-48f3-923a-118d5b6f876a"
      },
      "execution_count": 2,
      "outputs": [
        {
          "output_type": "stream",
          "name": "stdout",
          "text": [
            "Cloning into 'rapidsai-csp-utils'...\n",
            "remote: Enumerating objects: 438, done.\u001b[K\n",
            "remote: Counting objects: 100% (169/169), done.\u001b[K\n",
            "remote: Compressing objects: 100% (115/115), done.\u001b[K\n",
            "remote: Total 438 (delta 121), reused 57 (delta 54), pack-reused 269\u001b[K\n",
            "Receiving objects: 100% (438/438), 118.31 KiB | 2.27 MiB/s, done.\n",
            "Resolving deltas: 100% (223/223), done.\n",
            "***********************************************************************\n",
            "We will now install RAPIDS via pip! \n",
            "Please stand by, should be quick...\n",
            "***********************************************************************\n",
            "\n",
            "Looking in indexes: https://pypi.org/simple, https://pypi.nvidia.com\n",
            "Collecting cudf-cu12==23.12.*\n",
            "  Downloading https://pypi.nvidia.com/cudf-cu12/cudf_cu12-23.12.1-cp310-cp310-manylinux_2_28_x86_64.whl (511.6 MB)\n",
            "     ━━━━━━━━━━━━━━━━━━━━━━━━━━━━━━━━━━━━━━━━ 511.6/511.6 MB 2.2 MB/s eta 0:00:00\n",
            "Collecting cuml-cu12==23.12.*\n",
            "  Downloading https://pypi.nvidia.com/cuml-cu12/cuml_cu12-23.12.0-cp310-cp310-manylinux_2_17_x86_64.manylinux2014_x86_64.whl (955.2 MB)\n",
            "     ━━━━━━━━━━━━━━━━━━━━━━━━━━━━━━━━━━━━━━━━ 955.2/955.2 MB 649.9 kB/s eta 0:00:00\n",
            "Collecting cugraph-cu12==23.12.*\n",
            "  Downloading https://pypi.nvidia.com/cugraph-cu12/cugraph_cu12-23.12.0-cp310-cp310-manylinux_2_17_x86_64.manylinux2014_x86_64.whl (1192.6 MB)\n",
            "     ━━━━━━━━━━━━━━━━━━━━━━━━━━━━━━━━━━━━━━━━ 1.2/1.2 GB 693.0 kB/s eta 0:00:00\n",
            "Collecting cuspatial-cu12==23.12.*\n",
            "  Downloading https://pypi.nvidia.com/cuspatial-cu12/cuspatial_cu12-23.12.1-cp310-cp310-manylinux_2_17_x86_64.manylinux2014_x86_64.whl (142.8 MB)\n",
            "     ━━━━━━━━━━━━━━━━━━━━━━━━━━━━━━━━━━━━━━━━ 142.8/142.8 MB 7.5 MB/s eta 0:00:00\n",
            "Collecting cuproj-cu12==23.12.*\n",
            "  Downloading https://pypi.nvidia.com/cuproj-cu12/cuproj_cu12-23.12.1-cp310-cp310-manylinux_2_17_x86_64.manylinux2014_x86_64.whl (1.0 MB)\n",
            "     ━━━━━━━━━━━━━━━━━━━━━━━━━━━━━━━━━━━━━━━━ 1.0/1.0 MB 52.2 MB/s eta 0:00:00\n",
            "Collecting cuxfilter-cu12==23.12.*\n",
            "  Downloading https://pypi.nvidia.com/cuxfilter-cu12/cuxfilter_cu12-23.12.0-py3-none-any.whl (83 kB)\n",
            "     ━━━━━━━━━━━━━━━━━━━━━━━━━━━━━━━━━━━━━━━━ 83.2/83.2 kB 12.5 MB/s eta 0:00:00\n",
            "Collecting cucim-cu12==23.12.*\n",
            "  Downloading https://pypi.nvidia.com/cucim-cu12/cucim_cu12-23.12.1-cp310-cp310-manylinux_2_17_x86_64.manylinux2014_x86_64.whl (8.2 MB)\n",
            "     ━━━━━━━━━━━━━━━━━━━━━━━━━━━━━━━━━━━━━━━━ 8.2/8.2 MB 68.2 MB/s eta 0:00:00\n",
            "Collecting pylibraft-cu12==23.12.*\n",
            "  Downloading https://pypi.nvidia.com/pylibraft-cu12/pylibraft_cu12-23.12.0-cp310-cp310-manylinux_2_17_x86_64.manylinux2014_x86_64.whl (509.5 MB)\n",
            "     ━━━━━━━━━━━━━━━━━━━━━━━━━━━━━━━━━━━━━━━━ 509.5/509.5 MB 1.3 MB/s eta 0:00:00\n",
            "Collecting raft-dask-cu12==23.12.*\n",
            "  Downloading https://pypi.nvidia.com/raft-dask-cu12/raft_dask_cu12-23.12.0-cp310-cp310-manylinux_2_17_x86_64.manylinux2014_x86_64.whl (163.0 MB)\n",
            "     ━━━━━━━━━━━━━━━━━━━━━━━━━━━━━━━━━━━━━━━━ 163.0/163.0 MB 6.9 MB/s eta 0:00:00\n",
            "Requirement already satisfied: aiohttp in /usr/local/lib/python3.10/dist-packages (3.9.1)\n",
            "Requirement already satisfied: cachetools in /usr/local/lib/python3.10/dist-packages (from cudf-cu12==23.12.*) (5.3.2)\n",
            "Collecting cuda-python<13.0a0,>=12.0 (from cudf-cu12==23.12.*)\n",
            "  Downloading cuda_python-12.3.0-cp310-cp310-manylinux_2_17_x86_64.manylinux2014_x86_64.whl (23.6 MB)\n",
            "     ━━━━━━━━━━━━━━━━━━━━━━━━━━━━━━━━━━━━━━━━ 23.6/23.6 MB 48.3 MB/s eta 0:00:00\n",
            "Requirement already satisfied: cupy-cuda12x>=12.0.0 in /usr/local/lib/python3.10/dist-packages (from cudf-cu12==23.12.*) (12.2.0)\n",
            "Requirement already satisfied: fsspec>=0.6.0 in /usr/local/lib/python3.10/dist-packages (from cudf-cu12==23.12.*) (2023.6.0)\n",
            "Collecting numba<0.58,>=0.57 (from cudf-cu12==23.12.*)\n",
            "  Downloading numba-0.57.1-cp310-cp310-manylinux2014_x86_64.manylinux_2_17_x86_64.whl (3.6 MB)\n",
            "     ━━━━━━━━━━━━━━━━━━━━━━━━━━━━━━━━━━━━━━━━ 3.6/3.6 MB 67.2 MB/s eta 0:00:00\n",
            "Requirement already satisfied: numpy<1.25,>=1.21 in /usr/local/lib/python3.10/dist-packages (from cudf-cu12==23.12.*) (1.23.5)\n",
            "Collecting nvtx>=0.2.1 (from cudf-cu12==23.12.*)\n",
            "  Downloading nvtx-0.2.8-cp310-cp310-manylinux_2_17_x86_64.manylinux2014_x86_64.whl (582 kB)\n",
            "     ━━━━━━━━━━━━━━━━━━━━━━━━━━━━━━━━━━━━━━━━ 582.4/582.4 kB 57.7 MB/s eta 0:00:00\n",
            "Requirement already satisfied: packaging in /usr/local/lib/python3.10/dist-packages (from cudf-cu12==23.12.*) (23.2)\n",
            "Requirement already satisfied: pandas<1.6.0dev0,>=1.3 in /usr/local/lib/python3.10/dist-packages (from cudf-cu12==23.12.*) (1.5.3)\n",
            "Collecting protobuf<5,>=4.21 (from cudf-cu12==23.12.*)\n",
            "  Downloading protobuf-4.25.1-cp37-abi3-manylinux2014_x86_64.whl (294 kB)\n",
            "     ━━━━━━━━━━━━━━━━━━━━━━━━━━━━━━━━━━━━━━━━ 294.6/294.6 kB 36.8 MB/s eta 0:00:00\n",
            "Collecting pyarrow<15.0.0a0,>=14.0.1 (from cudf-cu12==23.12.*)\n",
            "  Downloading pyarrow-14.0.2-cp310-cp310-manylinux_2_28_x86_64.whl (38.0 MB)\n",
            "     ━━━━━━━━━━━━━━━━━━━━━━━━━━━━━━━━━━━━━━━━ 38.0/38.0 MB 13.6 MB/s eta 0:00:00\n",
            "Requirement already satisfied: rich in /usr/local/lib/python3.10/dist-packages (from cudf-cu12==23.12.*) (13.7.0)\n",
            "Collecting rmm-cu12==23.12.* (from cudf-cu12==23.12.*)\n",
            "  Downloading https://pypi.nvidia.com/rmm-cu12/rmm_cu12-23.12.0-cp310-cp310-manylinux_2_17_x86_64.manylinux2014_x86_64.whl (2.0 MB)\n",
            "     ━━━━━━━━━━━━━━━━━━━━━━━━━━━━━━━━━━━━━━━━ 2.0/2.0 MB 90.9 MB/s eta 0:00:00\n",
            "Requirement already satisfied: typing-extensions>=4.0.0 in /usr/local/lib/python3.10/dist-packages (from cudf-cu12==23.12.*) (4.5.0)\n",
            "Collecting dask-cuda==23.12.* (from cuml-cu12==23.12.*)\n",
            "  Downloading dask_cuda-23.12.0-py3-none-any.whl (126 kB)\n",
            "     ━━━━━━━━━━━━━━━━━━━━━━━━━━━━━━━━━━━━━━━━ 126.0/126.0 kB 14.5 MB/s eta 0:00:00\n",
            "Collecting dask-cudf-cu12==23.12.* (from cuml-cu12==23.12.*)\n",
            "  Downloading https://pypi.nvidia.com/dask-cudf-cu12/dask_cudf_cu12-23.12.0-py3-none-any.whl (82 kB)\n",
            "     ━━━━━━━━━━━━━━━━━━━━━━━━━━━━━━━━━━━━━━━━ 82.9/82.9 kB 12.6 MB/s eta 0:00:00\n",
            "Requirement already satisfied: joblib>=0.11 in /usr/local/lib/python3.10/dist-packages (from cuml-cu12==23.12.*) (1.3.2)\n",
            "Collecting rapids-dask-dependency==23.12.* (from cuml-cu12==23.12.*)\n",
            "  Downloading https://pypi.nvidia.com/rapids-dask-dependency/rapids_dask_dependency-23.12.1-py3-none-any.whl (5.4 kB)\n",
            "Requirement already satisfied: scipy>=1.8.0 in /usr/local/lib/python3.10/dist-packages (from cuml-cu12==23.12.*) (1.11.4)\n",
            "Collecting treelite==3.9.1 (from cuml-cu12==23.12.*)\n",
            "  Downloading treelite-3.9.1-py3-none-manylinux2014_x86_64.whl (1.0 MB)\n",
            "     ━━━━━━━━━━━━━━━━━━━━━━━━━━━━━━━━━━━━━━━━ 1.0/1.0 MB 53.3 MB/s eta 0:00:00\n",
            "Collecting treelite-runtime==3.9.1 (from cuml-cu12==23.12.*)\n",
            "  Downloading treelite_runtime-3.9.1-py3-none-manylinux2014_x86_64.whl (198 kB)\n",
            "     ━━━━━━━━━━━━━━━━━━━━━━━━━━━━━━━━━━━━━━━━ 198.7/198.7 kB 18.0 MB/s eta 0:00:00\n",
            "Collecting pylibcugraph-cu12==23.12.* (from cugraph-cu12==23.12.*)\n",
            "  Downloading https://pypi.nvidia.com/pylibcugraph-cu12/pylibcugraph_cu12-23.12.0-cp310-cp310-manylinux_2_17_x86_64.manylinux2014_x86_64.whl (1193.5 MB)\n",
            "     ━━━━━━━━━━━━━━━━━━━━━━━━━━━━━━━━━━━━━━━━ 1.2/1.2 GB 884.9 kB/s eta 0:00:00\n",
            "Collecting ucx-py-cu12==0.35.* (from cugraph-cu12==23.12.*)\n",
            "  Downloading https://pypi.nvidia.com/ucx-py-cu12/ucx_py_cu12-0.35.0-cp310-cp310-manylinux_2_17_x86_64.manylinux2014_x86_64.whl (7.7 MB)\n",
            "     ━━━━━━━━━━━━━━━━━━━━━━━━━━━━━━━━━━━━━━━━ 7.7/7.7 MB 70.9 MB/s eta 0:00:00\n",
            "Requirement already satisfied: geopandas>=0.11.0 in /usr/local/lib/python3.10/dist-packages (from cuspatial-cu12==23.12.*) (0.13.2)\n",
            "Requirement already satisfied: bokeh>=3.1 in /usr/local/lib/python3.10/dist-packages (from cuxfilter-cu12==23.12.*) (3.3.2)\n",
            "Collecting datashader>=0.15 (from cuxfilter-cu12==23.12.*)\n",
            "  Downloading datashader-0.16.0-py2.py3-none-any.whl (18.3 MB)\n",
            "     ━━━━━━━━━━━━━━━━━━━━━━━━━━━━━━━━━━━━━━━━ 18.3/18.3 MB 48.9 MB/s eta 0:00:00\n",
            "Requirement already satisfied: holoviews>=1.16.0 in /usr/local/lib/python3.10/dist-packages (from cuxfilter-cu12==23.12.*) (1.17.1)\n",
            "Collecting jupyter-server-proxy (from cuxfilter-cu12==23.12.*)\n",
            "  Downloading jupyter_server_proxy-4.1.0-py3-none-any.whl (33 kB)\n",
            "Requirement already satisfied: panel>=1.0 in /usr/local/lib/python3.10/dist-packages (from cuxfilter-cu12==23.12.*) (1.3.4)\n",
            "Requirement already satisfied: lazy-loader>=0.1 in /usr/local/lib/python3.10/dist-packages (from cucim-cu12==23.12.*) (0.3)\n",
            "Requirement already satisfied: scikit-image<0.22.0a0,>=0.19.0 in /usr/local/lib/python3.10/dist-packages (from cucim-cu12==23.12.*) (0.19.3)\n",
            "Requirement already satisfied: click>=8.1 in /usr/local/lib/python3.10/dist-packages (from dask-cuda==23.12.*->cuml-cu12==23.12.*) (8.1.7)\n",
            "Collecting pynvml<11.5,>=11.0.0 (from dask-cuda==23.12.*->cuml-cu12==23.12.*)\n",
            "  Downloading pynvml-11.4.1-py3-none-any.whl (46 kB)\n",
            "     ━━━━━━━━━━━━━━━━━━━━━━━━━━━━━━━━━━━━━━━━ 47.0/47.0 kB 6.3 MB/s eta 0:00:00\n",
            "Requirement already satisfied: zict>=2.0.0 in /usr/local/lib/python3.10/dist-packages (from dask-cuda==23.12.*->cuml-cu12==23.12.*) (3.0.0)\n",
            "Collecting dask==2023.11.0 (from rapids-dask-dependency==23.12.*->cuml-cu12==23.12.*)\n",
            "  Downloading dask-2023.11.0-py3-none-any.whl (1.2 MB)\n",
            "     ━━━━━━━━━━━━━━━━━━━━━━━━━━━━━━━━━━━━━━━━ 1.2/1.2 MB 69.3 MB/s eta 0:00:00\n",
            "Collecting distributed==2023.11.0 (from rapids-dask-dependency==23.12.*->cuml-cu12==23.12.*)\n",
            "  Downloading distributed-2023.11.0-py3-none-any.whl (1.0 MB)\n",
            "     ━━━━━━━━━━━━━━━━━━━━━━━━━━━━━━━━━━━━━━━━ 1.0/1.0 MB 63.0 MB/s eta 0:00:00\n",
            "Requirement already satisfied: cloudpickle>=1.5.0 in /usr/local/lib/python3.10/dist-packages (from dask==2023.11.0->rapids-dask-dependency==23.12.*->cuml-cu12==23.12.*) (2.2.1)\n",
            "Requirement already satisfied: partd>=1.2.0 in /usr/local/lib/python3.10/dist-packages (from dask==2023.11.0->rapids-dask-dependency==23.12.*->cuml-cu12==23.12.*) (1.4.1)\n",
            "Requirement already satisfied: pyyaml>=5.3.1 in /usr/local/lib/python3.10/dist-packages (from dask==2023.11.0->rapids-dask-dependency==23.12.*->cuml-cu12==23.12.*) (6.0.1)\n",
            "Requirement already satisfied: toolz>=0.10.0 in /usr/local/lib/python3.10/dist-packages (from dask==2023.11.0->rapids-dask-dependency==23.12.*->cuml-cu12==23.12.*) (0.12.0)\n",
            "Requirement already satisfied: importlib-metadata>=4.13.0 in /usr/local/lib/python3.10/dist-packages (from dask==2023.11.0->rapids-dask-dependency==23.12.*->cuml-cu12==23.12.*) (7.0.0)\n",
            "Requirement already satisfied: jinja2>=2.10.3 in /usr/local/lib/python3.10/dist-packages (from distributed==2023.11.0->rapids-dask-dependency==23.12.*->cuml-cu12==23.12.*) (3.1.2)\n",
            "Requirement already satisfied: locket>=1.0.0 in /usr/local/lib/python3.10/dist-packages (from distributed==2023.11.0->rapids-dask-dependency==23.12.*->cuml-cu12==23.12.*) (1.0.0)\n",
            "Requirement already satisfied: msgpack>=1.0.0 in /usr/local/lib/python3.10/dist-packages (from distributed==2023.11.0->rapids-dask-dependency==23.12.*->cuml-cu12==23.12.*) (1.0.7)\n",
            "Requirement already satisfied: psutil>=5.7.2 in /usr/local/lib/python3.10/dist-packages (from distributed==2023.11.0->rapids-dask-dependency==23.12.*->cuml-cu12==23.12.*) (5.9.5)\n",
            "Requirement already satisfied: sortedcontainers>=2.0.5 in /usr/local/lib/python3.10/dist-packages (from distributed==2023.11.0->rapids-dask-dependency==23.12.*->cuml-cu12==23.12.*) (2.4.0)\n",
            "Requirement already satisfied: tblib>=1.6.0 in /usr/local/lib/python3.10/dist-packages (from distributed==2023.11.0->rapids-dask-dependency==23.12.*->cuml-cu12==23.12.*) (3.0.0)\n",
            "Requirement already satisfied: tornado>=6.0.4 in /usr/local/lib/python3.10/dist-packages (from distributed==2023.11.0->rapids-dask-dependency==23.12.*->cuml-cu12==23.12.*) (6.3.2)\n",
            "Requirement already satisfied: urllib3>=1.24.3 in /usr/local/lib/python3.10/dist-packages (from distributed==2023.11.0->rapids-dask-dependency==23.12.*->cuml-cu12==23.12.*) (2.0.7)\n",
            "Requirement already satisfied: attrs>=17.3.0 in /usr/local/lib/python3.10/dist-packages (from aiohttp) (23.1.0)\n",
            "Requirement already satisfied: multidict<7.0,>=4.5 in /usr/local/lib/python3.10/dist-packages (from aiohttp) (6.0.4)\n",
            "Requirement already satisfied: yarl<2.0,>=1.0 in /usr/local/lib/python3.10/dist-packages (from aiohttp) (1.9.4)\n",
            "Requirement already satisfied: frozenlist>=1.1.1 in /usr/local/lib/python3.10/dist-packages (from aiohttp) (1.4.1)\n",
            "Requirement already satisfied: aiosignal>=1.1.2 in /usr/local/lib/python3.10/dist-packages (from aiohttp) (1.3.1)\n",
            "Requirement already satisfied: async-timeout<5.0,>=4.0 in /usr/local/lib/python3.10/dist-packages (from aiohttp) (4.0.3)\n",
            "Requirement already satisfied: contourpy>=1 in /usr/local/lib/python3.10/dist-packages (from bokeh>=3.1->cuxfilter-cu12==23.12.*) (1.2.0)\n",
            "Requirement already satisfied: pillow>=7.1.0 in /usr/local/lib/python3.10/dist-packages (from bokeh>=3.1->cuxfilter-cu12==23.12.*) (9.4.0)\n",
            "Requirement already satisfied: xyzservices>=2021.09.1 in /usr/local/lib/python3.10/dist-packages (from bokeh>=3.1->cuxfilter-cu12==23.12.*) (2023.10.1)\n",
            "Requirement already satisfied: fastrlock>=0.5 in /usr/local/lib/python3.10/dist-packages (from cupy-cuda12x>=12.0.0->cudf-cu12==23.12.*) (0.8.2)\n",
            "Requirement already satisfied: colorcet in /usr/local/lib/python3.10/dist-packages (from datashader>=0.15->cuxfilter-cu12==23.12.*) (3.0.1)\n",
            "Requirement already satisfied: multipledispatch in /usr/local/lib/python3.10/dist-packages (from datashader>=0.15->cuxfilter-cu12==23.12.*) (1.0.0)\n",
            "Requirement already satisfied: param in /usr/local/lib/python3.10/dist-packages (from datashader>=0.15->cuxfilter-cu12==23.12.*) (2.0.1)\n",
            "Requirement already satisfied: pyct in /usr/local/lib/python3.10/dist-packages (from datashader>=0.15->cuxfilter-cu12==23.12.*) (0.5.0)\n",
            "Requirement already satisfied: requests in /usr/local/lib/python3.10/dist-packages (from datashader>=0.15->cuxfilter-cu12==23.12.*) (2.31.0)\n",
            "Requirement already satisfied: xarray in /usr/local/lib/python3.10/dist-packages (from datashader>=0.15->cuxfilter-cu12==23.12.*) (2023.7.0)\n",
            "Requirement already satisfied: fiona>=1.8.19 in /usr/local/lib/python3.10/dist-packages (from geopandas>=0.11.0->cuspatial-cu12==23.12.*) (1.9.5)\n",
            "Requirement already satisfied: pyproj>=3.0.1 in /usr/local/lib/python3.10/dist-packages (from geopandas>=0.11.0->cuspatial-cu12==23.12.*) (3.6.1)\n",
            "Requirement already satisfied: shapely>=1.7.1 in /usr/local/lib/python3.10/dist-packages (from geopandas>=0.11.0->cuspatial-cu12==23.12.*) (2.0.2)\n",
            "Requirement already satisfied: pyviz-comms>=0.7.4 in /usr/local/lib/python3.10/dist-packages (from holoviews>=1.16.0->cuxfilter-cu12==23.12.*) (3.0.0)\n",
            "Collecting llvmlite<0.41,>=0.40.0dev0 (from numba<0.58,>=0.57->cudf-cu12==23.12.*)\n",
            "  Downloading llvmlite-0.40.1-cp310-cp310-manylinux_2_17_x86_64.manylinux2014_x86_64.whl (42.1 MB)\n",
            "     ━━━━━━━━━━━━━━━━━━━━━━━━━━━━━━━━━━━━━━━━ 42.1/42.1 MB 11.4 MB/s eta 0:00:00\n",
            "Requirement already satisfied: python-dateutil>=2.8.1 in /usr/local/lib/python3.10/dist-packages (from pandas<1.6.0dev0,>=1.3->cudf-cu12==23.12.*) (2.8.2)\n",
            "Requirement already satisfied: pytz>=2020.1 in /usr/local/lib/python3.10/dist-packages (from pandas<1.6.0dev0,>=1.3->cudf-cu12==23.12.*) (2023.3.post1)\n",
            "Requirement already satisfied: markdown in /usr/local/lib/python3.10/dist-packages (from panel>=1.0->cuxfilter-cu12==23.12.*) (3.5.1)\n",
            "Requirement already satisfied: markdown-it-py in /usr/local/lib/python3.10/dist-packages (from panel>=1.0->cuxfilter-cu12==23.12.*) (3.0.0)\n",
            "Requirement already satisfied: linkify-it-py in /usr/local/lib/python3.10/dist-packages (from panel>=1.0->cuxfilter-cu12==23.12.*) (2.0.2)\n",
            "Requirement already satisfied: mdit-py-plugins in /usr/local/lib/python3.10/dist-packages (from panel>=1.0->cuxfilter-cu12==23.12.*) (0.4.0)\n",
            "Requirement already satisfied: tqdm>=4.48.0 in /usr/local/lib/python3.10/dist-packages (from panel>=1.0->cuxfilter-cu12==23.12.*) (4.66.1)\n",
            "Requirement already satisfied: bleach in /usr/local/lib/python3.10/dist-packages (from panel>=1.0->cuxfilter-cu12==23.12.*) (6.1.0)\n",
            "Requirement already satisfied: networkx>=2.2 in /usr/local/lib/python3.10/dist-packages (from scikit-image<0.22.0a0,>=0.19.0->cucim-cu12==23.12.*) (3.2.1)\n",
            "Requirement already satisfied: imageio>=2.4.1 in /usr/local/lib/python3.10/dist-packages (from scikit-image<0.22.0a0,>=0.19.0->cucim-cu12==23.12.*) (2.31.6)\n",
            "Requirement already satisfied: tifffile>=2019.7.26 in /usr/local/lib/python3.10/dist-packages (from scikit-image<0.22.0a0,>=0.19.0->cucim-cu12==23.12.*) (2023.12.9)\n",
            "Requirement already satisfied: PyWavelets>=1.1.1 in /usr/local/lib/python3.10/dist-packages (from scikit-image<0.22.0a0,>=0.19.0->cucim-cu12==23.12.*) (1.5.0)\n",
            "Requirement already satisfied: idna>=2.0 in /usr/local/lib/python3.10/dist-packages (from yarl<2.0,>=1.0->aiohttp) (3.6)\n",
            "Requirement already satisfied: jupyter-server>=1.0 in /usr/local/lib/python3.10/dist-packages (from jupyter-server-proxy->cuxfilter-cu12==23.12.*) (1.24.0)\n",
            "Collecting simpervisor>=1.0 (from jupyter-server-proxy->cuxfilter-cu12==23.12.*)\n",
            "  Downloading simpervisor-1.0.0-py3-none-any.whl (8.3 kB)\n",
            "Requirement already satisfied: pygments<3.0.0,>=2.13.0 in /usr/local/lib/python3.10/dist-packages (from rich->cudf-cu12==23.12.*) (2.16.1)\n",
            "Requirement already satisfied: certifi in /usr/local/lib/python3.10/dist-packages (from fiona>=1.8.19->geopandas>=0.11.0->cuspatial-cu12==23.12.*) (2023.11.17)\n",
            "Requirement already satisfied: click-plugins>=1.0 in /usr/local/lib/python3.10/dist-packages (from fiona>=1.8.19->geopandas>=0.11.0->cuspatial-cu12==23.12.*) (1.1.1)\n",
            "Requirement already satisfied: cligj>=0.5 in /usr/local/lib/python3.10/dist-packages (from fiona>=1.8.19->geopandas>=0.11.0->cuspatial-cu12==23.12.*) (0.7.2)\n",
            "Requirement already satisfied: six in /usr/local/lib/python3.10/dist-packages (from fiona>=1.8.19->geopandas>=0.11.0->cuspatial-cu12==23.12.*) (1.16.0)\n",
            "Requirement already satisfied: setuptools in /usr/local/lib/python3.10/dist-packages (from fiona>=1.8.19->geopandas>=0.11.0->cuspatial-cu12==23.12.*) (67.7.2)\n",
            "Requirement already satisfied: MarkupSafe>=2.0 in /usr/local/lib/python3.10/dist-packages (from jinja2>=2.10.3->distributed==2023.11.0->rapids-dask-dependency==23.12.*->cuml-cu12==23.12.*) (2.1.3)\n",
            "Requirement already satisfied: anyio<4,>=3.1.0 in /usr/local/lib/python3.10/dist-packages (from jupyter-server>=1.0->jupyter-server-proxy->cuxfilter-cu12==23.12.*) (3.7.1)\n",
            "Requirement already satisfied: argon2-cffi in /usr/local/lib/python3.10/dist-packages (from jupyter-server>=1.0->jupyter-server-proxy->cuxfilter-cu12==23.12.*) (23.1.0)\n",
            "Requirement already satisfied: jupyter-client>=6.1.12 in /usr/local/lib/python3.10/dist-packages (from jupyter-server>=1.0->jupyter-server-proxy->cuxfilter-cu12==23.12.*) (6.1.12)\n",
            "Requirement already satisfied: jupyter-core!=5.0.*,>=4.12 in /usr/local/lib/python3.10/dist-packages (from jupyter-server>=1.0->jupyter-server-proxy->cuxfilter-cu12==23.12.*) (5.5.1)\n",
            "Requirement already satisfied: nbconvert>=6.4.4 in /usr/local/lib/python3.10/dist-packages (from jupyter-server>=1.0->jupyter-server-proxy->cuxfilter-cu12==23.12.*) (6.5.4)\n",
            "Requirement already satisfied: nbformat>=5.2.0 in /usr/local/lib/python3.10/dist-packages (from jupyter-server>=1.0->jupyter-server-proxy->cuxfilter-cu12==23.12.*) (5.9.2)\n",
            "Requirement already satisfied: prometheus-client in /usr/local/lib/python3.10/dist-packages (from jupyter-server>=1.0->jupyter-server-proxy->cuxfilter-cu12==23.12.*) (0.19.0)\n",
            "Requirement already satisfied: pyzmq>=17 in /usr/local/lib/python3.10/dist-packages (from jupyter-server>=1.0->jupyter-server-proxy->cuxfilter-cu12==23.12.*) (23.2.1)\n",
            "Requirement already satisfied: Send2Trash in /usr/local/lib/python3.10/dist-packages (from jupyter-server>=1.0->jupyter-server-proxy->cuxfilter-cu12==23.12.*) (1.8.2)\n",
            "Requirement already satisfied: terminado>=0.8.3 in /usr/local/lib/python3.10/dist-packages (from jupyter-server>=1.0->jupyter-server-proxy->cuxfilter-cu12==23.12.*) (0.18.0)\n",
            "Requirement already satisfied: traitlets>=5.1 in /usr/local/lib/python3.10/dist-packages (from jupyter-server>=1.0->jupyter-server-proxy->cuxfilter-cu12==23.12.*) (5.7.1)\n",
            "Requirement already satisfied: websocket-client in /usr/local/lib/python3.10/dist-packages (from jupyter-server>=1.0->jupyter-server-proxy->cuxfilter-cu12==23.12.*) (1.7.0)\n",
            "Requirement already satisfied: mdurl~=0.1 in /usr/local/lib/python3.10/dist-packages (from markdown-it-py->panel>=1.0->cuxfilter-cu12==23.12.*) (0.1.2)\n",
            "Requirement already satisfied: webencodings in /usr/local/lib/python3.10/dist-packages (from bleach->panel>=1.0->cuxfilter-cu12==23.12.*) (0.5.1)\n",
            "Requirement already satisfied: uc-micro-py in /usr/local/lib/python3.10/dist-packages (from linkify-it-py->panel>=1.0->cuxfilter-cu12==23.12.*) (1.0.2)\n",
            "Requirement already satisfied: charset-normalizer<4,>=2 in /usr/local/lib/python3.10/dist-packages (from requests->datashader>=0.15->cuxfilter-cu12==23.12.*) (3.3.2)\n",
            "Requirement already satisfied: sniffio>=1.1 in /usr/local/lib/python3.10/dist-packages (from anyio<4,>=3.1.0->jupyter-server>=1.0->jupyter-server-proxy->cuxfilter-cu12==23.12.*) (1.3.0)\n",
            "Requirement already satisfied: exceptiongroup in /usr/local/lib/python3.10/dist-packages (from anyio<4,>=3.1.0->jupyter-server>=1.0->jupyter-server-proxy->cuxfilter-cu12==23.12.*) (1.2.0)\n",
            "Requirement already satisfied: zipp>=0.5 in /usr/local/lib/python3.10/dist-packages (from importlib-metadata>=4.13.0->dask==2023.11.0->rapids-dask-dependency==23.12.*->cuml-cu12==23.12.*) (3.17.0)\n",
            "Requirement already satisfied: platformdirs>=2.5 in /usr/local/lib/python3.10/dist-packages (from jupyter-core!=5.0.*,>=4.12->jupyter-server>=1.0->jupyter-server-proxy->cuxfilter-cu12==23.12.*) (4.1.0)\n",
            "Requirement already satisfied: lxml in /usr/local/lib/python3.10/dist-packages (from nbconvert>=6.4.4->jupyter-server>=1.0->jupyter-server-proxy->cuxfilter-cu12==23.12.*) (4.9.3)\n",
            "Requirement already satisfied: beautifulsoup4 in /usr/local/lib/python3.10/dist-packages (from nbconvert>=6.4.4->jupyter-server>=1.0->jupyter-server-proxy->cuxfilter-cu12==23.12.*) (4.11.2)\n",
            "Requirement already satisfied: defusedxml in /usr/local/lib/python3.10/dist-packages (from nbconvert>=6.4.4->jupyter-server>=1.0->jupyter-server-proxy->cuxfilter-cu12==23.12.*) (0.7.1)\n",
            "Requirement already satisfied: entrypoints>=0.2.2 in /usr/local/lib/python3.10/dist-packages (from nbconvert>=6.4.4->jupyter-server>=1.0->jupyter-server-proxy->cuxfilter-cu12==23.12.*) (0.4)\n",
            "Requirement already satisfied: jupyterlab-pygments in /usr/local/lib/python3.10/dist-packages (from nbconvert>=6.4.4->jupyter-server>=1.0->jupyter-server-proxy->cuxfilter-cu12==23.12.*) (0.3.0)\n",
            "Requirement already satisfied: mistune<2,>=0.8.1 in /usr/local/lib/python3.10/dist-packages (from nbconvert>=6.4.4->jupyter-server>=1.0->jupyter-server-proxy->cuxfilter-cu12==23.12.*) (0.8.4)\n",
            "Requirement already satisfied: nbclient>=0.5.0 in /usr/local/lib/python3.10/dist-packages (from nbconvert>=6.4.4->jupyter-server>=1.0->jupyter-server-proxy->cuxfilter-cu12==23.12.*) (0.9.0)\n",
            "Requirement already satisfied: pandocfilters>=1.4.1 in /usr/local/lib/python3.10/dist-packages (from nbconvert>=6.4.4->jupyter-server>=1.0->jupyter-server-proxy->cuxfilter-cu12==23.12.*) (1.5.0)\n",
            "Requirement already satisfied: tinycss2 in /usr/local/lib/python3.10/dist-packages (from nbconvert>=6.4.4->jupyter-server>=1.0->jupyter-server-proxy->cuxfilter-cu12==23.12.*) (1.2.1)\n",
            "Requirement already satisfied: fastjsonschema in /usr/local/lib/python3.10/dist-packages (from nbformat>=5.2.0->jupyter-server>=1.0->jupyter-server-proxy->cuxfilter-cu12==23.12.*) (2.19.0)\n",
            "Requirement already satisfied: jsonschema>=2.6 in /usr/local/lib/python3.10/dist-packages (from nbformat>=5.2.0->jupyter-server>=1.0->jupyter-server-proxy->cuxfilter-cu12==23.12.*) (4.19.2)\n",
            "Requirement already satisfied: ptyprocess in /usr/local/lib/python3.10/dist-packages (from terminado>=0.8.3->jupyter-server>=1.0->jupyter-server-proxy->cuxfilter-cu12==23.12.*) (0.7.0)\n",
            "Requirement already satisfied: argon2-cffi-bindings in /usr/local/lib/python3.10/dist-packages (from argon2-cffi->jupyter-server>=1.0->jupyter-server-proxy->cuxfilter-cu12==23.12.*) (21.2.0)\n",
            "Requirement already satisfied: jsonschema-specifications>=2023.03.6 in /usr/local/lib/python3.10/dist-packages (from jsonschema>=2.6->nbformat>=5.2.0->jupyter-server>=1.0->jupyter-server-proxy->cuxfilter-cu12==23.12.*) (2023.11.2)\n",
            "Requirement already satisfied: referencing>=0.28.4 in /usr/local/lib/python3.10/dist-packages (from jsonschema>=2.6->nbformat>=5.2.0->jupyter-server>=1.0->jupyter-server-proxy->cuxfilter-cu12==23.12.*) (0.32.0)\n",
            "Requirement already satisfied: rpds-py>=0.7.1 in /usr/local/lib/python3.10/dist-packages (from jsonschema>=2.6->nbformat>=5.2.0->jupyter-server>=1.0->jupyter-server-proxy->cuxfilter-cu12==23.12.*) (0.15.2)\n",
            "Requirement already satisfied: cffi>=1.0.1 in /usr/local/lib/python3.10/dist-packages (from argon2-cffi-bindings->argon2-cffi->jupyter-server>=1.0->jupyter-server-proxy->cuxfilter-cu12==23.12.*) (1.16.0)\n",
            "Requirement already satisfied: soupsieve>1.2 in /usr/local/lib/python3.10/dist-packages (from beautifulsoup4->nbconvert>=6.4.4->jupyter-server>=1.0->jupyter-server-proxy->cuxfilter-cu12==23.12.*) (2.5)\n",
            "Requirement already satisfied: pycparser in /usr/local/lib/python3.10/dist-packages (from cffi>=1.0.1->argon2-cffi-bindings->argon2-cffi->jupyter-server>=1.0->jupyter-server-proxy->cuxfilter-cu12==23.12.*) (2.21)\n",
            "Installing collected packages: nvtx, cuda-python, simpervisor, pynvml, pyarrow, protobuf, llvmlite, ucx-py-cu12, treelite-runtime, treelite, numba, dask, rmm-cu12, distributed, cucim-cu12, rapids-dask-dependency, pylibraft-cu12, datashader, cuproj-cu12, cudf-cu12, pylibcugraph-cu12, dask-cudf-cu12, dask-cuda, cuspatial-cu12, raft-dask-cu12, cuml-cu12, cugraph-cu12, jupyter-server-proxy, cuxfilter-cu12\n",
            "  Attempting uninstall: pyarrow\n",
            "    Found existing installation: pyarrow 10.0.1\n",
            "    Uninstalling pyarrow-10.0.1:\n",
            "      Successfully uninstalled pyarrow-10.0.1\n",
            "  Attempting uninstall: protobuf\n",
            "    Found existing installation: protobuf 3.20.3\n",
            "    Uninstalling protobuf-3.20.3:\n",
            "      Successfully uninstalled protobuf-3.20.3\n",
            "  Attempting uninstall: llvmlite\n",
            "    Found existing installation: llvmlite 0.41.1\n",
            "    Uninstalling llvmlite-0.41.1:\n",
            "      Successfully uninstalled llvmlite-0.41.1\n",
            "  Attempting uninstall: numba\n",
            "    Found existing installation: numba 0.58.1\n",
            "    Uninstalling numba-0.58.1:\n",
            "      Successfully uninstalled numba-0.58.1\n",
            "  Attempting uninstall: dask\n",
            "    Found existing installation: dask 2023.8.1\n",
            "    Uninstalling dask-2023.8.1:\n",
            "      Successfully uninstalled dask-2023.8.1\n",
            "  Attempting uninstall: distributed\n",
            "    Found existing installation: distributed 2023.8.1\n",
            "    Uninstalling distributed-2023.8.1:\n",
            "      Successfully uninstalled distributed-2023.8.1\n",
            "ERROR: pip's dependency resolver does not currently take into account all the packages that are installed. This behaviour is the source of the following dependency conflicts.\n",
            "ibis-framework 6.2.0 requires pyarrow<13,>=2, but you have pyarrow 14.0.2 which is incompatible.\n",
            "tensorboard 2.15.1 requires protobuf<4.24,>=3.19.6, but you have protobuf 4.25.1 which is incompatible.\n",
            "tensorflow-metadata 1.14.0 requires protobuf<4.21,>=3.20.3, but you have protobuf 4.25.1 which is incompatible.\n",
            "Successfully installed cucim-cu12-23.12.1 cuda-python-12.3.0 cudf-cu12-23.12.1 cugraph-cu12-23.12.0 cuml-cu12-23.12.0 cuproj-cu12-23.12.1 cuspatial-cu12-23.12.1 cuxfilter-cu12-23.12.0 dask-2023.11.0 dask-cuda-23.12.0 dask-cudf-cu12-23.12.0 datashader-0.16.0 distributed-2023.11.0 jupyter-server-proxy-4.1.0 llvmlite-0.40.1 numba-0.57.1 nvtx-0.2.8 protobuf-4.25.1 pyarrow-14.0.2 pylibcugraph-cu12-23.12.0 pylibraft-cu12-23.12.0 pynvml-11.4.1 raft-dask-cu12-23.12.0 rapids-dask-dependency-23.12.1 rmm-cu12-23.12.0 simpervisor-1.0.0 treelite-3.9.1 treelite-runtime-3.9.1 ucx-py-cu12-0.35.0\n",
            "Collecting cupy-cuda12x\n",
            "  Downloading cupy_cuda12x-12.3.0-cp310-cp310-manylinux2014_x86_64.whl (81.8 MB)\n",
            "     ━━━━━━━━━━━━━━━━━━━━━━━━━━━━━━━━━━━━━━━━ 81.8/81.8 MB 10.5 MB/s eta 0:00:00\n",
            "Requirement already satisfied: numpy<1.29,>=1.20 in /usr/local/lib/python3.10/dist-packages (from cupy-cuda12x) (1.23.5)\n",
            "Requirement already satisfied: fastrlock>=0.5 in /usr/local/lib/python3.10/dist-packages (from cupy-cuda12x) (0.8.2)\n",
            "Installing collected packages: cupy-cuda12x\n",
            "Successfully installed cupy-cuda12x-12.3.0\n",
            "\n",
            "        ***********************************************************************\n",
            "        The pip install of RAPIDS is complete.\n",
            "        \n",
            "        Please do not run any further installation from the conda based installation methods, as they may cause issues!\n",
            "        \n",
            "        Please ensure that you're pulling from the git repo to remain updated with the latest working install scripts.\n",
            "\n",
            "        Troubleshooting:\n",
            "            - If there is an installation failure, please check back on RAPIDSAI owned templates/notebooks to see how to update your personal files. \n",
            "            - If an installation failure persists when using the latest script, please make an issue on https://github.com/rapidsai-community/rapidsai-csp-utils\n",
            "        ***********************************************************************\n",
            "        \n"
          ]
        }
      ]
    },
    {
      "cell_type": "code",
      "execution_count": 3,
      "metadata": {
        "colab": {
          "base_uri": "https://localhost:8080/"
        },
        "id": "E9bSSnHI7Arb",
        "outputId": "55896e53-feb2-4772-835a-336e00650306"
      },
      "outputs": [
        {
          "output_type": "stream",
          "name": "stdout",
          "text": [
            "Collecting kmodes\n",
            "  Downloading kmodes-0.12.2-py2.py3-none-any.whl (20 kB)\n",
            "Requirement already satisfied: numpy>=1.10.4 in /usr/local/lib/python3.10/dist-packages (from kmodes) (1.23.5)\n",
            "Requirement already satisfied: scikit-learn>=0.22.0 in /usr/local/lib/python3.10/dist-packages (from kmodes) (1.2.2)\n",
            "Requirement already satisfied: scipy>=0.13.3 in /usr/local/lib/python3.10/dist-packages (from kmodes) (1.11.4)\n",
            "Requirement already satisfied: joblib>=0.11 in /usr/local/lib/python3.10/dist-packages (from kmodes) (1.3.2)\n",
            "Requirement already satisfied: threadpoolctl>=2.0.0 in /usr/local/lib/python3.10/dist-packages (from scikit-learn>=0.22.0->kmodes) (3.2.0)\n",
            "Installing collected packages: kmodes\n",
            "Successfully installed kmodes-0.12.2\n"
          ]
        }
      ],
      "source": [
        "!pip install kmodes"
      ]
    },
    {
      "cell_type": "code",
      "source": [
        "!pip install efficient-apriori"
      ],
      "metadata": {
        "id": "aFn0Govt3AZR",
        "colab": {
          "base_uri": "https://localhost:8080/"
        },
        "outputId": "145c91e8-b621-4c82-a889-646e7e25a171"
      },
      "execution_count": 4,
      "outputs": [
        {
          "output_type": "stream",
          "name": "stdout",
          "text": [
            "Collecting efficient-apriori\n",
            "  Downloading efficient_apriori-2.0.3-py3-none-any.whl (14 kB)\n",
            "Installing collected packages: efficient-apriori\n",
            "Successfully installed efficient-apriori-2.0.3\n"
          ]
        }
      ]
    },
    {
      "cell_type": "code",
      "source": [
        "!pip install arulesviz"
      ],
      "metadata": {
        "id": "hKH1WpO03LvC",
        "colab": {
          "base_uri": "https://localhost:8080/"
        },
        "outputId": "5da189f1-b5bd-46e5-aab8-4fc6eea4be0d"
      },
      "execution_count": 5,
      "outputs": [
        {
          "output_type": "stream",
          "name": "stdout",
          "text": [
            "Collecting arulesviz\n",
            "  Downloading arulesviz-0.0.2-py3-none-any.whl (6.4 kB)\n",
            "Requirement already satisfied: ipywidgets in /usr/local/lib/python3.10/dist-packages (from arulesviz) (7.7.1)\n",
            "Requirement already satisfied: bqplot in /usr/local/lib/python3.10/dist-packages (from arulesviz) (0.12.42)\n",
            "Requirement already satisfied: efficient-apriori in /usr/local/lib/python3.10/dist-packages (from arulesviz) (2.0.3)\n",
            "Requirement already satisfied: traitlets>=4.3.0 in /usr/local/lib/python3.10/dist-packages (from bqplot->arulesviz) (5.7.1)\n",
            "Requirement already satisfied: traittypes>=0.0.6 in /usr/local/lib/python3.10/dist-packages (from bqplot->arulesviz) (0.2.1)\n",
            "Requirement already satisfied: numpy>=1.10.4 in /usr/local/lib/python3.10/dist-packages (from bqplot->arulesviz) (1.23.5)\n",
            "Requirement already satisfied: pandas<3.0.0,>=1.0.0 in /usr/local/lib/python3.10/dist-packages (from bqplot->arulesviz) (1.5.3)\n",
            "Requirement already satisfied: ipykernel>=4.5.1 in /usr/local/lib/python3.10/dist-packages (from ipywidgets->arulesviz) (5.5.6)\n",
            "Requirement already satisfied: ipython-genutils~=0.2.0 in /usr/local/lib/python3.10/dist-packages (from ipywidgets->arulesviz) (0.2.0)\n",
            "Requirement already satisfied: widgetsnbextension~=3.6.0 in /usr/local/lib/python3.10/dist-packages (from ipywidgets->arulesviz) (3.6.6)\n",
            "Requirement already satisfied: ipython>=4.0.0 in /usr/local/lib/python3.10/dist-packages (from ipywidgets->arulesviz) (7.34.0)\n",
            "Requirement already satisfied: jupyterlab-widgets>=1.0.0 in /usr/local/lib/python3.10/dist-packages (from ipywidgets->arulesviz) (3.0.9)\n",
            "Requirement already satisfied: jupyter-client in /usr/local/lib/python3.10/dist-packages (from ipykernel>=4.5.1->ipywidgets->arulesviz) (6.1.12)\n",
            "Requirement already satisfied: tornado>=4.2 in /usr/local/lib/python3.10/dist-packages (from ipykernel>=4.5.1->ipywidgets->arulesviz) (6.3.2)\n",
            "Requirement already satisfied: setuptools>=18.5 in /usr/local/lib/python3.10/dist-packages (from ipython>=4.0.0->ipywidgets->arulesviz) (67.7.2)\n",
            "Collecting jedi>=0.16 (from ipython>=4.0.0->ipywidgets->arulesviz)\n",
            "  Downloading jedi-0.19.1-py2.py3-none-any.whl (1.6 MB)\n",
            "\u001b[2K     \u001b[90m━━━━━━━━━━━━━━━━━━━━━━━━━━━━━━━━━━━━━━━━\u001b[0m \u001b[32m1.6/1.6 MB\u001b[0m \u001b[31m8.8 MB/s\u001b[0m eta \u001b[36m0:00:00\u001b[0m\n",
            "\u001b[?25hRequirement already satisfied: decorator in /usr/local/lib/python3.10/dist-packages (from ipython>=4.0.0->ipywidgets->arulesviz) (4.4.2)\n",
            "Requirement already satisfied: pickleshare in /usr/local/lib/python3.10/dist-packages (from ipython>=4.0.0->ipywidgets->arulesviz) (0.7.5)\n",
            "Requirement already satisfied: prompt-toolkit!=3.0.0,!=3.0.1,<3.1.0,>=2.0.0 in /usr/local/lib/python3.10/dist-packages (from ipython>=4.0.0->ipywidgets->arulesviz) (3.0.43)\n",
            "Requirement already satisfied: pygments in /usr/local/lib/python3.10/dist-packages (from ipython>=4.0.0->ipywidgets->arulesviz) (2.16.1)\n",
            "Requirement already satisfied: backcall in /usr/local/lib/python3.10/dist-packages (from ipython>=4.0.0->ipywidgets->arulesviz) (0.2.0)\n",
            "Requirement already satisfied: matplotlib-inline in /usr/local/lib/python3.10/dist-packages (from ipython>=4.0.0->ipywidgets->arulesviz) (0.1.6)\n",
            "Requirement already satisfied: pexpect>4.3 in /usr/local/lib/python3.10/dist-packages (from ipython>=4.0.0->ipywidgets->arulesviz) (4.9.0)\n",
            "Requirement already satisfied: python-dateutil>=2.8.1 in /usr/local/lib/python3.10/dist-packages (from pandas<3.0.0,>=1.0.0->bqplot->arulesviz) (2.8.2)\n",
            "Requirement already satisfied: pytz>=2020.1 in /usr/local/lib/python3.10/dist-packages (from pandas<3.0.0,>=1.0.0->bqplot->arulesviz) (2023.3.post1)\n",
            "Requirement already satisfied: notebook>=4.4.1 in /usr/local/lib/python3.10/dist-packages (from widgetsnbextension~=3.6.0->ipywidgets->arulesviz) (6.5.5)\n",
            "Requirement already satisfied: parso<0.9.0,>=0.8.3 in /usr/local/lib/python3.10/dist-packages (from jedi>=0.16->ipython>=4.0.0->ipywidgets->arulesviz) (0.8.3)\n",
            "Requirement already satisfied: jinja2 in /usr/local/lib/python3.10/dist-packages (from notebook>=4.4.1->widgetsnbextension~=3.6.0->ipywidgets->arulesviz) (3.1.2)\n",
            "Requirement already satisfied: pyzmq<25,>=17 in /usr/local/lib/python3.10/dist-packages (from notebook>=4.4.1->widgetsnbextension~=3.6.0->ipywidgets->arulesviz) (23.2.1)\n",
            "Requirement already satisfied: argon2-cffi in /usr/local/lib/python3.10/dist-packages (from notebook>=4.4.1->widgetsnbextension~=3.6.0->ipywidgets->arulesviz) (23.1.0)\n",
            "Requirement already satisfied: jupyter-core>=4.6.1 in /usr/local/lib/python3.10/dist-packages (from notebook>=4.4.1->widgetsnbextension~=3.6.0->ipywidgets->arulesviz) (5.5.1)\n",
            "Requirement already satisfied: nbformat in /usr/local/lib/python3.10/dist-packages (from notebook>=4.4.1->widgetsnbextension~=3.6.0->ipywidgets->arulesviz) (5.9.2)\n",
            "Requirement already satisfied: nbconvert>=5 in /usr/local/lib/python3.10/dist-packages (from notebook>=4.4.1->widgetsnbextension~=3.6.0->ipywidgets->arulesviz) (6.5.4)\n",
            "Requirement already satisfied: nest-asyncio>=1.5 in /usr/local/lib/python3.10/dist-packages (from notebook>=4.4.1->widgetsnbextension~=3.6.0->ipywidgets->arulesviz) (1.5.8)\n",
            "Requirement already satisfied: Send2Trash>=1.8.0 in /usr/local/lib/python3.10/dist-packages (from notebook>=4.4.1->widgetsnbextension~=3.6.0->ipywidgets->arulesviz) (1.8.2)\n",
            "Requirement already satisfied: terminado>=0.8.3 in /usr/local/lib/python3.10/dist-packages (from notebook>=4.4.1->widgetsnbextension~=3.6.0->ipywidgets->arulesviz) (0.18.0)\n",
            "Requirement already satisfied: prometheus-client in /usr/local/lib/python3.10/dist-packages (from notebook>=4.4.1->widgetsnbextension~=3.6.0->ipywidgets->arulesviz) (0.19.0)\n",
            "Requirement already satisfied: nbclassic>=0.4.7 in /usr/local/lib/python3.10/dist-packages (from notebook>=4.4.1->widgetsnbextension~=3.6.0->ipywidgets->arulesviz) (1.0.0)\n",
            "Requirement already satisfied: ptyprocess>=0.5 in /usr/local/lib/python3.10/dist-packages (from pexpect>4.3->ipython>=4.0.0->ipywidgets->arulesviz) (0.7.0)\n",
            "Requirement already satisfied: wcwidth in /usr/local/lib/python3.10/dist-packages (from prompt-toolkit!=3.0.0,!=3.0.1,<3.1.0,>=2.0.0->ipython>=4.0.0->ipywidgets->arulesviz) (0.2.12)\n",
            "Requirement already satisfied: six>=1.5 in /usr/local/lib/python3.10/dist-packages (from python-dateutil>=2.8.1->pandas<3.0.0,>=1.0.0->bqplot->arulesviz) (1.16.0)\n",
            "Requirement already satisfied: platformdirs>=2.5 in /usr/local/lib/python3.10/dist-packages (from jupyter-core>=4.6.1->notebook>=4.4.1->widgetsnbextension~=3.6.0->ipywidgets->arulesviz) (4.1.0)\n",
            "Requirement already satisfied: jupyter-server>=1.8 in /usr/local/lib/python3.10/dist-packages (from nbclassic>=0.4.7->notebook>=4.4.1->widgetsnbextension~=3.6.0->ipywidgets->arulesviz) (1.24.0)\n",
            "Requirement already satisfied: notebook-shim>=0.2.3 in /usr/local/lib/python3.10/dist-packages (from nbclassic>=0.4.7->notebook>=4.4.1->widgetsnbextension~=3.6.0->ipywidgets->arulesviz) (0.2.3)\n",
            "Requirement already satisfied: lxml in /usr/local/lib/python3.10/dist-packages (from nbconvert>=5->notebook>=4.4.1->widgetsnbextension~=3.6.0->ipywidgets->arulesviz) (4.9.3)\n",
            "Requirement already satisfied: beautifulsoup4 in /usr/local/lib/python3.10/dist-packages (from nbconvert>=5->notebook>=4.4.1->widgetsnbextension~=3.6.0->ipywidgets->arulesviz) (4.11.2)\n",
            "Requirement already satisfied: bleach in /usr/local/lib/python3.10/dist-packages (from nbconvert>=5->notebook>=4.4.1->widgetsnbextension~=3.6.0->ipywidgets->arulesviz) (6.1.0)\n",
            "Requirement already satisfied: defusedxml in /usr/local/lib/python3.10/dist-packages (from nbconvert>=5->notebook>=4.4.1->widgetsnbextension~=3.6.0->ipywidgets->arulesviz) (0.7.1)\n",
            "Requirement already satisfied: entrypoints>=0.2.2 in /usr/local/lib/python3.10/dist-packages (from nbconvert>=5->notebook>=4.4.1->widgetsnbextension~=3.6.0->ipywidgets->arulesviz) (0.4)\n",
            "Requirement already satisfied: jupyterlab-pygments in /usr/local/lib/python3.10/dist-packages (from nbconvert>=5->notebook>=4.4.1->widgetsnbextension~=3.6.0->ipywidgets->arulesviz) (0.3.0)\n",
            "Requirement already satisfied: MarkupSafe>=2.0 in /usr/local/lib/python3.10/dist-packages (from nbconvert>=5->notebook>=4.4.1->widgetsnbextension~=3.6.0->ipywidgets->arulesviz) (2.1.3)\n",
            "Requirement already satisfied: mistune<2,>=0.8.1 in /usr/local/lib/python3.10/dist-packages (from nbconvert>=5->notebook>=4.4.1->widgetsnbextension~=3.6.0->ipywidgets->arulesviz) (0.8.4)\n",
            "Requirement already satisfied: nbclient>=0.5.0 in /usr/local/lib/python3.10/dist-packages (from nbconvert>=5->notebook>=4.4.1->widgetsnbextension~=3.6.0->ipywidgets->arulesviz) (0.9.0)\n",
            "Requirement already satisfied: packaging in /usr/local/lib/python3.10/dist-packages (from nbconvert>=5->notebook>=4.4.1->widgetsnbextension~=3.6.0->ipywidgets->arulesviz) (23.2)\n",
            "Requirement already satisfied: pandocfilters>=1.4.1 in /usr/local/lib/python3.10/dist-packages (from nbconvert>=5->notebook>=4.4.1->widgetsnbextension~=3.6.0->ipywidgets->arulesviz) (1.5.0)\n",
            "Requirement already satisfied: tinycss2 in /usr/local/lib/python3.10/dist-packages (from nbconvert>=5->notebook>=4.4.1->widgetsnbextension~=3.6.0->ipywidgets->arulesviz) (1.2.1)\n",
            "Requirement already satisfied: fastjsonschema in /usr/local/lib/python3.10/dist-packages (from nbformat->notebook>=4.4.1->widgetsnbextension~=3.6.0->ipywidgets->arulesviz) (2.19.0)\n",
            "Requirement already satisfied: jsonschema>=2.6 in /usr/local/lib/python3.10/dist-packages (from nbformat->notebook>=4.4.1->widgetsnbextension~=3.6.0->ipywidgets->arulesviz) (4.19.2)\n",
            "Requirement already satisfied: argon2-cffi-bindings in /usr/local/lib/python3.10/dist-packages (from argon2-cffi->notebook>=4.4.1->widgetsnbextension~=3.6.0->ipywidgets->arulesviz) (21.2.0)\n",
            "Requirement already satisfied: attrs>=22.2.0 in /usr/local/lib/python3.10/dist-packages (from jsonschema>=2.6->nbformat->notebook>=4.4.1->widgetsnbextension~=3.6.0->ipywidgets->arulesviz) (23.1.0)\n",
            "Requirement already satisfied: jsonschema-specifications>=2023.03.6 in /usr/local/lib/python3.10/dist-packages (from jsonschema>=2.6->nbformat->notebook>=4.4.1->widgetsnbextension~=3.6.0->ipywidgets->arulesviz) (2023.11.2)\n",
            "Requirement already satisfied: referencing>=0.28.4 in /usr/local/lib/python3.10/dist-packages (from jsonschema>=2.6->nbformat->notebook>=4.4.1->widgetsnbextension~=3.6.0->ipywidgets->arulesviz) (0.32.0)\n",
            "Requirement already satisfied: rpds-py>=0.7.1 in /usr/local/lib/python3.10/dist-packages (from jsonschema>=2.6->nbformat->notebook>=4.4.1->widgetsnbextension~=3.6.0->ipywidgets->arulesviz) (0.15.2)\n",
            "Requirement already satisfied: anyio<4,>=3.1.0 in /usr/local/lib/python3.10/dist-packages (from jupyter-server>=1.8->nbclassic>=0.4.7->notebook>=4.4.1->widgetsnbextension~=3.6.0->ipywidgets->arulesviz) (3.7.1)\n",
            "Requirement already satisfied: websocket-client in /usr/local/lib/python3.10/dist-packages (from jupyter-server>=1.8->nbclassic>=0.4.7->notebook>=4.4.1->widgetsnbextension~=3.6.0->ipywidgets->arulesviz) (1.7.0)\n",
            "Requirement already satisfied: cffi>=1.0.1 in /usr/local/lib/python3.10/dist-packages (from argon2-cffi-bindings->argon2-cffi->notebook>=4.4.1->widgetsnbextension~=3.6.0->ipywidgets->arulesviz) (1.16.0)\n",
            "Requirement already satisfied: soupsieve>1.2 in /usr/local/lib/python3.10/dist-packages (from beautifulsoup4->nbconvert>=5->notebook>=4.4.1->widgetsnbextension~=3.6.0->ipywidgets->arulesviz) (2.5)\n",
            "Requirement already satisfied: webencodings in /usr/local/lib/python3.10/dist-packages (from bleach->nbconvert>=5->notebook>=4.4.1->widgetsnbextension~=3.6.0->ipywidgets->arulesviz) (0.5.1)\n",
            "Requirement already satisfied: idna>=2.8 in /usr/local/lib/python3.10/dist-packages (from anyio<4,>=3.1.0->jupyter-server>=1.8->nbclassic>=0.4.7->notebook>=4.4.1->widgetsnbextension~=3.6.0->ipywidgets->arulesviz) (3.6)\n",
            "Requirement already satisfied: sniffio>=1.1 in /usr/local/lib/python3.10/dist-packages (from anyio<4,>=3.1.0->jupyter-server>=1.8->nbclassic>=0.4.7->notebook>=4.4.1->widgetsnbextension~=3.6.0->ipywidgets->arulesviz) (1.3.0)\n",
            "Requirement already satisfied: exceptiongroup in /usr/local/lib/python3.10/dist-packages (from anyio<4,>=3.1.0->jupyter-server>=1.8->nbclassic>=0.4.7->notebook>=4.4.1->widgetsnbextension~=3.6.0->ipywidgets->arulesviz) (1.2.0)\n",
            "Requirement already satisfied: pycparser in /usr/local/lib/python3.10/dist-packages (from cffi>=1.0.1->argon2-cffi-bindings->argon2-cffi->notebook>=4.4.1->widgetsnbextension~=3.6.0->ipywidgets->arulesviz) (2.21)\n",
            "Installing collected packages: jedi, arulesviz\n",
            "Successfully installed arulesviz-0.0.2 jedi-0.19.1\n"
          ]
        }
      ]
    },
    {
      "cell_type": "code",
      "source": [
        "import cudf as pd\n",
        "pd.__version__"
      ],
      "metadata": {
        "colab": {
          "base_uri": "https://localhost:8080/",
          "height": 36
        },
        "id": "mXFWZR748RkZ",
        "outputId": "20faec28-8bc0-4457-ae1c-7bf384f720d5"
      },
      "execution_count": 6,
      "outputs": [
        {
          "output_type": "execute_result",
          "data": {
            "text/plain": [
              "'23.12.01'"
            ],
            "application/vnd.google.colaboratory.intrinsic+json": {
              "type": "string"
            }
          },
          "metadata": {},
          "execution_count": 6
        }
      ]
    },
    {
      "cell_type": "code",
      "execution_count": 7,
      "metadata": {
        "id": "hqFxpdK_xi57"
      },
      "outputs": [],
      "source": [
        "import csv\n",
        "import seaborn as sns\n",
        "#import pandas as pd\n",
        "#import numpy as np\n",
        "import gc\n",
        "#from numpy import unique\n",
        "import matplotlib.pyplot as plt\n",
        "from sklearn.preprocessing import OneHotEncoder, StandardScaler\n",
        "from sklearn.compose import make_column_transformer\n",
        "from kmodes.kmodes import KModes\n",
        "import plotly.graph_objects as go\n",
        "import re\n",
        "#pd.options.mode.chained_assignment = None  # default='warn'\n",
        "import cupy as np\n"
      ]
    },
    {
      "cell_type": "code",
      "execution_count": 8,
      "metadata": {
        "id": "tgIX0dxEUJ30",
        "colab": {
          "base_uri": "https://localhost:8080/"
        },
        "outputId": "0a8acddd-dd23-48ea-9062-28a100782fe6"
      },
      "outputs": [
        {
          "output_type": "stream",
          "name": "stdout",
          "text": [
            "Mounted at /content/drive\n"
          ]
        }
      ],
      "source": [
        "from google.colab import drive\n",
        "drive.mount('/content/drive')"
      ]
    },
    {
      "cell_type": "markdown",
      "source": [
        "# Definition of Functions"
      ],
      "metadata": {
        "id": "MlyvUpBJJQj0"
      }
    },
    {
      "cell_type": "code",
      "execution_count": 9,
      "metadata": {
        "id": "TyqT1T6XHF3h"
      },
      "outputs": [],
      "source": [
        "# Collects mortality and CIDs datasets and selects Alzheimer's mortality\n",
        "def select_dataset(refer):\n",
        "  if refer == 'CID_SUBCAT':\n",
        "    df = pd.read_csv('/content/drive/MyDrive/Mortalidade/CID-10-SUBCATEGORIAS2.CSV', sep=';')\n",
        "    df = df[['SUBCAT','DESCRICAO']]\n",
        "    df.columns = ['cid','descricao']\n",
        "  elif refer == 'CID_CAT':\n",
        "    df = pd.read_csv('/content/drive/MyDrive/Mortalidade/CID-10-CATEGORIAS2.CSV', sep=';')\n",
        "    df = df[['CAT','DESCRICAO']]\n",
        "    df.columns = ['cid','descricao']\n",
        "    print('Categories CID rows: {}'.format(df.shape))\n",
        "  elif refer == 'UF':\n",
        "    df = pd.read_csv('/content/drive/MyDrive/Mortalidade/IBGE.csv', sep=';')\n",
        "  else:\n",
        "    df_temp = pd.read_csv(f'/content/drive/MyDrive/Mortalidade/Mortalidade_Geral_{refer}.csv', sep=';', dtype='unicode')\n",
        "    df = df_temp[df_temp.CAUSABAS.str.startswith(('G30'))]\n",
        "    print('Dataset: {} , Total rows: {}, Alzheimer rows: {}'.format(refer, df_temp.shape, df.shape))\n",
        "    del df_temp\n",
        "  gc.collect()\n",
        "  return df\n"
      ]
    },
    {
      "cell_type": "code",
      "execution_count": 10,
      "metadata": {
        "id": "C1RQFiLjUu9r"
      },
      "outputs": [],
      "source": [
        "def delete_attributes(df, type_delete):\n",
        "  #Delete columns with inconsistent values - excluding columns that are not in all datasets\n",
        "  if type_delete == 'inconsistent':\n",
        "    if df.name == 'df22':\n",
        "      columns_delete = ['OPOR_DO', 'TP_ALTERA', 'CB_ALT']\n",
        "    else:\n",
        "      columns_delete = ['ESTABDESCR', 'NUDIASOBIN', 'NUDIASINF', 'FONTESINF']\n",
        "\n",
        "  # According to data privacy, we excluded the variables \"CONTADOR\" and \"NUMEROLOTE\"\n",
        "  if type_delete == 'privacy':\n",
        "    if df.name == 'df22':\n",
        "      columns_delete = ['contador', 'NUMEROLOTE']\n",
        "    else:\n",
        "      columns_delete = ['CONTADOR', 'NUMEROLOTE']\n",
        "\n",
        "  # Delete columns with missing values (NaN)\n",
        "  if type_delete == 'missing':\n",
        "    columns_delete = ['IDADEMAE', 'ESCMAE', 'ESCMAE2010', 'SERIESCMAE', 'OCUPMAE',\n",
        "                            'QTDFILVIVO', 'QTDFILMORT', 'GRAVIDEZ', 'SEMAGESTAC', 'GESTACAO',\n",
        "                            'PARTO', 'OBITOPARTO', 'PESO', 'CB_PRE', 'ACIDTRAB',\n",
        "                            'FONTE', 'CAUSAMAT', 'ESCMAEAGR1', 'TPRESGINFO', 'DTCADINF',\n",
        "                            'MORTEPARTO', 'DTCONCASO']\n",
        "  # Delete columns with variance zero\n",
        "  if type_delete == 'variance_zero':\n",
        "    columns_delete = ['TIPOBITO', 'CODIFICADO', 'ALTCAUSA']\n",
        "\n",
        "  # Delete columns with many NaN\n",
        "  if type_delete == 'many_missings':\n",
        "    columns_delete = ['SERIESCFAL', 'TPMORTEOCO', 'OBITOGRAV','OBITOPUERP',\n",
        "                      'EXAME', 'CIRURGIA', 'COMUNSVOIM', 'CIRCOBITO', 'DTINVESTIG',\n",
        "                      'FONTEINV','NUDIASOBCO','DTCADINV','TPOBITOCOR','DTCONINV','FONTES',\n",
        "                      'TPNIVELINV']\n",
        "  #Delete date or time type attributes\n",
        "  if type_delete == 'date':\n",
        "    columns_delete = ['DTOBITO', 'HORAOBITO', 'DTATESTADO', 'DTCADASTRO', 'DTRECEBIM', 'DTRECORIGA', 'DIFDATA']\n",
        "\n",
        "  #Delete redundant attributes from other columns\n",
        "  if type_delete == 'redundant':\n",
        "    columns_delete = ['NATURAL','DTNASC','ESC','CAUSABAS_O','ESCFALAGR1']\n",
        "\n",
        "\n",
        "  #Delete attributes with low variance and few values\n",
        "  if type_delete == 'low_variance_few':\n",
        "    columns_delete = ['ORIGEM','STDOEPIDEM','STDONOVA']\n",
        "\n",
        "  #Delete irrelevants attributes (Informações irrelevantes como códigos de procedimentos internos ou informações do estabelecimentos\n",
        "  #                               que não temos acesso, informações sobre o software instalado como versão, foram excluídos )\n",
        "  if type_delete == 'irrelevant':\n",
        "    columns_delete = ['OCUP','CODESTAB', 'CODMUNNATU', 'LINHAII', 'TPPOS', 'ATESTANTE', 'STCODIFICA', 'VERSAOSCB', 'VERSAOSIST', 'ATESTADO', 'LOCOCOR','CODMUNOCOR']\n",
        "\n",
        "   # Delete columns categoricals with many NaN and ignored values\n",
        "  if type_delete == 'many_missing_ignored':\n",
        "    columns_delete = ['ASSISTMED','NECROPSIA']\n",
        "\n",
        "  df.drop(columns_delete, axis = 1, inplace = True)\n",
        "  print(f'After deleting {type_delete} attributes: {df.shape} \\n')\n",
        "  return df\n"
      ]
    },
    {
      "cell_type": "code",
      "execution_count": 11,
      "metadata": {
        "id": "r6s2mcnCNMzL"
      },
      "outputs": [],
      "source": [
        "def delete_rows(df, type_delete, attribute_delete, option_delete = 9):\n",
        "  #Delete inconsistents rows with age = 999\n",
        "  if type_delete == 'inconsistent' and attribute_delete == 'IDADE':\n",
        "    indexDelete = df[df['IDADE'] == 999].index\n",
        "    df.drop(indexDelete , inplace=True)\n",
        "\n",
        "  #Delete rows with race is NaN or option =9\n",
        "  if (type_delete == 'missing' and attribute_delete != 'LINHAA, LINHAB, LINHAC, LINHAD'):\n",
        "    df.dropna(subset=[attribute_delete], inplace=True)\n",
        "    indexDelete = df[df[attribute_delete] == option_delete].index\n",
        "    df.drop(indexDelete , inplace=True)\n",
        "\n",
        "  #Delete rows with causas is NaN\n",
        "  if (type_delete == 'missing' and attribute_delete == 'LINHAA, LINHAB, LINHAC, LINHAD'):\n",
        "    df.dropna(subset=['LINHAA', 'LINHAB', 'LINHAC', 'LINHAD'], how='all', inplace=True)\n",
        "\n",
        "  print(f'After deleting {type_delete} rows from {attribute_delete}: {df.shape} \\n')\n",
        "\n",
        "  return df"
      ]
    },
    {
      "cell_type": "code",
      "execution_count": 12,
      "metadata": {
        "id": "ztnyQWXnVbWt"
      },
      "outputs": [],
      "source": [
        "#Integrate datasets, excluding inconsistent columns that are not in all datasets\n",
        "def integrate_dataset(dfs):\n",
        "  df = pd.concat(dfs, ignore_index=True)\n",
        "  print(f'After integrated datasets: {df.shape}')\n",
        "  return df"
      ]
    },
    {
      "cell_type": "code",
      "execution_count": 13,
      "metadata": {
        "id": "P37gWwPWPIr4"
      },
      "outputs": [],
      "source": [
        "#Format\n",
        "def format_attributes(df, type_format):\n",
        "\n",
        "  replace_causas = { 'G309': np.nan, 'G301': np.nan, 'G308': np.nan, 'G300': np.nan }\n",
        "\n",
        "  if type_format == 'convert_numeric':\n",
        "    columns_numeric = ['ORIGEM','CODMUNNATU','IDADE','SEXO','RACACOR','ESTCIV','ESC2010',\n",
        "                      'OCUP','CODMUNRES','LOCOCOR','CODESTAB','CODMUNOCOR','ASSISTMED',\n",
        "                      'NECROPSIA','ATESTANTE','STDOEPIDEM','STDONOVA']\n",
        "    df[columns_numeric] = df[columns_numeric].astype(float)\n",
        "\n",
        "  if type_format == 'IDADE':\n",
        "    df['IDADE'] = df['IDADE'] - 400\n",
        "\n",
        "  if type_format == 'LINHAA':\n",
        "    df['LINHAA_t'] = df['LINHAA'].str[1:].copy()\n",
        "    df['LINHAA_t'] = df['LINHAA_t'].replace(replace_causas)\n",
        "    df['LINHAA'] = df['LINHAA_t']\n",
        "\n",
        "    df.drop(['LINHAA_t'], axis = 1, inplace = True)\n",
        "\n",
        "  if type_format == 'LINHAB':\n",
        "    df['LINHAB_t'] = df['LINHAB'].str[1:].copy()\n",
        "    df['LINHAB_t'] = df['LINHAB_t'].replace(replace_causas)\n",
        "    df['LINHAB'] = df['LINHAB_t']\n",
        "    df.drop(['LINHAB_t'], axis = 1, inplace = True)\n",
        "\n",
        "  if type_format == 'LINHAC':\n",
        "    df['LINHAC_t'] = df['LINHAC'].str[1:].copy()\n",
        "    df['LINHAC_t'] = df['LINHAC_t'].replace(replace_causas)\n",
        "    df['LINHAC'] = df['LINHAC_t']\n",
        "    df.drop(['LINHAC_t'], axis = 1, inplace = True)\n",
        "\n",
        "  if type_format == 'LINHAD':\n",
        "    df['LINHAD_t'] = df['LINHAD'].str[1:].copy()\n",
        "    df['LINHAD_t'] = df['LINHAD_t'].replace(replace_causas)\n",
        "    df['LINHAD'] = df['LINHAD_t']\n",
        "    df.drop(['LINHAD_t'], axis = 1, inplace = True)\n",
        "\n",
        "  if type_format == 'CAUSABAS':\n",
        "    df['CAUSABAS_t'] = df['CAUSABAS'].str[:3].copy()\n",
        "    df['CAUSABAS'] = df['CAUSABAS_t']\n",
        "    df.drop(['CAUSABAS_t'], axis = 1, inplace = True)\n",
        "\n",
        "  if type_format =='categorical_nominal':\n",
        "\n",
        "    maping_ESTCIV = {'1.0': 'Solteiro (a)', '2.0': 'Casado (a)', '3.0': 'Viúvo (a)', '4.0': 'Divorciado (a)', '5.0': 'União estável'}\n",
        "    df['ESTCIV'] = df['ESTCIV'].astype(str)\n",
        "    df['ESTCIV'] = df['ESTCIV'].replace(maping_ESTCIV)\n",
        "\n",
        "    maping_ESC2010 = {'0.0': 'Sem escolaridade', '1.0': 'Fundamental I', '2.0': 'Fundamental II', '3.0': 'Ensino médio', '4.0': 'Superior incompleto', '5': 'Superior completo'}\n",
        "    df['ESC2010'] = df['ESC2010'].astype(str)\n",
        "    df['ESC2010'] = df['ESC2010'].replace(maping_ESC2010)\n",
        "\n",
        "    maping_RACACOR = {'1.0': 'Branca', '2.0':'Preta', '3.0': 'Amarela', '4.0':'Parda', '5.0':'Indígena'}\n",
        "    df['RACACOR'] = df['RACACOR'].astype(str)\n",
        "    df['RACACOR'] = df['RACACOR'].replace(maping_RACACOR)\n",
        "\n",
        "    maping_SEXO = {'1.0': 'Masculino', '2.0':'Feminino'}\n",
        "    df['SEXO'] = df['SEXO'].astype(str)\n",
        "    df['SEXO'] = df['SEXO'].replace(maping_SEXO)\n",
        "\n",
        "    maping_REGIAO = {'1': 'Nordeste', '2':'Norte', '3':'Sudeste', '4':'Sul', '5':'Centro-Oeste'}\n",
        "    df['REGIAO'] = df['REGIAO'].astype(str)\n",
        "    df['REGIAO'] = df['REGIAO'].replace(maping_REGIAO)\n",
        "\n",
        "  if type_format =='categorical_numeric':\n",
        "    maping_IDADE = {'< 51': 0, '51 - 60': 1, '61 - 70': 2, '71 - 80': 3, '81 - 90': 4, '> 90': 5}\n",
        "    df['FAIXA_IDADE'] = df['IDADE'].replace(maping_IDADE).astype(str)\n",
        "\n",
        "  print(f'After {type_format} attributes formatted: {df.shape} \\n')\n",
        "\n",
        "  return df"
      ]
    },
    {
      "cell_type": "code",
      "execution_count": 14,
      "metadata": {
        "id": "nzaz4fxPCqnL"
      },
      "outputs": [],
      "source": [
        "def transformation_binning(df, attribute_transformation):\n",
        "  faixas = [0, 51, 61, 71, 81, 91, float('inf')]\n",
        "  rotulos = ['< 51', '51 - 60', '61 - 70', '71 - 80', '81 - 90', '> 90']\n",
        "\n",
        "  df[attribute_transformation] = pd.cut(df[attribute_transformation], bins=faixas, labels=rotulos, right=False)\n",
        "\n",
        "  print(f'After IDADE binning: {df.shape} \\n')\n",
        "\n",
        "  return df"
      ]
    },
    {
      "cell_type": "code",
      "execution_count": 15,
      "metadata": {
        "id": "5oLtXQosTYN8"
      },
      "outputs": [],
      "source": [
        "#Create new UF attributes originating from CODMUNRES and delete column CODMUNRES\n",
        "def create_attributes(df, attribute_create):\n",
        "  if attribute_create == 'UF':\n",
        "    df['UF'] = df['CODMUNRES'].astype(str).str[:2].astype(int)\n",
        "    df['REGIAO'] = df['CODMUNRES'].astype(str).str[:1].astype(int)\n",
        "    df.drop(['CODMUNRES'], axis = 1, inplace = True)\n",
        "\n",
        "    print(f'After the new {attribute_create} attribute: {df.shape}')\n",
        "\n",
        "  if attribute_create in ['CAUSABAS']:\n",
        "    df[f'{attribute_create}'] = df[f'{attribute_create}'].str[:3]\n",
        "    print(f'After the new {attribute_create}s attribute: {df.shape} \\n')\n",
        "\n",
        "  if attribute_create in ['LINHAA','LINHAB','LINHAC','LINHAD']:\n",
        "    new_cols = df[attribute_create].str.split('*', expand=True)\n",
        "    if len(new_cols.columns) >= 1:  # Ajuste este valor para o número mínimo de colunas esperado\n",
        "      for i in range(len(new_cols.columns)):\n",
        "          df[f'{attribute_create}{i + 1}'] = new_cols[i].str[:3]\n",
        "    df.drop([attribute_create], axis = 1, inplace = True)\n",
        "\n",
        "    print(f'After the new {attribute_create}s attribute: {df.shape} \\n')\n",
        "\n",
        "  return df"
      ]
    },
    {
      "cell_type": "code",
      "execution_count": 16,
      "metadata": {
        "id": "HDNBRUgQW18T"
      },
      "outputs": [],
      "source": [
        "def replace_missing(df,attribute_missing):\n",
        "  df[attribute_missing].fillna(df['CAUSABAS'], inplace=True)\n",
        "  return df"
      ]
    },
    {
      "cell_type": "code",
      "execution_count": 17,
      "metadata": {
        "id": "S9VfBdUS2kVy"
      },
      "outputs": [],
      "source": [
        "def transformation_dummies(df, col_categ):\n",
        "  one_hot_enc = make_column_transformer((OneHotEncoder(handle_unknown = 'ignore'), col_categ), remainder='passthrough')\n",
        "  df = one_hot_enc.fit_transform(df)\n",
        "  df = pd.DataFrame(df, columns=one_hot_enc.get_feature_names_out())\n",
        "  return df"
      ]
    },
    {
      "cell_type": "code",
      "execution_count": 18,
      "metadata": {
        "id": "RNHchDEPfDlH"
      },
      "outputs": [],
      "source": [
        "# Check duplicate records\n",
        "def check_duplicated(df):\n",
        "  print(f'Check number of Duplicates: {df.duplicated().sum()} \\n')"
      ]
    },
    {
      "cell_type": "code",
      "source": [],
      "metadata": {
        "id": "gGHJlKsFDYFO"
      },
      "execution_count": 18,
      "outputs": []
    },
    {
      "cell_type": "code",
      "execution_count": 19,
      "metadata": {
        "id": "PGgsjFqAy1YI"
      },
      "outputs": [],
      "source": [
        "# Check columns with variance zero\n",
        "def check_variance_zero(df):\n",
        "  unique_values = df.nunique().reset_index()\n",
        "  unique_values.columns = ['coluna','unico']\n",
        "  columns_unique_values = unique_values.loc[unique_values['unico']==1,'coluna']\n",
        "  print(f'Check columns with variance zero: \\n {columns_unique_values} \\n')"
      ]
    },
    {
      "cell_type": "code",
      "execution_count": 20,
      "metadata": {
        "id": "I1Nz7pdn96R5"
      },
      "outputs": [],
      "source": [
        "# Check columns with many nan\n",
        "def check_many_nan(df, limit_perc):\n",
        "  porcentagem_nans_column = (df.isna().sum()/df.shape[0])*100\n",
        "  columns_many_nans = porcentagem_nans_column[porcentagem_nans_column > limit_perc]\n",
        "  return print(f'Check columns with many NaN values: \\n {columns_many_nans} \\n')"
      ]
    },
    {
      "cell_type": "code",
      "execution_count": 21,
      "metadata": {
        "id": "5dWF7TejsrNR"
      },
      "outputs": [],
      "source": [
        "# Check columns with many nan and ignored values\n",
        "def check_many_nan_ignored(df, limit_perc):\n",
        "  df_float = df.select_dtypes(include='float')\n",
        "  porcentagem_nans_column = ((df_float.isna().sum() + df_float[df_float==9].count())/df_float.shape[0])*100\n",
        "  columns_many_nans = porcentagem_nans_column[porcentagem_nans_column > limit_perc]\n",
        "  return print(f'Check columns with many NaN and Ignorado values: \\n {columns_many_nans} \\n')\n"
      ]
    },
    {
      "cell_type": "code",
      "execution_count": 22,
      "metadata": {
        "id": "JueXRunMr9Wj"
      },
      "outputs": [],
      "source": [
        "# Check columns with many nan\n",
        "def check_many_nan_ignore(df, limit_perc):\n",
        "  porcentagem_nans_column = (df.isna().sum()/df.shape[0])*100\n",
        "  columns_many_nans = porcentagem_nans_column[porcentagem_nans_column > limit_perc]\n",
        "  return print(f'Check columns with more than {limit_perc}% NaN values: {columns_many_nans} \\n')"
      ]
    },
    {
      "cell_type": "code",
      "execution_count": 23,
      "metadata": {
        "id": "SoOerOUKyAzk"
      },
      "outputs": [],
      "source": [
        "# Check columns with nan values\n",
        "def check_nan_values(df):\n",
        "  nan_values = df.isna().all().reset_index()\n",
        "  nan_values.columns = ['coluna','nulo']\n",
        "  columns_nan_values = nan_values.loc[nan_values['nulo']==True,'coluna']\n",
        "  print(f'Check columns with NaN values: \\n {columns_nan_values} \\n')"
      ]
    },
    {
      "cell_type": "code",
      "execution_count": 24,
      "metadata": {
        "id": "o8e-3LlaYU34"
      },
      "outputs": [],
      "source": [
        "# Check columns with low variance and few values\n",
        "def check_low_variance_few_values(df, limit_variance, limit_values):\n",
        "  results = {'Attribute': [], 'Different_values': [], 'Variance': []}\n",
        "  df_float = df.select_dtypes(include='float')\n",
        "  results['Attribute'].extend(df_float.columns)\n",
        "  results['Different_values'].extend(df_float.nunique())\n",
        "  results['Variance'].extend(df_float.var())\n",
        "  df_variance = pd.DataFrame(results)\n",
        "  df_variance = df_variance[(df_variance['Variance'] <= limit_variance) & (df_variance['Different_values'] <= limit_values)]\n",
        "\n",
        "  return print(f'Check Columns with low variance and few values: \\n {df_variance.head()} \\n')"
      ]
    },
    {
      "cell_type": "code",
      "execution_count": 25,
      "metadata": {
        "id": "ag-nJoy8Xo0O"
      },
      "outputs": [],
      "source": [
        "#checks if codes from dataframe 1 are in the other dataframe 2\n",
        "def check_isin(df1, df2, attribute_df1, attribute_df2 ):\n",
        "  all_contains = df1[attribute_df1].isin(df2[attribute_df2]).all()\n",
        "  if not all_contains:\n",
        "    df3 = df1[~df1[attribute_df1].isin(df2[attribute_df2])]\n",
        "  else:\n",
        "    df3 = \"\"\n",
        "  print(f'Check if {attribute_df1}s from main df are in the secondary dataframe: {all_contains} \\n')\n",
        "  return df3"
      ]
    },
    {
      "cell_type": "code",
      "source": [
        "def remove_duplicates_causas(lista):\n",
        "  nova_lista = []\n",
        "  for sublista in lista:\n",
        "      nova_sublista = []\n",
        "      valores_unicos = set()  # Usar um conjunto para rastrear os valores únicos\n",
        "      for valor in sublista:\n",
        "       if valor not in valores_unicos:\n",
        "         nova_sublista.append(valor)\n",
        "         valores_unicos.add(valor)\n",
        "      nova_lista.append(nova_sublista)\n",
        "  print(f'After removing duplicate rows from the list: {len(nova_lista)}')\n",
        "  return nova_lista"
      ],
      "metadata": {
        "id": "Wa2g3iYnC767"
      },
      "execution_count": 26,
      "outputs": []
    },
    {
      "cell_type": "code",
      "execution_count": 27,
      "metadata": {
        "id": "Awwb3WeeW_ES"
      },
      "outputs": [],
      "source": [
        "def show_shapes():\n",
        "  print(df16.shape, df17.shape, df18.shape, df19.shape, df20.shape, df21.shape, df22.shape, df_subcat.shape, df_cat.shape, df_uf.shape)"
      ]
    },
    {
      "cell_type": "code",
      "execution_count": 28,
      "metadata": {
        "id": "y6jHvfE4U6iI"
      },
      "outputs": [],
      "source": [
        "# Evaluate cost of k numbers of clusters for k_Modes\n",
        "def evaluate_k_cost(df2):\n",
        "  custo = []\n",
        "  for num_clusters in list(range(1,10)):\n",
        "    kmode = KModes(n_clusters=num_clusters, n_init = 2, verbose=0, random_state = 0)\n",
        "    kmode.fit_predict(df2.to_pandas())\n",
        "    custo.append(kmode.cost_)\n",
        "\n",
        "    #Huang (1998) - https://link.springer.com/article/10.1023/A:1009769707641\n",
        "    #https://www.geeksforgeeks.org/k-mode-clustering-in-python/\n",
        "\n",
        "    sns.lineplot(data=custo,marker='o',color='red')\n",
        "    #plt.title('The Elbow Method')\n",
        "    plt.xlabel('Number of clusters')\n",
        "    plt.ylabel('Costs (Dissimilarity)');\n"
      ]
    },
    {
      "cell_type": "code",
      "source": [
        "def generate_chart_distribuition(df2_1):\n",
        "    #plt.figure(figsize=(10,2))\n",
        "    fig, ax = plt.subplots(nrows=2, ncols=3, figsize=(28,11))\n",
        "    #fig, ax =plt.subplots(1,2)\n",
        "    sns.countplot(x='IDADE', data=df2_1, ax=ax[0,0],order = df2_1[\"IDADE\"].value_counts().index)\n",
        "    sns.countplot(x='SEXO', data=df2_1, ax=ax[0,1],order = df2_1[\"SEXO\"].value_counts().index)\n",
        "    sns.countplot(x='RACACOR', data=df2_1, ax=ax[0,2],order = df2_1[\"RACACOR\"].value_counts().index)\n",
        "    sns.countplot(x='ESTCIV', data=df2_1, ax=ax[1,0], order = df2_1[\"ESTCIV\"].value_counts().index)\n",
        "    sns.countplot(x='ESC2010', data=df2_1, ax=ax[1,1], order = df2_1[\"ESC2010\"].value_counts().index)\n",
        "    sns.countplot(x='REGIAO', data=df2_1, ax=ax[1,2], order = df2_1[\"REGIAO\"].value_counts().index)\n",
        "\n",
        "\n",
        "    freq_idade = df2_1['IDADE'].value_counts(ascending=False).values\n",
        "    perc_idade = df2_1['IDADE'].value_counts(ascending=False, normalize=True).values*100\n",
        "    lbls_idade = [f'{p[0]} ({p[1]:.1f}%)' for p in zip(freq_idade, perc_idade)]\n",
        "\n",
        "    freq_sexo = df2_1['SEXO'].value_counts(ascending=False)\n",
        "    perc_sexo = df2_1['SEXO'].value_counts(ascending=False, normalize=True).values*100\n",
        "    lbls_sexo = [f'{p[0]} ({p[1]:.1f}%)' for p in zip(freq_sexo, perc_sexo)]\n",
        "\n",
        "    freq_racacor = df2_1['RACACOR'].value_counts(ascending=False)\n",
        "    perc_racacor = df2_1['RACACOR'].value_counts(ascending=False, normalize=True).values*100\n",
        "    lbls_racacor = [f'{p[0]} ({p[1]:.1f}%)' for p in zip(freq_racacor, perc_racacor)]\n",
        "\n",
        "    freq_estciv = df2_1['ESTCIV'].value_counts(ascending=False)\n",
        "    perc_estciv = df2_1['ESTCIV'].value_counts(ascending=False, normalize=True).values*100\n",
        "    lbls_estciv = [f'{p[0]:.0f} ({p[1]:.1f}%)' for p in zip(freq_estciv, perc_estciv)]\n",
        "\n",
        "    freq_esc = df2_1['ESC2010'].value_counts(ascending=False)\n",
        "    perc_esc = df2_1['ESC2010'].value_counts(ascending=False, normalize=True).values*100\n",
        "    lbls_esc = [f'{p[0]:.0f} ({p[1]:.1f}%)' for p in zip(freq_esc, perc_esc)]\n",
        "\n",
        "    freq_regiao = df2_1['REGIAO'].value_counts(ascending=False)\n",
        "    perc_regiao = df2_1['REGIAO'].value_counts(ascending=False, normalize=True).values*100\n",
        "    lbls_regiao = [f'{p[0]:.0f} ({p[1]:.1f}%)' for p in zip(freq_regiao, perc_regiao)]\n",
        "\n",
        "\n",
        "    ax[0,0].set(xlabel='Idade', ylabel='Quantidade')\n",
        "    ax[0,0].bar_label(container=ax[0,0].containers[0], labels=lbls_idade, padding=2)\n",
        "    ax[0,1].set(xlabel='Sexo', ylabel='Quantidade')\n",
        "    ax[0,1].bar_label(container=ax[0,1].containers[0], labels=lbls_sexo, padding=2)\n",
        "    ax[0,2].set(xlabel='Raça / Cor', ylabel='Quantidade')\n",
        "    ax[0,2].bar_label(container=ax[0,2].containers[0], labels=lbls_racacor, padding=2)\n",
        "    ax[1,0].set(xlabel='Estado Civil', ylabel='Quantidade')\n",
        "    ax[1,0].bar_label(container=ax[1,0].containers[0], labels=lbls_estciv, padding=2)\n",
        "    ax[1,1].set(xlabel='Escolaridade', ylabel='Quantidade')\n",
        "    ax[1,1].bar_label(container=ax[1,1].containers[0], labels=lbls_esc, padding=2)\n",
        "    ax[1,2].set(xlabel='Região', ylabel='Quantidade')\n",
        "    ax[1,1].set_xticklabels(['Sem Esc.', 'Fundam. I', 'Fundam. II','Médio','Sup Incompl.', 'Sup Compl.'])\n",
        "    ax[1,2].bar_label(container=ax[1,2].containers[0], labels=lbls_regiao, padding=2)\n",
        "\n",
        "\n",
        "    fig.show()"
      ],
      "metadata": {
        "id": "G_UoO8RF2iZI"
      },
      "execution_count": 29,
      "outputs": []
    },
    {
      "cell_type": "code",
      "source": [
        "def generate_chart(df3, attribute_analysed, v_width=800, v_height=600):\n",
        "\n",
        "  data, v_title = select_data_chart(df3, attribute_analysed)\n",
        "\n",
        "  cores_personalizadas = ['red', 'blue', 'darkorange', 'green']\n",
        "\n",
        "  df_res = pd.DataFrame(data)\n",
        "  df_res = df_res.to_pandas()\n",
        "\n",
        "  # Calcula as porcentagens em relação ao total por grupo e cores\n",
        "  df_res['Porcentagem'] = ((df_res['Frequencia'] / df_res.groupby('Grupo')['Frequencia'].transform('sum')) * 100).round(1)\n",
        "\n",
        "\n",
        "  fig = go.Figure()\n",
        "\n",
        "  for i, grupo in enumerate(df_res['Grupo'].unique()):\n",
        "      df_grupo = df_res[df_res['Grupo'] == grupo]\n",
        "\n",
        "\n",
        "      fig.add_trace(go.Scatter(\n",
        "          x=df_grupo[attribute_analysed], y=[grupo] * len(df_grupo),\n",
        "          mode='markers+text',\n",
        "          marker=dict(color=cores_personalizadas[i],\n",
        "                      size=df_grupo['Porcentagem']),\n",
        "          text=df_grupo['Porcentagem'].apply(lambda x: f'{x:.1f}%'),\n",
        "          hoverinfo='text+x+y',\n",
        "          name=grupo,\n",
        "          textfont=dict(color=cores_personalizadas[i])\n",
        "      ))\n",
        "\n",
        "  fig.update_traces(textposition='bottom center', textfont=dict(size=20))\n",
        "  fig.update_layout(width=v_width, height=v_height, xaxis_title=v_title, font=dict(size=18, color=\"black\"),\n",
        "      xaxis=dict(tickfont=dict(size=20, color=\"black\")),\n",
        "      yaxis=dict(tickfont=dict(size=20, color=\"black\")))\n",
        "  fig.update_traces(marker=dict(line=dict(width=2, color=\"black\"))                 )\n",
        "  fig.update_xaxes(linewidth=2, linecolor='black', mirror=True)\n",
        "  fig.update_yaxes(linewidth=2, linecolor='black', mirror=True)\n",
        "  fig.update_layout(plot_bgcolor=\"#FFFFFF\")\n",
        "  fig.update_layout(showlegend=False)\n",
        "\n",
        "  #fig.add_annotation(y=0,x=4.5,\n",
        "  #          text=df_res[df_res['Grupo']=='Grupo 0']['Frequencia'].sum().astype(str),\n",
        "  #          showarrow=False,\n",
        "  #          arrowhead=0,\n",
        "  #          font=dict(\n",
        "  #              color=\"black\",\n",
        "  #              size=20\n",
        "  #          ))\n",
        "\n",
        "  fig.show()"
      ],
      "metadata": {
        "id": "5c9y3bFDTPTw"
      },
      "execution_count": 30,
      "outputs": []
    },
    {
      "cell_type": "code",
      "execution_count": 31,
      "metadata": {
        "id": "tpTFaNE4iYEY"
      },
      "outputs": [],
      "source": [
        "def select_data_chart(df3, attribute_analysed):\n",
        "\n",
        "  v_title = attribute_analysed\n",
        "\n",
        "  if attribute_analysed == 'Idade':\n",
        "    v_title = 'Faixa de Idade'\n",
        "    data = {\n",
        "          'Grupo': ['Grupo 0']*5 + ['Grupo 1']*5 + ['Grupo 2']*5 + ['Grupo 3']*5,\n",
        "          'Idade': ['< 61', '61 - 70', '71 - 80', '81 - 90', '> 90']*4,\n",
        "          'Frequencia': [df3[(df3['IDADE'] == '< 51') & (df3['GRUPO']==0)]['IDADE'].count()+df3[(df3['IDADE'] == '51 - 60') & (df3['GRUPO']==0)]['IDADE'].count(),\n",
        "                        df3[(df3['IDADE'] == '61 - 70') & (df3['GRUPO']==0)]['IDADE'].count(),\n",
        "                        df3[(df3['IDADE'] == '71 - 80') & (df3['GRUPO']==0)]['IDADE'].count(),\n",
        "                        df3[(df3['IDADE'] == '81 - 90') & (df3['GRUPO']==0)]['IDADE'].count(),\n",
        "                        df3[(df3['IDADE'] == '> 90') & (df3['GRUPO']==0)]['IDADE'].count(),\n",
        "                        df3[(df3['IDADE'] == '< 51') & (df3['GRUPO']==1)]['IDADE'].count()+df3[(df3['IDADE'] == '51 - 60') & (df3['GRUPO']==1)]['IDADE'].count(),\n",
        "                        df3[(df3['IDADE'] == '61 - 70') & (df3['GRUPO']==1)]['IDADE'].count(),\n",
        "                        df3[(df3['IDADE'] == '71 - 80') & (df3['GRUPO']==1)]['IDADE'].count(),\n",
        "                        df3[(df3['IDADE'] == '81 - 90') & (df3['GRUPO']==1)]['IDADE'].count(),\n",
        "                        df3[(df3['IDADE'] == '> 90') & (df3['GRUPO']==1)]['IDADE'].count(),\n",
        "                        df3[(df3['IDADE'] == '< 51') & (df3['GRUPO']==2)]['IDADE'].count()+df3[(df3['IDADE'] == '51 - 60') & (df3['GRUPO']==2)]['IDADE'].count(),\n",
        "                        df3[(df3['IDADE'] == '61 - 70') & (df3['GRUPO']==2)]['IDADE'].count(),\n",
        "                        df3[(df3['IDADE'] == '71 - 80') & (df3['GRUPO']==2)]['IDADE'].count(),\n",
        "                        df3[(df3['IDADE'] == '81 - 90') & (df3['GRUPO']==2)]['IDADE'].count(),\n",
        "                        df3[(df3['IDADE'] == '> 90') & (df3['GRUPO']==2)]['IDADE'].count(),\n",
        "                        df3[(df3['IDADE'] == '< 51') & (df3['GRUPO']==3)]['IDADE'].count()+df3[(df3['IDADE'] == '51 - 60') & (df3['GRUPO']==3)]['IDADE'].count(),\n",
        "                        df3[(df3['IDADE'] == '61 - 70') & (df3['GRUPO']==3)]['IDADE'].count(),\n",
        "                        df3[(df3['IDADE'] == '71 - 80') & (df3['GRUPO']==3)]['IDADE'].count(),\n",
        "                        df3[(df3['IDADE'] == '81 - 90') & (df3['GRUPO']==3)]['IDADE'].count(),\n",
        "                        df3[(df3['IDADE'] == '> 90') & (df3['GRUPO']==3)]['IDADE'].count()\n",
        "                        ]\n",
        "      }\n",
        "  if attribute_analysed == 'Sexo':\n",
        "    data = {\n",
        "            'Grupo': ['Grupo 0']*2 + ['Grupo 1']*2 + ['Grupo 2']*2 + ['Grupo 3']*2,\n",
        "            'Sexo': ['Feminino','Masculino']*4,\n",
        "            'Frequencia': [ df3[(df3['SEXO'] == 'Feminino') & (df3['GRUPO']==0)]['SEXO'].count(),\n",
        "                            df3[(df3['SEXO'] == 'Masculino') & (df3['GRUPO']==0)]['SEXO'].count(),\n",
        "                            df3[(df3['SEXO'] == 'Feminino') & (df3['GRUPO']==1)]['SEXO'].count(),\n",
        "                            df3[(df3['SEXO'] == 'Masculino') & (df3['GRUPO']==1)]['SEXO'].count(),\n",
        "                            df3[(df3['SEXO'] == 'Feminino') & (df3['GRUPO']==2)]['SEXO'].count(),\n",
        "                            df3[(df3['SEXO'] == 'Masculino') & (df3['GRUPO']==2)]['SEXO'].count(),\n",
        "                            df3[(df3['SEXO'] == 'Feminino') & (df3['GRUPO']==3)]['SEXO'].count(),\n",
        "                            df3[(df3['SEXO'] == 'Masculino') & (df3['GRUPO']==3)]['SEXO'].count(),\n",
        "                          ]\n",
        "    }\n",
        "\n",
        "  if attribute_analysed == 'Raca':\n",
        "    v_title = 'Raça / Cor'\n",
        "    data = {\n",
        "            'Grupo': ['Grupo 0']*5 + ['Grupo 1']*5 + ['Grupo 2']*5 + ['Grupo 3']*5,\n",
        "            'Raca': ['Branca','Preta','Amarela','Parda','Indígena']*4,\n",
        "            'Frequencia':  [df3[(df3['RACACOR'] == 'Branca') & (df3['GRUPO']==0)]['RACACOR'].count(),\n",
        "                            df3[(df3['RACACOR'] == 'Preta') & (df3['GRUPO']==0)]['RACACOR'].count(),\n",
        "                            df3[(df3['RACACOR'] == 'Amarela') & (df3['GRUPO']==0)]['RACACOR'].count(),\n",
        "                            df3[(df3['RACACOR'] == 'Parda') & (df3['GRUPO']==0)]['RACACOR'].count(),\n",
        "                            df3[(df3['RACACOR'] == 'Indígena') & (df3['GRUPO']==0)]['RACACOR'].count(),\n",
        "                            df3[(df3['RACACOR'] == 'Branca') & (df3['GRUPO']==1)]['RACACOR'].count(),\n",
        "                            df3[(df3['RACACOR'] == 'Preta') & (df3['GRUPO']==1)]['RACACOR'].count(),\n",
        "                            df3[(df3['RACACOR'] == 'Amarela') & (df3['GRUPO']==1)]['RACACOR'].count(),\n",
        "                            df3[(df3['RACACOR'] == 'Parda') & (df3['GRUPO']==1)]['RACACOR'].count(),\n",
        "                            df3[(df3['RACACOR'] == 'Indígena') & (df3['GRUPO']==1)]['RACACOR'].count(),\n",
        "                            df3[(df3['RACACOR'] == 'Branca') & (df3['GRUPO']==2)]['RACACOR'].count(),\n",
        "                            df3[(df3['RACACOR'] == 'Preta') & (df3['GRUPO']==2)]['RACACOR'].count(),\n",
        "                            df3[(df3['RACACOR'] == 'Amarela') & (df3['GRUPO']==2)]['RACACOR'].count(),\n",
        "                            df3[(df3['RACACOR'] == 'Parda') & (df3['GRUPO']==2)]['RACACOR'].count(),\n",
        "                            df3[(df3['RACACOR'] == 'Indígena') & (df3['GRUPO']==2)]['RACACOR'].count(),\n",
        "                            df3[(df3['RACACOR'] == 'Branca') & (df3['GRUPO']==3)]['RACACOR'].count(),\n",
        "                            df3[(df3['RACACOR'] == 'Preta') & (df3['GRUPO']==3)]['RACACOR'].count(),\n",
        "                            df3[(df3['RACACOR'] == 'Amarela') & (df3['GRUPO']==3)]['RACACOR'].count(),\n",
        "                            df3[(df3['RACACOR'] == 'Parda') & (df3['GRUPO']==3)]['RACACOR'].count(),\n",
        "                            df3[(df3['RACACOR'] == 'Indígena') & (df3['GRUPO']==3)]['RACACOR'].count()\n",
        "                            ]\n",
        "\n",
        "    }\n",
        "  if attribute_analysed == 'Estado_Civil':\n",
        "    v_title = 'Estado Civil'\n",
        "    data = {\n",
        "          'Grupo': ['Grupo 0']*5 + ['Grupo 1']*5 + ['Grupo 2']*5 + ['Grupo 3']*5,\n",
        "          'Estado_Civil': ['Solteiro (a)','Casado (a)','Viúvo (a)','Divorciado (a)','União estável']*4,\n",
        "          'Frequencia':  [df3[(df3['ESTCIV'] == 'Solteiro (a)') & (df3['GRUPO']==0)]['ESTCIV'].count(),\n",
        "                          df3[(df3['ESTCIV'] == 'Casado (a)') & (df3['GRUPO']==0)]['ESTCIV'].count(),\n",
        "                          df3[(df3['ESTCIV'] == 'Viúvo (a)') & (df3['GRUPO']==0)]['ESTCIV'].count(),\n",
        "                          df3[(df3['ESTCIV'] == 'Divorciado (a)') & (df3['GRUPO']==0)]['ESTCIV'].count(),\n",
        "                          df3[(df3['ESTCIV'] == 'União estável') & (df3['GRUPO']==0)]['ESTCIV'].count(),\n",
        "                          df3[(df3['ESTCIV'] == 'Solteiro (a)') & (df3['GRUPO']==1)]['ESTCIV'].count(),\n",
        "                          df3[(df3['ESTCIV'] == 'Casado (a)') & (df3['GRUPO']==1)]['ESTCIV'].count(),\n",
        "                          df3[(df3['ESTCIV'] == 'Viúvo (a)') & (df3['GRUPO']==1)]['ESTCIV'].count(),\n",
        "                          df3[(df3['ESTCIV'] == 'Divorciado (a)') & (df3['GRUPO']==1)]['ESTCIV'].count(),\n",
        "                          df3[(df3['ESTCIV'] == 'União estável') & (df3['GRUPO']==1)]['ESTCIV'].count(),\n",
        "                          df3[(df3['ESTCIV'] == 'Solteiro (a)') & (df3['GRUPO']==2)]['ESTCIV'].count(),\n",
        "                          df3[(df3['ESTCIV'] == 'Casado (a)') & (df3['GRUPO']==2)]['ESTCIV'].count(),\n",
        "                          df3[(df3['ESTCIV'] == 'Viúvo (a)') & (df3['GRUPO']==2)]['ESTCIV'].count(),\n",
        "                          df3[(df3['ESTCIV'] == 'Divorciado (a)') & (df3['GRUPO']==2)]['ESTCIV'].count(),\n",
        "                          df3[(df3['ESTCIV'] == 'União estável') & (df3['GRUPO']==2)]['ESTCIV'].count(),\n",
        "                          df3[(df3['ESTCIV'] == 'Solteiro (a)') & (df3['GRUPO']==3)]['ESTCIV'].count(),\n",
        "                          df3[(df3['ESTCIV'] == 'Casado (a)') & (df3['GRUPO']==3)]['ESTCIV'].count(),\n",
        "                          df3[(df3['ESTCIV'] == 'Viúvo (a)') & (df3['GRUPO']==3)]['ESTCIV'].count(),\n",
        "                          df3[(df3['ESTCIV'] == 'Divorciado (a)') & (df3['GRUPO']==3)]['ESTCIV'].count(),\n",
        "                          df3[(df3['ESTCIV'] == 'União estável') & (df3['GRUPO']==3)]['ESTCIV'].count()\n",
        "                         ]\n",
        "    }\n",
        "\n",
        "  if attribute_analysed == 'Escolaridade':\n",
        "    data = {\n",
        "            'Grupo': ['Grupo 0']*6 + ['Grupo 1']*6 + ['Grupo 2']*6 + ['Grupo 3']*6,\n",
        "            'Escolaridade': ['Sem escolaridade', 'Fundamental I', 'Fundamental II', 'Ensino médio', 'Superior incompleto', 'Superior completo']*4,\n",
        "            'Frequencia': [df3[(df3['ESC2010'] == 'Sem escolaridade') & (df3['GRUPO']==0)]['ESC2010'].count(),\n",
        "                          df3[(df3['ESC2010'] == 'Fundamental I') & (df3['GRUPO']==0)]['ESC2010'].count(),\n",
        "                          df3[(df3['ESC2010'] == 'Fundamental II') & (df3['GRUPO']==0)]['ESC2010'].count(),\n",
        "                          df3[(df3['ESC2010'] == 'Ensino médio') & (df3['GRUPO']==0)]['ESC2010'].count(),\n",
        "                          df3[(df3['ESC2010'] == 'Superior incompleto') & (df3['GRUPO']==0)]['ESC2010'].count(),\n",
        "                          df3[(df3['ESC2010'] == 'Superior completo') & (df3['GRUPO']==0)]['ESC2010'].count(),\n",
        "                          df3[(df3['ESC2010'] == 'Sem escolaridade') & (df3['GRUPO']==1)]['ESC2010'].count(),\n",
        "                          df3[(df3['ESC2010'] == 'Fundamental I') & (df3['GRUPO']==1)]['ESC2010'].count(),\n",
        "                          df3[(df3['ESC2010'] == 'Fundamental II') & (df3['GRUPO']==1)]['ESC2010'].count(),\n",
        "                          df3[(df3['ESC2010'] == 'Ensino médio') & (df3['GRUPO']==1)]['ESC2010'].count(),\n",
        "                          df3[(df3['ESC2010'] == 'Superior incompleto') & (df3['GRUPO']==1)]['ESC2010'].count(),\n",
        "                          df3[(df3['ESC2010'] == 'Superior completo') & (df3['GRUPO']==1)]['ESC2010'].count(),\n",
        "                          df3[(df3['ESC2010'] == 'Sem escolaridade') & (df3['GRUPO']==2)]['ESC2010'].count(),\n",
        "                          df3[(df3['ESC2010'] == 'Fundamental I') & (df3['GRUPO']==2)]['ESC2010'].count(),\n",
        "                          df3[(df3['ESC2010'] == 'Fundamental II') & (df3['GRUPO']==2)]['ESC2010'].count(),\n",
        "                          df3[(df3['ESC2010'] == 'Ensino médio') & (df3['GRUPO']==2)]['ESC2010'].count(),\n",
        "                          df3[(df3['ESC2010'] == 'Superior incompleto') & (df3['GRUPO']==2)]['ESC2010'].count(),\n",
        "                          df3[(df3['ESC2010'] == 'Superior completo') & (df3['GRUPO']==2)]['ESC2010'].count(),\n",
        "                          df3[(df3['ESC2010'] == 'Sem escolaridade') & (df3['GRUPO']==3)]['ESC2010'].count(),\n",
        "                          df3[(df3['ESC2010'] == 'Fundamental I') & (df3['GRUPO']==3)]['ESC2010'].count(),\n",
        "                          df3[(df3['ESC2010'] == 'Fundamental II') & (df3['GRUPO']==3)]['ESC2010'].count(),\n",
        "                          df3[(df3['ESC2010'] == 'Ensino médio') & (df3['GRUPO']==3)]['ESC2010'].count(),\n",
        "                          df3[(df3['ESC2010'] == 'Superior incompleto') & (df3['GRUPO']==3)]['ESC2010'].count(),\n",
        "                          df3[(df3['ESC2010'] == 'Superior completo') & (df3['GRUPO']==3)]['ESC2010'].count()\n",
        "                          ]\n",
        "\n",
        "    }\n",
        "  if attribute_analysed == 'Regiao':\n",
        "    v_title = 'Região'\n",
        "    data = {\n",
        "    'Grupo': ['Grupo 0']*5 + ['Grupo 1']*5 + ['Grupo 2']*5 + ['Grupo 3']*5,\n",
        "    'Regiao': ['Centro-Oeste','Norte','Nordeste','Sudeste','Sul']*4,\n",
        "    'Frequencia': [df3[(df3['REGIAO'] == 'Centro-Oeste') & (df3['GRUPO']==0)]['REGIAO'].count(),\n",
        "                   df3[(df3['REGIAO'] == 'Norte') & (df3['GRUPO']==0)]['REGIAO'].count(),\n",
        "                   df3[(df3['REGIAO'] == 'Nordeste') & (df3['GRUPO']==0)]['REGIAO'].count(),\n",
        "                   df3[(df3['REGIAO'] == 'Sudeste') & (df3['GRUPO']==0)]['REGIAO'].count(),\n",
        "                   df3[(df3['REGIAO'] == 'Sul') & (df3['GRUPO']==0)]['REGIAO'].count(),\n",
        "                   df3[(df3['REGIAO'] == 'Centro-Oeste') & (df3['GRUPO']==1)]['REGIAO'].count(),\n",
        "                   df3[(df3['REGIAO'] == 'Norte') & (df3['GRUPO']==1)]['REGIAO'].count(),\n",
        "                   df3[(df3['REGIAO'] == 'Nordeste') & (df3['GRUPO']==1)]['REGIAO'].count(),\n",
        "                   df3[(df3['REGIAO'] == 'Sudeste') & (df3['GRUPO']==1)]['REGIAO'].count(),\n",
        "                   df3[(df3['REGIAO'] == 'Sul') & (df3['GRUPO']==1)]['REGIAO'].count(),\n",
        "                   df3[(df3['REGIAO'] == 'Centro-Oeste') & (df3['GRUPO']==2)]['REGIAO'].count(),\n",
        "                   df3[(df3['REGIAO'] == 'Norte') & (df3['GRUPO']==2)]['REGIAO'].count(),\n",
        "                   df3[(df3['REGIAO'] == 'Nordeste') & (df3['GRUPO']==2)]['REGIAO'].count(),\n",
        "                   df3[(df3['REGIAO'] == 'Sudeste') & (df3['GRUPO']==2)]['REGIAO'].count(),\n",
        "                   df3[(df3['REGIAO'] == 'Sul') & (df3['GRUPO']==2)]['REGIAO'].count(),\n",
        "                   df3[(df3['REGIAO'] == 'Centro-Oeste') & (df3['GRUPO']==3)]['REGIAO'].count(),\n",
        "                   df3[(df3['REGIAO'] == 'Norte') & (df3['GRUPO']==3)]['REGIAO'].count(),\n",
        "                   df3[(df3['REGIAO'] == 'Nordeste') & (df3['GRUPO']==3)]['REGIAO'].count(),\n",
        "                   df3[(df3['REGIAO'] == 'Sudeste') & (df3['GRUPO']==3)]['REGIAO'].count(),\n",
        "                   df3[(df3['REGIAO'] == 'Sul') & (df3['GRUPO']==3)]['REGIAO'].count()\n",
        "                   ]\n",
        "\n",
        "    }\n",
        "  return data, v_title"
      ]
    },
    {
      "cell_type": "code",
      "execution_count": 32,
      "metadata": {
        "id": "DR5VCJFkmSYt"
      },
      "outputs": [],
      "source": [
        "def prepare_data(df, df_uf):\n",
        "\n",
        "  #Show columns with missing values\n",
        "  check_nan_values(df)\n",
        "\n",
        "  # Delete columns with only missing values ( delete 22 atributtes)\n",
        "  df = delete_attributes(df,'missing')\n",
        "\n",
        "  #Chech Duplicates\n",
        "  check_duplicated(df)\n",
        "\n",
        "  # Checl variance zero\n",
        "  check_variance_zero(df)\n",
        "\n",
        "  #Delete 3 atributtes with variance zero\n",
        "  df = delete_attributes(df,'variance_zero')\n",
        "\n",
        "  #Check columns with Nan above 75%\n",
        "  check_many_nan(df, 75)\n",
        "\n",
        "  #Delete 16 attributes with NaN above 75%\n",
        "  df = delete_attributes(df,'many_missings')\n",
        "\n",
        "  #Delete 7 date or time type attributes\n",
        "  df = delete_attributes(df, 'date')\n",
        "\n",
        "  #Delete 5 columns that have redundant information from other columns\n",
        "  df = delete_attributes(df, 'redundant')\n",
        "\n",
        "  #Formatar string em numerico\n",
        "  df = format_attributes(df,'convert_numeric')\n",
        "\n",
        "  #Check low variance\n",
        " #check_low_variance_few_values(df, 0.01, 3)\n",
        "\n",
        "  #Delete 3 columns with low variance and few values\n",
        "  df = delete_attributes(df,'low_variance_few')\n",
        "\n",
        "  #Delete 12 attributes 'OCUP','CODESTAB', 'CODMUNNATU' 'LINHAII', 'TPPOS', 'ATESTANTE', 'STCODIFICA', 'VERSAOSCB', 'VERSAOSIST', 'ATESTADO', 'LOCOCOR', 'CODMUNOCOR'\n",
        "  # Informações irrelevantes como códigos de procedimentos internos ou informações do estabelecimentos\n",
        "  #que não temos acesso, informações sobre o software instalado como versão, foram excluídos\n",
        "  df = delete_attributes(df,'irrelevant')\n",
        "\n",
        "  ##Check columns with NaN and ignored values (option =9) above 30% for categorical attributes\n",
        "  check_many_nan_ignored(df, 30)\n",
        "\n",
        "  #Delete columns with NaN and ignored values (option =9) above 30% for categorical attributes\n",
        "  df = delete_attributes(df,'many_missing_ignored')\n",
        "\n",
        "  #Delete inconsistent values of Age (7 rows)\n",
        "  df = delete_rows(df, 'inconsistent','IDADE')\n",
        "\n",
        "  ##Delete rows with race is NaN or option =9 (3703 rows)\n",
        "  df = delete_rows(df,'missing','RACACOR',9)\n",
        "\n",
        "  ##Delete rows with estado civil is NaN or option =9 (7544 rows)\n",
        "  df = delete_rows(df,'missing','ESTCIV',9)\n",
        "\n",
        "  ##Delete rows with escolaridade is NaN or option =9 (20137 rows)\n",
        "  df = delete_rows(df,'missing','ESC2010',9)\n",
        "\n",
        "  ##Delete rows with sexo is NaN or option =9 (3 rows)\n",
        "  df = delete_rows(df,'missing','SEXO',0)\n",
        "\n",
        "  #Format age attribute\n",
        "  df = format_attributes(df,'IDADE')\n",
        "\n",
        "  #Create new UF attributes originating from CODMUNRES and delete column CODMUNRES\n",
        "  df = create_attributes(df,'UF')\n",
        "\n",
        "  #checks if all UFs are true by consulting the IBGE database\n",
        "  check_isin(df, df_uf, 'UF','CODIGO')\n",
        "\n",
        "  return df\n"
      ]
    },
    {
      "cell_type": "code",
      "execution_count": 33,
      "metadata": {
        "id": "A87SVNm2HmhG"
      },
      "outputs": [],
      "source": [
        "# Select datasets -  Alzheimer's mortality\n",
        "def collect_select():\n",
        "  df16 = select_dataset('2016')\n",
        "  df17 = select_dataset('2017')\n",
        "  df18 = select_dataset('2018')\n",
        "  df19 = select_dataset('2019')\n",
        "  df20 = select_dataset('2020')\n",
        "  df21 = select_dataset('2021')\n",
        "  df22 = select_dataset('2022')\n",
        "  df_subcat = select_dataset('CID_SUBCAT')\n",
        "  df_cat = select_dataset('CID_CAT')\n",
        "  df_uf = select_dataset('UF')\n",
        "\n",
        "  #Name dataframe\n",
        "  df16.name = 'df16'\n",
        "  df17.name = 'df17'\n",
        "  df18.name = 'df18'\n",
        "  df19.name = 'df19'\n",
        "  df20.name = 'df20'\n",
        "  df21.name = 'df21'\n",
        "  df22.name = 'df22'\n",
        "\n",
        "  return df16, df17, df18, df19, df20, df21, df22, df_subcat, df_cat, df_uf"
      ]
    },
    {
      "cell_type": "markdown",
      "metadata": {
        "id": "lm-nwdZepM21"
      },
      "source": [
        "# Data Preparation"
      ]
    },
    {
      "cell_type": "code",
      "execution_count": 34,
      "metadata": {
        "id": "z-KIrOpqpJ0i",
        "colab": {
          "base_uri": "https://localhost:8080/"
        },
        "outputId": "0f285076-3dc6-4d84-99fa-f3cdeae41c3a"
      },
      "outputs": [
        {
          "output_type": "stream",
          "name": "stdout",
          "text": [
            "Dataset: 2016 , Total rows: (1309774, 87), Alzheimer rows: (18409, 87)\n",
            "Dataset: 2017 , Total rows: (1312663, 87), Alzheimer rows: (19844, 87)\n",
            "Dataset: 2018 , Total rows: (1316719, 87), Alzheimer rows: (20594, 87)\n",
            "Dataset: 2019 , Total rows: (1349801, 87), Alzheimer rows: (23150, 87)\n",
            "Dataset: 2020 , Total rows: (1556824, 87), Alzheimer rows: (23855, 87)\n",
            "Dataset: 2021 , Total rows: (1832649, 87), Alzheimer rows: (25542, 87)\n",
            "Dataset: 2022 , Total rows: (1542158, 86), Alzheimer rows: (29040, 86)\n",
            "Categories CID rows: (2045, 2)\n"
          ]
        }
      ],
      "source": [
        "df16, df17, df18, df19, df20, df21, df22, df_subcat, df_cat, df_uf = collect_select()"
      ]
    },
    {
      "cell_type": "code",
      "execution_count": 35,
      "metadata": {
        "id": "qoxqRYOOOyCn",
        "colab": {
          "base_uri": "https://localhost:8080/"
        },
        "outputId": "3f67560c-95ce-4f70-a778-4b9d9be7234b"
      },
      "outputs": [
        {
          "output_type": "stream",
          "name": "stdout",
          "text": [
            "(18409, 87) (19844, 87) (20594, 87) (23150, 87) (23855, 87) (25542, 87) (29040, 86) (12451, 2) (2045, 2) (27, 2)\n"
          ]
        }
      ],
      "source": [
        "#df16.shape, df17.shape, df18.shape, df19.shape, df20.shape, df21.shape, df22.shape, df_c.shape\n",
        "show_shapes()"
      ]
    },
    {
      "cell_type": "code",
      "execution_count": 36,
      "metadata": {
        "id": "y3_-dQHhU5jH",
        "colab": {
          "base_uri": "https://localhost:8080/"
        },
        "outputId": "c849cd9b-ebba-44aa-a89a-81f05fe59491"
      },
      "outputs": [
        {
          "output_type": "stream",
          "name": "stdout",
          "text": [
            "After deleting inconsistent attributes: (18409, 83) \n",
            "\n",
            "After deleting inconsistent attributes: (19844, 83) \n",
            "\n",
            "After deleting inconsistent attributes: (20594, 83) \n",
            "\n",
            "After deleting inconsistent attributes: (23150, 83) \n",
            "\n",
            "After deleting inconsistent attributes: (23855, 83) \n",
            "\n",
            "After deleting inconsistent attributes: (25542, 83) \n",
            "\n",
            "After deleting inconsistent attributes: (29040, 83) \n",
            "\n"
          ]
        }
      ],
      "source": [
        "# Delete columns with inconsistent values - excluding columns that are not in all datasets\n",
        "# Delete 3 atributtes in 2022 file and 4 atributes in 2016 until 2021\n",
        "df16 = delete_attributes(df16, 'inconsistent')\n",
        "df17 = delete_attributes(df17, 'inconsistent')\n",
        "df18 = delete_attributes(df18, 'inconsistent')\n",
        "df19 = delete_attributes(df19, 'inconsistent')\n",
        "df20 = delete_attributes(df20, 'inconsistent')\n",
        "df21 = delete_attributes(df21, 'inconsistent')\n",
        "df22 = delete_attributes(df22, 'inconsistent')\n"
      ]
    },
    {
      "cell_type": "code",
      "execution_count": 37,
      "metadata": {
        "id": "i_gkz6fMmpMa",
        "colab": {
          "base_uri": "https://localhost:8080/"
        },
        "outputId": "333d7314-adbf-4561-be5b-f73445e7f495"
      },
      "outputs": [
        {
          "output_type": "stream",
          "name": "stdout",
          "text": [
            "After deleting privacy attributes: (18409, 81) \n",
            "\n",
            "After deleting privacy attributes: (19844, 81) \n",
            "\n",
            "After deleting privacy attributes: (20594, 81) \n",
            "\n",
            "After deleting privacy attributes: (23150, 81) \n",
            "\n",
            "After deleting privacy attributes: (23855, 81) \n",
            "\n",
            "After deleting privacy attributes: (25542, 81) \n",
            "\n",
            "After deleting privacy attributes: (29040, 81) \n",
            "\n"
          ]
        }
      ],
      "source": [
        "# Delete columns that can identify people (delete 2 atributtes)\n",
        "df16 = delete_attributes(df16, 'privacy')\n",
        "df17 = delete_attributes(df17, 'privacy')\n",
        "df18 = delete_attributes(df18, 'privacy')\n",
        "df19 = delete_attributes(df19, 'privacy')\n",
        "df20 = delete_attributes(df20, 'privacy')\n",
        "df21 = delete_attributes(df21, 'privacy')\n",
        "df22 = delete_attributes(df22, 'privacy')"
      ]
    },
    {
      "cell_type": "code",
      "execution_count": 38,
      "metadata": {
        "id": "k96XuFkXl8Oc",
        "colab": {
          "base_uri": "https://localhost:8080/"
        },
        "outputId": "5c5f3c39-5963-4cfa-ed9c-ac9c69301dd2"
      },
      "outputs": [
        {
          "output_type": "stream",
          "name": "stdout",
          "text": [
            "After integrated datasets: (160434, 81)\n"
          ]
        }
      ],
      "source": [
        "df = integrate_dataset([df16, df17, df18, df19, df20, df21, df22])\n",
        "#df_tempo = integrate_dataset([df16, df17, df18, df19, df20, df21, df22])"
      ]
    },
    {
      "cell_type": "code",
      "execution_count": 39,
      "metadata": {
        "id": "cq0MoWglm0_O",
        "colab": {
          "base_uri": "https://localhost:8080/"
        },
        "outputId": "d55463be-f5db-4976-caa9-ce51a159c196"
      },
      "outputs": [
        {
          "output_type": "stream",
          "name": "stdout",
          "text": [
            "Check columns with NaN values: \n",
            " 19      IDADEMAE\n",
            "20        ESCMAE\n",
            "21    ESCMAE2010\n",
            "22    SERIESCMAE\n",
            "23       OCUPMAE\n",
            "24    QTDFILVIVO\n",
            "25    QTDFILMORT\n",
            "26      GRAVIDEZ\n",
            "27    SEMAGESTAC\n",
            "28      GESTACAO\n",
            "29         PARTO\n",
            "30    OBITOPARTO\n",
            "31          PESO\n",
            "45        CB_PRE\n",
            "49      ACIDTRAB\n",
            "64      CAUSAMAT\n",
            "65    ESCMAEAGR1\n",
            "75    TPRESGINFO\n",
            "77      DTCADINF\n",
            "78    MORTEPARTO\n",
            "79     DTCONCASO\n",
            "Name: coluna, dtype: object \n",
            "\n",
            "After deleting missing attributes: (160434, 59) \n",
            "\n",
            "Check number of Duplicates: 0 \n",
            "\n",
            "Check columns with variance zero: \n",
            " 1       TIPOBITO\n",
            "41    CODIFICADO\n",
            "58      ALTCAUSA\n",
            "Name: coluna, dtype: object \n",
            "\n",
            "After deleting variance_zero attributes: (160434, 56) \n",
            "\n",
            "Check columns with many NaN values: \n",
            " SERIESCFAL    77.712330\n",
            "TPMORTEOCO    99.712654\n",
            "OBITOGRAV     99.710161\n",
            "OBITOPUERP    99.710161\n",
            "EXAME         99.733847\n",
            "CIRURGIA      99.742573\n",
            "LINHAD        78.356832\n",
            "COMUNSVOIM    92.695439\n",
            "CIRCOBITO     99.978807\n",
            "DTINVESTIG    86.336437\n",
            "FONTEINV      85.893265\n",
            "NUDIASOBCO    99.970704\n",
            "DTCADINV      99.976938\n",
            "TPOBITOCOR    99.976938\n",
            "DTCONINV      99.976938\n",
            "FONTES        99.998753\n",
            "TPNIVELINV    99.970704\n",
            "dtype: float64 \n",
            "\n",
            "After deleting many_missings attributes: (160434, 40) \n",
            "\n",
            "After deleting date attributes: (160434, 33) \n",
            "\n",
            "After deleting redundant attributes: (160434, 28) \n",
            "\n",
            "After convert_numeric attributes formatted: (160434, 28) \n",
            "\n",
            "After deleting low_variance_few attributes: (160434, 25) \n",
            "\n",
            "After deleting irrelevant attributes: (160434, 13) \n",
            "\n",
            "Check columns with many NaN and Ignorado values: \n",
            " ASSISTMED    35.271202\n",
            "NECROPSIA    31.771320\n",
            "dtype: float64 \n",
            "\n",
            "After deleting many_missing_ignored attributes: (160434, 11) \n",
            "\n",
            "After deleting inconsistent rows from IDADE: (160427, 11) \n",
            "\n",
            "After deleting missing rows from RACACOR: (156724, 11) \n",
            "\n",
            "After deleting missing rows from ESTCIV: (149180, 11) \n",
            "\n",
            "After deleting missing rows from ESC2010: (129043, 11) \n",
            "\n",
            "After deleting missing rows from SEXO: (129040, 11) \n",
            "\n",
            "After IDADE attributes formatted: (129040, 11) \n",
            "\n",
            "After the new UF attribute: (129040, 12)\n",
            "Check if UFs from main df are in the secondary dataframe: True \n",
            "\n"
          ]
        }
      ],
      "source": [
        "df = prepare_data(df, df_uf)"
      ]
    },
    {
      "cell_type": "code",
      "execution_count": 40,
      "metadata": {
        "id": "oKFrjJq7B2XA"
      },
      "outputs": [],
      "source": [
        "#def calcular_porcentagens(coluna):\n",
        "    #contagem = coluna.value_counts()\n",
        "    #porcentagens = contagem / contagem.sum() * 100\n",
        "    #return contagem, porcentagens\n",
        "#resultados_origem = calcular_porcentagens(df['ORIGEM'])\n",
        "#resultados_stdepidem = calcular_porcentagens(df['STDOEPIDEM'])\n",
        "#resultados_stdnova = calcular_porcentagens(df['STDONOVA'])\n",
        "\n",
        "# Criar DataFrames a partir dos resultados\n",
        "#df_origem = pd.DataFrame({'Contagem': resultados_origem[0], 'Porcentagem': resultados_origem[1]})\n",
        "#df_stdepidem = pd.DataFrame({'Contagem': resultados_stdepidem[0], 'Porcentagem': resultados_stdepidem[1]})\n",
        "#df_stdnova = pd.DataFrame({'Contagem': resultados_stdnova[0], 'Porcentagem': resultados_stdnova[1]})\n",
        "\n",
        "# Imprimir os resultados\n",
        "#print(\"Resultados ORIGEM:\")\n",
        "#print(df_origem)\n",
        "\n",
        "#print(\"\\nResultados STDOEPIDEM:\")\n",
        "#print(df_stdepidem)\n",
        "\n",
        "#print(\"\\nResultados STDONOVA:\")\n",
        "#print(df_stdnova)\n"
      ]
    },
    {
      "cell_type": "code",
      "execution_count": 41,
      "metadata": {
        "id": "V8TpZw0D-tDd"
      },
      "outputs": [],
      "source": [
        "df_causas = df[['LINHAA', 'LINHAB','LINHAC', 'LINHAD']]"
      ]
    },
    {
      "cell_type": "code",
      "execution_count": 42,
      "metadata": {
        "id": "1qbGjBl9xhLc"
      },
      "outputs": [],
      "source": [
        "df.drop(['LINHAA','LINHAB','LINHAC','LINHAD','UF','CAUSABAS'], axis = 1, inplace = True)\n",
        "df_num = df.copy()\n",
        "#df = format_attributes(df, 'categorical_nominal')"
      ]
    },
    {
      "cell_type": "code",
      "execution_count": 43,
      "metadata": {
        "id": "8X58lDkpZ2mh",
        "colab": {
          "base_uri": "https://localhost:8080/"
        },
        "outputId": "8a85f13d-e228-41e0-a1cc-66351bd3b681"
      },
      "outputs": [
        {
          "output_type": "stream",
          "name": "stdout",
          "text": [
            "After LINHAA attributes formatted: (129040, 4) \n",
            "\n",
            "After LINHAB attributes formatted: (129040, 4) \n",
            "\n",
            "After LINHAC attributes formatted: (129040, 4) \n",
            "\n",
            "After LINHAD attributes formatted: (129040, 4) \n",
            "\n"
          ]
        }
      ],
      "source": [
        "# Retired character '*' at the beginning of the attribute\n",
        "df_causas = format_attributes(df_causas, 'LINHAA')\n",
        "df_causas = format_attributes(df_causas, 'LINHAB')\n",
        "df_causas = format_attributes(df_causas, 'LINHAC')\n",
        "df_causas = format_attributes(df_causas, 'LINHAD')\n",
        "#df_causas = format_attributes(df_causas, 'CAUSABAS')\n"
      ]
    },
    {
      "cell_type": "code",
      "execution_count": 44,
      "metadata": {
        "id": "YlGypn_Ubwhv",
        "colab": {
          "base_uri": "https://localhost:8080/"
        },
        "outputId": "0d695408-c368-4a9d-f34e-79b3d4035840"
      },
      "outputs": [
        {
          "output_type": "stream",
          "name": "stdout",
          "text": [
            "After deleting missing rows from LINHAA, LINHAB, LINHAC, LINHAD: (119083, 4) \n",
            "\n"
          ]
        }
      ],
      "source": [
        "df_causas = delete_rows(df_causas,'missing', 'LINHAA, LINHAB, LINHAC, LINHAD')"
      ]
    },
    {
      "cell_type": "code",
      "execution_count": 45,
      "metadata": {
        "id": "e7_TwAItfXke",
        "colab": {
          "base_uri": "https://localhost:8080/",
          "height": 206
        },
        "outputId": "7cc705b4-bc35-405f-d5ce-740bd64aa088"
      },
      "outputs": [
        {
          "output_type": "execute_result",
          "data": {
            "text/plain": [
              "  LINHAA LINHAB     LINHAC LINHAD\n",
              "0   J189   <NA>       <NA>   <NA>\n",
              "1   J180   <NA>       <NA>   <NA>\n",
              "4   A419   J690  E86X*E43X   <NA>\n",
              "5   R688   E46X       <NA>   <NA>\n",
              "6   A419   <NA>       J159   L89X"
            ],
            "text/html": [
              "<div>\n",
              "<style scoped>\n",
              "    .dataframe tbody tr th:only-of-type {\n",
              "        vertical-align: middle;\n",
              "    }\n",
              "\n",
              "    .dataframe tbody tr th {\n",
              "        vertical-align: top;\n",
              "    }\n",
              "\n",
              "    .dataframe thead th {\n",
              "        text-align: right;\n",
              "    }\n",
              "</style>\n",
              "<table border=\"1\" class=\"dataframe\">\n",
              "  <thead>\n",
              "    <tr style=\"text-align: right;\">\n",
              "      <th></th>\n",
              "      <th>LINHAA</th>\n",
              "      <th>LINHAB</th>\n",
              "      <th>LINHAC</th>\n",
              "      <th>LINHAD</th>\n",
              "    </tr>\n",
              "  </thead>\n",
              "  <tbody>\n",
              "    <tr>\n",
              "      <th>0</th>\n",
              "      <td>J189</td>\n",
              "      <td>&lt;NA&gt;</td>\n",
              "      <td>&lt;NA&gt;</td>\n",
              "      <td>&lt;NA&gt;</td>\n",
              "    </tr>\n",
              "    <tr>\n",
              "      <th>1</th>\n",
              "      <td>J180</td>\n",
              "      <td>&lt;NA&gt;</td>\n",
              "      <td>&lt;NA&gt;</td>\n",
              "      <td>&lt;NA&gt;</td>\n",
              "    </tr>\n",
              "    <tr>\n",
              "      <th>4</th>\n",
              "      <td>A419</td>\n",
              "      <td>J690</td>\n",
              "      <td>E86X*E43X</td>\n",
              "      <td>&lt;NA&gt;</td>\n",
              "    </tr>\n",
              "    <tr>\n",
              "      <th>5</th>\n",
              "      <td>R688</td>\n",
              "      <td>E46X</td>\n",
              "      <td>&lt;NA&gt;</td>\n",
              "      <td>&lt;NA&gt;</td>\n",
              "    </tr>\n",
              "    <tr>\n",
              "      <th>6</th>\n",
              "      <td>A419</td>\n",
              "      <td>&lt;NA&gt;</td>\n",
              "      <td>J159</td>\n",
              "      <td>L89X</td>\n",
              "    </tr>\n",
              "  </tbody>\n",
              "</table>\n",
              "</div>"
            ]
          },
          "metadata": {},
          "execution_count": 45
        }
      ],
      "source": [
        "df_causas.head()"
      ]
    },
    {
      "cell_type": "code",
      "execution_count": 46,
      "metadata": {
        "id": "CFZQ5hHaQhNQ",
        "colab": {
          "base_uri": "https://localhost:8080/"
        },
        "outputId": "bb3f9329-589e-4236-ebfb-5ae7ec10cf2f"
      },
      "outputs": [
        {
          "output_type": "stream",
          "name": "stdout",
          "text": [
            "After the new LINHAAs attribute: (119083, 7) \n",
            "\n",
            "After the new LINHABs attribute: (119083, 10) \n",
            "\n",
            "After the new LINHACs attribute: (119083, 13) \n",
            "\n",
            "After the new LINHADs attribute: (119083, 16) \n",
            "\n"
          ]
        }
      ],
      "source": [
        "# create new attributes originating from the split and delete original columns\n",
        "#df_causas = create_attributes(df_causas,'CAUSABAS')\n",
        "df_causas = create_attributes(df_causas,'LINHAA')\n",
        "df_causas = create_attributes(df_causas,'LINHAB')\n",
        "df_causas = create_attributes(df_causas,'LINHAC')\n",
        "df_causas = create_attributes(df_causas,'LINHAD')\n",
        "\n",
        "df_causas = df_causas.replace({None: np.nan})"
      ]
    },
    {
      "cell_type": "code",
      "execution_count": 47,
      "metadata": {
        "id": "7NdzfUWmZScD",
        "colab": {
          "base_uri": "https://localhost:8080/",
          "height": 206
        },
        "outputId": "00165e95-198a-43d1-aa6d-0d7e4d485f71"
      },
      "outputs": [
        {
          "output_type": "execute_result",
          "data": {
            "text/plain": [
              "  LINHAA1 LINHAA2 LINHAA3 LINHAA4 LINHAB1 LINHAB2 LINHAB3 LINHAB4 LINHAC1  \\\n",
              "0     J18    <NA>    <NA>    <NA>    <NA>    <NA>    <NA>    <NA>    <NA>   \n",
              "1     J18    <NA>    <NA>    <NA>    <NA>    <NA>    <NA>    <NA>    <NA>   \n",
              "4     A41    <NA>    <NA>    <NA>     J69    <NA>    <NA>    <NA>     E86   \n",
              "5     R68    <NA>    <NA>    <NA>     E46    <NA>    <NA>    <NA>    <NA>   \n",
              "6     A41    <NA>    <NA>    <NA>    <NA>    <NA>    <NA>    <NA>     J15   \n",
              "\n",
              "  LINHAC2 LINHAC3 LINHAC4 LINHAD1 LINHAD2 LINHAD3 LINHAD4  \n",
              "0    <NA>    <NA>    <NA>    <NA>    <NA>    <NA>    <NA>  \n",
              "1    <NA>    <NA>    <NA>    <NA>    <NA>    <NA>    <NA>  \n",
              "4     E43    <NA>    <NA>    <NA>    <NA>    <NA>    <NA>  \n",
              "5    <NA>    <NA>    <NA>    <NA>    <NA>    <NA>    <NA>  \n",
              "6    <NA>    <NA>    <NA>     L89    <NA>    <NA>    <NA>  "
            ],
            "text/html": [
              "<div>\n",
              "<style scoped>\n",
              "    .dataframe tbody tr th:only-of-type {\n",
              "        vertical-align: middle;\n",
              "    }\n",
              "\n",
              "    .dataframe tbody tr th {\n",
              "        vertical-align: top;\n",
              "    }\n",
              "\n",
              "    .dataframe thead th {\n",
              "        text-align: right;\n",
              "    }\n",
              "</style>\n",
              "<table border=\"1\" class=\"dataframe\">\n",
              "  <thead>\n",
              "    <tr style=\"text-align: right;\">\n",
              "      <th></th>\n",
              "      <th>LINHAA1</th>\n",
              "      <th>LINHAA2</th>\n",
              "      <th>LINHAA3</th>\n",
              "      <th>LINHAA4</th>\n",
              "      <th>LINHAB1</th>\n",
              "      <th>LINHAB2</th>\n",
              "      <th>LINHAB3</th>\n",
              "      <th>LINHAB4</th>\n",
              "      <th>LINHAC1</th>\n",
              "      <th>LINHAC2</th>\n",
              "      <th>LINHAC3</th>\n",
              "      <th>LINHAC4</th>\n",
              "      <th>LINHAD1</th>\n",
              "      <th>LINHAD2</th>\n",
              "      <th>LINHAD3</th>\n",
              "      <th>LINHAD4</th>\n",
              "    </tr>\n",
              "  </thead>\n",
              "  <tbody>\n",
              "    <tr>\n",
              "      <th>0</th>\n",
              "      <td>J18</td>\n",
              "      <td>&lt;NA&gt;</td>\n",
              "      <td>&lt;NA&gt;</td>\n",
              "      <td>&lt;NA&gt;</td>\n",
              "      <td>&lt;NA&gt;</td>\n",
              "      <td>&lt;NA&gt;</td>\n",
              "      <td>&lt;NA&gt;</td>\n",
              "      <td>&lt;NA&gt;</td>\n",
              "      <td>&lt;NA&gt;</td>\n",
              "      <td>&lt;NA&gt;</td>\n",
              "      <td>&lt;NA&gt;</td>\n",
              "      <td>&lt;NA&gt;</td>\n",
              "      <td>&lt;NA&gt;</td>\n",
              "      <td>&lt;NA&gt;</td>\n",
              "      <td>&lt;NA&gt;</td>\n",
              "      <td>&lt;NA&gt;</td>\n",
              "    </tr>\n",
              "    <tr>\n",
              "      <th>1</th>\n",
              "      <td>J18</td>\n",
              "      <td>&lt;NA&gt;</td>\n",
              "      <td>&lt;NA&gt;</td>\n",
              "      <td>&lt;NA&gt;</td>\n",
              "      <td>&lt;NA&gt;</td>\n",
              "      <td>&lt;NA&gt;</td>\n",
              "      <td>&lt;NA&gt;</td>\n",
              "      <td>&lt;NA&gt;</td>\n",
              "      <td>&lt;NA&gt;</td>\n",
              "      <td>&lt;NA&gt;</td>\n",
              "      <td>&lt;NA&gt;</td>\n",
              "      <td>&lt;NA&gt;</td>\n",
              "      <td>&lt;NA&gt;</td>\n",
              "      <td>&lt;NA&gt;</td>\n",
              "      <td>&lt;NA&gt;</td>\n",
              "      <td>&lt;NA&gt;</td>\n",
              "    </tr>\n",
              "    <tr>\n",
              "      <th>4</th>\n",
              "      <td>A41</td>\n",
              "      <td>&lt;NA&gt;</td>\n",
              "      <td>&lt;NA&gt;</td>\n",
              "      <td>&lt;NA&gt;</td>\n",
              "      <td>J69</td>\n",
              "      <td>&lt;NA&gt;</td>\n",
              "      <td>&lt;NA&gt;</td>\n",
              "      <td>&lt;NA&gt;</td>\n",
              "      <td>E86</td>\n",
              "      <td>E43</td>\n",
              "      <td>&lt;NA&gt;</td>\n",
              "      <td>&lt;NA&gt;</td>\n",
              "      <td>&lt;NA&gt;</td>\n",
              "      <td>&lt;NA&gt;</td>\n",
              "      <td>&lt;NA&gt;</td>\n",
              "      <td>&lt;NA&gt;</td>\n",
              "    </tr>\n",
              "    <tr>\n",
              "      <th>5</th>\n",
              "      <td>R68</td>\n",
              "      <td>&lt;NA&gt;</td>\n",
              "      <td>&lt;NA&gt;</td>\n",
              "      <td>&lt;NA&gt;</td>\n",
              "      <td>E46</td>\n",
              "      <td>&lt;NA&gt;</td>\n",
              "      <td>&lt;NA&gt;</td>\n",
              "      <td>&lt;NA&gt;</td>\n",
              "      <td>&lt;NA&gt;</td>\n",
              "      <td>&lt;NA&gt;</td>\n",
              "      <td>&lt;NA&gt;</td>\n",
              "      <td>&lt;NA&gt;</td>\n",
              "      <td>&lt;NA&gt;</td>\n",
              "      <td>&lt;NA&gt;</td>\n",
              "      <td>&lt;NA&gt;</td>\n",
              "      <td>&lt;NA&gt;</td>\n",
              "    </tr>\n",
              "    <tr>\n",
              "      <th>6</th>\n",
              "      <td>A41</td>\n",
              "      <td>&lt;NA&gt;</td>\n",
              "      <td>&lt;NA&gt;</td>\n",
              "      <td>&lt;NA&gt;</td>\n",
              "      <td>&lt;NA&gt;</td>\n",
              "      <td>&lt;NA&gt;</td>\n",
              "      <td>&lt;NA&gt;</td>\n",
              "      <td>&lt;NA&gt;</td>\n",
              "      <td>J15</td>\n",
              "      <td>&lt;NA&gt;</td>\n",
              "      <td>&lt;NA&gt;</td>\n",
              "      <td>&lt;NA&gt;</td>\n",
              "      <td>L89</td>\n",
              "      <td>&lt;NA&gt;</td>\n",
              "      <td>&lt;NA&gt;</td>\n",
              "      <td>&lt;NA&gt;</td>\n",
              "    </tr>\n",
              "  </tbody>\n",
              "</table>\n",
              "</div>"
            ]
          },
          "metadata": {},
          "execution_count": 47
        }
      ],
      "source": [
        "df_causas.head()"
      ]
    },
    {
      "cell_type": "code",
      "execution_count": 48,
      "metadata": {
        "id": "kKuK70cvWXUz"
      },
      "outputs": [],
      "source": [
        "# Replace missing CIDs values with standard Alzheimer's cid (CAUSABAS)\n",
        "#df = replace_missing(df,'LINHAA1')\n",
        "#df = replace_missing(df,'LINHAA2')\n",
        "#df = replace_missing(df,'LINHAA3')\n",
        "#df = replace_missing(df,'LINHAA4')\n",
        "#df = replace_missing(df,'LINHAB1')\n",
        "#df = replace_missing(df,'LINHAB2')\n",
        "#df = replace_missing(df,'LINHAB3')\n",
        "#df = replace_missing(df,'LINHAB4')\n",
        "#df = replace_missing(df,'LINHAC1')\n",
        "#df = replace_missing(df,'LINHAC2')\n",
        "#df = replace_missing(df,'LINHAC3')\n",
        "#df = replace_missing(df,'LINHAC4')\n",
        "#df = replace_missing(df,'LINHAD1')\n",
        "#df = replace_missing(df,'LINHAD2')\n",
        "#df = replace_missing(df,'LINHAD3')\n",
        "#df = replace_missing(df,'LINHAD4')"
      ]
    },
    {
      "cell_type": "code",
      "execution_count": 49,
      "metadata": {
        "id": "oqW-wbsxN8pJ"
      },
      "outputs": [],
      "source": [
        "#check_result, df_result = check_isin(df, df_cid, 'LINHAA2','cid')\n",
        "#df_result['LINHAA2'].value_counts()"
      ]
    },
    {
      "cell_type": "code",
      "execution_count": 50,
      "metadata": {
        "id": "-6AI3VQWBneN",
        "colab": {
          "base_uri": "https://localhost:8080/"
        },
        "outputId": "b0eef769-ac86-4353-cd71-e1cd6cfe6a33"
      },
      "outputs": [
        {
          "output_type": "stream",
          "name": "stdout",
          "text": [
            "After IDADE binning: (129040, 6) \n",
            "\n"
          ]
        }
      ],
      "source": [
        "# Attributes transformation with binning\n",
        "df1 = df.copy()\n",
        "df2 = transformation_binning(df, 'IDADE')"
      ]
    },
    {
      "cell_type": "code",
      "execution_count": 51,
      "metadata": {
        "id": "nDhTsQWkcYBb"
      },
      "outputs": [],
      "source": [
        "# Reset index\n",
        "df2.reset_index(drop=True,inplace=True)\n",
        "df1.reset_index(drop=True,inplace=True)\n",
        "df_causas.reset_index(drop=True,inplace=True)"
      ]
    },
    {
      "cell_type": "code",
      "execution_count": 52,
      "metadata": {
        "id": "zxwvUer2z_xp"
      },
      "outputs": [],
      "source": [
        "#df3 = transformation_dummies(df2, ['IDADE','SEXO'])"
      ]
    },
    {
      "cell_type": "code",
      "execution_count": 53,
      "metadata": {
        "id": "UcvEN1P_GMMy",
        "colab": {
          "base_uri": "https://localhost:8080/"
        },
        "outputId": "7bdd6d8e-62b8-47a2-ae8a-bd6aa8f50c0e"
      },
      "outputs": [
        {
          "output_type": "stream",
          "name": "stdout",
          "text": [
            "After categorical_nominal attributes formatted: (129040, 6) \n",
            "\n"
          ]
        }
      ],
      "source": [
        "df2_1 = format_attributes(df2, 'categorical_nominal')"
      ]
    },
    {
      "cell_type": "markdown",
      "source": [
        "# Clustering"
      ],
      "metadata": {
        "id": "904N2I00JBFU"
      }
    },
    {
      "cell_type": "code",
      "execution_count": 54,
      "metadata": {
        "id": "dvuuCNhZ-TFH",
        "colab": {
          "base_uri": "https://localhost:8080/",
          "height": 486
        },
        "outputId": "2b828476-b4c8-437b-f505-325b1de399f6"
      },
      "outputs": [
        {
          "output_type": "stream",
          "name": "stdout",
          "text": [
            "CPU times: user 7min 7s, sys: 22.8 s, total: 7min 30s\n",
            "Wall time: 7min 9s\n"
          ]
        },
        {
          "output_type": "display_data",
          "data": {
            "text/plain": [
              "<Figure size 640x480 with 1 Axes>"
            ],
            "image/png": "[encoded data removed]"
          },
          "metadata": {}
        }
      ],
      "source": [
        "%%time\n",
        "evaluate_k_cost(df2)"
      ]
    },
    {
      "cell_type": "code",
      "execution_count": 55,
      "metadata": {
        "id": "s92rvdnEMgpb",
        "colab": {
          "base_uri": "https://localhost:8080/"
        },
        "outputId": "11bfab45-fce9-4100-bf02-b71ba88e310b"
      },
      "outputs": [
        {
          "output_type": "stream",
          "name": "stdout",
          "text": [
            "Initialization method and algorithm are deterministic. Setting n_init to 1.\n",
            "Init: initializing centroids\n",
            "Init: initializing clusters\n",
            "Starting iterations...\n",
            "Run 1, iteration: 1/100, moves: 0, cost: 243147.0\n",
            "[['81 - 90' 'Feminino' 'Branca' 'Viúvo (a)' 'Fundamental I' 'Sudeste']\n",
            " ['> 90' 'Masculino' 'Branca' 'Casado (a)' 'Sem escolaridade' 'Sul']\n",
            " ['71 - 80' 'Feminino' 'Branca' 'Casado (a)' 'Ensino médio' 'Norte']\n",
            " ['71 - 80' 'Masculino' 'Parda' 'Casado (a)' 'Fundamental I' 'Sudeste']\n",
            " ['> 90' 'Feminino' 'Parda' 'Viúvo (a)' 'Sem escolaridade' 'Norte']]\n",
            "CPU times: user 49.3 s, sys: 2.82 s, total: 52.1 s\n",
            "Wall time: 49.4 s\n"
          ]
        }
      ],
      "source": [
        "%%time\n",
        "#K-Modes Fit and Predict\n",
        "kmd = KModes(n_clusters=5, verbose=1, init='Cao', random_state = 0)\n",
        "clusters = kmd.fit_predict(df2_1.to_pandas())\n",
        "print(kmd.cluster_centroids_)"
      ]
    },
    {
      "cell_type": "code",
      "execution_count": 56,
      "metadata": {
        "id": "LvZgIvDe6JPZ",
        "colab": {
          "base_uri": "https://localhost:8080/"
        },
        "outputId": "7a8685bf-c6b1-46e4-c7e7-f5cfa8cf266e"
      },
      "outputs": [
        {
          "output_type": "stream",
          "name": "stdout",
          "text": [
            "Counter({0: 80466, 1: 16199, 3: 12251, 4: 10944, 2: 9180})\n"
          ]
        }
      ],
      "source": [
        "from collections import Counter, defaultdict\n",
        "print(Counter(kmd.labels_))"
      ]
    },
    {
      "cell_type": "code",
      "execution_count": 57,
      "metadata": {
        "id": "I77A2EX9Mt-q"
      },
      "outputs": [],
      "source": [
        "agrupamento = pd.DataFrame(clusters, columns = ['GRUPO'])\n",
        "df3 = pd.concat([df2_1, agrupamento],axis=1)"
      ]
    },
    {
      "cell_type": "code",
      "execution_count": 58,
      "metadata": {
        "id": "wgFLBa7XCuGe"
      },
      "outputs": [],
      "source": [
        "#df4 = format_attributes(df4, 'categorical_nominal')"
      ]
    },
    {
      "cell_type": "code",
      "source": [
        "generate_chart_distribuition(df2_1.to_pandas())\n"
      ],
      "metadata": {
        "id": "924-MKOak8fe",
        "colab": {
          "base_uri": "https://localhost:8080/",
          "height": 560
        },
        "outputId": "8496448a-6b3a-400a-9846-e66f2e5fa5c0"
      },
      "execution_count": 59,
      "outputs": [
        {
          "output_type": "display_data",
          "data": {
            "text/plain": [
              "<Figure size 2800x1100 with 6 Axes>"
            ],
            "image/png": "[encoded data removed]"
          },
          "metadata": {}
        }
      ]
    },
    {
      "cell_type": "code",
      "execution_count": 60,
      "metadata": {
        "id": "YFf-3ci9ZyUs",
        "colab": {
          "base_uri": "https://localhost:8080/",
          "height": 617
        },
        "outputId": "1e0db7b6-af60-4f72-822e-267dfceb06a6"
      },
      "outputs": [
        {
          "output_type": "display_data",
          "data": {
            "text/html": [
              "<html>\n",
              "<head><meta charset=\"utf-8\" /></head>\n",
              "<body>\n",
              "    <div>            <script src=\"https://cdnjs.cloudflare.com/ajax/libs/mathjax/2.7.5/MathJax.js?config=TeX-AMS-MML_SVG\"></script><script type=\"text/javascript\">if (window.MathJax && window.MathJax.Hub && window.MathJax.Hub.Config) {window.MathJax.Hub.Config({SVG: {font: \"STIX-Web\"}});}</script>                <script type=\"text/javascript\">window.PlotlyConfig = {MathJaxConfig: 'local'};</script>\n",
              "        <script charset=\"utf-8\" src=\"https://cdn.plot.ly/plotly-2.24.1.min.js\"></script>                <div id=\"3b563ebe-7b4f-44dc-ae91-68ccc7acde48\" class=\"plotly-graph-div\" style=\"height:600px; width:800px;\"></div>            <script type=\"text/javascript\">                                    window.PLOTLYENV=window.PLOTLYENV || {};                                    if (document.getElementById(\"3b563ebe-7b4f-44dc-ae91-68ccc7acde48\")) {                    Plotly.newPlot(                        \"3b563ebe-7b4f-44dc-ae91-68ccc7acde48\",                        [{\"hoverinfo\":\"text+x+y\",\"marker\":{\"color\":\"red\",\"size\":[0.3,2.8,11.7,63.7,21.4],\"line\":{\"color\":\"black\",\"width\":2}},\"mode\":\"markers+text\",\"name\":\"Grupo 0\",\"text\":[\"0.3%\",\"2.8%\",\"11.7%\",\"63.7%\",\"21.4%\"],\"textfont\":{\"color\":\"red\",\"size\":20},\"x\":[\"\\u003c 61\",\"61 - 70\",\"71 - 80\",\"81 - 90\",\"\\u003e 90\"],\"y\":[\"Grupo 0\",\"Grupo 0\",\"Grupo 0\",\"Grupo 0\",\"Grupo 0\"],\"type\":\"scatter\",\"textposition\":\"bottom center\"},{\"hoverinfo\":\"text+x+y\",\"marker\":{\"color\":\"blue\",\"size\":[1.1,8.8,21.0,33.9,35.3],\"line\":{\"color\":\"black\",\"width\":2}},\"mode\":\"markers+text\",\"name\":\"Grupo 1\",\"text\":[\"1.1%\",\"8.8%\",\"21.0%\",\"33.9%\",\"35.3%\"],\"textfont\":{\"color\":\"blue\",\"size\":20},\"x\":[\"\\u003c 61\",\"61 - 70\",\"71 - 80\",\"81 - 90\",\"\\u003e 90\"],\"y\":[\"Grupo 1\",\"Grupo 1\",\"Grupo 1\",\"Grupo 1\",\"Grupo 1\"],\"type\":\"scatter\",\"textposition\":\"bottom center\"},{\"hoverinfo\":\"text+x+y\",\"marker\":{\"color\":\"darkorange\",\"size\":[0.9,5.7,70.5,14.0,8.9],\"line\":{\"color\":\"black\",\"width\":2}},\"mode\":\"markers+text\",\"name\":\"Grupo 2\",\"text\":[\"0.9%\",\"5.7%\",\"70.5%\",\"14.0%\",\"8.9%\"],\"textfont\":{\"color\":\"darkorange\",\"size\":20},\"x\":[\"\\u003c 61\",\"61 - 70\",\"71 - 80\",\"81 - 90\",\"\\u003e 90\"],\"y\":[\"Grupo 2\",\"Grupo 2\",\"Grupo 2\",\"Grupo 2\",\"Grupo 2\"],\"type\":\"scatter\",\"textposition\":\"bottom center\"},{\"hoverinfo\":\"text+x+y\",\"marker\":{\"color\":\"green\",\"size\":[1.1,8.7,61.1,23.0,6.1],\"line\":{\"color\":\"black\",\"width\":2}},\"mode\":\"markers+text\",\"name\":\"Grupo 3\",\"text\":[\"1.1%\",\"8.7%\",\"61.1%\",\"23.0%\",\"6.1%\"],\"textfont\":{\"color\":\"green\",\"size\":20},\"x\":[\"\\u003c 61\",\"61 - 70\",\"71 - 80\",\"81 - 90\",\"\\u003e 90\"],\"y\":[\"Grupo 3\",\"Grupo 3\",\"Grupo 3\",\"Grupo 3\",\"Grupo 3\"],\"type\":\"scatter\",\"textposition\":\"bottom center\"}],                        {\"template\":{\"data\":{\"histogram2dcontour\":[{\"type\":\"histogram2dcontour\",\"colorbar\":{\"outlinewidth\":0,\"ticks\":\"\"},\"colorscale\":[[0.0,\"#0d0887\"],[0.1111111111111111,\"#46039f\"],[0.2222222222222222,\"#7201a8\"],[0.3333333333333333,\"#9c179e\"],[0.4444444444444444,\"#bd3786\"],[0.5555555555555556,\"#d8576b\"],[0.6666666666666666,\"#ed7953\"],[0.7777777777777778,\"#fb9f3a\"],[0.8888888888888888,\"#fdca26\"],[1.0,\"#f0f921\"]]}],\"choropleth\":[{\"type\":\"choropleth\",\"colorbar\":{\"outlinewidth\":0,\"ticks\":\"\"}}],\"histogram2d\":[{\"type\":\"histogram2d\",\"colorbar\":{\"outlinewidth\":0,\"ticks\":\"\"},\"colorscale\":[[0.0,\"#0d0887\"],[0.1111111111111111,\"#46039f\"],[0.2222222222222222,\"#7201a8\"],[0.3333333333333333,\"#9c179e\"],[0.4444444444444444,\"#bd3786\"],[0.5555555555555556,\"#d8576b\"],[0.6666666666666666,\"#ed7953\"],[0.7777777777777778,\"#fb9f3a\"],[0.8888888888888888,\"#fdca26\"],[1.0,\"#f0f921\"]]}],\"heatmap\":[{\"type\":\"heatmap\",\"colorbar\":{\"outlinewidth\":0,\"ticks\":\"\"},\"colorscale\":[[0.0,\"#0d0887\"],[0.1111111111111111,\"#46039f\"],[0.2222222222222222,\"#7201a8\"],[0.3333333333333333,\"#9c179e\"],[0.4444444444444444,\"#bd3786\"],[0.5555555555555556,\"#d8576b\"],[0.6666666666666666,\"#ed7953\"],[0.7777777777777778,\"#fb9f3a\"],[0.8888888888888888,\"#fdca26\"],[1.0,\"#f0f921\"]]}],\"heatmapgl\":[{\"type\":\"heatmapgl\",\"colorbar\":{\"outlinewidth\":0,\"ticks\":\"\"},\"colorscale\":[[0.0,\"#0d0887\"],[0.1111111111111111,\"#46039f\"],[0.2222222222222222,\"#7201a8\"],[0.3333333333333333,\"#9c179e\"],[0.4444444444444444,\"#bd3786\"],[0.5555555555555556,\"#d8576b\"],[0.6666666666666666,\"#ed7953\"],[0.7777777777777778,\"#fb9f3a\"],[0.8888888888888888,\"#fdca26\"],[1.0,\"#f0f921\"]]}],\"contourcarpet\":[{\"type\":\"contourcarpet\",\"colorbar\":{\"outlinewidth\":0,\"ticks\":\"\"}}],\"contour\":[{\"type\":\"contour\",\"colorbar\":{\"outlinewidth\":0,\"ticks\":\"\"},\"colorscale\":[[0.0,\"#0d0887\"],[0.1111111111111111,\"#46039f\"],[0.2222222222222222,\"#7201a8\"],[0.3333333333333333,\"#9c179e\"],[0.4444444444444444,\"#bd3786\"],[0.5555555555555556,\"#d8576b\"],[0.6666666666666666,\"#ed7953\"],[0.7777777777777778,\"#fb9f3a\"],[0.8888888888888888,\"#fdca26\"],[1.0,\"#f0f921\"]]}],\"surface\":[{\"type\":\"surface\",\"colorbar\":{\"outlinewidth\":0,\"ticks\":\"\"},\"colorscale\":[[0.0,\"#0d0887\"],[0.1111111111111111,\"#46039f\"],[0.2222222222222222,\"#7201a8\"],[0.3333333333333333,\"#9c179e\"],[0.4444444444444444,\"#bd3786\"],[0.5555555555555556,\"#d8576b\"],[0.6666666666666666,\"#ed7953\"],[0.7777777777777778,\"#fb9f3a\"],[0.8888888888888888,\"#fdca26\"],[1.0,\"#f0f921\"]]}],\"mesh3d\":[{\"type\":\"mesh3d\",\"colorbar\":{\"outlinewidth\":0,\"ticks\":\"\"}}],\"scatter\":[{\"fillpattern\":{\"fillmode\":\"overlay\",\"size\":10,\"solidity\":0.2},\"type\":\"scatter\"}],\"parcoords\":[{\"type\":\"parcoords\",\"line\":{\"colorbar\":{\"outlinewidth\":0,\"ticks\":\"\"}}}],\"scatterpolargl\":[{\"type\":\"scatterpolargl\",\"marker\":{\"colorbar\":{\"outlinewidth\":0,\"ticks\":\"\"}}}],\"bar\":[{\"error_x\":{\"color\":\"#2a3f5f\"},\"error_y\":{\"color\":\"#2a3f5f\"},\"marker\":{\"line\":{\"color\":\"#E5ECF6\",\"width\":0.5},\"pattern\":{\"fillmode\":\"overlay\",\"size\":10,\"solidity\":0.2}},\"type\":\"bar\"}],\"scattergeo\":[{\"type\":\"scattergeo\",\"marker\":{\"colorbar\":{\"outlinewidth\":0,\"ticks\":\"\"}}}],\"scatterpolar\":[{\"type\":\"scatterpolar\",\"marker\":{\"colorbar\":{\"outlinewidth\":0,\"ticks\":\"\"}}}],\"histogram\":[{\"marker\":{\"pattern\":{\"fillmode\":\"overlay\",\"size\":10,\"solidity\":0.2}},\"type\":\"histogram\"}],\"scattergl\":[{\"type\":\"scattergl\",\"marker\":{\"colorbar\":{\"outlinewidth\":0,\"ticks\":\"\"}}}],\"scatter3d\":[{\"type\":\"scatter3d\",\"line\":{\"colorbar\":{\"outlinewidth\":0,\"ticks\":\"\"}},\"marker\":{\"colorbar\":{\"outlinewidth\":0,\"ticks\":\"\"}}}],\"scattermapbox\":[{\"type\":\"scattermapbox\",\"marker\":{\"colorbar\":{\"outlinewidth\":0,\"ticks\":\"\"}}}],\"scatterternary\":[{\"type\":\"scatterternary\",\"marker\":{\"colorbar\":{\"outlinewidth\":0,\"ticks\":\"\"}}}],\"scattercarpet\":[{\"type\":\"scattercarpet\",\"marker\":{\"colorbar\":{\"outlinewidth\":0,\"ticks\":\"\"}}}],\"carpet\":[{\"aaxis\":{\"endlinecolor\":\"#2a3f5f\",\"gridcolor\":\"white\",\"linecolor\":\"white\",\"minorgridcolor\":\"white\",\"startlinecolor\":\"#2a3f5f\"},\"baxis\":{\"endlinecolor\":\"#2a3f5f\",\"gridcolor\":\"white\",\"linecolor\":\"white\",\"minorgridcolor\":\"white\",\"startlinecolor\":\"#2a3f5f\"},\"type\":\"carpet\"}],\"table\":[{\"cells\":{\"fill\":{\"color\":\"#EBF0F8\"},\"line\":{\"color\":\"white\"}},\"header\":{\"fill\":{\"color\":\"#C8D4E3\"},\"line\":{\"color\":\"white\"}},\"type\":\"table\"}],\"barpolar\":[{\"marker\":{\"line\":{\"color\":\"#E5ECF6\",\"width\":0.5},\"pattern\":{\"fillmode\":\"overlay\",\"size\":10,\"solidity\":0.2}},\"type\":\"barpolar\"}],\"pie\":[{\"automargin\":true,\"type\":\"pie\"}]},\"layout\":{\"autotypenumbers\":\"strict\",\"colorway\":[\"#636efa\",\"#EF553B\",\"#00cc96\",\"#ab63fa\",\"#FFA15A\",\"#19d3f3\",\"#FF6692\",\"#B6E880\",\"#FF97FF\",\"#FECB52\"],\"font\":{\"color\":\"#2a3f5f\"},\"hovermode\":\"closest\",\"hoverlabel\":{\"align\":\"left\"},\"paper_bgcolor\":\"white\",\"plot_bgcolor\":\"#E5ECF6\",\"polar\":{\"bgcolor\":\"#E5ECF6\",\"angularaxis\":{\"gridcolor\":\"white\",\"linecolor\":\"white\",\"ticks\":\"\"},\"radialaxis\":{\"gridcolor\":\"white\",\"linecolor\":\"white\",\"ticks\":\"\"}},\"ternary\":{\"bgcolor\":\"#E5ECF6\",\"aaxis\":{\"gridcolor\":\"white\",\"linecolor\":\"white\",\"ticks\":\"\"},\"baxis\":{\"gridcolor\":\"white\",\"linecolor\":\"white\",\"ticks\":\"\"},\"caxis\":{\"gridcolor\":\"white\",\"linecolor\":\"white\",\"ticks\":\"\"}},\"coloraxis\":{\"colorbar\":{\"outlinewidth\":0,\"ticks\":\"\"}},\"colorscale\":{\"sequential\":[[0.0,\"#0d0887\"],[0.1111111111111111,\"#46039f\"],[0.2222222222222222,\"#7201a8\"],[0.3333333333333333,\"#9c179e\"],[0.4444444444444444,\"#bd3786\"],[0.5555555555555556,\"#d8576b\"],[0.6666666666666666,\"#ed7953\"],[0.7777777777777778,\"#fb9f3a\"],[0.8888888888888888,\"#fdca26\"],[1.0,\"#f0f921\"]],\"sequentialminus\":[[0.0,\"#0d0887\"],[0.1111111111111111,\"#46039f\"],[0.2222222222222222,\"#7201a8\"],[0.3333333333333333,\"#9c179e\"],[0.4444444444444444,\"#bd3786\"],[0.5555555555555556,\"#d8576b\"],[0.6666666666666666,\"#ed7953\"],[0.7777777777777778,\"#fb9f3a\"],[0.8888888888888888,\"#fdca26\"],[1.0,\"#f0f921\"]],\"diverging\":[[0,\"#8e0152\"],[0.1,\"#c51b7d\"],[0.2,\"#de77ae\"],[0.3,\"#f1b6da\"],[0.4,\"#fde0ef\"],[0.5,\"#f7f7f7\"],[0.6,\"#e6f5d0\"],[0.7,\"#b8e186\"],[0.8,\"#7fbc41\"],[0.9,\"#4d9221\"],[1,\"#276419\"]]},\"xaxis\":{\"gridcolor\":\"white\",\"linecolor\":\"white\",\"ticks\":\"\",\"title\":{\"standoff\":15},\"zerolinecolor\":\"white\",\"automargin\":true,\"zerolinewidth\":2},\"yaxis\":{\"gridcolor\":\"white\",\"linecolor\":\"white\",\"ticks\":\"\",\"title\":{\"standoff\":15},\"zerolinecolor\":\"white\",\"automargin\":true,\"zerolinewidth\":2},\"scene\":{\"xaxis\":{\"backgroundcolor\":\"#E5ECF6\",\"gridcolor\":\"white\",\"linecolor\":\"white\",\"showbackground\":true,\"ticks\":\"\",\"zerolinecolor\":\"white\",\"gridwidth\":2},\"yaxis\":{\"backgroundcolor\":\"#E5ECF6\",\"gridcolor\":\"white\",\"linecolor\":\"white\",\"showbackground\":true,\"ticks\":\"\",\"zerolinecolor\":\"white\",\"gridwidth\":2},\"zaxis\":{\"backgroundcolor\":\"#E5ECF6\",\"gridcolor\":\"white\",\"linecolor\":\"white\",\"showbackground\":true,\"ticks\":\"\",\"zerolinecolor\":\"white\",\"gridwidth\":2}},\"shapedefaults\":{\"line\":{\"color\":\"#2a3f5f\"}},\"annotationdefaults\":{\"arrowcolor\":\"#2a3f5f\",\"arrowhead\":0,\"arrowwidth\":1},\"geo\":{\"bgcolor\":\"white\",\"landcolor\":\"#E5ECF6\",\"subunitcolor\":\"white\",\"showland\":true,\"showlakes\":true,\"lakecolor\":\"white\"},\"title\":{\"x\":0.05},\"mapbox\":{\"style\":\"light\"}}},\"font\":{\"size\":18,\"color\":\"black\"},\"xaxis\":{\"tickfont\":{\"size\":20,\"color\":\"black\"},\"title\":{\"text\":\"Faixa de Idade\"},\"linewidth\":2,\"linecolor\":\"black\",\"mirror\":true},\"yaxis\":{\"tickfont\":{\"size\":20,\"color\":\"black\"},\"linewidth\":2,\"linecolor\":\"black\",\"mirror\":true},\"width\":800,\"height\":600,\"plot_bgcolor\":\"#FFFFFF\",\"showlegend\":false},                        {\"responsive\": true}                    ).then(function(){\n",
              "                            \n",
              "var gd = document.getElementById('3b563ebe-7b4f-44dc-ae91-68ccc7acde48');\n",
              "var x = new MutationObserver(function (mutations, observer) {{\n",
              "        var display = window.getComputedStyle(gd).display;\n",
              "        if (!display || display === 'none') {{\n",
              "            console.log([gd, 'removed!']);\n",
              "            Plotly.purge(gd);\n",
              "            observer.disconnect();\n",
              "        }}\n",
              "}});\n",
              "\n",
              "// Listen for the removal of the full notebook cells\n",
              "var notebookContainer = gd.closest('#notebook-container');\n",
              "if (notebookContainer) {{\n",
              "    x.observe(notebookContainer, {childList: true});\n",
              "}}\n",
              "\n",
              "// Listen for the clearing of the current output cell\n",
              "var outputEl = gd.closest('.output');\n",
              "if (outputEl) {{\n",
              "    x.observe(outputEl, {childList: true});\n",
              "}}\n",
              "\n",
              "                        })                };                            </script>        </div>\n",
              "</body>\n",
              "</html>"
            ]
          },
          "metadata": {}
        }
      ],
      "source": [
        "generate_chart(df3, 'Idade', 800, 600)"
      ]
    },
    {
      "cell_type": "code",
      "execution_count": 61,
      "metadata": {
        "id": "5MlY2fpuiBi9",
        "colab": {
          "base_uri": "https://localhost:8080/",
          "height": 717
        },
        "outputId": "c1578601-d35a-4022-fb30-8c8da61e229a"
      },
      "outputs": [
        {
          "output_type": "display_data",
          "data": {
            "text/html": [
              "<html>\n",
              "<head><meta charset=\"utf-8\" /></head>\n",
              "<body>\n",
              "    <div>            <script src=\"https://cdnjs.cloudflare.com/ajax/libs/mathjax/2.7.5/MathJax.js?config=TeX-AMS-MML_SVG\"></script><script type=\"text/javascript\">if (window.MathJax && window.MathJax.Hub && window.MathJax.Hub.Config) {window.MathJax.Hub.Config({SVG: {font: \"STIX-Web\"}});}</script>                <script type=\"text/javascript\">window.PlotlyConfig = {MathJaxConfig: 'local'};</script>\n",
              "        <script charset=\"utf-8\" src=\"https://cdn.plot.ly/plotly-2.24.1.min.js\"></script>                <div id=\"251ec74b-978d-4f25-94cf-86e504e6bba7\" class=\"plotly-graph-div\" style=\"height:700px; width:600px;\"></div>            <script type=\"text/javascript\">                                    window.PLOTLYENV=window.PLOTLYENV || {};                                    if (document.getElementById(\"251ec74b-978d-4f25-94cf-86e504e6bba7\")) {                    Plotly.newPlot(                        \"251ec74b-978d-4f25-94cf-86e504e6bba7\",                        [{\"hoverinfo\":\"text+x+y\",\"marker\":{\"color\":\"red\",\"size\":[79.5,20.5],\"line\":{\"color\":\"black\",\"width\":2}},\"mode\":\"markers+text\",\"name\":\"Grupo 0\",\"text\":[\"79.5%\",\"20.5%\"],\"textfont\":{\"color\":\"red\",\"size\":20},\"x\":[\"Feminino\",\"Masculino\"],\"y\":[\"Grupo 0\",\"Grupo 0\"],\"type\":\"scatter\",\"textposition\":\"bottom center\"},{\"hoverinfo\":\"text+x+y\",\"marker\":{\"color\":\"blue\",\"size\":[11.4,88.6],\"line\":{\"color\":\"black\",\"width\":2}},\"mode\":\"markers+text\",\"name\":\"Grupo 1\",\"text\":[\"11.4%\",\"88.6%\"],\"textfont\":{\"color\":\"blue\",\"size\":20},\"x\":[\"Feminino\",\"Masculino\"],\"y\":[\"Grupo 1\",\"Grupo 1\"],\"type\":\"scatter\",\"textposition\":\"bottom center\"},{\"hoverinfo\":\"text+x+y\",\"marker\":{\"color\":\"darkorange\",\"size\":[78.5,21.5],\"line\":{\"color\":\"black\",\"width\":2}},\"mode\":\"markers+text\",\"name\":\"Grupo 2\",\"text\":[\"78.5%\",\"21.5%\"],\"textfont\":{\"color\":\"darkorange\",\"size\":20},\"x\":[\"Feminino\",\"Masculino\"],\"y\":[\"Grupo 2\",\"Grupo 2\"],\"type\":\"scatter\",\"textposition\":\"bottom center\"},{\"hoverinfo\":\"text+x+y\",\"marker\":{\"color\":\"green\",\"size\":[9.1,90.9],\"line\":{\"color\":\"black\",\"width\":2}},\"mode\":\"markers+text\",\"name\":\"Grupo 3\",\"text\":[\"9.1%\",\"90.9%\"],\"textfont\":{\"color\":\"green\",\"size\":20},\"x\":[\"Feminino\",\"Masculino\"],\"y\":[\"Grupo 3\",\"Grupo 3\"],\"type\":\"scatter\",\"textposition\":\"bottom center\"}],                        {\"template\":{\"data\":{\"histogram2dcontour\":[{\"type\":\"histogram2dcontour\",\"colorbar\":{\"outlinewidth\":0,\"ticks\":\"\"},\"colorscale\":[[0.0,\"#0d0887\"],[0.1111111111111111,\"#46039f\"],[0.2222222222222222,\"#7201a8\"],[0.3333333333333333,\"#9c179e\"],[0.4444444444444444,\"#bd3786\"],[0.5555555555555556,\"#d8576b\"],[0.6666666666666666,\"#ed7953\"],[0.7777777777777778,\"#fb9f3a\"],[0.8888888888888888,\"#fdca26\"],[1.0,\"#f0f921\"]]}],\"choropleth\":[{\"type\":\"choropleth\",\"colorbar\":{\"outlinewidth\":0,\"ticks\":\"\"}}],\"histogram2d\":[{\"type\":\"histogram2d\",\"colorbar\":{\"outlinewidth\":0,\"ticks\":\"\"},\"colorscale\":[[0.0,\"#0d0887\"],[0.1111111111111111,\"#46039f\"],[0.2222222222222222,\"#7201a8\"],[0.3333333333333333,\"#9c179e\"],[0.4444444444444444,\"#bd3786\"],[0.5555555555555556,\"#d8576b\"],[0.6666666666666666,\"#ed7953\"],[0.7777777777777778,\"#fb9f3a\"],[0.8888888888888888,\"#fdca26\"],[1.0,\"#f0f921\"]]}],\"heatmap\":[{\"type\":\"heatmap\",\"colorbar\":{\"outlinewidth\":0,\"ticks\":\"\"},\"colorscale\":[[0.0,\"#0d0887\"],[0.1111111111111111,\"#46039f\"],[0.2222222222222222,\"#7201a8\"],[0.3333333333333333,\"#9c179e\"],[0.4444444444444444,\"#bd3786\"],[0.5555555555555556,\"#d8576b\"],[0.6666666666666666,\"#ed7953\"],[0.7777777777777778,\"#fb9f3a\"],[0.8888888888888888,\"#fdca26\"],[1.0,\"#f0f921\"]]}],\"heatmapgl\":[{\"type\":\"heatmapgl\",\"colorbar\":{\"outlinewidth\":0,\"ticks\":\"\"},\"colorscale\":[[0.0,\"#0d0887\"],[0.1111111111111111,\"#46039f\"],[0.2222222222222222,\"#7201a8\"],[0.3333333333333333,\"#9c179e\"],[0.4444444444444444,\"#bd3786\"],[0.5555555555555556,\"#d8576b\"],[0.6666666666666666,\"#ed7953\"],[0.7777777777777778,\"#fb9f3a\"],[0.8888888888888888,\"#fdca26\"],[1.0,\"#f0f921\"]]}],\"contourcarpet\":[{\"type\":\"contourcarpet\",\"colorbar\":{\"outlinewidth\":0,\"ticks\":\"\"}}],\"contour\":[{\"type\":\"contour\",\"colorbar\":{\"outlinewidth\":0,\"ticks\":\"\"},\"colorscale\":[[0.0,\"#0d0887\"],[0.1111111111111111,\"#46039f\"],[0.2222222222222222,\"#7201a8\"],[0.3333333333333333,\"#9c179e\"],[0.4444444444444444,\"#bd3786\"],[0.5555555555555556,\"#d8576b\"],[0.6666666666666666,\"#ed7953\"],[0.7777777777777778,\"#fb9f3a\"],[0.8888888888888888,\"#fdca26\"],[1.0,\"#f0f921\"]]}],\"surface\":[{\"type\":\"surface\",\"colorbar\":{\"outlinewidth\":0,\"ticks\":\"\"},\"colorscale\":[[0.0,\"#0d0887\"],[0.1111111111111111,\"#46039f\"],[0.2222222222222222,\"#7201a8\"],[0.3333333333333333,\"#9c179e\"],[0.4444444444444444,\"#bd3786\"],[0.5555555555555556,\"#d8576b\"],[0.6666666666666666,\"#ed7953\"],[0.7777777777777778,\"#fb9f3a\"],[0.8888888888888888,\"#fdca26\"],[1.0,\"#f0f921\"]]}],\"mesh3d\":[{\"type\":\"mesh3d\",\"colorbar\":{\"outlinewidth\":0,\"ticks\":\"\"}}],\"scatter\":[{\"fillpattern\":{\"fillmode\":\"overlay\",\"size\":10,\"solidity\":0.2},\"type\":\"scatter\"}],\"parcoords\":[{\"type\":\"parcoords\",\"line\":{\"colorbar\":{\"outlinewidth\":0,\"ticks\":\"\"}}}],\"scatterpolargl\":[{\"type\":\"scatterpolargl\",\"marker\":{\"colorbar\":{\"outlinewidth\":0,\"ticks\":\"\"}}}],\"bar\":[{\"error_x\":{\"color\":\"#2a3f5f\"},\"error_y\":{\"color\":\"#2a3f5f\"},\"marker\":{\"line\":{\"color\":\"#E5ECF6\",\"width\":0.5},\"pattern\":{\"fillmode\":\"overlay\",\"size\":10,\"solidity\":0.2}},\"type\":\"bar\"}],\"scattergeo\":[{\"type\":\"scattergeo\",\"marker\":{\"colorbar\":{\"outlinewidth\":0,\"ticks\":\"\"}}}],\"scatterpolar\":[{\"type\":\"scatterpolar\",\"marker\":{\"colorbar\":{\"outlinewidth\":0,\"ticks\":\"\"}}}],\"histogram\":[{\"marker\":{\"pattern\":{\"fillmode\":\"overlay\",\"size\":10,\"solidity\":0.2}},\"type\":\"histogram\"}],\"scattergl\":[{\"type\":\"scattergl\",\"marker\":{\"colorbar\":{\"outlinewidth\":0,\"ticks\":\"\"}}}],\"scatter3d\":[{\"type\":\"scatter3d\",\"line\":{\"colorbar\":{\"outlinewidth\":0,\"ticks\":\"\"}},\"marker\":{\"colorbar\":{\"outlinewidth\":0,\"ticks\":\"\"}}}],\"scattermapbox\":[{\"type\":\"scattermapbox\",\"marker\":{\"colorbar\":{\"outlinewidth\":0,\"ticks\":\"\"}}}],\"scatterternary\":[{\"type\":\"scatterternary\",\"marker\":{\"colorbar\":{\"outlinewidth\":0,\"ticks\":\"\"}}}],\"scattercarpet\":[{\"type\":\"scattercarpet\",\"marker\":{\"colorbar\":{\"outlinewidth\":0,\"ticks\":\"\"}}}],\"carpet\":[{\"aaxis\":{\"endlinecolor\":\"#2a3f5f\",\"gridcolor\":\"white\",\"linecolor\":\"white\",\"minorgridcolor\":\"white\",\"startlinecolor\":\"#2a3f5f\"},\"baxis\":{\"endlinecolor\":\"#2a3f5f\",\"gridcolor\":\"white\",\"linecolor\":\"white\",\"minorgridcolor\":\"white\",\"startlinecolor\":\"#2a3f5f\"},\"type\":\"carpet\"}],\"table\":[{\"cells\":{\"fill\":{\"color\":\"#EBF0F8\"},\"line\":{\"color\":\"white\"}},\"header\":{\"fill\":{\"color\":\"#C8D4E3\"},\"line\":{\"color\":\"white\"}},\"type\":\"table\"}],\"barpolar\":[{\"marker\":{\"line\":{\"color\":\"#E5ECF6\",\"width\":0.5},\"pattern\":{\"fillmode\":\"overlay\",\"size\":10,\"solidity\":0.2}},\"type\":\"barpolar\"}],\"pie\":[{\"automargin\":true,\"type\":\"pie\"}]},\"layout\":{\"autotypenumbers\":\"strict\",\"colorway\":[\"#636efa\",\"#EF553B\",\"#00cc96\",\"#ab63fa\",\"#FFA15A\",\"#19d3f3\",\"#FF6692\",\"#B6E880\",\"#FF97FF\",\"#FECB52\"],\"font\":{\"color\":\"#2a3f5f\"},\"hovermode\":\"closest\",\"hoverlabel\":{\"align\":\"left\"},\"paper_bgcolor\":\"white\",\"plot_bgcolor\":\"#E5ECF6\",\"polar\":{\"bgcolor\":\"#E5ECF6\",\"angularaxis\":{\"gridcolor\":\"white\",\"linecolor\":\"white\",\"ticks\":\"\"},\"radialaxis\":{\"gridcolor\":\"white\",\"linecolor\":\"white\",\"ticks\":\"\"}},\"ternary\":{\"bgcolor\":\"#E5ECF6\",\"aaxis\":{\"gridcolor\":\"white\",\"linecolor\":\"white\",\"ticks\":\"\"},\"baxis\":{\"gridcolor\":\"white\",\"linecolor\":\"white\",\"ticks\":\"\"},\"caxis\":{\"gridcolor\":\"white\",\"linecolor\":\"white\",\"ticks\":\"\"}},\"coloraxis\":{\"colorbar\":{\"outlinewidth\":0,\"ticks\":\"\"}},\"colorscale\":{\"sequential\":[[0.0,\"#0d0887\"],[0.1111111111111111,\"#46039f\"],[0.2222222222222222,\"#7201a8\"],[0.3333333333333333,\"#9c179e\"],[0.4444444444444444,\"#bd3786\"],[0.5555555555555556,\"#d8576b\"],[0.6666666666666666,\"#ed7953\"],[0.7777777777777778,\"#fb9f3a\"],[0.8888888888888888,\"#fdca26\"],[1.0,\"#f0f921\"]],\"sequentialminus\":[[0.0,\"#0d0887\"],[0.1111111111111111,\"#46039f\"],[0.2222222222222222,\"#7201a8\"],[0.3333333333333333,\"#9c179e\"],[0.4444444444444444,\"#bd3786\"],[0.5555555555555556,\"#d8576b\"],[0.6666666666666666,\"#ed7953\"],[0.7777777777777778,\"#fb9f3a\"],[0.8888888888888888,\"#fdca26\"],[1.0,\"#f0f921\"]],\"diverging\":[[0,\"#8e0152\"],[0.1,\"#c51b7d\"],[0.2,\"#de77ae\"],[0.3,\"#f1b6da\"],[0.4,\"#fde0ef\"],[0.5,\"#f7f7f7\"],[0.6,\"#e6f5d0\"],[0.7,\"#b8e186\"],[0.8,\"#7fbc41\"],[0.9,\"#4d9221\"],[1,\"#276419\"]]},\"xaxis\":{\"gridcolor\":\"white\",\"linecolor\":\"white\",\"ticks\":\"\",\"title\":{\"standoff\":15},\"zerolinecolor\":\"white\",\"automargin\":true,\"zerolinewidth\":2},\"yaxis\":{\"gridcolor\":\"white\",\"linecolor\":\"white\",\"ticks\":\"\",\"title\":{\"standoff\":15},\"zerolinecolor\":\"white\",\"automargin\":true,\"zerolinewidth\":2},\"scene\":{\"xaxis\":{\"backgroundcolor\":\"#E5ECF6\",\"gridcolor\":\"white\",\"linecolor\":\"white\",\"showbackground\":true,\"ticks\":\"\",\"zerolinecolor\":\"white\",\"gridwidth\":2},\"yaxis\":{\"backgroundcolor\":\"#E5ECF6\",\"gridcolor\":\"white\",\"linecolor\":\"white\",\"showbackground\":true,\"ticks\":\"\",\"zerolinecolor\":\"white\",\"gridwidth\":2},\"zaxis\":{\"backgroundcolor\":\"#E5ECF6\",\"gridcolor\":\"white\",\"linecolor\":\"white\",\"showbackground\":true,\"ticks\":\"\",\"zerolinecolor\":\"white\",\"gridwidth\":2}},\"shapedefaults\":{\"line\":{\"color\":\"#2a3f5f\"}},\"annotationdefaults\":{\"arrowcolor\":\"#2a3f5f\",\"arrowhead\":0,\"arrowwidth\":1},\"geo\":{\"bgcolor\":\"white\",\"landcolor\":\"#E5ECF6\",\"subunitcolor\":\"white\",\"showland\":true,\"showlakes\":true,\"lakecolor\":\"white\"},\"title\":{\"x\":0.05},\"mapbox\":{\"style\":\"light\"}}},\"font\":{\"size\":18,\"color\":\"black\"},\"xaxis\":{\"tickfont\":{\"size\":20,\"color\":\"black\"},\"title\":{\"text\":\"Sexo\"},\"linewidth\":2,\"linecolor\":\"black\",\"mirror\":true},\"yaxis\":{\"tickfont\":{\"size\":20,\"color\":\"black\"},\"linewidth\":2,\"linecolor\":\"black\",\"mirror\":true},\"width\":600,\"height\":700,\"plot_bgcolor\":\"#FFFFFF\",\"showlegend\":false},                        {\"responsive\": true}                    ).then(function(){\n",
              "                            \n",
              "var gd = document.getElementById('251ec74b-978d-4f25-94cf-86e504e6bba7');\n",
              "var x = new MutationObserver(function (mutations, observer) {{\n",
              "        var display = window.getComputedStyle(gd).display;\n",
              "        if (!display || display === 'none') {{\n",
              "            console.log([gd, 'removed!']);\n",
              "            Plotly.purge(gd);\n",
              "            observer.disconnect();\n",
              "        }}\n",
              "}});\n",
              "\n",
              "// Listen for the removal of the full notebook cells\n",
              "var notebookContainer = gd.closest('#notebook-container');\n",
              "if (notebookContainer) {{\n",
              "    x.observe(notebookContainer, {childList: true});\n",
              "}}\n",
              "\n",
              "// Listen for the clearing of the current output cell\n",
              "var outputEl = gd.closest('.output');\n",
              "if (outputEl) {{\n",
              "    x.observe(outputEl, {childList: true});\n",
              "}}\n",
              "\n",
              "                        })                };                            </script>        </div>\n",
              "</body>\n",
              "</html>"
            ]
          },
          "metadata": {}
        }
      ],
      "source": [
        "generate_chart(df3, 'Sexo', 600, 700)"
      ]
    },
    {
      "cell_type": "code",
      "execution_count": 62,
      "metadata": {
        "id": "XipYYC-wj2k3",
        "colab": {
          "base_uri": "https://localhost:8080/",
          "height": 717
        },
        "outputId": "10df6f6c-29d1-4327-9044-2ca4ee18221b"
      },
      "outputs": [
        {
          "output_type": "display_data",
          "data": {
            "text/html": [
              "<html>\n",
              "<head><meta charset=\"utf-8\" /></head>\n",
              "<body>\n",
              "    <div>            <script src=\"https://cdnjs.cloudflare.com/ajax/libs/mathjax/2.7.5/MathJax.js?config=TeX-AMS-MML_SVG\"></script><script type=\"text/javascript\">if (window.MathJax && window.MathJax.Hub && window.MathJax.Hub.Config) {window.MathJax.Hub.Config({SVG: {font: \"STIX-Web\"}});}</script>                <script type=\"text/javascript\">window.PlotlyConfig = {MathJaxConfig: 'local'};</script>\n",
              "        <script charset=\"utf-8\" src=\"https://cdn.plot.ly/plotly-2.24.1.min.js\"></script>                <div id=\"a993fbd3-33d5-4dd2-b396-0204ff9c536c\" class=\"plotly-graph-div\" style=\"height:700px; width:800px;\"></div>            <script type=\"text/javascript\">                                    window.PLOTLYENV=window.PLOTLYENV || {};                                    if (document.getElementById(\"a993fbd3-33d5-4dd2-b396-0204ff9c536c\")) {                    Plotly.newPlot(                        \"a993fbd3-33d5-4dd2-b396-0204ff9c536c\",                        [{\"hoverinfo\":\"text+x+y\",\"marker\":{\"color\":\"red\",\"size\":[84.8,4.2,0.8,10.2,0.1],\"line\":{\"color\":\"black\",\"width\":2}},\"mode\":\"markers+text\",\"name\":\"Grupo 0\",\"text\":[\"84.8%\",\"4.2%\",\"0.8%\",\"10.2%\",\"0.1%\"],\"textfont\":{\"color\":\"red\",\"size\":20},\"x\":[\"Branca\",\"Preta\",\"Amarela\",\"Parda\",\"Ind\\u00edgena\"],\"y\":[\"Grupo 0\",\"Grupo 0\",\"Grupo 0\",\"Grupo 0\",\"Grupo 0\"],\"type\":\"scatter\",\"textposition\":\"bottom center\"},{\"hoverinfo\":\"text+x+y\",\"marker\":{\"color\":\"blue\",\"size\":[87.2,3.8,0.6,8.3,0.1],\"line\":{\"color\":\"black\",\"width\":2}},\"mode\":\"markers+text\",\"name\":\"Grupo 1\",\"text\":[\"87.2%\",\"3.8%\",\"0.6%\",\"8.3%\",\"0.1%\"],\"textfont\":{\"color\":\"blue\",\"size\":20},\"x\":[\"Branca\",\"Preta\",\"Amarela\",\"Parda\",\"Ind\\u00edgena\"],\"y\":[\"Grupo 1\",\"Grupo 1\",\"Grupo 1\",\"Grupo 1\",\"Grupo 1\"],\"type\":\"scatter\",\"textposition\":\"bottom center\"},{\"hoverinfo\":\"text+x+y\",\"marker\":{\"color\":\"darkorange\",\"size\":[77.6,4.1,0.5,17.8,0.1],\"line\":{\"color\":\"black\",\"width\":2}},\"mode\":\"markers+text\",\"name\":\"Grupo 2\",\"text\":[\"77.6%\",\"4.1%\",\"0.5%\",\"17.8%\",\"0.1%\"],\"textfont\":{\"color\":\"darkorange\",\"size\":20},\"x\":[\"Branca\",\"Preta\",\"Amarela\",\"Parda\",\"Ind\\u00edgena\"],\"y\":[\"Grupo 2\",\"Grupo 2\",\"Grupo 2\",\"Grupo 2\",\"Grupo 2\"],\"type\":\"scatter\",\"textposition\":\"bottom center\"},{\"hoverinfo\":\"text+x+y\",\"marker\":{\"color\":\"green\",\"size\":[26.6,8.6,1.6,63.1,0.1],\"line\":{\"color\":\"black\",\"width\":2}},\"mode\":\"markers+text\",\"name\":\"Grupo 3\",\"text\":[\"26.6%\",\"8.6%\",\"1.6%\",\"63.1%\",\"0.1%\"],\"textfont\":{\"color\":\"green\",\"size\":20},\"x\":[\"Branca\",\"Preta\",\"Amarela\",\"Parda\",\"Ind\\u00edgena\"],\"y\":[\"Grupo 3\",\"Grupo 3\",\"Grupo 3\",\"Grupo 3\",\"Grupo 3\"],\"type\":\"scatter\",\"textposition\":\"bottom center\"}],                        {\"template\":{\"data\":{\"histogram2dcontour\":[{\"type\":\"histogram2dcontour\",\"colorbar\":{\"outlinewidth\":0,\"ticks\":\"\"},\"colorscale\":[[0.0,\"#0d0887\"],[0.1111111111111111,\"#46039f\"],[0.2222222222222222,\"#7201a8\"],[0.3333333333333333,\"#9c179e\"],[0.4444444444444444,\"#bd3786\"],[0.5555555555555556,\"#d8576b\"],[0.6666666666666666,\"#ed7953\"],[0.7777777777777778,\"#fb9f3a\"],[0.8888888888888888,\"#fdca26\"],[1.0,\"#f0f921\"]]}],\"choropleth\":[{\"type\":\"choropleth\",\"colorbar\":{\"outlinewidth\":0,\"ticks\":\"\"}}],\"histogram2d\":[{\"type\":\"histogram2d\",\"colorbar\":{\"outlinewidth\":0,\"ticks\":\"\"},\"colorscale\":[[0.0,\"#0d0887\"],[0.1111111111111111,\"#46039f\"],[0.2222222222222222,\"#7201a8\"],[0.3333333333333333,\"#9c179e\"],[0.4444444444444444,\"#bd3786\"],[0.5555555555555556,\"#d8576b\"],[0.6666666666666666,\"#ed7953\"],[0.7777777777777778,\"#fb9f3a\"],[0.8888888888888888,\"#fdca26\"],[1.0,\"#f0f921\"]]}],\"heatmap\":[{\"type\":\"heatmap\",\"colorbar\":{\"outlinewidth\":0,\"ticks\":\"\"},\"colorscale\":[[0.0,\"#0d0887\"],[0.1111111111111111,\"#46039f\"],[0.2222222222222222,\"#7201a8\"],[0.3333333333333333,\"#9c179e\"],[0.4444444444444444,\"#bd3786\"],[0.5555555555555556,\"#d8576b\"],[0.6666666666666666,\"#ed7953\"],[0.7777777777777778,\"#fb9f3a\"],[0.8888888888888888,\"#fdca26\"],[1.0,\"#f0f921\"]]}],\"heatmapgl\":[{\"type\":\"heatmapgl\",\"colorbar\":{\"outlinewidth\":0,\"ticks\":\"\"},\"colorscale\":[[0.0,\"#0d0887\"],[0.1111111111111111,\"#46039f\"],[0.2222222222222222,\"#7201a8\"],[0.3333333333333333,\"#9c179e\"],[0.4444444444444444,\"#bd3786\"],[0.5555555555555556,\"#d8576b\"],[0.6666666666666666,\"#ed7953\"],[0.7777777777777778,\"#fb9f3a\"],[0.8888888888888888,\"#fdca26\"],[1.0,\"#f0f921\"]]}],\"contourcarpet\":[{\"type\":\"contourcarpet\",\"colorbar\":{\"outlinewidth\":0,\"ticks\":\"\"}}],\"contour\":[{\"type\":\"contour\",\"colorbar\":{\"outlinewidth\":0,\"ticks\":\"\"},\"colorscale\":[[0.0,\"#0d0887\"],[0.1111111111111111,\"#46039f\"],[0.2222222222222222,\"#7201a8\"],[0.3333333333333333,\"#9c179e\"],[0.4444444444444444,\"#bd3786\"],[0.5555555555555556,\"#d8576b\"],[0.6666666666666666,\"#ed7953\"],[0.7777777777777778,\"#fb9f3a\"],[0.8888888888888888,\"#fdca26\"],[1.0,\"#f0f921\"]]}],\"surface\":[{\"type\":\"surface\",\"colorbar\":{\"outlinewidth\":0,\"ticks\":\"\"},\"colorscale\":[[0.0,\"#0d0887\"],[0.1111111111111111,\"#46039f\"],[0.2222222222222222,\"#7201a8\"],[0.3333333333333333,\"#9c179e\"],[0.4444444444444444,\"#bd3786\"],[0.5555555555555556,\"#d8576b\"],[0.6666666666666666,\"#ed7953\"],[0.7777777777777778,\"#fb9f3a\"],[0.8888888888888888,\"#fdca26\"],[1.0,\"#f0f921\"]]}],\"mesh3d\":[{\"type\":\"mesh3d\",\"colorbar\":{\"outlinewidth\":0,\"ticks\":\"\"}}],\"scatter\":[{\"fillpattern\":{\"fillmode\":\"overlay\",\"size\":10,\"solidity\":0.2},\"type\":\"scatter\"}],\"parcoords\":[{\"type\":\"parcoords\",\"line\":{\"colorbar\":{\"outlinewidth\":0,\"ticks\":\"\"}}}],\"scatterpolargl\":[{\"type\":\"scatterpolargl\",\"marker\":{\"colorbar\":{\"outlinewidth\":0,\"ticks\":\"\"}}}],\"bar\":[{\"error_x\":{\"color\":\"#2a3f5f\"},\"error_y\":{\"color\":\"#2a3f5f\"},\"marker\":{\"line\":{\"color\":\"#E5ECF6\",\"width\":0.5},\"pattern\":{\"fillmode\":\"overlay\",\"size\":10,\"solidity\":0.2}},\"type\":\"bar\"}],\"scattergeo\":[{\"type\":\"scattergeo\",\"marker\":{\"colorbar\":{\"outlinewidth\":0,\"ticks\":\"\"}}}],\"scatterpolar\":[{\"type\":\"scatterpolar\",\"marker\":{\"colorbar\":{\"outlinewidth\":0,\"ticks\":\"\"}}}],\"histogram\":[{\"marker\":{\"pattern\":{\"fillmode\":\"overlay\",\"size\":10,\"solidity\":0.2}},\"type\":\"histogram\"}],\"scattergl\":[{\"type\":\"scattergl\",\"marker\":{\"colorbar\":{\"outlinewidth\":0,\"ticks\":\"\"}}}],\"scatter3d\":[{\"type\":\"scatter3d\",\"line\":{\"colorbar\":{\"outlinewidth\":0,\"ticks\":\"\"}},\"marker\":{\"colorbar\":{\"outlinewidth\":0,\"ticks\":\"\"}}}],\"scattermapbox\":[{\"type\":\"scattermapbox\",\"marker\":{\"colorbar\":{\"outlinewidth\":0,\"ticks\":\"\"}}}],\"scatterternary\":[{\"type\":\"scatterternary\",\"marker\":{\"colorbar\":{\"outlinewidth\":0,\"ticks\":\"\"}}}],\"scattercarpet\":[{\"type\":\"scattercarpet\",\"marker\":{\"colorbar\":{\"outlinewidth\":0,\"ticks\":\"\"}}}],\"carpet\":[{\"aaxis\":{\"endlinecolor\":\"#2a3f5f\",\"gridcolor\":\"white\",\"linecolor\":\"white\",\"minorgridcolor\":\"white\",\"startlinecolor\":\"#2a3f5f\"},\"baxis\":{\"endlinecolor\":\"#2a3f5f\",\"gridcolor\":\"white\",\"linecolor\":\"white\",\"minorgridcolor\":\"white\",\"startlinecolor\":\"#2a3f5f\"},\"type\":\"carpet\"}],\"table\":[{\"cells\":{\"fill\":{\"color\":\"#EBF0F8\"},\"line\":{\"color\":\"white\"}},\"header\":{\"fill\":{\"color\":\"#C8D4E3\"},\"line\":{\"color\":\"white\"}},\"type\":\"table\"}],\"barpolar\":[{\"marker\":{\"line\":{\"color\":\"#E5ECF6\",\"width\":0.5},\"pattern\":{\"fillmode\":\"overlay\",\"size\":10,\"solidity\":0.2}},\"type\":\"barpolar\"}],\"pie\":[{\"automargin\":true,\"type\":\"pie\"}]},\"layout\":{\"autotypenumbers\":\"strict\",\"colorway\":[\"#636efa\",\"#EF553B\",\"#00cc96\",\"#ab63fa\",\"#FFA15A\",\"#19d3f3\",\"#FF6692\",\"#B6E880\",\"#FF97FF\",\"#FECB52\"],\"font\":{\"color\":\"#2a3f5f\"},\"hovermode\":\"closest\",\"hoverlabel\":{\"align\":\"left\"},\"paper_bgcolor\":\"white\",\"plot_bgcolor\":\"#E5ECF6\",\"polar\":{\"bgcolor\":\"#E5ECF6\",\"angularaxis\":{\"gridcolor\":\"white\",\"linecolor\":\"white\",\"ticks\":\"\"},\"radialaxis\":{\"gridcolor\":\"white\",\"linecolor\":\"white\",\"ticks\":\"\"}},\"ternary\":{\"bgcolor\":\"#E5ECF6\",\"aaxis\":{\"gridcolor\":\"white\",\"linecolor\":\"white\",\"ticks\":\"\"},\"baxis\":{\"gridcolor\":\"white\",\"linecolor\":\"white\",\"ticks\":\"\"},\"caxis\":{\"gridcolor\":\"white\",\"linecolor\":\"white\",\"ticks\":\"\"}},\"coloraxis\":{\"colorbar\":{\"outlinewidth\":0,\"ticks\":\"\"}},\"colorscale\":{\"sequential\":[[0.0,\"#0d0887\"],[0.1111111111111111,\"#46039f\"],[0.2222222222222222,\"#7201a8\"],[0.3333333333333333,\"#9c179e\"],[0.4444444444444444,\"#bd3786\"],[0.5555555555555556,\"#d8576b\"],[0.6666666666666666,\"#ed7953\"],[0.7777777777777778,\"#fb9f3a\"],[0.8888888888888888,\"#fdca26\"],[1.0,\"#f0f921\"]],\"sequentialminus\":[[0.0,\"#0d0887\"],[0.1111111111111111,\"#46039f\"],[0.2222222222222222,\"#7201a8\"],[0.3333333333333333,\"#9c179e\"],[0.4444444444444444,\"#bd3786\"],[0.5555555555555556,\"#d8576b\"],[0.6666666666666666,\"#ed7953\"],[0.7777777777777778,\"#fb9f3a\"],[0.8888888888888888,\"#fdca26\"],[1.0,\"#f0f921\"]],\"diverging\":[[0,\"#8e0152\"],[0.1,\"#c51b7d\"],[0.2,\"#de77ae\"],[0.3,\"#f1b6da\"],[0.4,\"#fde0ef\"],[0.5,\"#f7f7f7\"],[0.6,\"#e6f5d0\"],[0.7,\"#b8e186\"],[0.8,\"#7fbc41\"],[0.9,\"#4d9221\"],[1,\"#276419\"]]},\"xaxis\":{\"gridcolor\":\"white\",\"linecolor\":\"white\",\"ticks\":\"\",\"title\":{\"standoff\":15},\"zerolinecolor\":\"white\",\"automargin\":true,\"zerolinewidth\":2},\"yaxis\":{\"gridcolor\":\"white\",\"linecolor\":\"white\",\"ticks\":\"\",\"title\":{\"standoff\":15},\"zerolinecolor\":\"white\",\"automargin\":true,\"zerolinewidth\":2},\"scene\":{\"xaxis\":{\"backgroundcolor\":\"#E5ECF6\",\"gridcolor\":\"white\",\"linecolor\":\"white\",\"showbackground\":true,\"ticks\":\"\",\"zerolinecolor\":\"white\",\"gridwidth\":2},\"yaxis\":{\"backgroundcolor\":\"#E5ECF6\",\"gridcolor\":\"white\",\"linecolor\":\"white\",\"showbackground\":true,\"ticks\":\"\",\"zerolinecolor\":\"white\",\"gridwidth\":2},\"zaxis\":{\"backgroundcolor\":\"#E5ECF6\",\"gridcolor\":\"white\",\"linecolor\":\"white\",\"showbackground\":true,\"ticks\":\"\",\"zerolinecolor\":\"white\",\"gridwidth\":2}},\"shapedefaults\":{\"line\":{\"color\":\"#2a3f5f\"}},\"annotationdefaults\":{\"arrowcolor\":\"#2a3f5f\",\"arrowhead\":0,\"arrowwidth\":1},\"geo\":{\"bgcolor\":\"white\",\"landcolor\":\"#E5ECF6\",\"subunitcolor\":\"white\",\"showland\":true,\"showlakes\":true,\"lakecolor\":\"white\"},\"title\":{\"x\":0.05},\"mapbox\":{\"style\":\"light\"}}},\"font\":{\"size\":18,\"color\":\"black\"},\"xaxis\":{\"tickfont\":{\"size\":20,\"color\":\"black\"},\"title\":{\"text\":\"Ra\\u00e7a \\u002f Cor\"},\"linewidth\":2,\"linecolor\":\"black\",\"mirror\":true},\"yaxis\":{\"tickfont\":{\"size\":20,\"color\":\"black\"},\"linewidth\":2,\"linecolor\":\"black\",\"mirror\":true},\"width\":800,\"height\":700,\"plot_bgcolor\":\"#FFFFFF\",\"showlegend\":false},                        {\"responsive\": true}                    ).then(function(){\n",
              "                            \n",
              "var gd = document.getElementById('a993fbd3-33d5-4dd2-b396-0204ff9c536c');\n",
              "var x = new MutationObserver(function (mutations, observer) {{\n",
              "        var display = window.getComputedStyle(gd).display;\n",
              "        if (!display || display === 'none') {{\n",
              "            console.log([gd, 'removed!']);\n",
              "            Plotly.purge(gd);\n",
              "            observer.disconnect();\n",
              "        }}\n",
              "}});\n",
              "\n",
              "// Listen for the removal of the full notebook cells\n",
              "var notebookContainer = gd.closest('#notebook-container');\n",
              "if (notebookContainer) {{\n",
              "    x.observe(notebookContainer, {childList: true});\n",
              "}}\n",
              "\n",
              "// Listen for the clearing of the current output cell\n",
              "var outputEl = gd.closest('.output');\n",
              "if (outputEl) {{\n",
              "    x.observe(outputEl, {childList: true});\n",
              "}}\n",
              "\n",
              "                        })                };                            </script>        </div>\n",
              "</body>\n",
              "</html>"
            ]
          },
          "metadata": {}
        }
      ],
      "source": [
        "generate_chart(df3, 'Raca', 800, 700)"
      ]
    },
    {
      "cell_type": "code",
      "execution_count": 63,
      "metadata": {
        "id": "TD7M0dWXk3iZ",
        "colab": {
          "base_uri": "https://localhost:8080/",
          "height": 617
        },
        "outputId": "220965a7-2245-42d3-bfc9-454265df5126"
      },
      "outputs": [
        {
          "output_type": "display_data",
          "data": {
            "text/html": [
              "<html>\n",
              "<head><meta charset=\"utf-8\" /></head>\n",
              "<body>\n",
              "    <div>            <script src=\"https://cdnjs.cloudflare.com/ajax/libs/mathjax/2.7.5/MathJax.js?config=TeX-AMS-MML_SVG\"></script><script type=\"text/javascript\">if (window.MathJax && window.MathJax.Hub && window.MathJax.Hub.Config) {window.MathJax.Hub.Config({SVG: {font: \"STIX-Web\"}});}</script>                <script type=\"text/javascript\">window.PlotlyConfig = {MathJaxConfig: 'local'};</script>\n",
              "        <script charset=\"utf-8\" src=\"https://cdn.plot.ly/plotly-2.24.1.min.js\"></script>                <div id=\"1039d1ca-2ed9-478d-ae48-1f8593322f57\" class=\"plotly-graph-div\" style=\"height:600px; width:800px;\"></div>            <script type=\"text/javascript\">                                    window.PLOTLYENV=window.PLOTLYENV || {};                                    if (document.getElementById(\"1039d1ca-2ed9-478d-ae48-1f8593322f57\")) {                    Plotly.newPlot(                        \"1039d1ca-2ed9-478d-ae48-1f8593322f57\",                        [{\"hoverinfo\":\"text+x+y\",\"marker\":{\"color\":\"red\",\"size\":[10.2,14.6,69.9,4.7,0.6],\"line\":{\"color\":\"black\",\"width\":2}},\"mode\":\"markers+text\",\"name\":\"Grupo 0\",\"text\":[\"10.2%\",\"14.6%\",\"69.9%\",\"4.7%\",\"0.6%\"],\"textfont\":{\"color\":\"red\",\"size\":20},\"x\":[\"Solteiro (a)\",\"Casado (a)\",\"Vi\\u00favo (a)\",\"Divorciado (a)\",\"Uni\\u00e3o est\\u00e1vel\"],\"y\":[\"Grupo 0\",\"Grupo 0\",\"Grupo 0\",\"Grupo 0\",\"Grupo 0\"],\"type\":\"scatter\",\"textposition\":\"bottom center\"},{\"hoverinfo\":\"text+x+y\",\"marker\":{\"color\":\"blue\",\"size\":[8.1,70.0,15.7,4.5,1.6],\"line\":{\"color\":\"black\",\"width\":2}},\"mode\":\"markers+text\",\"name\":\"Grupo 1\",\"text\":[\"8.1%\",\"70.0%\",\"15.7%\",\"4.5%\",\"1.6%\"],\"textfont\":{\"color\":\"blue\",\"size\":20},\"x\":[\"Solteiro (a)\",\"Casado (a)\",\"Vi\\u00favo (a)\",\"Divorciado (a)\",\"Uni\\u00e3o est\\u00e1vel\"],\"y\":[\"Grupo 1\",\"Grupo 1\",\"Grupo 1\",\"Grupo 1\",\"Grupo 1\"],\"type\":\"scatter\",\"textposition\":\"bottom center\"},{\"hoverinfo\":\"text+x+y\",\"marker\":{\"color\":\"darkorange\",\"size\":[17.6,61.1,11.6,8.4,1.3],\"line\":{\"color\":\"black\",\"width\":2}},\"mode\":\"markers+text\",\"name\":\"Grupo 2\",\"text\":[\"17.6%\",\"61.1%\",\"11.6%\",\"8.4%\",\"1.3%\"],\"textfont\":{\"color\":\"darkorange\",\"size\":20},\"x\":[\"Solteiro (a)\",\"Casado (a)\",\"Vi\\u00favo (a)\",\"Divorciado (a)\",\"Uni\\u00e3o est\\u00e1vel\"],\"y\":[\"Grupo 2\",\"Grupo 2\",\"Grupo 2\",\"Grupo 2\",\"Grupo 2\"],\"type\":\"scatter\",\"textposition\":\"bottom center\"},{\"hoverinfo\":\"text+x+y\",\"marker\":{\"color\":\"green\",\"size\":[12.2,70.3,7.3,7.7,2.5],\"line\":{\"color\":\"black\",\"width\":2}},\"mode\":\"markers+text\",\"name\":\"Grupo 3\",\"text\":[\"12.2%\",\"70.3%\",\"7.3%\",\"7.7%\",\"2.5%\"],\"textfont\":{\"color\":\"green\",\"size\":20},\"x\":[\"Solteiro (a)\",\"Casado (a)\",\"Vi\\u00favo (a)\",\"Divorciado (a)\",\"Uni\\u00e3o est\\u00e1vel\"],\"y\":[\"Grupo 3\",\"Grupo 3\",\"Grupo 3\",\"Grupo 3\",\"Grupo 3\"],\"type\":\"scatter\",\"textposition\":\"bottom center\"}],                        {\"template\":{\"data\":{\"histogram2dcontour\":[{\"type\":\"histogram2dcontour\",\"colorbar\":{\"outlinewidth\":0,\"ticks\":\"\"},\"colorscale\":[[0.0,\"#0d0887\"],[0.1111111111111111,\"#46039f\"],[0.2222222222222222,\"#7201a8\"],[0.3333333333333333,\"#9c179e\"],[0.4444444444444444,\"#bd3786\"],[0.5555555555555556,\"#d8576b\"],[0.6666666666666666,\"#ed7953\"],[0.7777777777777778,\"#fb9f3a\"],[0.8888888888888888,\"#fdca26\"],[1.0,\"#f0f921\"]]}],\"choropleth\":[{\"type\":\"choropleth\",\"colorbar\":{\"outlinewidth\":0,\"ticks\":\"\"}}],\"histogram2d\":[{\"type\":\"histogram2d\",\"colorbar\":{\"outlinewidth\":0,\"ticks\":\"\"},\"colorscale\":[[0.0,\"#0d0887\"],[0.1111111111111111,\"#46039f\"],[0.2222222222222222,\"#7201a8\"],[0.3333333333333333,\"#9c179e\"],[0.4444444444444444,\"#bd3786\"],[0.5555555555555556,\"#d8576b\"],[0.6666666666666666,\"#ed7953\"],[0.7777777777777778,\"#fb9f3a\"],[0.8888888888888888,\"#fdca26\"],[1.0,\"#f0f921\"]]}],\"heatmap\":[{\"type\":\"heatmap\",\"colorbar\":{\"outlinewidth\":0,\"ticks\":\"\"},\"colorscale\":[[0.0,\"#0d0887\"],[0.1111111111111111,\"#46039f\"],[0.2222222222222222,\"#7201a8\"],[0.3333333333333333,\"#9c179e\"],[0.4444444444444444,\"#bd3786\"],[0.5555555555555556,\"#d8576b\"],[0.6666666666666666,\"#ed7953\"],[0.7777777777777778,\"#fb9f3a\"],[0.8888888888888888,\"#fdca26\"],[1.0,\"#f0f921\"]]}],\"heatmapgl\":[{\"type\":\"heatmapgl\",\"colorbar\":{\"outlinewidth\":0,\"ticks\":\"\"},\"colorscale\":[[0.0,\"#0d0887\"],[0.1111111111111111,\"#46039f\"],[0.2222222222222222,\"#7201a8\"],[0.3333333333333333,\"#9c179e\"],[0.4444444444444444,\"#bd3786\"],[0.5555555555555556,\"#d8576b\"],[0.6666666666666666,\"#ed7953\"],[0.7777777777777778,\"#fb9f3a\"],[0.8888888888888888,\"#fdca26\"],[1.0,\"#f0f921\"]]}],\"contourcarpet\":[{\"type\":\"contourcarpet\",\"colorbar\":{\"outlinewidth\":0,\"ticks\":\"\"}}],\"contour\":[{\"type\":\"contour\",\"colorbar\":{\"outlinewidth\":0,\"ticks\":\"\"},\"colorscale\":[[0.0,\"#0d0887\"],[0.1111111111111111,\"#46039f\"],[0.2222222222222222,\"#7201a8\"],[0.3333333333333333,\"#9c179e\"],[0.4444444444444444,\"#bd3786\"],[0.5555555555555556,\"#d8576b\"],[0.6666666666666666,\"#ed7953\"],[0.7777777777777778,\"#fb9f3a\"],[0.8888888888888888,\"#fdca26\"],[1.0,\"#f0f921\"]]}],\"surface\":[{\"type\":\"surface\",\"colorbar\":{\"outlinewidth\":0,\"ticks\":\"\"},\"colorscale\":[[0.0,\"#0d0887\"],[0.1111111111111111,\"#46039f\"],[0.2222222222222222,\"#7201a8\"],[0.3333333333333333,\"#9c179e\"],[0.4444444444444444,\"#bd3786\"],[0.5555555555555556,\"#d8576b\"],[0.6666666666666666,\"#ed7953\"],[0.7777777777777778,\"#fb9f3a\"],[0.8888888888888888,\"#fdca26\"],[1.0,\"#f0f921\"]]}],\"mesh3d\":[{\"type\":\"mesh3d\",\"colorbar\":{\"outlinewidth\":0,\"ticks\":\"\"}}],\"scatter\":[{\"fillpattern\":{\"fillmode\":\"overlay\",\"size\":10,\"solidity\":0.2},\"type\":\"scatter\"}],\"parcoords\":[{\"type\":\"parcoords\",\"line\":{\"colorbar\":{\"outlinewidth\":0,\"ticks\":\"\"}}}],\"scatterpolargl\":[{\"type\":\"scatterpolargl\",\"marker\":{\"colorbar\":{\"outlinewidth\":0,\"ticks\":\"\"}}}],\"bar\":[{\"error_x\":{\"color\":\"#2a3f5f\"},\"error_y\":{\"color\":\"#2a3f5f\"},\"marker\":{\"line\":{\"color\":\"#E5ECF6\",\"width\":0.5},\"pattern\":{\"fillmode\":\"overlay\",\"size\":10,\"solidity\":0.2}},\"type\":\"bar\"}],\"scattergeo\":[{\"type\":\"scattergeo\",\"marker\":{\"colorbar\":{\"outlinewidth\":0,\"ticks\":\"\"}}}],\"scatterpolar\":[{\"type\":\"scatterpolar\",\"marker\":{\"colorbar\":{\"outlinewidth\":0,\"ticks\":\"\"}}}],\"histogram\":[{\"marker\":{\"pattern\":{\"fillmode\":\"overlay\",\"size\":10,\"solidity\":0.2}},\"type\":\"histogram\"}],\"scattergl\":[{\"type\":\"scattergl\",\"marker\":{\"colorbar\":{\"outlinewidth\":0,\"ticks\":\"\"}}}],\"scatter3d\":[{\"type\":\"scatter3d\",\"line\":{\"colorbar\":{\"outlinewidth\":0,\"ticks\":\"\"}},\"marker\":{\"colorbar\":{\"outlinewidth\":0,\"ticks\":\"\"}}}],\"scattermapbox\":[{\"type\":\"scattermapbox\",\"marker\":{\"colorbar\":{\"outlinewidth\":0,\"ticks\":\"\"}}}],\"scatterternary\":[{\"type\":\"scatterternary\",\"marker\":{\"colorbar\":{\"outlinewidth\":0,\"ticks\":\"\"}}}],\"scattercarpet\":[{\"type\":\"scattercarpet\",\"marker\":{\"colorbar\":{\"outlinewidth\":0,\"ticks\":\"\"}}}],\"carpet\":[{\"aaxis\":{\"endlinecolor\":\"#2a3f5f\",\"gridcolor\":\"white\",\"linecolor\":\"white\",\"minorgridcolor\":\"white\",\"startlinecolor\":\"#2a3f5f\"},\"baxis\":{\"endlinecolor\":\"#2a3f5f\",\"gridcolor\":\"white\",\"linecolor\":\"white\",\"minorgridcolor\":\"white\",\"startlinecolor\":\"#2a3f5f\"},\"type\":\"carpet\"}],\"table\":[{\"cells\":{\"fill\":{\"color\":\"#EBF0F8\"},\"line\":{\"color\":\"white\"}},\"header\":{\"fill\":{\"color\":\"#C8D4E3\"},\"line\":{\"color\":\"white\"}},\"type\":\"table\"}],\"barpolar\":[{\"marker\":{\"line\":{\"color\":\"#E5ECF6\",\"width\":0.5},\"pattern\":{\"fillmode\":\"overlay\",\"size\":10,\"solidity\":0.2}},\"type\":\"barpolar\"}],\"pie\":[{\"automargin\":true,\"type\":\"pie\"}]},\"layout\":{\"autotypenumbers\":\"strict\",\"colorway\":[\"#636efa\",\"#EF553B\",\"#00cc96\",\"#ab63fa\",\"#FFA15A\",\"#19d3f3\",\"#FF6692\",\"#B6E880\",\"#FF97FF\",\"#FECB52\"],\"font\":{\"color\":\"#2a3f5f\"},\"hovermode\":\"closest\",\"hoverlabel\":{\"align\":\"left\"},\"paper_bgcolor\":\"white\",\"plot_bgcolor\":\"#E5ECF6\",\"polar\":{\"bgcolor\":\"#E5ECF6\",\"angularaxis\":{\"gridcolor\":\"white\",\"linecolor\":\"white\",\"ticks\":\"\"},\"radialaxis\":{\"gridcolor\":\"white\",\"linecolor\":\"white\",\"ticks\":\"\"}},\"ternary\":{\"bgcolor\":\"#E5ECF6\",\"aaxis\":{\"gridcolor\":\"white\",\"linecolor\":\"white\",\"ticks\":\"\"},\"baxis\":{\"gridcolor\":\"white\",\"linecolor\":\"white\",\"ticks\":\"\"},\"caxis\":{\"gridcolor\":\"white\",\"linecolor\":\"white\",\"ticks\":\"\"}},\"coloraxis\":{\"colorbar\":{\"outlinewidth\":0,\"ticks\":\"\"}},\"colorscale\":{\"sequential\":[[0.0,\"#0d0887\"],[0.1111111111111111,\"#46039f\"],[0.2222222222222222,\"#7201a8\"],[0.3333333333333333,\"#9c179e\"],[0.4444444444444444,\"#bd3786\"],[0.5555555555555556,\"#d8576b\"],[0.6666666666666666,\"#ed7953\"],[0.7777777777777778,\"#fb9f3a\"],[0.8888888888888888,\"#fdca26\"],[1.0,\"#f0f921\"]],\"sequentialminus\":[[0.0,\"#0d0887\"],[0.1111111111111111,\"#46039f\"],[0.2222222222222222,\"#7201a8\"],[0.3333333333333333,\"#9c179e\"],[0.4444444444444444,\"#bd3786\"],[0.5555555555555556,\"#d8576b\"],[0.6666666666666666,\"#ed7953\"],[0.7777777777777778,\"#fb9f3a\"],[0.8888888888888888,\"#fdca26\"],[1.0,\"#f0f921\"]],\"diverging\":[[0,\"#8e0152\"],[0.1,\"#c51b7d\"],[0.2,\"#de77ae\"],[0.3,\"#f1b6da\"],[0.4,\"#fde0ef\"],[0.5,\"#f7f7f7\"],[0.6,\"#e6f5d0\"],[0.7,\"#b8e186\"],[0.8,\"#7fbc41\"],[0.9,\"#4d9221\"],[1,\"#276419\"]]},\"xaxis\":{\"gridcolor\":\"white\",\"linecolor\":\"white\",\"ticks\":\"\",\"title\":{\"standoff\":15},\"zerolinecolor\":\"white\",\"automargin\":true,\"zerolinewidth\":2},\"yaxis\":{\"gridcolor\":\"white\",\"linecolor\":\"white\",\"ticks\":\"\",\"title\":{\"standoff\":15},\"zerolinecolor\":\"white\",\"automargin\":true,\"zerolinewidth\":2},\"scene\":{\"xaxis\":{\"backgroundcolor\":\"#E5ECF6\",\"gridcolor\":\"white\",\"linecolor\":\"white\",\"showbackground\":true,\"ticks\":\"\",\"zerolinecolor\":\"white\",\"gridwidth\":2},\"yaxis\":{\"backgroundcolor\":\"#E5ECF6\",\"gridcolor\":\"white\",\"linecolor\":\"white\",\"showbackground\":true,\"ticks\":\"\",\"zerolinecolor\":\"white\",\"gridwidth\":2},\"zaxis\":{\"backgroundcolor\":\"#E5ECF6\",\"gridcolor\":\"white\",\"linecolor\":\"white\",\"showbackground\":true,\"ticks\":\"\",\"zerolinecolor\":\"white\",\"gridwidth\":2}},\"shapedefaults\":{\"line\":{\"color\":\"#2a3f5f\"}},\"annotationdefaults\":{\"arrowcolor\":\"#2a3f5f\",\"arrowhead\":0,\"arrowwidth\":1},\"geo\":{\"bgcolor\":\"white\",\"landcolor\":\"#E5ECF6\",\"subunitcolor\":\"white\",\"showland\":true,\"showlakes\":true,\"lakecolor\":\"white\"},\"title\":{\"x\":0.05},\"mapbox\":{\"style\":\"light\"}}},\"font\":{\"size\":18,\"color\":\"black\"},\"xaxis\":{\"tickfont\":{\"size\":20,\"color\":\"black\"},\"title\":{\"text\":\"Estado Civil\"},\"linewidth\":2,\"linecolor\":\"black\",\"mirror\":true},\"yaxis\":{\"tickfont\":{\"size\":20,\"color\":\"black\"},\"linewidth\":2,\"linecolor\":\"black\",\"mirror\":true},\"width\":800,\"height\":600,\"plot_bgcolor\":\"#FFFFFF\",\"showlegend\":false},                        {\"responsive\": true}                    ).then(function(){\n",
              "                            \n",
              "var gd = document.getElementById('1039d1ca-2ed9-478d-ae48-1f8593322f57');\n",
              "var x = new MutationObserver(function (mutations, observer) {{\n",
              "        var display = window.getComputedStyle(gd).display;\n",
              "        if (!display || display === 'none') {{\n",
              "            console.log([gd, 'removed!']);\n",
              "            Plotly.purge(gd);\n",
              "            observer.disconnect();\n",
              "        }}\n",
              "}});\n",
              "\n",
              "// Listen for the removal of the full notebook cells\n",
              "var notebookContainer = gd.closest('#notebook-container');\n",
              "if (notebookContainer) {{\n",
              "    x.observe(notebookContainer, {childList: true});\n",
              "}}\n",
              "\n",
              "// Listen for the clearing of the current output cell\n",
              "var outputEl = gd.closest('.output');\n",
              "if (outputEl) {{\n",
              "    x.observe(outputEl, {childList: true});\n",
              "}}\n",
              "\n",
              "                        })                };                            </script>        </div>\n",
              "</body>\n",
              "</html>"
            ]
          },
          "metadata": {}
        }
      ],
      "source": [
        "generate_chart(df3, 'Estado_Civil', 800, 600)"
      ]
    },
    {
      "cell_type": "code",
      "execution_count": 64,
      "metadata": {
        "id": "Hayk91DFliIu",
        "colab": {
          "base_uri": "https://localhost:8080/",
          "height": 717
        },
        "outputId": "c49d590f-a524-45a7-82db-00901ddebb2b"
      },
      "outputs": [
        {
          "output_type": "display_data",
          "data": {
            "text/html": [
              "<html>\n",
              "<head><meta charset=\"utf-8\" /></head>\n",
              "<body>\n",
              "    <div>            <script src=\"https://cdnjs.cloudflare.com/ajax/libs/mathjax/2.7.5/MathJax.js?config=TeX-AMS-MML_SVG\"></script><script type=\"text/javascript\">if (window.MathJax && window.MathJax.Hub && window.MathJax.Hub.Config) {window.MathJax.Hub.Config({SVG: {font: \"STIX-Web\"}});}</script>                <script type=\"text/javascript\">window.PlotlyConfig = {MathJaxConfig: 'local'};</script>\n",
              "        <script charset=\"utf-8\" src=\"https://cdn.plot.ly/plotly-2.24.1.min.js\"></script>                <div id=\"4c5b2c79-6880-4b0f-beda-7af31592ad19\" class=\"plotly-graph-div\" style=\"height:700px; width:800px;\"></div>            <script type=\"text/javascript\">                                    window.PLOTLYENV=window.PLOTLYENV || {};                                    if (document.getElementById(\"4c5b2c79-6880-4b0f-beda-7af31592ad19\")) {                    Plotly.newPlot(                        \"4c5b2c79-6880-4b0f-beda-7af31592ad19\",                        [{\"hoverinfo\":\"text+x+y\",\"marker\":{\"color\":\"red\",\"size\":[15.6,60.9,12.1,11.1,0.5,0.0],\"line\":{\"color\":\"black\",\"width\":2}},\"mode\":\"markers+text\",\"name\":\"Grupo 0\",\"text\":[\"15.6%\",\"60.9%\",\"12.1%\",\"11.1%\",\"0.5%\",\"0.0%\"],\"textfont\":{\"color\":\"red\",\"size\":20},\"x\":[\"Sem escolaridade\",\"Fundamental I\",\"Fundamental II\",\"Ensino m\\u00e9dio\",\"Superior incompleto\",\"Superior completo\"],\"y\":[\"Grupo 0\",\"Grupo 0\",\"Grupo 0\",\"Grupo 0\",\"Grupo 0\",\"Grupo 0\"],\"type\":\"scatter\",\"textposition\":\"bottom center\"},{\"hoverinfo\":\"text+x+y\",\"marker\":{\"color\":\"blue\",\"size\":[44.2,29.5,14.6,11.0,0.7,0.0],\"line\":{\"color\":\"black\",\"width\":2}},\"mode\":\"markers+text\",\"name\":\"Grupo 1\",\"text\":[\"44.2%\",\"29.5%\",\"14.6%\",\"11.0%\",\"0.7%\",\"0.0%\"],\"textfont\":{\"color\":\"blue\",\"size\":20},\"x\":[\"Sem escolaridade\",\"Fundamental I\",\"Fundamental II\",\"Ensino m\\u00e9dio\",\"Superior incompleto\",\"Superior completo\"],\"y\":[\"Grupo 1\",\"Grupo 1\",\"Grupo 1\",\"Grupo 1\",\"Grupo 1\",\"Grupo 1\"],\"type\":\"scatter\",\"textposition\":\"bottom center\"},{\"hoverinfo\":\"text+x+y\",\"marker\":{\"color\":\"darkorange\",\"size\":[14.0,20.4,14.6,50.5,0.5,0.0],\"line\":{\"color\":\"black\",\"width\":2}},\"mode\":\"markers+text\",\"name\":\"Grupo 2\",\"text\":[\"14.0%\",\"20.4%\",\"14.6%\",\"50.5%\",\"0.5%\",\"0.0%\"],\"textfont\":{\"color\":\"darkorange\",\"size\":20},\"x\":[\"Sem escolaridade\",\"Fundamental I\",\"Fundamental II\",\"Ensino m\\u00e9dio\",\"Superior incompleto\",\"Superior completo\"],\"y\":[\"Grupo 2\",\"Grupo 2\",\"Grupo 2\",\"Grupo 2\",\"Grupo 2\",\"Grupo 2\"],\"type\":\"scatter\",\"textposition\":\"bottom center\"},{\"hoverinfo\":\"text+x+y\",\"marker\":{\"color\":\"green\",\"size\":[12.3,66.9,14.2,5.9,0.8,0.0],\"line\":{\"color\":\"black\",\"width\":2}},\"mode\":\"markers+text\",\"name\":\"Grupo 3\",\"text\":[\"12.3%\",\"66.9%\",\"14.2%\",\"5.9%\",\"0.8%\",\"0.0%\"],\"textfont\":{\"color\":\"green\",\"size\":20},\"x\":[\"Sem escolaridade\",\"Fundamental I\",\"Fundamental II\",\"Ensino m\\u00e9dio\",\"Superior incompleto\",\"Superior completo\"],\"y\":[\"Grupo 3\",\"Grupo 3\",\"Grupo 3\",\"Grupo 3\",\"Grupo 3\",\"Grupo 3\"],\"type\":\"scatter\",\"textposition\":\"bottom center\"}],                        {\"template\":{\"data\":{\"histogram2dcontour\":[{\"type\":\"histogram2dcontour\",\"colorbar\":{\"outlinewidth\":0,\"ticks\":\"\"},\"colorscale\":[[0.0,\"#0d0887\"],[0.1111111111111111,\"#46039f\"],[0.2222222222222222,\"#7201a8\"],[0.3333333333333333,\"#9c179e\"],[0.4444444444444444,\"#bd3786\"],[0.5555555555555556,\"#d8576b\"],[0.6666666666666666,\"#ed7953\"],[0.7777777777777778,\"#fb9f3a\"],[0.8888888888888888,\"#fdca26\"],[1.0,\"#f0f921\"]]}],\"choropleth\":[{\"type\":\"choropleth\",\"colorbar\":{\"outlinewidth\":0,\"ticks\":\"\"}}],\"histogram2d\":[{\"type\":\"histogram2d\",\"colorbar\":{\"outlinewidth\":0,\"ticks\":\"\"},\"colorscale\":[[0.0,\"#0d0887\"],[0.1111111111111111,\"#46039f\"],[0.2222222222222222,\"#7201a8\"],[0.3333333333333333,\"#9c179e\"],[0.4444444444444444,\"#bd3786\"],[0.5555555555555556,\"#d8576b\"],[0.6666666666666666,\"#ed7953\"],[0.7777777777777778,\"#fb9f3a\"],[0.8888888888888888,\"#fdca26\"],[1.0,\"#f0f921\"]]}],\"heatmap\":[{\"type\":\"heatmap\",\"colorbar\":{\"outlinewidth\":0,\"ticks\":\"\"},\"colorscale\":[[0.0,\"#0d0887\"],[0.1111111111111111,\"#46039f\"],[0.2222222222222222,\"#7201a8\"],[0.3333333333333333,\"#9c179e\"],[0.4444444444444444,\"#bd3786\"],[0.5555555555555556,\"#d8576b\"],[0.6666666666666666,\"#ed7953\"],[0.7777777777777778,\"#fb9f3a\"],[0.8888888888888888,\"#fdca26\"],[1.0,\"#f0f921\"]]}],\"heatmapgl\":[{\"type\":\"heatmapgl\",\"colorbar\":{\"outlinewidth\":0,\"ticks\":\"\"},\"colorscale\":[[0.0,\"#0d0887\"],[0.1111111111111111,\"#46039f\"],[0.2222222222222222,\"#7201a8\"],[0.3333333333333333,\"#9c179e\"],[0.4444444444444444,\"#bd3786\"],[0.5555555555555556,\"#d8576b\"],[0.6666666666666666,\"#ed7953\"],[0.7777777777777778,\"#fb9f3a\"],[0.8888888888888888,\"#fdca26\"],[1.0,\"#f0f921\"]]}],\"contourcarpet\":[{\"type\":\"contourcarpet\",\"colorbar\":{\"outlinewidth\":0,\"ticks\":\"\"}}],\"contour\":[{\"type\":\"contour\",\"colorbar\":{\"outlinewidth\":0,\"ticks\":\"\"},\"colorscale\":[[0.0,\"#0d0887\"],[0.1111111111111111,\"#46039f\"],[0.2222222222222222,\"#7201a8\"],[0.3333333333333333,\"#9c179e\"],[0.4444444444444444,\"#bd3786\"],[0.5555555555555556,\"#d8576b\"],[0.6666666666666666,\"#ed7953\"],[0.7777777777777778,\"#fb9f3a\"],[0.8888888888888888,\"#fdca26\"],[1.0,\"#f0f921\"]]}],\"surface\":[{\"type\":\"surface\",\"colorbar\":{\"outlinewidth\":0,\"ticks\":\"\"},\"colorscale\":[[0.0,\"#0d0887\"],[0.1111111111111111,\"#46039f\"],[0.2222222222222222,\"#7201a8\"],[0.3333333333333333,\"#9c179e\"],[0.4444444444444444,\"#bd3786\"],[0.5555555555555556,\"#d8576b\"],[0.6666666666666666,\"#ed7953\"],[0.7777777777777778,\"#fb9f3a\"],[0.8888888888888888,\"#fdca26\"],[1.0,\"#f0f921\"]]}],\"mesh3d\":[{\"type\":\"mesh3d\",\"colorbar\":{\"outlinewidth\":0,\"ticks\":\"\"}}],\"scatter\":[{\"fillpattern\":{\"fillmode\":\"overlay\",\"size\":10,\"solidity\":0.2},\"type\":\"scatter\"}],\"parcoords\":[{\"type\":\"parcoords\",\"line\":{\"colorbar\":{\"outlinewidth\":0,\"ticks\":\"\"}}}],\"scatterpolargl\":[{\"type\":\"scatterpolargl\",\"marker\":{\"colorbar\":{\"outlinewidth\":0,\"ticks\":\"\"}}}],\"bar\":[{\"error_x\":{\"color\":\"#2a3f5f\"},\"error_y\":{\"color\":\"#2a3f5f\"},\"marker\":{\"line\":{\"color\":\"#E5ECF6\",\"width\":0.5},\"pattern\":{\"fillmode\":\"overlay\",\"size\":10,\"solidity\":0.2}},\"type\":\"bar\"}],\"scattergeo\":[{\"type\":\"scattergeo\",\"marker\":{\"colorbar\":{\"outlinewidth\":0,\"ticks\":\"\"}}}],\"scatterpolar\":[{\"type\":\"scatterpolar\",\"marker\":{\"colorbar\":{\"outlinewidth\":0,\"ticks\":\"\"}}}],\"histogram\":[{\"marker\":{\"pattern\":{\"fillmode\":\"overlay\",\"size\":10,\"solidity\":0.2}},\"type\":\"histogram\"}],\"scattergl\":[{\"type\":\"scattergl\",\"marker\":{\"colorbar\":{\"outlinewidth\":0,\"ticks\":\"\"}}}],\"scatter3d\":[{\"type\":\"scatter3d\",\"line\":{\"colorbar\":{\"outlinewidth\":0,\"ticks\":\"\"}},\"marker\":{\"colorbar\":{\"outlinewidth\":0,\"ticks\":\"\"}}}],\"scattermapbox\":[{\"type\":\"scattermapbox\",\"marker\":{\"colorbar\":{\"outlinewidth\":0,\"ticks\":\"\"}}}],\"scatterternary\":[{\"type\":\"scatterternary\",\"marker\":{\"colorbar\":{\"outlinewidth\":0,\"ticks\":\"\"}}}],\"scattercarpet\":[{\"type\":\"scattercarpet\",\"marker\":{\"colorbar\":{\"outlinewidth\":0,\"ticks\":\"\"}}}],\"carpet\":[{\"aaxis\":{\"endlinecolor\":\"#2a3f5f\",\"gridcolor\":\"white\",\"linecolor\":\"white\",\"minorgridcolor\":\"white\",\"startlinecolor\":\"#2a3f5f\"},\"baxis\":{\"endlinecolor\":\"#2a3f5f\",\"gridcolor\":\"white\",\"linecolor\":\"white\",\"minorgridcolor\":\"white\",\"startlinecolor\":\"#2a3f5f\"},\"type\":\"carpet\"}],\"table\":[{\"cells\":{\"fill\":{\"color\":\"#EBF0F8\"},\"line\":{\"color\":\"white\"}},\"header\":{\"fill\":{\"color\":\"#C8D4E3\"},\"line\":{\"color\":\"white\"}},\"type\":\"table\"}],\"barpolar\":[{\"marker\":{\"line\":{\"color\":\"#E5ECF6\",\"width\":0.5},\"pattern\":{\"fillmode\":\"overlay\",\"size\":10,\"solidity\":0.2}},\"type\":\"barpolar\"}],\"pie\":[{\"automargin\":true,\"type\":\"pie\"}]},\"layout\":{\"autotypenumbers\":\"strict\",\"colorway\":[\"#636efa\",\"#EF553B\",\"#00cc96\",\"#ab63fa\",\"#FFA15A\",\"#19d3f3\",\"#FF6692\",\"#B6E880\",\"#FF97FF\",\"#FECB52\"],\"font\":{\"color\":\"#2a3f5f\"},\"hovermode\":\"closest\",\"hoverlabel\":{\"align\":\"left\"},\"paper_bgcolor\":\"white\",\"plot_bgcolor\":\"#E5ECF6\",\"polar\":{\"bgcolor\":\"#E5ECF6\",\"angularaxis\":{\"gridcolor\":\"white\",\"linecolor\":\"white\",\"ticks\":\"\"},\"radialaxis\":{\"gridcolor\":\"white\",\"linecolor\":\"white\",\"ticks\":\"\"}},\"ternary\":{\"bgcolor\":\"#E5ECF6\",\"aaxis\":{\"gridcolor\":\"white\",\"linecolor\":\"white\",\"ticks\":\"\"},\"baxis\":{\"gridcolor\":\"white\",\"linecolor\":\"white\",\"ticks\":\"\"},\"caxis\":{\"gridcolor\":\"white\",\"linecolor\":\"white\",\"ticks\":\"\"}},\"coloraxis\":{\"colorbar\":{\"outlinewidth\":0,\"ticks\":\"\"}},\"colorscale\":{\"sequential\":[[0.0,\"#0d0887\"],[0.1111111111111111,\"#46039f\"],[0.2222222222222222,\"#7201a8\"],[0.3333333333333333,\"#9c179e\"],[0.4444444444444444,\"#bd3786\"],[0.5555555555555556,\"#d8576b\"],[0.6666666666666666,\"#ed7953\"],[0.7777777777777778,\"#fb9f3a\"],[0.8888888888888888,\"#fdca26\"],[1.0,\"#f0f921\"]],\"sequentialminus\":[[0.0,\"#0d0887\"],[0.1111111111111111,\"#46039f\"],[0.2222222222222222,\"#7201a8\"],[0.3333333333333333,\"#9c179e\"],[0.4444444444444444,\"#bd3786\"],[0.5555555555555556,\"#d8576b\"],[0.6666666666666666,\"#ed7953\"],[0.7777777777777778,\"#fb9f3a\"],[0.8888888888888888,\"#fdca26\"],[1.0,\"#f0f921\"]],\"diverging\":[[0,\"#8e0152\"],[0.1,\"#c51b7d\"],[0.2,\"#de77ae\"],[0.3,\"#f1b6da\"],[0.4,\"#fde0ef\"],[0.5,\"#f7f7f7\"],[0.6,\"#e6f5d0\"],[0.7,\"#b8e186\"],[0.8,\"#7fbc41\"],[0.9,\"#4d9221\"],[1,\"#276419\"]]},\"xaxis\":{\"gridcolor\":\"white\",\"linecolor\":\"white\",\"ticks\":\"\",\"title\":{\"standoff\":15},\"zerolinecolor\":\"white\",\"automargin\":true,\"zerolinewidth\":2},\"yaxis\":{\"gridcolor\":\"white\",\"linecolor\":\"white\",\"ticks\":\"\",\"title\":{\"standoff\":15},\"zerolinecolor\":\"white\",\"automargin\":true,\"zerolinewidth\":2},\"scene\":{\"xaxis\":{\"backgroundcolor\":\"#E5ECF6\",\"gridcolor\":\"white\",\"linecolor\":\"white\",\"showbackground\":true,\"ticks\":\"\",\"zerolinecolor\":\"white\",\"gridwidth\":2},\"yaxis\":{\"backgroundcolor\":\"#E5ECF6\",\"gridcolor\":\"white\",\"linecolor\":\"white\",\"showbackground\":true,\"ticks\":\"\",\"zerolinecolor\":\"white\",\"gridwidth\":2},\"zaxis\":{\"backgroundcolor\":\"#E5ECF6\",\"gridcolor\":\"white\",\"linecolor\":\"white\",\"showbackground\":true,\"ticks\":\"\",\"zerolinecolor\":\"white\",\"gridwidth\":2}},\"shapedefaults\":{\"line\":{\"color\":\"#2a3f5f\"}},\"annotationdefaults\":{\"arrowcolor\":\"#2a3f5f\",\"arrowhead\":0,\"arrowwidth\":1},\"geo\":{\"bgcolor\":\"white\",\"landcolor\":\"#E5ECF6\",\"subunitcolor\":\"white\",\"showland\":true,\"showlakes\":true,\"lakecolor\":\"white\"},\"title\":{\"x\":0.05},\"mapbox\":{\"style\":\"light\"}}},\"font\":{\"size\":18,\"color\":\"black\"},\"xaxis\":{\"tickfont\":{\"size\":20,\"color\":\"black\"},\"title\":{\"text\":\"Escolaridade\"},\"linewidth\":2,\"linecolor\":\"black\",\"mirror\":true},\"yaxis\":{\"tickfont\":{\"size\":20,\"color\":\"black\"},\"linewidth\":2,\"linecolor\":\"black\",\"mirror\":true},\"width\":800,\"height\":700,\"plot_bgcolor\":\"#FFFFFF\",\"showlegend\":false},                        {\"responsive\": true}                    ).then(function(){\n",
              "                            \n",
              "var gd = document.getElementById('4c5b2c79-6880-4b0f-beda-7af31592ad19');\n",
              "var x = new MutationObserver(function (mutations, observer) {{\n",
              "        var display = window.getComputedStyle(gd).display;\n",
              "        if (!display || display === 'none') {{\n",
              "            console.log([gd, 'removed!']);\n",
              "            Plotly.purge(gd);\n",
              "            observer.disconnect();\n",
              "        }}\n",
              "}});\n",
              "\n",
              "// Listen for the removal of the full notebook cells\n",
              "var notebookContainer = gd.closest('#notebook-container');\n",
              "if (notebookContainer) {{\n",
              "    x.observe(notebookContainer, {childList: true});\n",
              "}}\n",
              "\n",
              "// Listen for the clearing of the current output cell\n",
              "var outputEl = gd.closest('.output');\n",
              "if (outputEl) {{\n",
              "    x.observe(outputEl, {childList: true});\n",
              "}}\n",
              "\n",
              "                        })                };                            </script>        </div>\n",
              "</body>\n",
              "</html>"
            ]
          },
          "metadata": {}
        }
      ],
      "source": [
        "generate_chart(df3, 'Escolaridade', 800, 700)"
      ]
    },
    {
      "cell_type": "code",
      "execution_count": 65,
      "metadata": {
        "id": "_A-bO8-yl3uG",
        "colab": {
          "base_uri": "https://localhost:8080/",
          "height": 617
        },
        "outputId": "5be57389-f9ed-48ed-c5d6-019cff44cdc4"
      },
      "outputs": [
        {
          "output_type": "display_data",
          "data": {
            "text/html": [
              "<html>\n",
              "<head><meta charset=\"utf-8\" /></head>\n",
              "<body>\n",
              "    <div>            <script src=\"https://cdnjs.cloudflare.com/ajax/libs/mathjax/2.7.5/MathJax.js?config=TeX-AMS-MML_SVG\"></script><script type=\"text/javascript\">if (window.MathJax && window.MathJax.Hub && window.MathJax.Hub.Config) {window.MathJax.Hub.Config({SVG: {font: \"STIX-Web\"}});}</script>                <script type=\"text/javascript\">window.PlotlyConfig = {MathJaxConfig: 'local'};</script>\n",
              "        <script charset=\"utf-8\" src=\"https://cdn.plot.ly/plotly-2.24.1.min.js\"></script>                <div id=\"b4cf8a35-41cc-4710-a3bc-33f0c02fcfda\" class=\"plotly-graph-div\" style=\"height:600px; width:800px;\"></div>            <script type=\"text/javascript\">                                    window.PLOTLYENV=window.PLOTLYENV || {};                                    if (document.getElementById(\"b4cf8a35-41cc-4710-a3bc-33f0c02fcfda\")) {                    Plotly.newPlot(                        \"b4cf8a35-41cc-4710-a3bc-33f0c02fcfda\",                        [{\"hoverinfo\":\"text+x+y\",\"marker\":{\"color\":\"red\",\"size\":[5.7,9.3,2.0,64.0,19.1],\"line\":{\"color\":\"black\",\"width\":2}},\"mode\":\"markers+text\",\"name\":\"Grupo 0\",\"text\":[\"5.7%\",\"9.3%\",\"2.0%\",\"64.0%\",\"19.1%\"],\"textfont\":{\"color\":\"red\",\"size\":20},\"x\":[\"Centro-Oeste\",\"Norte\",\"Nordeste\",\"Sudeste\",\"Sul\"],\"y\":[\"Grupo 0\",\"Grupo 0\",\"Grupo 0\",\"Grupo 0\",\"Grupo 0\"],\"type\":\"scatter\",\"textposition\":\"bottom center\"},{\"hoverinfo\":\"text+x+y\",\"marker\":{\"color\":\"blue\",\"size\":[7.6,16.3,3.1,19.3,53.7],\"line\":{\"color\":\"black\",\"width\":2}},\"mode\":\"markers+text\",\"name\":\"Grupo 1\",\"text\":[\"7.6%\",\"16.3%\",\"3.1%\",\"19.3%\",\"53.7%\"],\"textfont\":{\"color\":\"blue\",\"size\":20},\"x\":[\"Centro-Oeste\",\"Norte\",\"Nordeste\",\"Sudeste\",\"Sul\"],\"y\":[\"Grupo 1\",\"Grupo 1\",\"Grupo 1\",\"Grupo 1\",\"Grupo 1\"],\"type\":\"scatter\",\"textposition\":\"bottom center\"},{\"hoverinfo\":\"text+x+y\",\"marker\":{\"color\":\"darkorange\",\"size\":[6.9,55.0,3.3,20.0,14.7],\"line\":{\"color\":\"black\",\"width\":2}},\"mode\":\"markers+text\",\"name\":\"Grupo 2\",\"text\":[\"6.9%\",\"55.0%\",\"3.3%\",\"20.0%\",\"14.7%\"],\"textfont\":{\"color\":\"darkorange\",\"size\":20},\"x\":[\"Centro-Oeste\",\"Norte\",\"Nordeste\",\"Sudeste\",\"Sul\"],\"y\":[\"Grupo 2\",\"Grupo 2\",\"Grupo 2\",\"Grupo 2\",\"Grupo 2\"],\"type\":\"scatter\",\"textposition\":\"bottom center\"},{\"hoverinfo\":\"text+x+y\",\"marker\":{\"color\":\"green\",\"size\":[8.7,17.7,5.9,64.6,3.0],\"line\":{\"color\":\"black\",\"width\":2}},\"mode\":\"markers+text\",\"name\":\"Grupo 3\",\"text\":[\"8.7%\",\"17.7%\",\"5.9%\",\"64.6%\",\"3.0%\"],\"textfont\":{\"color\":\"green\",\"size\":20},\"x\":[\"Centro-Oeste\",\"Norte\",\"Nordeste\",\"Sudeste\",\"Sul\"],\"y\":[\"Grupo 3\",\"Grupo 3\",\"Grupo 3\",\"Grupo 3\",\"Grupo 3\"],\"type\":\"scatter\",\"textposition\":\"bottom center\"}],                        {\"template\":{\"data\":{\"histogram2dcontour\":[{\"type\":\"histogram2dcontour\",\"colorbar\":{\"outlinewidth\":0,\"ticks\":\"\"},\"colorscale\":[[0.0,\"#0d0887\"],[0.1111111111111111,\"#46039f\"],[0.2222222222222222,\"#7201a8\"],[0.3333333333333333,\"#9c179e\"],[0.4444444444444444,\"#bd3786\"],[0.5555555555555556,\"#d8576b\"],[0.6666666666666666,\"#ed7953\"],[0.7777777777777778,\"#fb9f3a\"],[0.8888888888888888,\"#fdca26\"],[1.0,\"#f0f921\"]]}],\"choropleth\":[{\"type\":\"choropleth\",\"colorbar\":{\"outlinewidth\":0,\"ticks\":\"\"}}],\"histogram2d\":[{\"type\":\"histogram2d\",\"colorbar\":{\"outlinewidth\":0,\"ticks\":\"\"},\"colorscale\":[[0.0,\"#0d0887\"],[0.1111111111111111,\"#46039f\"],[0.2222222222222222,\"#7201a8\"],[0.3333333333333333,\"#9c179e\"],[0.4444444444444444,\"#bd3786\"],[0.5555555555555556,\"#d8576b\"],[0.6666666666666666,\"#ed7953\"],[0.7777777777777778,\"#fb9f3a\"],[0.8888888888888888,\"#fdca26\"],[1.0,\"#f0f921\"]]}],\"heatmap\":[{\"type\":\"heatmap\",\"colorbar\":{\"outlinewidth\":0,\"ticks\":\"\"},\"colorscale\":[[0.0,\"#0d0887\"],[0.1111111111111111,\"#46039f\"],[0.2222222222222222,\"#7201a8\"],[0.3333333333333333,\"#9c179e\"],[0.4444444444444444,\"#bd3786\"],[0.5555555555555556,\"#d8576b\"],[0.6666666666666666,\"#ed7953\"],[0.7777777777777778,\"#fb9f3a\"],[0.8888888888888888,\"#fdca26\"],[1.0,\"#f0f921\"]]}],\"heatmapgl\":[{\"type\":\"heatmapgl\",\"colorbar\":{\"outlinewidth\":0,\"ticks\":\"\"},\"colorscale\":[[0.0,\"#0d0887\"],[0.1111111111111111,\"#46039f\"],[0.2222222222222222,\"#7201a8\"],[0.3333333333333333,\"#9c179e\"],[0.4444444444444444,\"#bd3786\"],[0.5555555555555556,\"#d8576b\"],[0.6666666666666666,\"#ed7953\"],[0.7777777777777778,\"#fb9f3a\"],[0.8888888888888888,\"#fdca26\"],[1.0,\"#f0f921\"]]}],\"contourcarpet\":[{\"type\":\"contourcarpet\",\"colorbar\":{\"outlinewidth\":0,\"ticks\":\"\"}}],\"contour\":[{\"type\":\"contour\",\"colorbar\":{\"outlinewidth\":0,\"ticks\":\"\"},\"colorscale\":[[0.0,\"#0d0887\"],[0.1111111111111111,\"#46039f\"],[0.2222222222222222,\"#7201a8\"],[0.3333333333333333,\"#9c179e\"],[0.4444444444444444,\"#bd3786\"],[0.5555555555555556,\"#d8576b\"],[0.6666666666666666,\"#ed7953\"],[0.7777777777777778,\"#fb9f3a\"],[0.8888888888888888,\"#fdca26\"],[1.0,\"#f0f921\"]]}],\"surface\":[{\"type\":\"surface\",\"colorbar\":{\"outlinewidth\":0,\"ticks\":\"\"},\"colorscale\":[[0.0,\"#0d0887\"],[0.1111111111111111,\"#46039f\"],[0.2222222222222222,\"#7201a8\"],[0.3333333333333333,\"#9c179e\"],[0.4444444444444444,\"#bd3786\"],[0.5555555555555556,\"#d8576b\"],[0.6666666666666666,\"#ed7953\"],[0.7777777777777778,\"#fb9f3a\"],[0.8888888888888888,\"#fdca26\"],[1.0,\"#f0f921\"]]}],\"mesh3d\":[{\"type\":\"mesh3d\",\"colorbar\":{\"outlinewidth\":0,\"ticks\":\"\"}}],\"scatter\":[{\"fillpattern\":{\"fillmode\":\"overlay\",\"size\":10,\"solidity\":0.2},\"type\":\"scatter\"}],\"parcoords\":[{\"type\":\"parcoords\",\"line\":{\"colorbar\":{\"outlinewidth\":0,\"ticks\":\"\"}}}],\"scatterpolargl\":[{\"type\":\"scatterpolargl\",\"marker\":{\"colorbar\":{\"outlinewidth\":0,\"ticks\":\"\"}}}],\"bar\":[{\"error_x\":{\"color\":\"#2a3f5f\"},\"error_y\":{\"color\":\"#2a3f5f\"},\"marker\":{\"line\":{\"color\":\"#E5ECF6\",\"width\":0.5},\"pattern\":{\"fillmode\":\"overlay\",\"size\":10,\"solidity\":0.2}},\"type\":\"bar\"}],\"scattergeo\":[{\"type\":\"scattergeo\",\"marker\":{\"colorbar\":{\"outlinewidth\":0,\"ticks\":\"\"}}}],\"scatterpolar\":[{\"type\":\"scatterpolar\",\"marker\":{\"colorbar\":{\"outlinewidth\":0,\"ticks\":\"\"}}}],\"histogram\":[{\"marker\":{\"pattern\":{\"fillmode\":\"overlay\",\"size\":10,\"solidity\":0.2}},\"type\":\"histogram\"}],\"scattergl\":[{\"type\":\"scattergl\",\"marker\":{\"colorbar\":{\"outlinewidth\":0,\"ticks\":\"\"}}}],\"scatter3d\":[{\"type\":\"scatter3d\",\"line\":{\"colorbar\":{\"outlinewidth\":0,\"ticks\":\"\"}},\"marker\":{\"colorbar\":{\"outlinewidth\":0,\"ticks\":\"\"}}}],\"scattermapbox\":[{\"type\":\"scattermapbox\",\"marker\":{\"colorbar\":{\"outlinewidth\":0,\"ticks\":\"\"}}}],\"scatterternary\":[{\"type\":\"scatterternary\",\"marker\":{\"colorbar\":{\"outlinewidth\":0,\"ticks\":\"\"}}}],\"scattercarpet\":[{\"type\":\"scattercarpet\",\"marker\":{\"colorbar\":{\"outlinewidth\":0,\"ticks\":\"\"}}}],\"carpet\":[{\"aaxis\":{\"endlinecolor\":\"#2a3f5f\",\"gridcolor\":\"white\",\"linecolor\":\"white\",\"minorgridcolor\":\"white\",\"startlinecolor\":\"#2a3f5f\"},\"baxis\":{\"endlinecolor\":\"#2a3f5f\",\"gridcolor\":\"white\",\"linecolor\":\"white\",\"minorgridcolor\":\"white\",\"startlinecolor\":\"#2a3f5f\"},\"type\":\"carpet\"}],\"table\":[{\"cells\":{\"fill\":{\"color\":\"#EBF0F8\"},\"line\":{\"color\":\"white\"}},\"header\":{\"fill\":{\"color\":\"#C8D4E3\"},\"line\":{\"color\":\"white\"}},\"type\":\"table\"}],\"barpolar\":[{\"marker\":{\"line\":{\"color\":\"#E5ECF6\",\"width\":0.5},\"pattern\":{\"fillmode\":\"overlay\",\"size\":10,\"solidity\":0.2}},\"type\":\"barpolar\"}],\"pie\":[{\"automargin\":true,\"type\":\"pie\"}]},\"layout\":{\"autotypenumbers\":\"strict\",\"colorway\":[\"#636efa\",\"#EF553B\",\"#00cc96\",\"#ab63fa\",\"#FFA15A\",\"#19d3f3\",\"#FF6692\",\"#B6E880\",\"#FF97FF\",\"#FECB52\"],\"font\":{\"color\":\"#2a3f5f\"},\"hovermode\":\"closest\",\"hoverlabel\":{\"align\":\"left\"},\"paper_bgcolor\":\"white\",\"plot_bgcolor\":\"#E5ECF6\",\"polar\":{\"bgcolor\":\"#E5ECF6\",\"angularaxis\":{\"gridcolor\":\"white\",\"linecolor\":\"white\",\"ticks\":\"\"},\"radialaxis\":{\"gridcolor\":\"white\",\"linecolor\":\"white\",\"ticks\":\"\"}},\"ternary\":{\"bgcolor\":\"#E5ECF6\",\"aaxis\":{\"gridcolor\":\"white\",\"linecolor\":\"white\",\"ticks\":\"\"},\"baxis\":{\"gridcolor\":\"white\",\"linecolor\":\"white\",\"ticks\":\"\"},\"caxis\":{\"gridcolor\":\"white\",\"linecolor\":\"white\",\"ticks\":\"\"}},\"coloraxis\":{\"colorbar\":{\"outlinewidth\":0,\"ticks\":\"\"}},\"colorscale\":{\"sequential\":[[0.0,\"#0d0887\"],[0.1111111111111111,\"#46039f\"],[0.2222222222222222,\"#7201a8\"],[0.3333333333333333,\"#9c179e\"],[0.4444444444444444,\"#bd3786\"],[0.5555555555555556,\"#d8576b\"],[0.6666666666666666,\"#ed7953\"],[0.7777777777777778,\"#fb9f3a\"],[0.8888888888888888,\"#fdca26\"],[1.0,\"#f0f921\"]],\"sequentialminus\":[[0.0,\"#0d0887\"],[0.1111111111111111,\"#46039f\"],[0.2222222222222222,\"#7201a8\"],[0.3333333333333333,\"#9c179e\"],[0.4444444444444444,\"#bd3786\"],[0.5555555555555556,\"#d8576b\"],[0.6666666666666666,\"#ed7953\"],[0.7777777777777778,\"#fb9f3a\"],[0.8888888888888888,\"#fdca26\"],[1.0,\"#f0f921\"]],\"diverging\":[[0,\"#8e0152\"],[0.1,\"#c51b7d\"],[0.2,\"#de77ae\"],[0.3,\"#f1b6da\"],[0.4,\"#fde0ef\"],[0.5,\"#f7f7f7\"],[0.6,\"#e6f5d0\"],[0.7,\"#b8e186\"],[0.8,\"#7fbc41\"],[0.9,\"#4d9221\"],[1,\"#276419\"]]},\"xaxis\":{\"gridcolor\":\"white\",\"linecolor\":\"white\",\"ticks\":\"\",\"title\":{\"standoff\":15},\"zerolinecolor\":\"white\",\"automargin\":true,\"zerolinewidth\":2},\"yaxis\":{\"gridcolor\":\"white\",\"linecolor\":\"white\",\"ticks\":\"\",\"title\":{\"standoff\":15},\"zerolinecolor\":\"white\",\"automargin\":true,\"zerolinewidth\":2},\"scene\":{\"xaxis\":{\"backgroundcolor\":\"#E5ECF6\",\"gridcolor\":\"white\",\"linecolor\":\"white\",\"showbackground\":true,\"ticks\":\"\",\"zerolinecolor\":\"white\",\"gridwidth\":2},\"yaxis\":{\"backgroundcolor\":\"#E5ECF6\",\"gridcolor\":\"white\",\"linecolor\":\"white\",\"showbackground\":true,\"ticks\":\"\",\"zerolinecolor\":\"white\",\"gridwidth\":2},\"zaxis\":{\"backgroundcolor\":\"#E5ECF6\",\"gridcolor\":\"white\",\"linecolor\":\"white\",\"showbackground\":true,\"ticks\":\"\",\"zerolinecolor\":\"white\",\"gridwidth\":2}},\"shapedefaults\":{\"line\":{\"color\":\"#2a3f5f\"}},\"annotationdefaults\":{\"arrowcolor\":\"#2a3f5f\",\"arrowhead\":0,\"arrowwidth\":1},\"geo\":{\"bgcolor\":\"white\",\"landcolor\":\"#E5ECF6\",\"subunitcolor\":\"white\",\"showland\":true,\"showlakes\":true,\"lakecolor\":\"white\"},\"title\":{\"x\":0.05},\"mapbox\":{\"style\":\"light\"}}},\"font\":{\"size\":18,\"color\":\"black\"},\"xaxis\":{\"tickfont\":{\"size\":20,\"color\":\"black\"},\"title\":{\"text\":\"Regi\\u00e3o\"},\"linewidth\":2,\"linecolor\":\"black\",\"mirror\":true},\"yaxis\":{\"tickfont\":{\"size\":20,\"color\":\"black\"},\"linewidth\":2,\"linecolor\":\"black\",\"mirror\":true},\"width\":800,\"height\":600,\"plot_bgcolor\":\"#FFFFFF\",\"showlegend\":false},                        {\"responsive\": true}                    ).then(function(){\n",
              "                            \n",
              "var gd = document.getElementById('b4cf8a35-41cc-4710-a3bc-33f0c02fcfda');\n",
              "var x = new MutationObserver(function (mutations, observer) {{\n",
              "        var display = window.getComputedStyle(gd).display;\n",
              "        if (!display || display === 'none') {{\n",
              "            console.log([gd, 'removed!']);\n",
              "            Plotly.purge(gd);\n",
              "            observer.disconnect();\n",
              "        }}\n",
              "}});\n",
              "\n",
              "// Listen for the removal of the full notebook cells\n",
              "var notebookContainer = gd.closest('#notebook-container');\n",
              "if (notebookContainer) {{\n",
              "    x.observe(notebookContainer, {childList: true});\n",
              "}}\n",
              "\n",
              "// Listen for the clearing of the current output cell\n",
              "var outputEl = gd.closest('.output');\n",
              "if (outputEl) {{\n",
              "    x.observe(outputEl, {childList: true});\n",
              "}}\n",
              "\n",
              "                        })                };                            </script>        </div>\n",
              "</body>\n",
              "</html>"
            ]
          },
          "metadata": {}
        }
      ],
      "source": [
        "generate_chart(df3, 'Regiao', 800, 600)"
      ]
    },
    {
      "cell_type": "markdown",
      "source": [
        "# Rules Association"
      ],
      "metadata": {
        "id": "vMa2kBbsJotv"
      }
    },
    {
      "cell_type": "code",
      "execution_count": 66,
      "metadata": {
        "id": "xKOuVkFXRpf5"
      },
      "outputs": [],
      "source": [
        "from efficient_apriori import apriori\n",
        "import pandas as pd2"
      ]
    },
    {
      "cell_type": "code",
      "execution_count": 67,
      "metadata": {
        "id": "TbzzMl3HR0KY"
      },
      "outputs": [],
      "source": [
        "# Convert/Format the dataframe into a list of lists\n",
        "lista_causas = []\n",
        "df_causas2 = df_causas.to_pandas()\n",
        "for i in range(len(df_causas)):\n",
        "  lista_causas.append([str(df_causas2.values[i, j]) for j in range(df_causas2.shape[1]) if pd2.notna(df_causas2.values[i, j])])\n"
      ]
    },
    {
      "cell_type": "code",
      "source": [
        "lista_causas = remove_duplicates_causas(lista_causas)"
      ],
      "metadata": {
        "id": "t1YzGA8rZnqv",
        "colab": {
          "base_uri": "https://localhost:8080/"
        },
        "outputId": "7110abcb-b6c3-4761-8a49-95267ebbace2"
      },
      "execution_count": 68,
      "outputs": [
        {
          "output_type": "stream",
          "name": "stdout",
          "text": [
            "After removing duplicate rows from the list: 119083\n"
          ]
        }
      ]
    },
    {
      "cell_type": "code",
      "source": [
        "# Execute apriori and Generate Rules Association\n",
        "results_rules = {'Antecedent': [], 'Consequent': [], 'Support': [], 'Confidence': [], 'Lift': [], 'RPF': [], 'Conviction': []}\n",
        "str_ruleslhs = ''\n",
        "\n",
        "itemsets, rules = apriori(lista_causas, min_support = 0.02, min_confidence = 0.3)\n",
        "for rule in rules:\n",
        "\n",
        "  results_rules['Antecedent'].append(', '.join(rule.lhs))\n",
        "  results_rules['Consequent'].append(', '.join(rule.rhs))\n",
        "  results_rules['Support'].append(rule.support)\n",
        "  results_rules['Confidence'].append(rule.confidence)\n",
        "  results_rules['Lift'].append(rule.lift)\n",
        "  results_rules['RPF'].append(rule.rpf)\n",
        "  results_rules['Conviction'].append(rule.conviction)\n",
        "df_rules = pd.DataFrame(results_rules)\n",
        "df_rules = df_rules.sort_values(by = 'Confidence', ascending = False)\n",
        "df_rules['% Support'] = ((df_rules['Support']*100).round(2)).astype(str) + '%'\n",
        "df_rules['% Confidence'] = ((df_rules['Confidence']*100).round(2)).astype(str)+ '%'\n",
        "df_rules['Lift'] = df_rules['Lift'].round(2)\n",
        "\n",
        "df_rules[['Antecedent','Consequent','% Support','% Confidence','Lift']]"
      ],
      "metadata": {
        "id": "HN0T4pDZVGPe",
        "colab": {
          "base_uri": "https://localhost:8080/",
          "height": 300
        },
        "outputId": "83756b15-5b77-4375-948d-443f4cfa574e"
      },
      "execution_count": 69,
      "outputs": [
        {
          "output_type": "execute_result",
          "data": {
            "text/plain": [
              "  Antecedent Consequent % Support % Confidence  Lift\n",
              "4        L89        A41     2.48%       72.34%  2.55\n",
              "5        N39        A41     2.55%       58.37%  2.06\n",
              "2        A41        J18    13.19%       46.48%  1.50\n",
              "0        J15        A41     3.36%       44.38%  1.56\n",
              "1        J18        A41    13.19%       42.49%  1.50\n",
              "6        J96        J18     8.83%        38.1%  1.23\n",
              "3        J69        A41     3.86%       36.29%  1.28\n",
              "7        J69        J96     3.59%       33.73%  1.46"
            ],
            "text/html": [
              "<div>\n",
              "<style scoped>\n",
              "    .dataframe tbody tr th:only-of-type {\n",
              "        vertical-align: middle;\n",
              "    }\n",
              "\n",
              "    .dataframe tbody tr th {\n",
              "        vertical-align: top;\n",
              "    }\n",
              "\n",
              "    .dataframe thead th {\n",
              "        text-align: right;\n",
              "    }\n",
              "</style>\n",
              "<table border=\"1\" class=\"dataframe\">\n",
              "  <thead>\n",
              "    <tr style=\"text-align: right;\">\n",
              "      <th></th>\n",
              "      <th>Antecedent</th>\n",
              "      <th>Consequent</th>\n",
              "      <th>% Support</th>\n",
              "      <th>% Confidence</th>\n",
              "      <th>Lift</th>\n",
              "    </tr>\n",
              "  </thead>\n",
              "  <tbody>\n",
              "    <tr>\n",
              "      <th>4</th>\n",
              "      <td>L89</td>\n",
              "      <td>A41</td>\n",
              "      <td>2.48%</td>\n",
              "      <td>72.34%</td>\n",
              "      <td>2.55</td>\n",
              "    </tr>\n",
              "    <tr>\n",
              "      <th>5</th>\n",
              "      <td>N39</td>\n",
              "      <td>A41</td>\n",
              "      <td>2.55%</td>\n",
              "      <td>58.37%</td>\n",
              "      <td>2.06</td>\n",
              "    </tr>\n",
              "    <tr>\n",
              "      <th>2</th>\n",
              "      <td>A41</td>\n",
              "      <td>J18</td>\n",
              "      <td>13.19%</td>\n",
              "      <td>46.48%</td>\n",
              "      <td>1.50</td>\n",
              "    </tr>\n",
              "    <tr>\n",
              "      <th>0</th>\n",
              "      <td>J15</td>\n",
              "      <td>A41</td>\n",
              "      <td>3.36%</td>\n",
              "      <td>44.38%</td>\n",
              "      <td>1.56</td>\n",
              "    </tr>\n",
              "    <tr>\n",
              "      <th>1</th>\n",
              "      <td>J18</td>\n",
              "      <td>A41</td>\n",
              "      <td>13.19%</td>\n",
              "      <td>42.49%</td>\n",
              "      <td>1.50</td>\n",
              "    </tr>\n",
              "    <tr>\n",
              "      <th>6</th>\n",
              "      <td>J96</td>\n",
              "      <td>J18</td>\n",
              "      <td>8.83%</td>\n",
              "      <td>38.1%</td>\n",
              "      <td>1.23</td>\n",
              "    </tr>\n",
              "    <tr>\n",
              "      <th>3</th>\n",
              "      <td>J69</td>\n",
              "      <td>A41</td>\n",
              "      <td>3.86%</td>\n",
              "      <td>36.29%</td>\n",
              "      <td>1.28</td>\n",
              "    </tr>\n",
              "    <tr>\n",
              "      <th>7</th>\n",
              "      <td>J69</td>\n",
              "      <td>J96</td>\n",
              "      <td>3.59%</td>\n",
              "      <td>33.73%</td>\n",
              "      <td>1.46</td>\n",
              "    </tr>\n",
              "  </tbody>\n",
              "</table>\n",
              "</div>"
            ]
          },
          "metadata": {},
          "execution_count": 69
        }
      ]
    },
    {
      "cell_type": "code",
      "source": [
        "print('Generate strong rules:', df_rules.shape[0])"
      ],
      "metadata": {
        "id": "MA7CZj0gCfCx",
        "colab": {
          "base_uri": "https://localhost:8080/"
        },
        "outputId": "12bfb87c-ba9c-40dd-d9e4-26cd04e7b724"
      },
      "execution_count": 70,
      "outputs": [
        {
          "output_type": "stream",
          "name": "stdout",
          "text": [
            "Generate strong rules: 8\n"
          ]
        }
      ]
    },
    {
      "cell_type": "code",
      "source": [
        "df_cat[df_cat['cid'].isin(['A41','L89','N39','J96','J18','J15','J96','J69'])]"
      ],
      "metadata": {
        "id": "N0Bi7RDHQc5p",
        "colab": {
          "base_uri": "https://localhost:8080/",
          "height": 269
        },
        "outputId": "be502907-b791-49d1-c004-cacf110201ad"
      },
      "execution_count": 71,
      "outputs": [
        {
          "output_type": "execute_result",
          "data": {
            "text/plain": [
              "      cid                                          descricao\n",
              "35    A41                                 Outras septicemias\n",
              "720   J15  Pneumonia bacteriana não classificada em outra...\n",
              "723   J18      Pneumonia por microorganismo não especificada\n",
              "754   J69             Pneumonite devida a sólidos e líquidos\n",
              "768   J96  Insuficiência respiratória não classificada de...\n",
              "904   L89                                 Úlcera de decúbito\n",
              "1029  N39               Outros transtornos do trato urinário"
            ],
            "text/html": [
              "<div>\n",
              "<style scoped>\n",
              "    .dataframe tbody tr th:only-of-type {\n",
              "        vertical-align: middle;\n",
              "    }\n",
              "\n",
              "    .dataframe tbody tr th {\n",
              "        vertical-align: top;\n",
              "    }\n",
              "\n",
              "    .dataframe thead th {\n",
              "        text-align: right;\n",
              "    }\n",
              "</style>\n",
              "<table border=\"1\" class=\"dataframe\">\n",
              "  <thead>\n",
              "    <tr style=\"text-align: right;\">\n",
              "      <th></th>\n",
              "      <th>cid</th>\n",
              "      <th>descricao</th>\n",
              "    </tr>\n",
              "  </thead>\n",
              "  <tbody>\n",
              "    <tr>\n",
              "      <th>35</th>\n",
              "      <td>A41</td>\n",
              "      <td>Outras septicemias</td>\n",
              "    </tr>\n",
              "    <tr>\n",
              "      <th>720</th>\n",
              "      <td>J15</td>\n",
              "      <td>Pneumonia bacteriana não classificada em outra...</td>\n",
              "    </tr>\n",
              "    <tr>\n",
              "      <th>723</th>\n",
              "      <td>J18</td>\n",
              "      <td>Pneumonia por microorganismo não especificada</td>\n",
              "    </tr>\n",
              "    <tr>\n",
              "      <th>754</th>\n",
              "      <td>J69</td>\n",
              "      <td>Pneumonite devida a sólidos e líquidos</td>\n",
              "    </tr>\n",
              "    <tr>\n",
              "      <th>768</th>\n",
              "      <td>J96</td>\n",
              "      <td>Insuficiência respiratória não classificada de...</td>\n",
              "    </tr>\n",
              "    <tr>\n",
              "      <th>904</th>\n",
              "      <td>L89</td>\n",
              "      <td>Úlcera de decúbito</td>\n",
              "    </tr>\n",
              "    <tr>\n",
              "      <th>1029</th>\n",
              "      <td>N39</td>\n",
              "      <td>Outros transtornos do trato urinário</td>\n",
              "    </tr>\n",
              "  </tbody>\n",
              "</table>\n",
              "</div>"
            ]
          },
          "metadata": {},
          "execution_count": 71
        }
      ]
    },
    {
      "cell_type": "code",
      "source": [
        "# Prepare Items sets to generate chart\n",
        "itens = []\n",
        "quantidades = []\n",
        "\n",
        "for k, v in itemsets.items():\n",
        "    for item, quantidade in v.items():\n",
        "        itens.append(', '.join(item))\n",
        "        quantidades.append(quantidade)\n",
        "df_itens = pd.DataFrame({'cid': itens, 'mortes': quantidades})\n",
        "df_itens = df_itens.sort_values(by = 'mortes', ascending = False)\n",
        "df_itens['porcentagem'] = ((df_itens['mortes'] / df_itens['mortes'].sum()) * 100).round(2)"
      ],
      "metadata": {
        "id": "Gjs6b5IutZMk"
      },
      "execution_count": 72,
      "outputs": []
    },
    {
      "cell_type": "code",
      "source": [
        "print('Generate items set: ', df_itens.shape[0])\n",
        "\n"
      ],
      "metadata": {
        "id": "Q-v4n9gtCCTL",
        "colab": {
          "base_uri": "https://localhost:8080/"
        },
        "outputId": "4a3feb8d-0014-4dd1-b2da-6845ae915a6b"
      },
      "execution_count": 73,
      "outputs": [
        {
          "output_type": "stream",
          "name": "stdout",
          "text": [
            "Generate items set:  27\n"
          ]
        }
      ]
    },
    {
      "cell_type": "code",
      "source": [
        "df_itens_10 = pd.merge(df_itens.head(10), df_cat, how=\"left\", on=['cid','cid'])\n",
        "df_itens_10.reset_index(inplace=True)"
      ],
      "metadata": {
        "id": "BjgGYEso6W9H"
      },
      "execution_count": 74,
      "outputs": []
    },
    {
      "cell_type": "code",
      "source": [
        "df_itens_10.loc[df_itens_10['cid'] == 'A41, J18', 'descricao'] = 'Outras septicemias + Pneumonia por microorganismo não especificada'\n",
        "df_itens_10.loc[df_itens_10['cid'] == 'J18, J96', 'descricao'] = 'Pneumonia por microorganismo não especificada + Insuficiência respiratória não classificada de outra parte'\n",
        "df_itens_10['Descrição'] = df_itens_10['cid'] + ' - ' + df_itens_10['descricao']\n",
        "df_itens_10 = df_itens_10.to_pandas()\n"
      ],
      "metadata": {
        "id": "e4DOVpfV6xbC"
      },
      "execution_count": 75,
      "outputs": []
    },
    {
      "cell_type": "code",
      "source": [
        "import plotly.express as px\n",
        "\n",
        "fig = px.bar(df_itens_10, x=df_itens_10['cid'], y=df_itens_10['porcentagem'],\n",
        "             color='Descrição',\n",
        "             height=500, width=1400,\n",
        "             labels={'porcentagem':'% Conjunto de Itens', 'cid': 'CID - Outras causas'},\n",
        "             text=df_itens_10['porcentagem'].astype(str)+'%')\n",
        "fig.show()"
      ],
      "metadata": {
        "id": "Gm1wOej26GTH",
        "colab": {
          "base_uri": "https://localhost:8080/",
          "height": 537
        },
        "outputId": "44d4f637-a46c-440d-e76e-2cdd31a675a8"
      },
      "execution_count": 76,
      "outputs": [
        {
          "output_type": "display_data",
          "data": {
            "text/html": [
              "<html>\n",
              "<head><meta charset=\"utf-8\" /></head>\n",
              "<body>\n",
              "    <div>            <script src=\"https://cdnjs.cloudflare.com/ajax/libs/mathjax/2.7.5/MathJax.js?config=TeX-AMS-MML_SVG\"></script><script type=\"text/javascript\">if (window.MathJax && window.MathJax.Hub && window.MathJax.Hub.Config) {window.MathJax.Hub.Config({SVG: {font: \"STIX-Web\"}});}</script>                <script type=\"text/javascript\">window.PlotlyConfig = {MathJaxConfig: 'local'};</script>\n",
              "        <script charset=\"utf-8\" src=\"https://cdn.plot.ly/plotly-2.24.1.min.js\"></script>                <div id=\"5347eaf4-0b5a-4385-8cd3-4f7ebb821457\" class=\"plotly-graph-div\" style=\"height:500px; width:1400px;\"></div>            <script type=\"text/javascript\">                                    window.PLOTLYENV=window.PLOTLYENV || {};                                    if (document.getElementById(\"5347eaf4-0b5a-4385-8cd3-4f7ebb821457\")) {                    Plotly.newPlot(                        \"5347eaf4-0b5a-4385-8cd3-4f7ebb821457\",                        [{\"alignmentgroup\":\"True\",\"hovertemplate\":\"Descri\\u00e7\\u00e3o=J18 - Pneumonia por microorganismo n\\u00e3o especificada\\u003cbr\\u003eCID - Outras causas=%{x}\\u003cbr\\u003e% Conjunto de Itens=%{y}\\u003cbr\\u003etext=%{text}\\u003cextra\\u003e\\u003c\\u002fextra\\u003e\",\"legendgroup\":\"J18 - Pneumonia por microorganismo n\\u00e3o especificada\",\"marker\":{\"color\":\"#636efa\",\"pattern\":{\"shape\":\"\"}},\"name\":\"J18 - Pneumonia por microorganismo n\\u00e3o especificada\",\"offsetgroup\":\"J18 - Pneumonia por microorganismo n\\u00e3o especificada\",\"orientation\":\"v\",\"showlegend\":true,\"text\":[\"15.48%\"],\"textposition\":\"auto\",\"x\":[\"J18\"],\"xaxis\":\"x\",\"y\":[15.48],\"yaxis\":\"y\",\"type\":\"bar\"},{\"alignmentgroup\":\"True\",\"hovertemplate\":\"Descri\\u00e7\\u00e3o=A41 - Outras septicemias\\u003cbr\\u003eCID - Outras causas=%{x}\\u003cbr\\u003e% Conjunto de Itens=%{y}\\u003cbr\\u003etext=%{text}\\u003cextra\\u003e\\u003c\\u002fextra\\u003e\",\"legendgroup\":\"A41 - Outras septicemias\",\"marker\":{\"color\":\"#EF553B\",\"pattern\":{\"shape\":\"\"}},\"name\":\"A41 - Outras septicemias\",\"offsetgroup\":\"A41 - Outras septicemias\",\"orientation\":\"v\",\"showlegend\":true,\"text\":[\"14.15%\"],\"textposition\":\"auto\",\"x\":[\"A41\"],\"xaxis\":\"x\",\"y\":[14.15],\"yaxis\":\"y\",\"type\":\"bar\"},{\"alignmentgroup\":\"True\",\"hovertemplate\":\"Descri\\u00e7\\u00e3o=J96 - Insufici\\u00eancia respirat\\u00f3ria n\\u00e3o classificada de outra parte\\u003cbr\\u003eCID - Outras causas=%{x}\\u003cbr\\u003e% Conjunto de Itens=%{y}\\u003cbr\\u003etext=%{text}\\u003cextra\\u003e\\u003c\\u002fextra\\u003e\",\"legendgroup\":\"J96 - Insufici\\u00eancia respirat\\u00f3ria n\\u00e3o classificada de outra parte\",\"marker\":{\"color\":\"#00cc96\",\"pattern\":{\"shape\":\"\"}},\"name\":\"J96 - Insufici\\u00eancia respirat\\u00f3ria n\\u00e3o classificada de outra parte\",\"offsetgroup\":\"J96 - Insufici\\u00eancia respirat\\u00f3ria n\\u00e3o classificada de outra parte\",\"orientation\":\"v\",\"showlegend\":true,\"text\":[\"11.56%\"],\"textposition\":\"auto\",\"x\":[\"J96\"],\"xaxis\":\"x\",\"y\":[11.56],\"yaxis\":\"y\",\"type\":\"bar\"},{\"alignmentgroup\":\"True\",\"hovertemplate\":\"Descri\\u00e7\\u00e3o=J69 - Pneumonite devida a s\\u00f3lidos e l\\u00edquidos\\u003cbr\\u003eCID - Outras causas=%{x}\\u003cbr\\u003e% Conjunto de Itens=%{y}\\u003cbr\\u003etext=%{text}\\u003cextra\\u003e\\u003c\\u002fextra\\u003e\",\"legendgroup\":\"J69 - Pneumonite devida a s\\u00f3lidos e l\\u00edquidos\",\"marker\":{\"color\":\"#ab63fa\",\"pattern\":{\"shape\":\"\"}},\"name\":\"J69 - Pneumonite devida a s\\u00f3lidos e l\\u00edquidos\",\"offsetgroup\":\"J69 - Pneumonite devida a s\\u00f3lidos e l\\u00edquidos\",\"orientation\":\"v\",\"showlegend\":true,\"text\":[\"5.3%\"],\"textposition\":\"auto\",\"x\":[\"J69\"],\"xaxis\":\"x\",\"y\":[5.3],\"yaxis\":\"y\",\"type\":\"bar\"},{\"alignmentgroup\":\"True\",\"hovertemplate\":\"Descri\\u00e7\\u00e3o=R09 - Outros sintomas e sinais relativos aos aparelhos circulat\\u00f3rio e respirat\\u00f3rio\\u003cbr\\u003eCID - Outras causas=%{x}\\u003cbr\\u003e% Conjunto de Itens=%{y}\\u003cbr\\u003etext=%{text}\\u003cextra\\u003e\\u003c\\u002fextra\\u003e\",\"legendgroup\":\"R09 - Outros sintomas e sinais relativos aos aparelhos circulat\\u00f3rio e respirat\\u00f3rio\",\"marker\":{\"color\":\"#FFA15A\",\"pattern\":{\"shape\":\"\"}},\"name\":\"R09 - Outros sintomas e sinais relativos aos aparelhos circulat\\u00f3rio e respirat\\u00f3rio\",\"offsetgroup\":\"R09 - Outros sintomas e sinais relativos aos aparelhos circulat\\u00f3rio e respirat\\u00f3rio\",\"orientation\":\"v\",\"showlegend\":true,\"text\":[\"4.37%\"],\"textposition\":\"auto\",\"x\":[\"R09\"],\"xaxis\":\"x\",\"y\":[4.37],\"yaxis\":\"y\",\"type\":\"bar\"},{\"alignmentgroup\":\"True\",\"hovertemplate\":\"Descri\\u00e7\\u00e3o=J15 - Pneumonia bacteriana n\\u00e3o classificada em outra parte\\u003cbr\\u003eCID - Outras causas=%{x}\\u003cbr\\u003e% Conjunto de Itens=%{y}\\u003cbr\\u003etext=%{text}\\u003cextra\\u003e\\u003c\\u002fextra\\u003e\",\"legendgroup\":\"J15 - Pneumonia bacteriana n\\u00e3o classificada em outra parte\",\"marker\":{\"color\":\"#19d3f3\",\"pattern\":{\"shape\":\"\"}},\"name\":\"J15 - Pneumonia bacteriana n\\u00e3o classificada em outra parte\",\"offsetgroup\":\"J15 - Pneumonia bacteriana n\\u00e3o classificada em outra parte\",\"orientation\":\"v\",\"showlegend\":true,\"text\":[\"3.77%\"],\"textposition\":\"auto\",\"x\":[\"J15\"],\"xaxis\":\"x\",\"y\":[3.77],\"yaxis\":\"y\",\"type\":\"bar\"},{\"alignmentgroup\":\"True\",\"hovertemplate\":\"Descri\\u00e7\\u00e3o=R68 - Outros sintomas e sinais gerais\\u003cbr\\u003eCID - Outras causas=%{x}\\u003cbr\\u003e% Conjunto de Itens=%{y}\\u003cbr\\u003etext=%{text}\\u003cextra\\u003e\\u003c\\u002fextra\\u003e\",\"legendgroup\":\"R68 - Outros sintomas e sinais gerais\",\"marker\":{\"color\":\"#FF6692\",\"pattern\":{\"shape\":\"\"}},\"name\":\"R68 - Outros sintomas e sinais gerais\",\"offsetgroup\":\"R68 - Outros sintomas e sinais gerais\",\"orientation\":\"v\",\"showlegend\":true,\"text\":[\"3.32%\"],\"textposition\":\"auto\",\"x\":[\"R68\"],\"xaxis\":\"x\",\"y\":[3.32],\"yaxis\":\"y\",\"type\":\"bar\"},{\"alignmentgroup\":\"True\",\"hovertemplate\":\"Descri\\u00e7\\u00e3o=R99 - Outras causas mal definidas e as n\\u00e3o especificadas de mortalidade\\u003cbr\\u003eCID - Outras causas=%{x}\\u003cbr\\u003e% Conjunto de Itens=%{y}\\u003cbr\\u003etext=%{text}\\u003cextra\\u003e\\u003c\\u002fextra\\u003e\",\"legendgroup\":\"R99 - Outras causas mal definidas e as n\\u00e3o especificadas de mortalidade\",\"marker\":{\"color\":\"#B6E880\",\"pattern\":{\"shape\":\"\"}},\"name\":\"R99 - Outras causas mal definidas e as n\\u00e3o especificadas de mortalidade\",\"offsetgroup\":\"R99 - Outras causas mal definidas e as n\\u00e3o especificadas de mortalidade\",\"orientation\":\"v\",\"showlegend\":true,\"text\":[\"3.23%\"],\"textposition\":\"auto\",\"x\":[\"R99\"],\"xaxis\":\"x\",\"y\":[3.23],\"yaxis\":\"y\",\"type\":\"bar\"},{\"alignmentgroup\":\"True\",\"hovertemplate\":\"Descri\\u00e7\\u00e3o=A41, J18 - Outras septicemias + Pneumonia por microorganismo n\\u00e3o especificada\\u003cbr\\u003eCID - Outras causas=%{x}\\u003cbr\\u003e% Conjunto de Itens=%{y}\\u003cbr\\u003etext=%{text}\\u003cextra\\u003e\\u003c\\u002fextra\\u003e\",\"legendgroup\":\"A41, J18 - Outras septicemias + Pneumonia por microorganismo n\\u00e3o especificada\",\"marker\":{\"color\":\"#FF97FF\",\"pattern\":{\"shape\":\"\"}},\"name\":\"A41, J18 - Outras septicemias + Pneumonia por microorganismo n\\u00e3o especificada\",\"offsetgroup\":\"A41, J18 - Outras septicemias + Pneumonia por microorganismo n\\u00e3o especificada\",\"orientation\":\"v\",\"showlegend\":true,\"text\":[\"6.58%\"],\"textposition\":\"auto\",\"x\":[\"A41, J18\"],\"xaxis\":\"x\",\"y\":[6.58],\"yaxis\":\"y\",\"type\":\"bar\"},{\"alignmentgroup\":\"True\",\"hovertemplate\":\"Descri\\u00e7\\u00e3o=J18, J96 - Pneumonia por microorganismo n\\u00e3o especificada + Insufici\\u00eancia respirat\\u00f3ria n\\u00e3o classificada de outra parte\\u003cbr\\u003eCID - Outras causas=%{x}\\u003cbr\\u003e% Conjunto de Itens=%{y}\\u003cbr\\u003etext=%{text}\\u003cextra\\u003e\\u003c\\u002fextra\\u003e\",\"legendgroup\":\"J18, J96 - Pneumonia por microorganismo n\\u00e3o especificada + Insufici\\u00eancia respirat\\u00f3ria n\\u00e3o classificada de outra parte\",\"marker\":{\"color\":\"#FECB52\",\"pattern\":{\"shape\":\"\"}},\"name\":\"J18, J96 - Pneumonia por microorganismo n\\u00e3o especificada + Insufici\\u00eancia respirat\\u00f3ria n\\u00e3o classificada de outra parte\",\"offsetgroup\":\"J18, J96 - Pneumonia por microorganismo n\\u00e3o especificada + Insufici\\u00eancia respirat\\u00f3ria n\\u00e3o classificada de outra parte\",\"orientation\":\"v\",\"showlegend\":true,\"text\":[\"4.4%\"],\"textposition\":\"auto\",\"x\":[\"J18, J96\"],\"xaxis\":\"x\",\"y\":[4.4],\"yaxis\":\"y\",\"type\":\"bar\"}],                        {\"template\":{\"data\":{\"histogram2dcontour\":[{\"type\":\"histogram2dcontour\",\"colorbar\":{\"outlinewidth\":0,\"ticks\":\"\"},\"colorscale\":[[0.0,\"#0d0887\"],[0.1111111111111111,\"#46039f\"],[0.2222222222222222,\"#7201a8\"],[0.3333333333333333,\"#9c179e\"],[0.4444444444444444,\"#bd3786\"],[0.5555555555555556,\"#d8576b\"],[0.6666666666666666,\"#ed7953\"],[0.7777777777777778,\"#fb9f3a\"],[0.8888888888888888,\"#fdca26\"],[1.0,\"#f0f921\"]]}],\"choropleth\":[{\"type\":\"choropleth\",\"colorbar\":{\"outlinewidth\":0,\"ticks\":\"\"}}],\"histogram2d\":[{\"type\":\"histogram2d\",\"colorbar\":{\"outlinewidth\":0,\"ticks\":\"\"},\"colorscale\":[[0.0,\"#0d0887\"],[0.1111111111111111,\"#46039f\"],[0.2222222222222222,\"#7201a8\"],[0.3333333333333333,\"#9c179e\"],[0.4444444444444444,\"#bd3786\"],[0.5555555555555556,\"#d8576b\"],[0.6666666666666666,\"#ed7953\"],[0.7777777777777778,\"#fb9f3a\"],[0.8888888888888888,\"#fdca26\"],[1.0,\"#f0f921\"]]}],\"heatmap\":[{\"type\":\"heatmap\",\"colorbar\":{\"outlinewidth\":0,\"ticks\":\"\"},\"colorscale\":[[0.0,\"#0d0887\"],[0.1111111111111111,\"#46039f\"],[0.2222222222222222,\"#7201a8\"],[0.3333333333333333,\"#9c179e\"],[0.4444444444444444,\"#bd3786\"],[0.5555555555555556,\"#d8576b\"],[0.6666666666666666,\"#ed7953\"],[0.7777777777777778,\"#fb9f3a\"],[0.8888888888888888,\"#fdca26\"],[1.0,\"#f0f921\"]]}],\"heatmapgl\":[{\"type\":\"heatmapgl\",\"colorbar\":{\"outlinewidth\":0,\"ticks\":\"\"},\"colorscale\":[[0.0,\"#0d0887\"],[0.1111111111111111,\"#46039f\"],[0.2222222222222222,\"#7201a8\"],[0.3333333333333333,\"#9c179e\"],[0.4444444444444444,\"#bd3786\"],[0.5555555555555556,\"#d8576b\"],[0.6666666666666666,\"#ed7953\"],[0.7777777777777778,\"#fb9f3a\"],[0.8888888888888888,\"#fdca26\"],[1.0,\"#f0f921\"]]}],\"contourcarpet\":[{\"type\":\"contourcarpet\",\"colorbar\":{\"outlinewidth\":0,\"ticks\":\"\"}}],\"contour\":[{\"type\":\"contour\",\"colorbar\":{\"outlinewidth\":0,\"ticks\":\"\"},\"colorscale\":[[0.0,\"#0d0887\"],[0.1111111111111111,\"#46039f\"],[0.2222222222222222,\"#7201a8\"],[0.3333333333333333,\"#9c179e\"],[0.4444444444444444,\"#bd3786\"],[0.5555555555555556,\"#d8576b\"],[0.6666666666666666,\"#ed7953\"],[0.7777777777777778,\"#fb9f3a\"],[0.8888888888888888,\"#fdca26\"],[1.0,\"#f0f921\"]]}],\"surface\":[{\"type\":\"surface\",\"colorbar\":{\"outlinewidth\":0,\"ticks\":\"\"},\"colorscale\":[[0.0,\"#0d0887\"],[0.1111111111111111,\"#46039f\"],[0.2222222222222222,\"#7201a8\"],[0.3333333333333333,\"#9c179e\"],[0.4444444444444444,\"#bd3786\"],[0.5555555555555556,\"#d8576b\"],[0.6666666666666666,\"#ed7953\"],[0.7777777777777778,\"#fb9f3a\"],[0.8888888888888888,\"#fdca26\"],[1.0,\"#f0f921\"]]}],\"mesh3d\":[{\"type\":\"mesh3d\",\"colorbar\":{\"outlinewidth\":0,\"ticks\":\"\"}}],\"scatter\":[{\"fillpattern\":{\"fillmode\":\"overlay\",\"size\":10,\"solidity\":0.2},\"type\":\"scatter\"}],\"parcoords\":[{\"type\":\"parcoords\",\"line\":{\"colorbar\":{\"outlinewidth\":0,\"ticks\":\"\"}}}],\"scatterpolargl\":[{\"type\":\"scatterpolargl\",\"marker\":{\"colorbar\":{\"outlinewidth\":0,\"ticks\":\"\"}}}],\"bar\":[{\"error_x\":{\"color\":\"#2a3f5f\"},\"error_y\":{\"color\":\"#2a3f5f\"},\"marker\":{\"line\":{\"color\":\"#E5ECF6\",\"width\":0.5},\"pattern\":{\"fillmode\":\"overlay\",\"size\":10,\"solidity\":0.2}},\"type\":\"bar\"}],\"scattergeo\":[{\"type\":\"scattergeo\",\"marker\":{\"colorbar\":{\"outlinewidth\":0,\"ticks\":\"\"}}}],\"scatterpolar\":[{\"type\":\"scatterpolar\",\"marker\":{\"colorbar\":{\"outlinewidth\":0,\"ticks\":\"\"}}}],\"histogram\":[{\"marker\":{\"pattern\":{\"fillmode\":\"overlay\",\"size\":10,\"solidity\":0.2}},\"type\":\"histogram\"}],\"scattergl\":[{\"type\":\"scattergl\",\"marker\":{\"colorbar\":{\"outlinewidth\":0,\"ticks\":\"\"}}}],\"scatter3d\":[{\"type\":\"scatter3d\",\"line\":{\"colorbar\":{\"outlinewidth\":0,\"ticks\":\"\"}},\"marker\":{\"colorbar\":{\"outlinewidth\":0,\"ticks\":\"\"}}}],\"scattermapbox\":[{\"type\":\"scattermapbox\",\"marker\":{\"colorbar\":{\"outlinewidth\":0,\"ticks\":\"\"}}}],\"scatterternary\":[{\"type\":\"scatterternary\",\"marker\":{\"colorbar\":{\"outlinewidth\":0,\"ticks\":\"\"}}}],\"scattercarpet\":[{\"type\":\"scattercarpet\",\"marker\":{\"colorbar\":{\"outlinewidth\":0,\"ticks\":\"\"}}}],\"carpet\":[{\"aaxis\":{\"endlinecolor\":\"#2a3f5f\",\"gridcolor\":\"white\",\"linecolor\":\"white\",\"minorgridcolor\":\"white\",\"startlinecolor\":\"#2a3f5f\"},\"baxis\":{\"endlinecolor\":\"#2a3f5f\",\"gridcolor\":\"white\",\"linecolor\":\"white\",\"minorgridcolor\":\"white\",\"startlinecolor\":\"#2a3f5f\"},\"type\":\"carpet\"}],\"table\":[{\"cells\":{\"fill\":{\"color\":\"#EBF0F8\"},\"line\":{\"color\":\"white\"}},\"header\":{\"fill\":{\"color\":\"#C8D4E3\"},\"line\":{\"color\":\"white\"}},\"type\":\"table\"}],\"barpolar\":[{\"marker\":{\"line\":{\"color\":\"#E5ECF6\",\"width\":0.5},\"pattern\":{\"fillmode\":\"overlay\",\"size\":10,\"solidity\":0.2}},\"type\":\"barpolar\"}],\"pie\":[{\"automargin\":true,\"type\":\"pie\"}]},\"layout\":{\"autotypenumbers\":\"strict\",\"colorway\":[\"#636efa\",\"#EF553B\",\"#00cc96\",\"#ab63fa\",\"#FFA15A\",\"#19d3f3\",\"#FF6692\",\"#B6E880\",\"#FF97FF\",\"#FECB52\"],\"font\":{\"color\":\"#2a3f5f\"},\"hovermode\":\"closest\",\"hoverlabel\":{\"align\":\"left\"},\"paper_bgcolor\":\"white\",\"plot_bgcolor\":\"#E5ECF6\",\"polar\":{\"bgcolor\":\"#E5ECF6\",\"angularaxis\":{\"gridcolor\":\"white\",\"linecolor\":\"white\",\"ticks\":\"\"},\"radialaxis\":{\"gridcolor\":\"white\",\"linecolor\":\"white\",\"ticks\":\"\"}},\"ternary\":{\"bgcolor\":\"#E5ECF6\",\"aaxis\":{\"gridcolor\":\"white\",\"linecolor\":\"white\",\"ticks\":\"\"},\"baxis\":{\"gridcolor\":\"white\",\"linecolor\":\"white\",\"ticks\":\"\"},\"caxis\":{\"gridcolor\":\"white\",\"linecolor\":\"white\",\"ticks\":\"\"}},\"coloraxis\":{\"colorbar\":{\"outlinewidth\":0,\"ticks\":\"\"}},\"colorscale\":{\"sequential\":[[0.0,\"#0d0887\"],[0.1111111111111111,\"#46039f\"],[0.2222222222222222,\"#7201a8\"],[0.3333333333333333,\"#9c179e\"],[0.4444444444444444,\"#bd3786\"],[0.5555555555555556,\"#d8576b\"],[0.6666666666666666,\"#ed7953\"],[0.7777777777777778,\"#fb9f3a\"],[0.8888888888888888,\"#fdca26\"],[1.0,\"#f0f921\"]],\"sequentialminus\":[[0.0,\"#0d0887\"],[0.1111111111111111,\"#46039f\"],[0.2222222222222222,\"#7201a8\"],[0.3333333333333333,\"#9c179e\"],[0.4444444444444444,\"#bd3786\"],[0.5555555555555556,\"#d8576b\"],[0.6666666666666666,\"#ed7953\"],[0.7777777777777778,\"#fb9f3a\"],[0.8888888888888888,\"#fdca26\"],[1.0,\"#f0f921\"]],\"diverging\":[[0,\"#8e0152\"],[0.1,\"#c51b7d\"],[0.2,\"#de77ae\"],[0.3,\"#f1b6da\"],[0.4,\"#fde0ef\"],[0.5,\"#f7f7f7\"],[0.6,\"#e6f5d0\"],[0.7,\"#b8e186\"],[0.8,\"#7fbc41\"],[0.9,\"#4d9221\"],[1,\"#276419\"]]},\"xaxis\":{\"gridcolor\":\"white\",\"linecolor\":\"white\",\"ticks\":\"\",\"title\":{\"standoff\":15},\"zerolinecolor\":\"white\",\"automargin\":true,\"zerolinewidth\":2},\"yaxis\":{\"gridcolor\":\"white\",\"linecolor\":\"white\",\"ticks\":\"\",\"title\":{\"standoff\":15},\"zerolinecolor\":\"white\",\"automargin\":true,\"zerolinewidth\":2},\"scene\":{\"xaxis\":{\"backgroundcolor\":\"#E5ECF6\",\"gridcolor\":\"white\",\"linecolor\":\"white\",\"showbackground\":true,\"ticks\":\"\",\"zerolinecolor\":\"white\",\"gridwidth\":2},\"yaxis\":{\"backgroundcolor\":\"#E5ECF6\",\"gridcolor\":\"white\",\"linecolor\":\"white\",\"showbackground\":true,\"ticks\":\"\",\"zerolinecolor\":\"white\",\"gridwidth\":2},\"zaxis\":{\"backgroundcolor\":\"#E5ECF6\",\"gridcolor\":\"white\",\"linecolor\":\"white\",\"showbackground\":true,\"ticks\":\"\",\"zerolinecolor\":\"white\",\"gridwidth\":2}},\"shapedefaults\":{\"line\":{\"color\":\"#2a3f5f\"}},\"annotationdefaults\":{\"arrowcolor\":\"#2a3f5f\",\"arrowhead\":0,\"arrowwidth\":1},\"geo\":{\"bgcolor\":\"white\",\"landcolor\":\"#E5ECF6\",\"subunitcolor\":\"white\",\"showland\":true,\"showlakes\":true,\"lakecolor\":\"white\"},\"title\":{\"x\":0.05},\"mapbox\":{\"style\":\"light\"}}},\"xaxis\":{\"anchor\":\"y\",\"domain\":[0.0,1.0],\"title\":{\"text\":\"CID - Outras causas\"}},\"yaxis\":{\"anchor\":\"x\",\"domain\":[0.0,1.0],\"title\":{\"text\":\"% Conjunto de Itens\"}},\"legend\":{\"title\":{\"text\":\"Descri\\u00e7\\u00e3o\"},\"tracegroupgap\":0},\"margin\":{\"t\":60},\"barmode\":\"relative\",\"height\":500,\"width\":1400},                        {\"responsive\": true}                    ).then(function(){\n",
              "                            \n",
              "var gd = document.getElementById('5347eaf4-0b5a-4385-8cd3-4f7ebb821457');\n",
              "var x = new MutationObserver(function (mutations, observer) {{\n",
              "        var display = window.getComputedStyle(gd).display;\n",
              "        if (!display || display === 'none') {{\n",
              "            console.log([gd, 'removed!']);\n",
              "            Plotly.purge(gd);\n",
              "            observer.disconnect();\n",
              "        }}\n",
              "}});\n",
              "\n",
              "// Listen for the removal of the full notebook cells\n",
              "var notebookContainer = gd.closest('#notebook-container');\n",
              "if (notebookContainer) {{\n",
              "    x.observe(notebookContainer, {childList: true});\n",
              "}}\n",
              "\n",
              "// Listen for the clearing of the current output cell\n",
              "var outputEl = gd.closest('.output');\n",
              "if (outputEl) {{\n",
              "    x.observe(outputEl, {childList: true});\n",
              "}}\n",
              "\n",
              "                        })                };                            </script>        </div>\n",
              "</body>\n",
              "</html>"
            ]
          },
          "metadata": {}
        }
      ]
    },
    {
      "cell_type": "code",
      "source": [
        "import plotly.graph_objects as go\n",
        "df_rules2 = df_rules.to_pandas()\n",
        "\n",
        "fig = go.Figure(data=go.Scatter(\n",
        "    x=df_rules2['Support']*100,\n",
        "    y=df_rules2['Confidence']*100,\n",
        "    mode='markers',\n",
        "    text=df_rules2['Antecedent']+ '->' + df_rules2['Consequent'],\n",
        "    hoverinfo='text',\n",
        "    marker=dict(size=df_rules2['Lift']*30,\n",
        "                color=df_rules2['Lift'],\n",
        "                colorscale='Portland', # one of plotly colorscales\n",
        "                showscale=True,\n",
        "                colorbar=dict(\n",
        "                    title=\"Lift\"\n",
        "                ))\n",
        "))\n",
        "\n",
        "fig.update_traces(textposition='middle right', textfont=dict(size=20))\n",
        "fig.update_layout(width=800, height=800, xaxis_title='Support (%)', yaxis_title='Confidence (%)', font=dict(size=18, color=\"black\"),\n",
        "      xaxis=dict(tickfont=dict(size=20, color=\"black\")),\n",
        "      yaxis=dict(tickfont=dict(size=20, color=\"black\")))\n",
        "fig.update_traces(marker=dict(line=dict(width=2, color=\"black\"))                 )\n",
        "fig.update_xaxes(linewidth=2, linecolor='black')\n",
        "fig.update_yaxes(linewidth=2, linecolor='black')\n",
        "fig.update_layout(plot_bgcolor=\"#FFFFFF\")\n",
        "\n",
        "\n",
        "fig.update_layout(showlegend=False)\n",
        "\n",
        "\n",
        "\n",
        "fig.show()"
      ],
      "metadata": {
        "id": "qBij6H5qV6Jw",
        "colab": {
          "base_uri": "https://localhost:8080/",
          "height": 817
        },
        "outputId": "e9c023b2-f820-4c36-d614-95128d4acd58"
      },
      "execution_count": 77,
      "outputs": [
        {
          "output_type": "display_data",
          "data": {
            "text/html": [
              "<html>\n",
              "<head><meta charset=\"utf-8\" /></head>\n",
              "<body>\n",
              "    <div>            <script src=\"https://cdnjs.cloudflare.com/ajax/libs/mathjax/2.7.5/MathJax.js?config=TeX-AMS-MML_SVG\"></script><script type=\"text/javascript\">if (window.MathJax && window.MathJax.Hub && window.MathJax.Hub.Config) {window.MathJax.Hub.Config({SVG: {font: \"STIX-Web\"}});}</script>                <script type=\"text/javascript\">window.PlotlyConfig = {MathJaxConfig: 'local'};</script>\n",
              "        <script charset=\"utf-8\" src=\"https://cdn.plot.ly/plotly-2.24.1.min.js\"></script>                <div id=\"33bdf1d6-b0bd-4a52-b2b4-dd143668564e\" class=\"plotly-graph-div\" style=\"height:800px; width:800px;\"></div>            <script type=\"text/javascript\">                                    window.PLOTLYENV=window.PLOTLYENV || {};                                    if (document.getElementById(\"33bdf1d6-b0bd-4a52-b2b4-dd143668564e\")) {                    Plotly.newPlot(                        \"33bdf1d6-b0bd-4a52-b2b4-dd143668564e\",                        [{\"hoverinfo\":\"text\",\"marker\":{\"color\":[2.55,2.06,1.5,1.56,1.5,1.23,1.28,1.46],\"colorbar\":{\"title\":{\"text\":\"Lift\"}},\"colorscale\":[[0.0,\"rgb(12,51,131)\"],[0.25,\"rgb(10,136,186)\"],[0.5,\"rgb(242,211,56)\"],[0.75,\"rgb(242,143,56)\"],[1.0,\"rgb(217,30,30)\"]],\"showscale\":true,\"size\":[76.5,61.800000000000004,45.0,46.800000000000004,45.0,36.9,38.4,43.8],\"line\":{\"color\":\"black\",\"width\":2}},\"mode\":\"markers\",\"text\":[\"L89-\\u003eA41\",\"N39-\\u003eA41\",\"A41-\\u003eJ18\",\"J15-\\u003eA41\",\"J18-\\u003eA41\",\"J96-\\u003eJ18\",\"J69-\\u003eA41\",\"J69-\\u003eJ96\"],\"x\":[2.4814625093422236,2.5452835417313975,13.194158696035538,3.3556427029886717,13.194158696035538,8.832494982491204,3.8569737074141566,3.585734319760167],\"y\":[72.33782129742961,58.367032543808975,46.4755819800633,44.3753470294281,42.48783126014062,38.09765285424515,36.28535313635645,33.73360720492969],\"type\":\"scatter\",\"textfont\":{\"size\":20},\"textposition\":\"middle right\"}],                        {\"template\":{\"data\":{\"histogram2dcontour\":[{\"type\":\"histogram2dcontour\",\"colorbar\":{\"outlinewidth\":0,\"ticks\":\"\"},\"colorscale\":[[0.0,\"#0d0887\"],[0.1111111111111111,\"#46039f\"],[0.2222222222222222,\"#7201a8\"],[0.3333333333333333,\"#9c179e\"],[0.4444444444444444,\"#bd3786\"],[0.5555555555555556,\"#d8576b\"],[0.6666666666666666,\"#ed7953\"],[0.7777777777777778,\"#fb9f3a\"],[0.8888888888888888,\"#fdca26\"],[1.0,\"#f0f921\"]]}],\"choropleth\":[{\"type\":\"choropleth\",\"colorbar\":{\"outlinewidth\":0,\"ticks\":\"\"}}],\"histogram2d\":[{\"type\":\"histogram2d\",\"colorbar\":{\"outlinewidth\":0,\"ticks\":\"\"},\"colorscale\":[[0.0,\"#0d0887\"],[0.1111111111111111,\"#46039f\"],[0.2222222222222222,\"#7201a8\"],[0.3333333333333333,\"#9c179e\"],[0.4444444444444444,\"#bd3786\"],[0.5555555555555556,\"#d8576b\"],[0.6666666666666666,\"#ed7953\"],[0.7777777777777778,\"#fb9f3a\"],[0.8888888888888888,\"#fdca26\"],[1.0,\"#f0f921\"]]}],\"heatmap\":[{\"type\":\"heatmap\",\"colorbar\":{\"outlinewidth\":0,\"ticks\":\"\"},\"colorscale\":[[0.0,\"#0d0887\"],[0.1111111111111111,\"#46039f\"],[0.2222222222222222,\"#7201a8\"],[0.3333333333333333,\"#9c179e\"],[0.4444444444444444,\"#bd3786\"],[0.5555555555555556,\"#d8576b\"],[0.6666666666666666,\"#ed7953\"],[0.7777777777777778,\"#fb9f3a\"],[0.8888888888888888,\"#fdca26\"],[1.0,\"#f0f921\"]]}],\"heatmapgl\":[{\"type\":\"heatmapgl\",\"colorbar\":{\"outlinewidth\":0,\"ticks\":\"\"},\"colorscale\":[[0.0,\"#0d0887\"],[0.1111111111111111,\"#46039f\"],[0.2222222222222222,\"#7201a8\"],[0.3333333333333333,\"#9c179e\"],[0.4444444444444444,\"#bd3786\"],[0.5555555555555556,\"#d8576b\"],[0.6666666666666666,\"#ed7953\"],[0.7777777777777778,\"#fb9f3a\"],[0.8888888888888888,\"#fdca26\"],[1.0,\"#f0f921\"]]}],\"contourcarpet\":[{\"type\":\"contourcarpet\",\"colorbar\":{\"outlinewidth\":0,\"ticks\":\"\"}}],\"contour\":[{\"type\":\"contour\",\"colorbar\":{\"outlinewidth\":0,\"ticks\":\"\"},\"colorscale\":[[0.0,\"#0d0887\"],[0.1111111111111111,\"#46039f\"],[0.2222222222222222,\"#7201a8\"],[0.3333333333333333,\"#9c179e\"],[0.4444444444444444,\"#bd3786\"],[0.5555555555555556,\"#d8576b\"],[0.6666666666666666,\"#ed7953\"],[0.7777777777777778,\"#fb9f3a\"],[0.8888888888888888,\"#fdca26\"],[1.0,\"#f0f921\"]]}],\"surface\":[{\"type\":\"surface\",\"colorbar\":{\"outlinewidth\":0,\"ticks\":\"\"},\"colorscale\":[[0.0,\"#0d0887\"],[0.1111111111111111,\"#46039f\"],[0.2222222222222222,\"#7201a8\"],[0.3333333333333333,\"#9c179e\"],[0.4444444444444444,\"#bd3786\"],[0.5555555555555556,\"#d8576b\"],[0.6666666666666666,\"#ed7953\"],[0.7777777777777778,\"#fb9f3a\"],[0.8888888888888888,\"#fdca26\"],[1.0,\"#f0f921\"]]}],\"mesh3d\":[{\"type\":\"mesh3d\",\"colorbar\":{\"outlinewidth\":0,\"ticks\":\"\"}}],\"scatter\":[{\"fillpattern\":{\"fillmode\":\"overlay\",\"size\":10,\"solidity\":0.2},\"type\":\"scatter\"}],\"parcoords\":[{\"type\":\"parcoords\",\"line\":{\"colorbar\":{\"outlinewidth\":0,\"ticks\":\"\"}}}],\"scatterpolargl\":[{\"type\":\"scatterpolargl\",\"marker\":{\"colorbar\":{\"outlinewidth\":0,\"ticks\":\"\"}}}],\"bar\":[{\"error_x\":{\"color\":\"#2a3f5f\"},\"error_y\":{\"color\":\"#2a3f5f\"},\"marker\":{\"line\":{\"color\":\"#E5ECF6\",\"width\":0.5},\"pattern\":{\"fillmode\":\"overlay\",\"size\":10,\"solidity\":0.2}},\"type\":\"bar\"}],\"scattergeo\":[{\"type\":\"scattergeo\",\"marker\":{\"colorbar\":{\"outlinewidth\":0,\"ticks\":\"\"}}}],\"scatterpolar\":[{\"type\":\"scatterpolar\",\"marker\":{\"colorbar\":{\"outlinewidth\":0,\"ticks\":\"\"}}}],\"histogram\":[{\"marker\":{\"pattern\":{\"fillmode\":\"overlay\",\"size\":10,\"solidity\":0.2}},\"type\":\"histogram\"}],\"scattergl\":[{\"type\":\"scattergl\",\"marker\":{\"colorbar\":{\"outlinewidth\":0,\"ticks\":\"\"}}}],\"scatter3d\":[{\"type\":\"scatter3d\",\"line\":{\"colorbar\":{\"outlinewidth\":0,\"ticks\":\"\"}},\"marker\":{\"colorbar\":{\"outlinewidth\":0,\"ticks\":\"\"}}}],\"scattermapbox\":[{\"type\":\"scattermapbox\",\"marker\":{\"colorbar\":{\"outlinewidth\":0,\"ticks\":\"\"}}}],\"scatterternary\":[{\"type\":\"scatterternary\",\"marker\":{\"colorbar\":{\"outlinewidth\":0,\"ticks\":\"\"}}}],\"scattercarpet\":[{\"type\":\"scattercarpet\",\"marker\":{\"colorbar\":{\"outlinewidth\":0,\"ticks\":\"\"}}}],\"carpet\":[{\"aaxis\":{\"endlinecolor\":\"#2a3f5f\",\"gridcolor\":\"white\",\"linecolor\":\"white\",\"minorgridcolor\":\"white\",\"startlinecolor\":\"#2a3f5f\"},\"baxis\":{\"endlinecolor\":\"#2a3f5f\",\"gridcolor\":\"white\",\"linecolor\":\"white\",\"minorgridcolor\":\"white\",\"startlinecolor\":\"#2a3f5f\"},\"type\":\"carpet\"}],\"table\":[{\"cells\":{\"fill\":{\"color\":\"#EBF0F8\"},\"line\":{\"color\":\"white\"}},\"header\":{\"fill\":{\"color\":\"#C8D4E3\"},\"line\":{\"color\":\"white\"}},\"type\":\"table\"}],\"barpolar\":[{\"marker\":{\"line\":{\"color\":\"#E5ECF6\",\"width\":0.5},\"pattern\":{\"fillmode\":\"overlay\",\"size\":10,\"solidity\":0.2}},\"type\":\"barpolar\"}],\"pie\":[{\"automargin\":true,\"type\":\"pie\"}]},\"layout\":{\"autotypenumbers\":\"strict\",\"colorway\":[\"#636efa\",\"#EF553B\",\"#00cc96\",\"#ab63fa\",\"#FFA15A\",\"#19d3f3\",\"#FF6692\",\"#B6E880\",\"#FF97FF\",\"#FECB52\"],\"font\":{\"color\":\"#2a3f5f\"},\"hovermode\":\"closest\",\"hoverlabel\":{\"align\":\"left\"},\"paper_bgcolor\":\"white\",\"plot_bgcolor\":\"#E5ECF6\",\"polar\":{\"bgcolor\":\"#E5ECF6\",\"angularaxis\":{\"gridcolor\":\"white\",\"linecolor\":\"white\",\"ticks\":\"\"},\"radialaxis\":{\"gridcolor\":\"white\",\"linecolor\":\"white\",\"ticks\":\"\"}},\"ternary\":{\"bgcolor\":\"#E5ECF6\",\"aaxis\":{\"gridcolor\":\"white\",\"linecolor\":\"white\",\"ticks\":\"\"},\"baxis\":{\"gridcolor\":\"white\",\"linecolor\":\"white\",\"ticks\":\"\"},\"caxis\":{\"gridcolor\":\"white\",\"linecolor\":\"white\",\"ticks\":\"\"}},\"coloraxis\":{\"colorbar\":{\"outlinewidth\":0,\"ticks\":\"\"}},\"colorscale\":{\"sequential\":[[0.0,\"#0d0887\"],[0.1111111111111111,\"#46039f\"],[0.2222222222222222,\"#7201a8\"],[0.3333333333333333,\"#9c179e\"],[0.4444444444444444,\"#bd3786\"],[0.5555555555555556,\"#d8576b\"],[0.6666666666666666,\"#ed7953\"],[0.7777777777777778,\"#fb9f3a\"],[0.8888888888888888,\"#fdca26\"],[1.0,\"#f0f921\"]],\"sequentialminus\":[[0.0,\"#0d0887\"],[0.1111111111111111,\"#46039f\"],[0.2222222222222222,\"#7201a8\"],[0.3333333333333333,\"#9c179e\"],[0.4444444444444444,\"#bd3786\"],[0.5555555555555556,\"#d8576b\"],[0.6666666666666666,\"#ed7953\"],[0.7777777777777778,\"#fb9f3a\"],[0.8888888888888888,\"#fdca26\"],[1.0,\"#f0f921\"]],\"diverging\":[[0,\"#8e0152\"],[0.1,\"#c51b7d\"],[0.2,\"#de77ae\"],[0.3,\"#f1b6da\"],[0.4,\"#fde0ef\"],[0.5,\"#f7f7f7\"],[0.6,\"#e6f5d0\"],[0.7,\"#b8e186\"],[0.8,\"#7fbc41\"],[0.9,\"#4d9221\"],[1,\"#276419\"]]},\"xaxis\":{\"gridcolor\":\"white\",\"linecolor\":\"white\",\"ticks\":\"\",\"title\":{\"standoff\":15},\"zerolinecolor\":\"white\",\"automargin\":true,\"zerolinewidth\":2},\"yaxis\":{\"gridcolor\":\"white\",\"linecolor\":\"white\",\"ticks\":\"\",\"title\":{\"standoff\":15},\"zerolinecolor\":\"white\",\"automargin\":true,\"zerolinewidth\":2},\"scene\":{\"xaxis\":{\"backgroundcolor\":\"#E5ECF6\",\"gridcolor\":\"white\",\"linecolor\":\"white\",\"showbackground\":true,\"ticks\":\"\",\"zerolinecolor\":\"white\",\"gridwidth\":2},\"yaxis\":{\"backgroundcolor\":\"#E5ECF6\",\"gridcolor\":\"white\",\"linecolor\":\"white\",\"showbackground\":true,\"ticks\":\"\",\"zerolinecolor\":\"white\",\"gridwidth\":2},\"zaxis\":{\"backgroundcolor\":\"#E5ECF6\",\"gridcolor\":\"white\",\"linecolor\":\"white\",\"showbackground\":true,\"ticks\":\"\",\"zerolinecolor\":\"white\",\"gridwidth\":2}},\"shapedefaults\":{\"line\":{\"color\":\"#2a3f5f\"}},\"annotationdefaults\":{\"arrowcolor\":\"#2a3f5f\",\"arrowhead\":0,\"arrowwidth\":1},\"geo\":{\"bgcolor\":\"white\",\"landcolor\":\"#E5ECF6\",\"subunitcolor\":\"white\",\"showland\":true,\"showlakes\":true,\"lakecolor\":\"white\"},\"title\":{\"x\":0.05},\"mapbox\":{\"style\":\"light\"}}},\"font\":{\"size\":18,\"color\":\"black\"},\"xaxis\":{\"tickfont\":{\"size\":20,\"color\":\"black\"},\"title\":{\"text\":\"Support (%)\"},\"linewidth\":2,\"linecolor\":\"black\"},\"yaxis\":{\"tickfont\":{\"size\":20,\"color\":\"black\"},\"title\":{\"text\":\"Confidence (%)\"},\"linewidth\":2,\"linecolor\":\"black\"},\"width\":800,\"height\":800,\"plot_bgcolor\":\"#FFFFFF\",\"showlegend\":false},                        {\"responsive\": true}                    ).then(function(){\n",
              "                            \n",
              "var gd = document.getElementById('33bdf1d6-b0bd-4a52-b2b4-dd143668564e');\n",
              "var x = new MutationObserver(function (mutations, observer) {{\n",
              "        var display = window.getComputedStyle(gd).display;\n",
              "        if (!display || display === 'none') {{\n",
              "            console.log([gd, 'removed!']);\n",
              "            Plotly.purge(gd);\n",
              "            observer.disconnect();\n",
              "        }}\n",
              "}});\n",
              "\n",
              "// Listen for the removal of the full notebook cells\n",
              "var notebookContainer = gd.closest('#notebook-container');\n",
              "if (notebookContainer) {{\n",
              "    x.observe(notebookContainer, {childList: true});\n",
              "}}\n",
              "\n",
              "// Listen for the clearing of the current output cell\n",
              "var outputEl = gd.closest('.output');\n",
              "if (outputEl) {{\n",
              "    x.observe(outputEl, {childList: true});\n",
              "}}\n",
              "\n",
              "                        })                };                            </script>        </div>\n",
              "</body>\n",
              "</html>"
            ]
          },
          "metadata": {}
        }
      ]
    },
    {
      "cell_type": "code",
      "execution_count": 78,
      "metadata": {
        "id": "VrVEoNgvSQBu"
      },
      "outputs": [],
      "source": [
        "\n",
        "#regras = apriori(lista_causas, min_support = 0.01, min_confidence = 0.3, min_lift = 1.01, random_state =0 )\n",
        "\n",
        "#resultados = list(regras)\n",
        "#print(resultados)"
      ]
    },
    {
      "cell_type": "code",
      "execution_count": 79,
      "metadata": {
        "id": "qtgMCSjeTGhy"
      },
      "outputs": [],
      "source": [
        "# Prepare results for viewing\n",
        "#A = []\n",
        "#B = []\n",
        "#suporte = []\n",
        "#confianca = []\n",
        "#lift = []\n",
        "\n",
        "#for resultado in resultados:\n",
        "#  s = resultado[1]\n",
        "#  result_rules = resultado[2]\n",
        "#  for result_rule in result_rules:\n",
        "#    a = list(result_rule[0])\n",
        "#    b = list(result_rule[1])\n",
        "#    c = result_rule[2]\n",
        "#    l = result_rule[3]\n",
        "#    A.append(a)\n",
        "#   B.append(b)\n",
        "#   suporte.append(s)\n",
        "#    confianca.append(c)\n",
        " #   lift.append(l)"
      ]
    },
    {
      "cell_type": "code",
      "source": [
        "from google.colab import output\n",
        "output.enable_custom_widget_manager()\n"
      ],
      "metadata": {
        "id": "_3T62WTwgNHR"
      },
      "execution_count": 80,
      "outputs": []
    },
    {
      "cell_type": "code",
      "source": [
        "from arulesviz import Arulesviz\n",
        "\n",
        "g = Arulesviz(lista_causas, 0.01, 0.3, 1.1, products_to_drop=[])\n",
        "g.create_rules()\n",
        "g.plot_graph(width=800, height=400, directed=True, charge=-500, link_distance=20)"
      ],
      "metadata": {
        "id": "xeuSkAR3adC6",
        "colab": {
          "base_uri": "https://localhost:8080/",
          "height": 618,
          "referenced_widgets": [
            "6a69b5f4c37646e5997a26a31a086839",
            "1fab20dc070346f59cdfebc216555679",
            "058190ac522b4793ab8846ee1ce63362",
            "85ef394c3a674d50b08b89f6d870ed35",
            "226ed1bc2a1d4fe7aaeaf12e6f9af945",
            "e8ffcc3e1a0943a5ad7a4fe6a44f358b",
            "af43faf89115405e8123eee5b5630676",
            "c1804047cd6647fdb52c5fae294dad71",
            "777f81dec6bc45938807f2d70280a525",
            "4355f6692df94254b3d272efa71495c3",
            "8240cebadcc94671848d98706f231049",
            "682b9c4f7455428791add12248aa03e4",
            "f1d9f3e6ad89430dacc8bc4eab58dcab",
            "2ab2360159444b5a8ecc3890b3861f1f",
            "09ee717faf6846a99dcab51f796749da",
            "f228a05a846843ccb7f606f5133e28d3",
            "d314f24a1328401cad40c699b9b1e781",
            "4744778309614a69be8d56246250360a",
            "d0d7b69bd419431cadd76002cd5b0c5d",
            "bb5de676f7b24e53b46bb60a063b3d43",
            "b5e91f831ca845988e64691c00997b99",
            "b3ad05c4c6a54976be9043ebb9883409",
            "41af53ad5adb4495aedb6198b3cbc689",
            "df9f58fd62c34de49d45916bdad69d39",
            "8dbf4114d84b435785ba5088a31c7740",
            "cddc08ee3f0340c0b046311031019a8f",
            "f0534ab8441c4b8a8d57b0e084bc69b0",
            "8c1084743d8546e0824726fafa50a179",
            "a12e824a3c2e4edfb61b8ade1dc77215",
            "2c08b41d89ce4c1aa2aab1c1d5420233",
            "b576decbf960473ea41283f4de793a82",
            "22c942ef0aa2481080ccf55caaa7ce0e",
            "0fcc135e2b8443da83b9481ba9211641",
            "bf91149b1fbf45f08c60745e753a1b28",
            "8e13679476804579afa341c5e6fa07eb",
            "d4a84dc7cf49477d9621e35cdbe09c1f",
            "4e252b7af10c41a48ed7a1695f51a699",
            "4579f28c701e4c34b38a9c598cd988f9",
            "507ec3fe08d44c2e8c174a49f5ed7c94",
            "abc76a3c49fe4abc951c63f01e6cb715",
            "c64d27d24ba7443c901e522217a445b1",
            "30a0cde2c71a43d796f972a8b7788807",
            "a6d7ac06e13a45acb90479e7c723267b",
            "d553bf70594d4196928d8437d94eb80f",
            "1301e5089efa4c8186e177429b548363",
            "db4160876c6b47848238abb057aa9456",
            "bda45d57118f4680a4efa763d0a02e01",
            "e1184bafc208485296b8aa046d5e4aa4",
            "40d2f0ea0eb549538edcf6eeca569f25"
          ]
        },
        "outputId": "78ac7432-aaab-4029-c301-92e73cd0cbf5"
      },
      "execution_count": 81,
      "outputs": [
        {
          "output_type": "display_data",
          "data": {
            "text/plain": [
              "VBox(children=(HBox(children=(SelectMultiple(index=(0, 1, 2, 3, 4, 5, 6, 7), options=('A41', 'J15', 'J18', 'J6…"
            ],
            "application/vnd.jupyter.widget-view+json": {
              "version_major": 2,
              "version_minor": 0,
              "model_id": "6a69b5f4c37646e5997a26a31a086839"
            }
          },
          "metadata": {
            "application/vnd.jupyter.widget-view+json": {
              "colab": {
                "custom_widget_manager": {
                  "url": "https://ssl.gstatic.com/colaboratory-static/widgets/colab-cdn-widget-manager/b3e629b1971e1542/manager.min.js"
                }
              }
            }
          }
        }
      ]
    },
    {
      "cell_type": "code",
      "source": [
        "g.plot_scatter(with_toolbar=True)"
      ],
      "metadata": {
        "id": "UJcHCbf9y2mp",
        "colab": {
          "base_uri": "https://localhost:8080/",
          "height": 673,
          "referenced_widgets": [
            "37aa0460de5241c688f1059f83f515a1",
            "278b775c549c4938b456d4cc6bb93f5c",
            "329be6b51c4b4d62994874c603fc6288",
            "c799a4259dab4708b2b07009bb79afe9",
            "4a4d016226eb4abb87aaf3a6203ae2b0",
            "4b7851652b2c40009574ad1ce31f1d59",
            "aaba1fdb96d74afdaa68dbf4ec3a1eea",
            "a21d55405bf64b48ace2f54843e47f4b",
            "ae92326ebc8f463ab716b3a050e10854",
            "dded8bc5826b4743bc2e586564e44e5a",
            "9d46c2c96cba493b9425f7af3c4e76fa",
            "149156cacbd1473eaedfcd9654fc7c05",
            "a0c980050c324b55a85c675bfd9344fd",
            "74475e1057084c92aca1a39071fe8ef2",
            "7e469c31448f4927a0882def2b70bf29",
            "884a8e39e8964c9fab22fe937587afc7",
            "7127ac0514d543c79ae2e7f56846dd1b"
          ]
        },
        "outputId": "18fc37f1-a4fc-43b0-c7fa-b19f0416634b"
      },
      "execution_count": 82,
      "outputs": [
        {
          "output_type": "display_data",
          "data": {
            "text/plain": [
              "VBox(children=(Figure(axes=[Axis(label='Sup*100', scale=LinearScale()), Axis(label='Conf*100', orientation='ve…"
            ],
            "application/vnd.jupyter.widget-view+json": {
              "version_major": 2,
              "version_minor": 0,
              "model_id": "37aa0460de5241c688f1059f83f515a1"
            }
          },
          "metadata": {
            "application/vnd.jupyter.widget-view+json": {
              "colab": {
                "custom_widget_manager": {
                  "url": "https://ssl.gstatic.com/colaboratory-static/widgets/colab-cdn-widget-manager/b3e629b1971e1542/manager.min.js"
                }
              }
            }
          }
        }
      ]
    },
    {
      "cell_type": "markdown",
      "source": [
        "##Data Understanding - Rules Association"
      ],
      "metadata": {
        "id": "JZpAzkM-J4ZU"
      }
    },
    {
      "cell_type": "code",
      "source": [
        "lista_causas_unica = [item for sublist in lista_causas for item in sublist]"
      ],
      "metadata": {
        "id": "mly2MXG0_1cu"
      },
      "execution_count": 83,
      "outputs": []
    },
    {
      "cell_type": "code",
      "source": [
        "itemsets"
      ],
      "metadata": {
        "id": "CNwnhnLCavzZ",
        "colab": {
          "base_uri": "https://localhost:8080/"
        },
        "outputId": "87136c2d-d501-42af-d813-e95112e11ffd"
      },
      "execution_count": 84,
      "outputs": [
        {
          "output_type": "execute_result",
          "data": {
            "text/plain": [
              "{1: {('J18',): 36980,\n",
              "  ('A41',): 33807,\n",
              "  ('J69',): 12658,\n",
              "  ('R68',): 7927,\n",
              "  ('E46',): 2770,\n",
              "  ('J15',): 9005,\n",
              "  ('L89',): 4085,\n",
              "  ('J96',): 27608,\n",
              "  ('J98',): 4177,\n",
              "  ('R09',): 10438,\n",
              "  ('N17',): 2404,\n",
              "  ('R54',): 7211,\n",
              "  ('I10',): 4226,\n",
              "  ('I50',): 2899,\n",
              "  ('R99',): 7725,\n",
              "  ('R64',): 4022,\n",
              "  ('N39',): 5193,\n",
              "  ('R57',): 4343},\n",
              " 2: {('A41', 'J15'): 3996,\n",
              "  ('A41', 'J18'): 15712,\n",
              "  ('A41', 'J69'): 4593,\n",
              "  ('A41', 'J96'): 3713,\n",
              "  ('A41', 'L89'): 2955,\n",
              "  ('A41', 'N39'): 3031,\n",
              "  ('J15', 'J96'): 2591,\n",
              "  ('J18', 'J96'): 10518,\n",
              "  ('J69', 'J96'): 4270}}"
            ]
          },
          "metadata": {},
          "execution_count": 84
        }
      ]
    },
    {
      "cell_type": "code",
      "source": [
        "df_causas_unica = pd.DataFrame(data=lista_causas_unica, columns=['CAUSAS'])\n",
        "df_top10_causas = pd.DataFrame(df_causas_unica.value_counts().head(10))\n",
        "df_top10_causas.reset_index(inplace=True)\n",
        "df_top10_causas.columns = ['cid','mortes']"
      ],
      "metadata": {
        "id": "5z6xxkOrBRYU"
      },
      "execution_count": 85,
      "outputs": []
    },
    {
      "cell_type": "code",
      "source": [
        "df_top10_causas"
      ],
      "metadata": {
        "id": "k9q4D_ByVoIZ",
        "colab": {
          "base_uri": "https://localhost:8080/",
          "height": 363
        },
        "outputId": "79fd9b14-8864-40ea-dec5-79ae8041c9b4"
      },
      "execution_count": 86,
      "outputs": [
        {
          "output_type": "execute_result",
          "data": {
            "text/plain": [
              "   cid  mortes\n",
              "0  J18   36980\n",
              "1  A41   33807\n",
              "2  J96   27608\n",
              "3  J69   12658\n",
              "4  R09   10438\n",
              "5  J15    9005\n",
              "6  R68    7927\n",
              "7  R99    7725\n",
              "8  R54    7211\n",
              "9  N39    5193"
            ],
            "text/html": [
              "<div>\n",
              "<style scoped>\n",
              "    .dataframe tbody tr th:only-of-type {\n",
              "        vertical-align: middle;\n",
              "    }\n",
              "\n",
              "    .dataframe tbody tr th {\n",
              "        vertical-align: top;\n",
              "    }\n",
              "\n",
              "    .dataframe thead th {\n",
              "        text-align: right;\n",
              "    }\n",
              "</style>\n",
              "<table border=\"1\" class=\"dataframe\">\n",
              "  <thead>\n",
              "    <tr style=\"text-align: right;\">\n",
              "      <th></th>\n",
              "      <th>cid</th>\n",
              "      <th>mortes</th>\n",
              "    </tr>\n",
              "  </thead>\n",
              "  <tbody>\n",
              "    <tr>\n",
              "      <th>0</th>\n",
              "      <td>J18</td>\n",
              "      <td>36980</td>\n",
              "    </tr>\n",
              "    <tr>\n",
              "      <th>1</th>\n",
              "      <td>A41</td>\n",
              "      <td>33807</td>\n",
              "    </tr>\n",
              "    <tr>\n",
              "      <th>2</th>\n",
              "      <td>J96</td>\n",
              "      <td>27608</td>\n",
              "    </tr>\n",
              "    <tr>\n",
              "      <th>3</th>\n",
              "      <td>J69</td>\n",
              "      <td>12658</td>\n",
              "    </tr>\n",
              "    <tr>\n",
              "      <th>4</th>\n",
              "      <td>R09</td>\n",
              "      <td>10438</td>\n",
              "    </tr>\n",
              "    <tr>\n",
              "      <th>5</th>\n",
              "      <td>J15</td>\n",
              "      <td>9005</td>\n",
              "    </tr>\n",
              "    <tr>\n",
              "      <th>6</th>\n",
              "      <td>R68</td>\n",
              "      <td>7927</td>\n",
              "    </tr>\n",
              "    <tr>\n",
              "      <th>7</th>\n",
              "      <td>R99</td>\n",
              "      <td>7725</td>\n",
              "    </tr>\n",
              "    <tr>\n",
              "      <th>8</th>\n",
              "      <td>R54</td>\n",
              "      <td>7211</td>\n",
              "    </tr>\n",
              "    <tr>\n",
              "      <th>9</th>\n",
              "      <td>N39</td>\n",
              "      <td>5193</td>\n",
              "    </tr>\n",
              "  </tbody>\n",
              "</table>\n",
              "</div>"
            ]
          },
          "metadata": {},
          "execution_count": 86
        }
      ]
    },
    {
      "cell_type": "code",
      "source": [
        "df_top10_causas_desc = pd.merge(df_top10_causas, df_cat, how=\"left\", on=['cid','cid'])"
      ],
      "metadata": {
        "id": "llj__1dU_i3i"
      },
      "execution_count": 87,
      "outputs": []
    },
    {
      "cell_type": "code",
      "source": [
        "new_row = {'cid':'Total', 'mortes':len(lista_causas), 'descricao':'Total de mortes por Alzheimer'}\n",
        "df_top10_causas_desc = df_top10_causas_desc.append(new_row, ignore_index=True)"
      ],
      "metadata": {
        "id": "9yfVAv97JHC_",
        "colab": {
          "base_uri": "https://localhost:8080/"
        },
        "outputId": "eb2a4832-7708-4ff9-8360-424b16778bcf"
      },
      "execution_count": 88,
      "outputs": [
        {
          "output_type": "stream",
          "name": "stderr",
          "text": [
            "/usr/local/lib/python3.10/dist-packages/cudf/core/indexed_frame.py:3728: FutureWarning:\n",
            "\n",
            "The append method is deprecated and will be removed in a future version. Use cudf.concat instead.\n",
            "\n"
          ]
        }
      ]
    },
    {
      "cell_type": "code",
      "source": [
        "df_top10_causas_desc = df_top10_causas_desc.sort_values(by = 'mortes', ascending = False)"
      ],
      "metadata": {
        "id": "XeJASxUcN50U"
      },
      "execution_count": 89,
      "outputs": []
    },
    {
      "cell_type": "code",
      "source": [
        "df_top10_causas_desc\n"
      ],
      "metadata": {
        "id": "soZqKv_VOZ7o",
        "colab": {
          "base_uri": "https://localhost:8080/",
          "height": 394
        },
        "outputId": "7492b74c-f34b-44c6-8184-8e3de3897c9d"
      },
      "execution_count": 90,
      "outputs": [
        {
          "output_type": "execute_result",
          "data": {
            "text/plain": [
              "      cid  mortes                                          descricao\n",
              "10  Total  119083                      Total de mortes por Alzheimer\n",
              "0     J18   36980      Pneumonia por microorganismo não especificada\n",
              "1     A41   33807                                 Outras septicemias\n",
              "2     J96   27608  Insuficiência respiratória não classificada de...\n",
              "3     J69   12658             Pneumonite devida a sólidos e líquidos\n",
              "4     R09   10438  Outros sintomas e sinais relativos aos aparelh...\n",
              "5     J15    9005  Pneumonia bacteriana não classificada em outra...\n",
              "6     R68    7927                    Outros sintomas e sinais gerais\n",
              "7     R99    7725  Outras causas mal definidas e as não especific...\n",
              "8     R54    7211                                         Senilidade\n",
              "9     N39    5193               Outros transtornos do trato urinário"
            ],
            "text/html": [
              "<div>\n",
              "<style scoped>\n",
              "    .dataframe tbody tr th:only-of-type {\n",
              "        vertical-align: middle;\n",
              "    }\n",
              "\n",
              "    .dataframe tbody tr th {\n",
              "        vertical-align: top;\n",
              "    }\n",
              "\n",
              "    .dataframe thead th {\n",
              "        text-align: right;\n",
              "    }\n",
              "</style>\n",
              "<table border=\"1\" class=\"dataframe\">\n",
              "  <thead>\n",
              "    <tr style=\"text-align: right;\">\n",
              "      <th></th>\n",
              "      <th>cid</th>\n",
              "      <th>mortes</th>\n",
              "      <th>descricao</th>\n",
              "    </tr>\n",
              "  </thead>\n",
              "  <tbody>\n",
              "    <tr>\n",
              "      <th>10</th>\n",
              "      <td>Total</td>\n",
              "      <td>119083</td>\n",
              "      <td>Total de mortes por Alzheimer</td>\n",
              "    </tr>\n",
              "    <tr>\n",
              "      <th>0</th>\n",
              "      <td>J18</td>\n",
              "      <td>36980</td>\n",
              "      <td>Pneumonia por microorganismo não especificada</td>\n",
              "    </tr>\n",
              "    <tr>\n",
              "      <th>1</th>\n",
              "      <td>A41</td>\n",
              "      <td>33807</td>\n",
              "      <td>Outras septicemias</td>\n",
              "    </tr>\n",
              "    <tr>\n",
              "      <th>2</th>\n",
              "      <td>J96</td>\n",
              "      <td>27608</td>\n",
              "      <td>Insuficiência respiratória não classificada de...</td>\n",
              "    </tr>\n",
              "    <tr>\n",
              "      <th>3</th>\n",
              "      <td>J69</td>\n",
              "      <td>12658</td>\n",
              "      <td>Pneumonite devida a sólidos e líquidos</td>\n",
              "    </tr>\n",
              "    <tr>\n",
              "      <th>4</th>\n",
              "      <td>R09</td>\n",
              "      <td>10438</td>\n",
              "      <td>Outros sintomas e sinais relativos aos aparelh...</td>\n",
              "    </tr>\n",
              "    <tr>\n",
              "      <th>5</th>\n",
              "      <td>J15</td>\n",
              "      <td>9005</td>\n",
              "      <td>Pneumonia bacteriana não classificada em outra...</td>\n",
              "    </tr>\n",
              "    <tr>\n",
              "      <th>6</th>\n",
              "      <td>R68</td>\n",
              "      <td>7927</td>\n",
              "      <td>Outros sintomas e sinais gerais</td>\n",
              "    </tr>\n",
              "    <tr>\n",
              "      <th>7</th>\n",
              "      <td>R99</td>\n",
              "      <td>7725</td>\n",
              "      <td>Outras causas mal definidas e as não especific...</td>\n",
              "    </tr>\n",
              "    <tr>\n",
              "      <th>8</th>\n",
              "      <td>R54</td>\n",
              "      <td>7211</td>\n",
              "      <td>Senilidade</td>\n",
              "    </tr>\n",
              "    <tr>\n",
              "      <th>9</th>\n",
              "      <td>N39</td>\n",
              "      <td>5193</td>\n",
              "      <td>Outros transtornos do trato urinário</td>\n",
              "    </tr>\n",
              "  </tbody>\n",
              "</table>\n",
              "</div>"
            ]
          },
          "metadata": {},
          "execution_count": 90
        }
      ]
    },
    {
      "cell_type": "code",
      "source": [
        "import plotly.express as px\n",
        "\n",
        "fig = px.bar(df_top10_causas_desc, x='cid', y='mortes',\n",
        "             color='descricao',\n",
        "             height=400, width=1200,\n",
        "             labels={'mortes':'Mortes', 'cid': 'CID - Outras causas'},\n",
        "             text='mortes')\n",
        "fig.show()"
      ],
      "metadata": {
        "id": "0VKS2Ak1Pl4t",
        "colab": {
          "base_uri": "https://localhost:8080/",
          "height": 417
        },
        "outputId": "1876eb1c-da5d-4ccb-d80d-d6f6de01f818"
      },
      "execution_count": 91,
      "outputs": [
        {
          "output_type": "display_data",
          "data": {
            "text/html": [
              "<html>\n",
              "<head><meta charset=\"utf-8\" /></head>\n",
              "<body>\n",
              "    <div>            <script src=\"https://cdnjs.cloudflare.com/ajax/libs/mathjax/2.7.5/MathJax.js?config=TeX-AMS-MML_SVG\"></script><script type=\"text/javascript\">if (window.MathJax && window.MathJax.Hub && window.MathJax.Hub.Config) {window.MathJax.Hub.Config({SVG: {font: \"STIX-Web\"}});}</script>                <script type=\"text/javascript\">window.PlotlyConfig = {MathJaxConfig: 'local'};</script>\n",
              "        <script charset=\"utf-8\" src=\"https://cdn.plot.ly/plotly-2.24.1.min.js\"></script>                <div id=\"8f6f7965-9076-47db-a30d-772509933dfb\" class=\"plotly-graph-div\" style=\"height:400px; width:1200px;\"></div>            <script type=\"text/javascript\">                                    window.PLOTLYENV=window.PLOTLYENV || {};                                    if (document.getElementById(\"8f6f7965-9076-47db-a30d-772509933dfb\")) {                    Plotly.newPlot(                        \"8f6f7965-9076-47db-a30d-772509933dfb\",                        [{\"alignmentgroup\":\"True\",\"hovertemplate\":\"descricao=Total de mortes por Alzheimer\\u003cbr\\u003eCID - Outras causas=%{x}\\u003cbr\\u003eMortes=%{text}\\u003cextra\\u003e\\u003c\\u002fextra\\u003e\",\"legendgroup\":\"Total de mortes por Alzheimer\",\"marker\":{\"color\":\"#636efa\",\"pattern\":{\"shape\":\"\"}},\"name\":\"Total de mortes por Alzheimer\",\"offsetgroup\":\"Total de mortes por Alzheimer\",\"orientation\":\"v\",\"showlegend\":true,\"text\":[119083.0],\"textposition\":\"auto\",\"x\":[\"Total\"],\"xaxis\":\"x\",\"y\":[119083],\"yaxis\":\"y\",\"type\":\"bar\"},{\"alignmentgroup\":\"True\",\"hovertemplate\":\"descricao=Pneumonia por microorganismo n\\u00e3o especificada\\u003cbr\\u003eCID - Outras causas=%{x}\\u003cbr\\u003eMortes=%{text}\\u003cextra\\u003e\\u003c\\u002fextra\\u003e\",\"legendgroup\":\"Pneumonia por microorganismo n\\u00e3o especificada\",\"marker\":{\"color\":\"#EF553B\",\"pattern\":{\"shape\":\"\"}},\"name\":\"Pneumonia por microorganismo n\\u00e3o especificada\",\"offsetgroup\":\"Pneumonia por microorganismo n\\u00e3o especificada\",\"orientation\":\"v\",\"showlegend\":true,\"text\":[36980.0],\"textposition\":\"auto\",\"x\":[\"J18\"],\"xaxis\":\"x\",\"y\":[36980],\"yaxis\":\"y\",\"type\":\"bar\"},{\"alignmentgroup\":\"True\",\"hovertemplate\":\"descricao=Outras septicemias\\u003cbr\\u003eCID - Outras causas=%{x}\\u003cbr\\u003eMortes=%{text}\\u003cextra\\u003e\\u003c\\u002fextra\\u003e\",\"legendgroup\":\"Outras septicemias\",\"marker\":{\"color\":\"#00cc96\",\"pattern\":{\"shape\":\"\"}},\"name\":\"Outras septicemias\",\"offsetgroup\":\"Outras septicemias\",\"orientation\":\"v\",\"showlegend\":true,\"text\":[33807.0],\"textposition\":\"auto\",\"x\":[\"A41\"],\"xaxis\":\"x\",\"y\":[33807],\"yaxis\":\"y\",\"type\":\"bar\"},{\"alignmentgroup\":\"True\",\"hovertemplate\":\"descricao=Insufici\\u00eancia respirat\\u00f3ria n\\u00e3o classificada de outra parte\\u003cbr\\u003eCID - Outras causas=%{x}\\u003cbr\\u003eMortes=%{text}\\u003cextra\\u003e\\u003c\\u002fextra\\u003e\",\"legendgroup\":\"Insufici\\u00eancia respirat\\u00f3ria n\\u00e3o classificada de outra parte\",\"marker\":{\"color\":\"#ab63fa\",\"pattern\":{\"shape\":\"\"}},\"name\":\"Insufici\\u00eancia respirat\\u00f3ria n\\u00e3o classificada de outra parte\",\"offsetgroup\":\"Insufici\\u00eancia respirat\\u00f3ria n\\u00e3o classificada de outra parte\",\"orientation\":\"v\",\"showlegend\":true,\"text\":[27608.0],\"textposition\":\"auto\",\"x\":[\"J96\"],\"xaxis\":\"x\",\"y\":[27608],\"yaxis\":\"y\",\"type\":\"bar\"},{\"alignmentgroup\":\"True\",\"hovertemplate\":\"descricao=Pneumonite devida a s\\u00f3lidos e l\\u00edquidos\\u003cbr\\u003eCID - Outras causas=%{x}\\u003cbr\\u003eMortes=%{text}\\u003cextra\\u003e\\u003c\\u002fextra\\u003e\",\"legendgroup\":\"Pneumonite devida a s\\u00f3lidos e l\\u00edquidos\",\"marker\":{\"color\":\"#FFA15A\",\"pattern\":{\"shape\":\"\"}},\"name\":\"Pneumonite devida a s\\u00f3lidos e l\\u00edquidos\",\"offsetgroup\":\"Pneumonite devida a s\\u00f3lidos e l\\u00edquidos\",\"orientation\":\"v\",\"showlegend\":true,\"text\":[12658.0],\"textposition\":\"auto\",\"x\":[\"J69\"],\"xaxis\":\"x\",\"y\":[12658],\"yaxis\":\"y\",\"type\":\"bar\"},{\"alignmentgroup\":\"True\",\"hovertemplate\":\"descricao=Outros sintomas e sinais relativos aos aparelhos circulat\\u00f3rio e respirat\\u00f3rio\\u003cbr\\u003eCID - Outras causas=%{x}\\u003cbr\\u003eMortes=%{text}\\u003cextra\\u003e\\u003c\\u002fextra\\u003e\",\"legendgroup\":\"Outros sintomas e sinais relativos aos aparelhos circulat\\u00f3rio e respirat\\u00f3rio\",\"marker\":{\"color\":\"#19d3f3\",\"pattern\":{\"shape\":\"\"}},\"name\":\"Outros sintomas e sinais relativos aos aparelhos circulat\\u00f3rio e respirat\\u00f3rio\",\"offsetgroup\":\"Outros sintomas e sinais relativos aos aparelhos circulat\\u00f3rio e respirat\\u00f3rio\",\"orientation\":\"v\",\"showlegend\":true,\"text\":[10438.0],\"textposition\":\"auto\",\"x\":[\"R09\"],\"xaxis\":\"x\",\"y\":[10438],\"yaxis\":\"y\",\"type\":\"bar\"},{\"alignmentgroup\":\"True\",\"hovertemplate\":\"descricao=Pneumonia bacteriana n\\u00e3o classificada em outra parte\\u003cbr\\u003eCID - Outras causas=%{x}\\u003cbr\\u003eMortes=%{text}\\u003cextra\\u003e\\u003c\\u002fextra\\u003e\",\"legendgroup\":\"Pneumonia bacteriana n\\u00e3o classificada em outra parte\",\"marker\":{\"color\":\"#FF6692\",\"pattern\":{\"shape\":\"\"}},\"name\":\"Pneumonia bacteriana n\\u00e3o classificada em outra parte\",\"offsetgroup\":\"Pneumonia bacteriana n\\u00e3o classificada em outra parte\",\"orientation\":\"v\",\"showlegend\":true,\"text\":[9005.0],\"textposition\":\"auto\",\"x\":[\"J15\"],\"xaxis\":\"x\",\"y\":[9005],\"yaxis\":\"y\",\"type\":\"bar\"},{\"alignmentgroup\":\"True\",\"hovertemplate\":\"descricao=Outros sintomas e sinais gerais\\u003cbr\\u003eCID - Outras causas=%{x}\\u003cbr\\u003eMortes=%{text}\\u003cextra\\u003e\\u003c\\u002fextra\\u003e\",\"legendgroup\":\"Outros sintomas e sinais gerais\",\"marker\":{\"color\":\"#B6E880\",\"pattern\":{\"shape\":\"\"}},\"name\":\"Outros sintomas e sinais gerais\",\"offsetgroup\":\"Outros sintomas e sinais gerais\",\"orientation\":\"v\",\"showlegend\":true,\"text\":[7927.0],\"textposition\":\"auto\",\"x\":[\"R68\"],\"xaxis\":\"x\",\"y\":[7927],\"yaxis\":\"y\",\"type\":\"bar\"},{\"alignmentgroup\":\"True\",\"hovertemplate\":\"descricao=Outras causas mal definidas e as n\\u00e3o especificadas de mortalidade\\u003cbr\\u003eCID - Outras causas=%{x}\\u003cbr\\u003eMortes=%{text}\\u003cextra\\u003e\\u003c\\u002fextra\\u003e\",\"legendgroup\":\"Outras causas mal definidas e as n\\u00e3o especificadas de mortalidade\",\"marker\":{\"color\":\"#FF97FF\",\"pattern\":{\"shape\":\"\"}},\"name\":\"Outras causas mal definidas e as n\\u00e3o especificadas de mortalidade\",\"offsetgroup\":\"Outras causas mal definidas e as n\\u00e3o especificadas de mortalidade\",\"orientation\":\"v\",\"showlegend\":true,\"text\":[7725.0],\"textposition\":\"auto\",\"x\":[\"R99\"],\"xaxis\":\"x\",\"y\":[7725],\"yaxis\":\"y\",\"type\":\"bar\"},{\"alignmentgroup\":\"True\",\"hovertemplate\":\"descricao=Senilidade\\u003cbr\\u003eCID - Outras causas=%{x}\\u003cbr\\u003eMortes=%{text}\\u003cextra\\u003e\\u003c\\u002fextra\\u003e\",\"legendgroup\":\"Senilidade\",\"marker\":{\"color\":\"#FECB52\",\"pattern\":{\"shape\":\"\"}},\"name\":\"Senilidade\",\"offsetgroup\":\"Senilidade\",\"orientation\":\"v\",\"showlegend\":true,\"text\":[7211.0],\"textposition\":\"auto\",\"x\":[\"R54\"],\"xaxis\":\"x\",\"y\":[7211],\"yaxis\":\"y\",\"type\":\"bar\"},{\"alignmentgroup\":\"True\",\"hovertemplate\":\"descricao=Outros transtornos do trato urin\\u00e1rio\\u003cbr\\u003eCID - Outras causas=%{x}\\u003cbr\\u003eMortes=%{text}\\u003cextra\\u003e\\u003c\\u002fextra\\u003e\",\"legendgroup\":\"Outros transtornos do trato urin\\u00e1rio\",\"marker\":{\"color\":\"#636efa\",\"pattern\":{\"shape\":\"\"}},\"name\":\"Outros transtornos do trato urin\\u00e1rio\",\"offsetgroup\":\"Outros transtornos do trato urin\\u00e1rio\",\"orientation\":\"v\",\"showlegend\":true,\"text\":[5193.0],\"textposition\":\"auto\",\"x\":[\"N39\"],\"xaxis\":\"x\",\"y\":[5193],\"yaxis\":\"y\",\"type\":\"bar\"}],                        {\"template\":{\"data\":{\"histogram2dcontour\":[{\"type\":\"histogram2dcontour\",\"colorbar\":{\"outlinewidth\":0,\"ticks\":\"\"},\"colorscale\":[[0.0,\"#0d0887\"],[0.1111111111111111,\"#46039f\"],[0.2222222222222222,\"#7201a8\"],[0.3333333333333333,\"#9c179e\"],[0.4444444444444444,\"#bd3786\"],[0.5555555555555556,\"#d8576b\"],[0.6666666666666666,\"#ed7953\"],[0.7777777777777778,\"#fb9f3a\"],[0.8888888888888888,\"#fdca26\"],[1.0,\"#f0f921\"]]}],\"choropleth\":[{\"type\":\"choropleth\",\"colorbar\":{\"outlinewidth\":0,\"ticks\":\"\"}}],\"histogram2d\":[{\"type\":\"histogram2d\",\"colorbar\":{\"outlinewidth\":0,\"ticks\":\"\"},\"colorscale\":[[0.0,\"#0d0887\"],[0.1111111111111111,\"#46039f\"],[0.2222222222222222,\"#7201a8\"],[0.3333333333333333,\"#9c179e\"],[0.4444444444444444,\"#bd3786\"],[0.5555555555555556,\"#d8576b\"],[0.6666666666666666,\"#ed7953\"],[0.7777777777777778,\"#fb9f3a\"],[0.8888888888888888,\"#fdca26\"],[1.0,\"#f0f921\"]]}],\"heatmap\":[{\"type\":\"heatmap\",\"colorbar\":{\"outlinewidth\":0,\"ticks\":\"\"},\"colorscale\":[[0.0,\"#0d0887\"],[0.1111111111111111,\"#46039f\"],[0.2222222222222222,\"#7201a8\"],[0.3333333333333333,\"#9c179e\"],[0.4444444444444444,\"#bd3786\"],[0.5555555555555556,\"#d8576b\"],[0.6666666666666666,\"#ed7953\"],[0.7777777777777778,\"#fb9f3a\"],[0.8888888888888888,\"#fdca26\"],[1.0,\"#f0f921\"]]}],\"heatmapgl\":[{\"type\":\"heatmapgl\",\"colorbar\":{\"outlinewidth\":0,\"ticks\":\"\"},\"colorscale\":[[0.0,\"#0d0887\"],[0.1111111111111111,\"#46039f\"],[0.2222222222222222,\"#7201a8\"],[0.3333333333333333,\"#9c179e\"],[0.4444444444444444,\"#bd3786\"],[0.5555555555555556,\"#d8576b\"],[0.6666666666666666,\"#ed7953\"],[0.7777777777777778,\"#fb9f3a\"],[0.8888888888888888,\"#fdca26\"],[1.0,\"#f0f921\"]]}],\"contourcarpet\":[{\"type\":\"contourcarpet\",\"colorbar\":{\"outlinewidth\":0,\"ticks\":\"\"}}],\"contour\":[{\"type\":\"contour\",\"colorbar\":{\"outlinewidth\":0,\"ticks\":\"\"},\"colorscale\":[[0.0,\"#0d0887\"],[0.1111111111111111,\"#46039f\"],[0.2222222222222222,\"#7201a8\"],[0.3333333333333333,\"#9c179e\"],[0.4444444444444444,\"#bd3786\"],[0.5555555555555556,\"#d8576b\"],[0.6666666666666666,\"#ed7953\"],[0.7777777777777778,\"#fb9f3a\"],[0.8888888888888888,\"#fdca26\"],[1.0,\"#f0f921\"]]}],\"surface\":[{\"type\":\"surface\",\"colorbar\":{\"outlinewidth\":0,\"ticks\":\"\"},\"colorscale\":[[0.0,\"#0d0887\"],[0.1111111111111111,\"#46039f\"],[0.2222222222222222,\"#7201a8\"],[0.3333333333333333,\"#9c179e\"],[0.4444444444444444,\"#bd3786\"],[0.5555555555555556,\"#d8576b\"],[0.6666666666666666,\"#ed7953\"],[0.7777777777777778,\"#fb9f3a\"],[0.8888888888888888,\"#fdca26\"],[1.0,\"#f0f921\"]]}],\"mesh3d\":[{\"type\":\"mesh3d\",\"colorbar\":{\"outlinewidth\":0,\"ticks\":\"\"}}],\"scatter\":[{\"fillpattern\":{\"fillmode\":\"overlay\",\"size\":10,\"solidity\":0.2},\"type\":\"scatter\"}],\"parcoords\":[{\"type\":\"parcoords\",\"line\":{\"colorbar\":{\"outlinewidth\":0,\"ticks\":\"\"}}}],\"scatterpolargl\":[{\"type\":\"scatterpolargl\",\"marker\":{\"colorbar\":{\"outlinewidth\":0,\"ticks\":\"\"}}}],\"bar\":[{\"error_x\":{\"color\":\"#2a3f5f\"},\"error_y\":{\"color\":\"#2a3f5f\"},\"marker\":{\"line\":{\"color\":\"#E5ECF6\",\"width\":0.5},\"pattern\":{\"fillmode\":\"overlay\",\"size\":10,\"solidity\":0.2}},\"type\":\"bar\"}],\"scattergeo\":[{\"type\":\"scattergeo\",\"marker\":{\"colorbar\":{\"outlinewidth\":0,\"ticks\":\"\"}}}],\"scatterpolar\":[{\"type\":\"scatterpolar\",\"marker\":{\"colorbar\":{\"outlinewidth\":0,\"ticks\":\"\"}}}],\"histogram\":[{\"marker\":{\"pattern\":{\"fillmode\":\"overlay\",\"size\":10,\"solidity\":0.2}},\"type\":\"histogram\"}],\"scattergl\":[{\"type\":\"scattergl\",\"marker\":{\"colorbar\":{\"outlinewidth\":0,\"ticks\":\"\"}}}],\"scatter3d\":[{\"type\":\"scatter3d\",\"line\":{\"colorbar\":{\"outlinewidth\":0,\"ticks\":\"\"}},\"marker\":{\"colorbar\":{\"outlinewidth\":0,\"ticks\":\"\"}}}],\"scattermapbox\":[{\"type\":\"scattermapbox\",\"marker\":{\"colorbar\":{\"outlinewidth\":0,\"ticks\":\"\"}}}],\"scatterternary\":[{\"type\":\"scatterternary\",\"marker\":{\"colorbar\":{\"outlinewidth\":0,\"ticks\":\"\"}}}],\"scattercarpet\":[{\"type\":\"scattercarpet\",\"marker\":{\"colorbar\":{\"outlinewidth\":0,\"ticks\":\"\"}}}],\"carpet\":[{\"aaxis\":{\"endlinecolor\":\"#2a3f5f\",\"gridcolor\":\"white\",\"linecolor\":\"white\",\"minorgridcolor\":\"white\",\"startlinecolor\":\"#2a3f5f\"},\"baxis\":{\"endlinecolor\":\"#2a3f5f\",\"gridcolor\":\"white\",\"linecolor\":\"white\",\"minorgridcolor\":\"white\",\"startlinecolor\":\"#2a3f5f\"},\"type\":\"carpet\"}],\"table\":[{\"cells\":{\"fill\":{\"color\":\"#EBF0F8\"},\"line\":{\"color\":\"white\"}},\"header\":{\"fill\":{\"color\":\"#C8D4E3\"},\"line\":{\"color\":\"white\"}},\"type\":\"table\"}],\"barpolar\":[{\"marker\":{\"line\":{\"color\":\"#E5ECF6\",\"width\":0.5},\"pattern\":{\"fillmode\":\"overlay\",\"size\":10,\"solidity\":0.2}},\"type\":\"barpolar\"}],\"pie\":[{\"automargin\":true,\"type\":\"pie\"}]},\"layout\":{\"autotypenumbers\":\"strict\",\"colorway\":[\"#636efa\",\"#EF553B\",\"#00cc96\",\"#ab63fa\",\"#FFA15A\",\"#19d3f3\",\"#FF6692\",\"#B6E880\",\"#FF97FF\",\"#FECB52\"],\"font\":{\"color\":\"#2a3f5f\"},\"hovermode\":\"closest\",\"hoverlabel\":{\"align\":\"left\"},\"paper_bgcolor\":\"white\",\"plot_bgcolor\":\"#E5ECF6\",\"polar\":{\"bgcolor\":\"#E5ECF6\",\"angularaxis\":{\"gridcolor\":\"white\",\"linecolor\":\"white\",\"ticks\":\"\"},\"radialaxis\":{\"gridcolor\":\"white\",\"linecolor\":\"white\",\"ticks\":\"\"}},\"ternary\":{\"bgcolor\":\"#E5ECF6\",\"aaxis\":{\"gridcolor\":\"white\",\"linecolor\":\"white\",\"ticks\":\"\"},\"baxis\":{\"gridcolor\":\"white\",\"linecolor\":\"white\",\"ticks\":\"\"},\"caxis\":{\"gridcolor\":\"white\",\"linecolor\":\"white\",\"ticks\":\"\"}},\"coloraxis\":{\"colorbar\":{\"outlinewidth\":0,\"ticks\":\"\"}},\"colorscale\":{\"sequential\":[[0.0,\"#0d0887\"],[0.1111111111111111,\"#46039f\"],[0.2222222222222222,\"#7201a8\"],[0.3333333333333333,\"#9c179e\"],[0.4444444444444444,\"#bd3786\"],[0.5555555555555556,\"#d8576b\"],[0.6666666666666666,\"#ed7953\"],[0.7777777777777778,\"#fb9f3a\"],[0.8888888888888888,\"#fdca26\"],[1.0,\"#f0f921\"]],\"sequentialminus\":[[0.0,\"#0d0887\"],[0.1111111111111111,\"#46039f\"],[0.2222222222222222,\"#7201a8\"],[0.3333333333333333,\"#9c179e\"],[0.4444444444444444,\"#bd3786\"],[0.5555555555555556,\"#d8576b\"],[0.6666666666666666,\"#ed7953\"],[0.7777777777777778,\"#fb9f3a\"],[0.8888888888888888,\"#fdca26\"],[1.0,\"#f0f921\"]],\"diverging\":[[0,\"#8e0152\"],[0.1,\"#c51b7d\"],[0.2,\"#de77ae\"],[0.3,\"#f1b6da\"],[0.4,\"#fde0ef\"],[0.5,\"#f7f7f7\"],[0.6,\"#e6f5d0\"],[0.7,\"#b8e186\"],[0.8,\"#7fbc41\"],[0.9,\"#4d9221\"],[1,\"#276419\"]]},\"xaxis\":{\"gridcolor\":\"white\",\"linecolor\":\"white\",\"ticks\":\"\",\"title\":{\"standoff\":15},\"zerolinecolor\":\"white\",\"automargin\":true,\"zerolinewidth\":2},\"yaxis\":{\"gridcolor\":\"white\",\"linecolor\":\"white\",\"ticks\":\"\",\"title\":{\"standoff\":15},\"zerolinecolor\":\"white\",\"automargin\":true,\"zerolinewidth\":2},\"scene\":{\"xaxis\":{\"backgroundcolor\":\"#E5ECF6\",\"gridcolor\":\"white\",\"linecolor\":\"white\",\"showbackground\":true,\"ticks\":\"\",\"zerolinecolor\":\"white\",\"gridwidth\":2},\"yaxis\":{\"backgroundcolor\":\"#E5ECF6\",\"gridcolor\":\"white\",\"linecolor\":\"white\",\"showbackground\":true,\"ticks\":\"\",\"zerolinecolor\":\"white\",\"gridwidth\":2},\"zaxis\":{\"backgroundcolor\":\"#E5ECF6\",\"gridcolor\":\"white\",\"linecolor\":\"white\",\"showbackground\":true,\"ticks\":\"\",\"zerolinecolor\":\"white\",\"gridwidth\":2}},\"shapedefaults\":{\"line\":{\"color\":\"#2a3f5f\"}},\"annotationdefaults\":{\"arrowcolor\":\"#2a3f5f\",\"arrowhead\":0,\"arrowwidth\":1},\"geo\":{\"bgcolor\":\"white\",\"landcolor\":\"#E5ECF6\",\"subunitcolor\":\"white\",\"showland\":true,\"showlakes\":true,\"lakecolor\":\"white\"},\"title\":{\"x\":0.05},\"mapbox\":{\"style\":\"light\"}}},\"xaxis\":{\"anchor\":\"y\",\"domain\":[0.0,1.0],\"title\":{\"text\":\"CID - Outras causas\"}},\"yaxis\":{\"anchor\":\"x\",\"domain\":[0.0,1.0],\"title\":{\"text\":\"Mortes\"}},\"legend\":{\"title\":{\"text\":\"descricao\"},\"tracegroupgap\":0},\"margin\":{\"t\":60},\"barmode\":\"relative\",\"height\":400,\"width\":1200},                        {\"responsive\": true}                    ).then(function(){\n",
              "                            \n",
              "var gd = document.getElementById('8f6f7965-9076-47db-a30d-772509933dfb');\n",
              "var x = new MutationObserver(function (mutations, observer) {{\n",
              "        var display = window.getComputedStyle(gd).display;\n",
              "        if (!display || display === 'none') {{\n",
              "            console.log([gd, 'removed!']);\n",
              "            Plotly.purge(gd);\n",
              "            observer.disconnect();\n",
              "        }}\n",
              "}});\n",
              "\n",
              "// Listen for the removal of the full notebook cells\n",
              "var notebookContainer = gd.closest('#notebook-container');\n",
              "if (notebookContainer) {{\n",
              "    x.observe(notebookContainer, {childList: true});\n",
              "}}\n",
              "\n",
              "// Listen for the clearing of the current output cell\n",
              "var outputEl = gd.closest('.output');\n",
              "if (outputEl) {{\n",
              "    x.observe(outputEl, {childList: true});\n",
              "}}\n",
              "\n",
              "                        })                };                            </script>        </div>\n",
              "</body>\n",
              "</html>"
            ]
          },
          "metadata": {}
        }
      ]
    }
  ],
  "metadata": {
    "colab": {
      "provenance": [],
      "toc_visible": true,
      "gpuType": "T4",
      "mount_file_id": "1ZQcHrd659TtR9HSP7R2DOM3Fq8RPNPwX",
      "authorship_tag": "ABX9TyPJUvmD8RskRhaXgrYOrQSv",
      "include_colab_link": true
    },
    "kernelspec": {
      "display_name": "Python 3",
      "name": "python3"
    },
    "language_info": {
      "name": "python"
    },
    "accelerator": "GPU",
    "widgets": {
      "application/vnd.jupyter.widget-state+json": {
        "6a69b5f4c37646e5997a26a31a086839": {
          "model_module": "@jupyter-widgets/controls",
          "model_name": "VBoxModel",
          "model_module_version": "1.5.0",
          "state": {
            "_dom_classes": [],
            "_model_module": "@jupyter-widgets/controls",
            "_model_module_version": "1.5.0",
            "_model_name": "VBoxModel",
            "_view_count": null,
            "_view_module": "@jupyter-widgets/controls",
            "_view_module_version": "1.5.0",
            "_view_name": "VBoxView",
            "box_style": "",
            "children": [
              "IPY_MODEL_1fab20dc070346f59cdfebc216555679",
              "IPY_MODEL_058190ac522b4793ab8846ee1ce63362"
            ],
            "layout": "IPY_MODEL_85ef394c3a674d50b08b89f6d870ed35"
          }
        },
        "1fab20dc070346f59cdfebc216555679": {
          "model_module": "@jupyter-widgets/controls",
          "model_name": "HBoxModel",
          "model_module_version": "1.5.0",
          "state": {
            "_dom_classes": [],
            "_model_module": "@jupyter-widgets/controls",
            "_model_module_version": "1.5.0",
            "_model_name": "HBoxModel",
            "_view_count": null,
            "_view_module": "@jupyter-widgets/controls",
            "_view_module_version": "1.5.0",
            "_view_name": "HBoxView",
            "box_style": "",
            "children": [
              "IPY_MODEL_226ed1bc2a1d4fe7aaeaf12e6f9af945",
              "IPY_MODEL_e8ffcc3e1a0943a5ad7a4fe6a44f358b",
              "IPY_MODEL_af43faf89115405e8123eee5b5630676",
              "IPY_MODEL_c1804047cd6647fdb52c5fae294dad71"
            ],
            "layout": "IPY_MODEL_777f81dec6bc45938807f2d70280a525"
          }
        },
        "058190ac522b4793ab8846ee1ce63362": {
          "model_module": "bqplot",
          "model_name": "FigureModel",
          "model_module_version": "^0.5",
          "state": {
            "_dom_classes": [],
            "_model_module": "bqplot",
            "_model_module_version": "^0.5",
            "_model_name": "FigureModel",
            "_view_count": null,
            "_view_module": "bqplot",
            "_view_module_version": "^0.5",
            "_view_name": "Figure",
            "animation_duration": 0,
            "axes": [],
            "background_style": {},
            "fig_margin": {
              "top": 0,
              "bottom": 0,
              "left": 0,
              "right": 0
            },
            "interaction": null,
            "layout": "IPY_MODEL_a12e824a3c2e4edfb61b8ade1dc77215",
            "legend_location": "top-right",
            "legend_style": {},
            "legend_text": {
              "font-size": 7
            },
            "marks": [
              "IPY_MODEL_2c08b41d89ce4c1aa2aab1c1d5420233"
            ],
            "max_aspect_ratio": 100,
            "min_aspect_ratio": 0.01,
            "padding_x": 0,
            "padding_y": 0.025,
            "pixel_ratio": null,
            "scale_x": "IPY_MODEL_b576decbf960473ea41283f4de793a82",
            "scale_y": "IPY_MODEL_22c942ef0aa2481080ccf55caaa7ce0e",
            "theme": "classic",
            "title": "",
            "title_style": {}
          }
        },
        "85ef394c3a674d50b08b89f6d870ed35": {
          "model_module": "@jupyter-widgets/base",
          "model_name": "LayoutModel",
          "model_module_version": "1.2.0",
          "state": {
            "_model_module": "@jupyter-widgets/base",
            "_model_module_version": "1.2.0",
            "_model_name": "LayoutModel",
            "_view_count": null,
            "_view_module": "@jupyter-widgets/base",
            "_view_module_version": "1.2.0",
            "_view_name": "LayoutView",
            "align_content": null,
            "align_items": null,
            "align_self": null,
            "border": null,
            "bottom": null,
            "display": null,
            "flex": null,
            "flex_flow": null,
            "grid_area": null,
            "grid_auto_columns": null,
            "grid_auto_flow": null,
            "grid_auto_rows": null,
            "grid_column": null,
            "grid_gap": null,
            "grid_row": null,
            "grid_template_areas": null,
            "grid_template_columns": null,
            "grid_template_rows": null,
            "height": null,
            "justify_content": null,
            "justify_items": null,
            "left": null,
            "margin": null,
            "max_height": null,
            "max_width": null,
            "min_height": null,
            "min_width": null,
            "object_fit": null,
            "object_position": null,
            "order": null,
            "overflow": null,
            "overflow_x": null,
            "overflow_y": null,
            "padding": null,
            "right": null,
            "top": null,
            "visibility": null,
            "width": null
          }
        },
        "226ed1bc2a1d4fe7aaeaf12e6f9af945": {
          "model_module": "@jupyter-widgets/controls",
          "model_name": "SelectMultipleModel",
          "model_module_version": "1.5.0",
          "state": {
            "_dom_classes": [],
            "_model_module": "@jupyter-widgets/controls",
            "_model_module_version": "1.5.0",
            "_model_name": "SelectMultipleModel",
            "_options_labels": [
              "A41",
              "J15",
              "J18",
              "J69",
              "J96",
              "J98",
              "L89",
              "N39"
            ],
            "_view_count": null,
            "_view_module": "@jupyter-widgets/controls",
            "_view_module_version": "1.5.0",
            "_view_name": "SelectMultipleView",
            "description": "",
            "description_tooltip": null,
            "disabled": false,
            "index": [
              0,
              1,
              2,
              3,
              4,
              5,
              6,
              7
            ],
            "layout": "IPY_MODEL_4355f6692df94254b3d272efa71495c3",
            "rows": 10,
            "style": "IPY_MODEL_8240cebadcc94671848d98706f231049"
          }
        },
        "e8ffcc3e1a0943a5ad7a4fe6a44f358b": {
          "model_module": "@jupyter-widgets/controls",
          "model_name": "SelectMultipleModel",
          "model_module_version": "1.5.0",
          "state": {
            "_dom_classes": [],
            "_model_module": "@jupyter-widgets/controls",
            "_model_module_version": "1.5.0",
            "_model_name": "SelectMultipleModel",
            "_options_labels": [
              "A41",
              "J15",
              "J18",
              "J69",
              "J96",
              "J98",
              "L89",
              "N39"
            ],
            "_view_count": null,
            "_view_module": "@jupyter-widgets/controls",
            "_view_module_version": "1.5.0",
            "_view_name": "SelectMultipleView",
            "description": "",
            "description_tooltip": null,
            "disabled": false,
            "index": [],
            "layout": "IPY_MODEL_682b9c4f7455428791add12248aa03e4",
            "rows": 10,
            "style": "IPY_MODEL_f1d9f3e6ad89430dacc8bc4eab58dcab"
          }
        },
        "af43faf89115405e8123eee5b5630676": {
          "model_module": "@jupyter-widgets/controls",
          "model_name": "VBoxModel",
          "model_module_version": "1.5.0",
          "state": {
            "_dom_classes": [],
            "_model_module": "@jupyter-widgets/controls",
            "_model_module_version": "1.5.0",
            "_model_name": "VBoxModel",
            "_view_count": null,
            "_view_module": "@jupyter-widgets/controls",
            "_view_module_version": "1.5.0",
            "_view_name": "VBoxView",
            "box_style": "",
            "children": [
              "IPY_MODEL_2ab2360159444b5a8ecc3890b3861f1f",
              "IPY_MODEL_09ee717faf6846a99dcab51f796749da",
              "IPY_MODEL_f228a05a846843ccb7f606f5133e28d3",
              "IPY_MODEL_d314f24a1328401cad40c699b9b1e781"
            ],
            "layout": "IPY_MODEL_4744778309614a69be8d56246250360a"
          }
        },
        "c1804047cd6647fdb52c5fae294dad71": {
          "model_module": "@jupyter-widgets/controls",
          "model_name": "ButtonModel",
          "model_module_version": "1.5.0",
          "state": {
            "_dom_classes": [],
            "_model_module": "@jupyter-widgets/controls",
            "_model_module_version": "1.5.0",
            "_model_name": "ButtonModel",
            "_view_count": null,
            "_view_module": "@jupyter-widgets/controls",
            "_view_module_version": "1.5.0",
            "_view_name": "ButtonView",
            "button_style": "",
            "description": "Save img!",
            "disabled": false,
            "icon": "",
            "layout": "IPY_MODEL_d0d7b69bd419431cadd76002cd5b0c5d",
            "style": "IPY_MODEL_bb5de676f7b24e53b46bb60a063b3d43",
            "tooltip": ""
          }
        },
        "777f81dec6bc45938807f2d70280a525": {
          "model_module": "@jupyter-widgets/base",
          "model_name": "LayoutModel",
          "model_module_version": "1.2.0",
          "state": {
            "_model_module": "@jupyter-widgets/base",
            "_model_module_version": "1.2.0",
            "_model_name": "LayoutModel",
            "_view_count": null,
            "_view_module": "@jupyter-widgets/base",
            "_view_module_version": "1.2.0",
            "_view_name": "LayoutView",
            "align_content": null,
            "align_items": null,
            "align_self": null,
            "border": null,
            "bottom": null,
            "display": null,
            "flex": null,
            "flex_flow": null,
            "grid_area": null,
            "grid_auto_columns": null,
            "grid_auto_flow": null,
            "grid_auto_rows": null,
            "grid_column": null,
            "grid_gap": null,
            "grid_row": null,
            "grid_template_areas": null,
            "grid_template_columns": null,
            "grid_template_rows": null,
            "height": null,
            "justify_content": null,
            "justify_items": null,
            "left": null,
            "margin": null,
            "max_height": null,
            "max_width": null,
            "min_height": null,
            "min_width": null,
            "object_fit": null,
            "object_position": null,
            "order": null,
            "overflow": null,
            "overflow_x": null,
            "overflow_y": null,
            "padding": null,
            "right": null,
            "top": null,
            "visibility": null,
            "width": null
          }
        },
        "4355f6692df94254b3d272efa71495c3": {
          "model_module": "@jupyter-widgets/base",
          "model_name": "LayoutModel",
          "model_module_version": "1.2.0",
          "state": {
            "_model_module": "@jupyter-widgets/base",
            "_model_module_version": "1.2.0",
            "_model_name": "LayoutModel",
            "_view_count": null,
            "_view_module": "@jupyter-widgets/base",
            "_view_module_version": "1.2.0",
            "_view_name": "LayoutView",
            "align_content": null,
            "align_items": null,
            "align_self": null,
            "border": null,
            "bottom": null,
            "display": null,
            "flex": null,
            "flex_flow": null,
            "grid_area": null,
            "grid_auto_columns": null,
            "grid_auto_flow": null,
            "grid_auto_rows": null,
            "grid_column": null,
            "grid_gap": null,
            "grid_row": null,
            "grid_template_areas": null,
            "grid_template_columns": null,
            "grid_template_rows": null,
            "height": null,
            "justify_content": null,
            "justify_items": null,
            "left": null,
            "margin": null,
            "max_height": null,
            "max_width": null,
            "min_height": null,
            "min_width": null,
            "object_fit": null,
            "object_position": null,
            "order": null,
            "overflow": null,
            "overflow_x": null,
            "overflow_y": null,
            "padding": null,
            "right": null,
            "top": null,
            "visibility": null,
            "width": null
          }
        },
        "8240cebadcc94671848d98706f231049": {
          "model_module": "@jupyter-widgets/controls",
          "model_name": "DescriptionStyleModel",
          "model_module_version": "1.5.0",
          "state": {
            "_model_module": "@jupyter-widgets/controls",
            "_model_module_version": "1.5.0",
            "_model_name": "DescriptionStyleModel",
            "_view_count": null,
            "_view_module": "@jupyter-widgets/base",
            "_view_module_version": "1.2.0",
            "_view_name": "StyleView",
            "description_width": ""
          }
        },
        "682b9c4f7455428791add12248aa03e4": {
          "model_module": "@jupyter-widgets/base",
          "model_name": "LayoutModel",
          "model_module_version": "1.2.0",
          "state": {
            "_model_module": "@jupyter-widgets/base",
            "_model_module_version": "1.2.0",
            "_model_name": "LayoutModel",
            "_view_count": null,
            "_view_module": "@jupyter-widgets/base",
            "_view_module_version": "1.2.0",
            "_view_name": "LayoutView",
            "align_content": null,
            "align_items": null,
            "align_self": null,
            "border": null,
            "bottom": null,
            "display": null,
            "flex": null,
            "flex_flow": null,
            "grid_area": null,
            "grid_auto_columns": null,
            "grid_auto_flow": null,
            "grid_auto_rows": null,
            "grid_column": null,
            "grid_gap": null,
            "grid_row": null,
            "grid_template_areas": null,
            "grid_template_columns": null,
            "grid_template_rows": null,
            "height": null,
            "justify_content": null,
            "justify_items": null,
            "left": null,
            "margin": null,
            "max_height": null,
            "max_width": null,
            "min_height": null,
            "min_width": null,
            "object_fit": null,
            "object_position": null,
            "order": null,
            "overflow": null,
            "overflow_x": null,
            "overflow_y": null,
            "padding": null,
            "right": null,
            "top": null,
            "visibility": null,
            "width": null
          }
        },
        "f1d9f3e6ad89430dacc8bc4eab58dcab": {
          "model_module": "@jupyter-widgets/controls",
          "model_name": "DescriptionStyleModel",
          "model_module_version": "1.5.0",
          "state": {
            "_model_module": "@jupyter-widgets/controls",
            "_model_module_version": "1.5.0",
            "_model_name": "DescriptionStyleModel",
            "_view_count": null,
            "_view_module": "@jupyter-widgets/base",
            "_view_module_version": "1.2.0",
            "_view_name": "StyleView",
            "description_width": ""
          }
        },
        "2ab2360159444b5a8ecc3890b3861f1f": {
          "model_module": "@jupyter-widgets/controls",
          "model_name": "FloatLogSliderModel",
          "model_module_version": "1.5.0",
          "state": {
            "_dom_classes": [],
            "_model_module": "@jupyter-widgets/controls",
            "_model_module_version": "1.5.0",
            "_model_name": "FloatLogSliderModel",
            "_view_count": null,
            "_view_module": "@jupyter-widgets/controls",
            "_view_module_version": "1.5.0",
            "_view_name": "FloatLogSliderView",
            "base": 10,
            "continuous_update": false,
            "description": "min_lift",
            "description_tooltip": null,
            "disabled": false,
            "layout": "IPY_MODEL_b5e91f831ca845988e64691c00997b99",
            "max": 1.5,
            "min": -0.5,
            "orientation": "horizontal",
            "readout": true,
            "readout_format": ".3f",
            "step": 0.05,
            "style": "IPY_MODEL_b3ad05c4c6a54976be9043ebb9883409",
            "value": 1.1
          }
        },
        "09ee717faf6846a99dcab51f796749da": {
          "model_module": "@jupyter-widgets/controls",
          "model_name": "FloatSliderModel",
          "model_module_version": "1.5.0",
          "state": {
            "_dom_classes": [],
            "_model_module": "@jupyter-widgets/controls",
            "_model_module_version": "1.5.0",
            "_model_name": "FloatSliderModel",
            "_view_count": null,
            "_view_module": "@jupyter-widgets/controls",
            "_view_module_version": "1.5.0",
            "_view_name": "FloatSliderView",
            "continuous_update": false,
            "description": "min_slift",
            "description_tooltip": null,
            "disabled": false,
            "layout": "IPY_MODEL_41af53ad5adb4495aedb6198b3cbc689",
            "max": 1,
            "min": 0,
            "orientation": "horizontal",
            "readout": true,
            "readout_format": ".5f",
            "step": 0.0001,
            "style": "IPY_MODEL_df9f58fd62c34de49d45916bdad69d39",
            "value": 0.1
          }
        },
        "f228a05a846843ccb7f606f5133e28d3": {
          "model_module": "@jupyter-widgets/controls",
          "model_name": "FloatSliderModel",
          "model_module_version": "1.5.0",
          "state": {
            "_dom_classes": [],
            "_model_module": "@jupyter-widgets/controls",
            "_model_module_version": "1.5.0",
            "_model_name": "FloatSliderModel",
            "_view_count": null,
            "_view_module": "@jupyter-widgets/controls",
            "_view_module_version": "1.5.0",
            "_view_name": "FloatSliderView",
            "continuous_update": false,
            "description": "min_conf",
            "description_tooltip": null,
            "disabled": false,
            "layout": "IPY_MODEL_8dbf4114d84b435785ba5088a31c7740",
            "max": 0.7233782129742962,
            "min": 0,
            "orientation": "horizontal",
            "readout": true,
            "readout_format": ".5f",
            "step": 0.0001,
            "style": "IPY_MODEL_cddc08ee3f0340c0b046311031019a8f",
            "value": 0.3
          }
        },
        "d314f24a1328401cad40c699b9b1e781": {
          "model_module": "@jupyter-widgets/controls",
          "model_name": "FloatSliderModel",
          "model_module_version": "1.5.0",
          "state": {
            "_dom_classes": [],
            "_model_module": "@jupyter-widgets/controls",
            "_model_module_version": "1.5.0",
            "_model_name": "FloatSliderModel",
            "_view_count": null,
            "_view_module": "@jupyter-widgets/controls",
            "_view_module_version": "1.5.0",
            "_view_name": "FloatSliderView",
            "continuous_update": false,
            "description": "min_sup",
            "description_tooltip": null,
            "disabled": false,
            "layout": "IPY_MODEL_f0534ab8441c4b8a8d57b0e084bc69b0",
            "max": 0.13194158696035538,
            "min": 0,
            "orientation": "horizontal",
            "readout": true,
            "readout_format": ".5f",
            "step": 0.0001,
            "style": "IPY_MODEL_8c1084743d8546e0824726fafa50a179",
            "value": 0.01
          }
        },
        "4744778309614a69be8d56246250360a": {
          "model_module": "@jupyter-widgets/base",
          "model_name": "LayoutModel",
          "model_module_version": "1.2.0",
          "state": {
            "_model_module": "@jupyter-widgets/base",
            "_model_module_version": "1.2.0",
            "_model_name": "LayoutModel",
            "_view_count": null,
            "_view_module": "@jupyter-widgets/base",
            "_view_module_version": "1.2.0",
            "_view_name": "LayoutView",
            "align_content": null,
            "align_items": null,
            "align_self": null,
            "border": null,
            "bottom": null,
            "display": null,
            "flex": null,
            "flex_flow": null,
            "grid_area": null,
            "grid_auto_columns": null,
            "grid_auto_flow": null,
            "grid_auto_rows": null,
            "grid_column": null,
            "grid_gap": null,
            "grid_row": null,
            "grid_template_areas": null,
            "grid_template_columns": null,
            "grid_template_rows": null,
            "height": null,
            "justify_content": null,
            "justify_items": null,
            "left": null,
            "margin": null,
            "max_height": null,
            "max_width": null,
            "min_height": null,
            "min_width": null,
            "object_fit": null,
            "object_position": null,
            "order": null,
            "overflow": null,
            "overflow_x": null,
            "overflow_y": null,
            "padding": null,
            "right": null,
            "top": null,
            "visibility": null,
            "width": null
          }
        },
        "d0d7b69bd419431cadd76002cd5b0c5d": {
          "model_module": "@jupyter-widgets/base",
          "model_name": "LayoutModel",
          "model_module_version": "1.2.0",
          "state": {
            "_model_module": "@jupyter-widgets/base",
            "_model_module_version": "1.2.0",
            "_model_name": "LayoutModel",
            "_view_count": null,
            "_view_module": "@jupyter-widgets/base",
            "_view_module_version": "1.2.0",
            "_view_name": "LayoutView",
            "align_content": null,
            "align_items": null,
            "align_self": null,
            "border": null,
            "bottom": null,
            "display": null,
            "flex": null,
            "flex_flow": null,
            "grid_area": null,
            "grid_auto_columns": null,
            "grid_auto_flow": null,
            "grid_auto_rows": null,
            "grid_column": null,
            "grid_gap": null,
            "grid_row": null,
            "grid_template_areas": null,
            "grid_template_columns": null,
            "grid_template_rows": null,
            "height": null,
            "justify_content": null,
            "justify_items": null,
            "left": null,
            "margin": null,
            "max_height": null,
            "max_width": null,
            "min_height": null,
            "min_width": null,
            "object_fit": null,
            "object_position": null,
            "order": null,
            "overflow": null,
            "overflow_x": null,
            "overflow_y": null,
            "padding": null,
            "right": null,
            "top": null,
            "visibility": null,
            "width": null
          }
        },
        "bb5de676f7b24e53b46bb60a063b3d43": {
          "model_module": "@jupyter-widgets/controls",
          "model_name": "ButtonStyleModel",
          "model_module_version": "1.5.0",
          "state": {
            "_model_module": "@jupyter-widgets/controls",
            "_model_module_version": "1.5.0",
            "_model_name": "ButtonStyleModel",
            "_view_count": null,
            "_view_module": "@jupyter-widgets/base",
            "_view_module_version": "1.2.0",
            "_view_name": "StyleView",
            "button_color": null,
            "font_weight": ""
          }
        },
        "b5e91f831ca845988e64691c00997b99": {
          "model_module": "@jupyter-widgets/base",
          "model_name": "LayoutModel",
          "model_module_version": "1.2.0",
          "state": {
            "_model_module": "@jupyter-widgets/base",
            "_model_module_version": "1.2.0",
            "_model_name": "LayoutModel",
            "_view_count": null,
            "_view_module": "@jupyter-widgets/base",
            "_view_module_version": "1.2.0",
            "_view_name": "LayoutView",
            "align_content": null,
            "align_items": null,
            "align_self": null,
            "border": null,
            "bottom": null,
            "display": null,
            "flex": null,
            "flex_flow": null,
            "grid_area": null,
            "grid_auto_columns": null,
            "grid_auto_flow": null,
            "grid_auto_rows": null,
            "grid_column": null,
            "grid_gap": null,
            "grid_row": null,
            "grid_template_areas": null,
            "grid_template_columns": null,
            "grid_template_rows": null,
            "height": null,
            "justify_content": null,
            "justify_items": null,
            "left": null,
            "margin": null,
            "max_height": null,
            "max_width": null,
            "min_height": null,
            "min_width": null,
            "object_fit": null,
            "object_position": null,
            "order": null,
            "overflow": null,
            "overflow_x": null,
            "overflow_y": null,
            "padding": null,
            "right": null,
            "top": null,
            "visibility": null,
            "width": null
          }
        },
        "b3ad05c4c6a54976be9043ebb9883409": {
          "model_module": "@jupyter-widgets/controls",
          "model_name": "SliderStyleModel",
          "model_module_version": "1.5.0",
          "state": {
            "_model_module": "@jupyter-widgets/controls",
            "_model_module_version": "1.5.0",
            "_model_name": "SliderStyleModel",
            "_view_count": null,
            "_view_module": "@jupyter-widgets/base",
            "_view_module_version": "1.2.0",
            "_view_name": "StyleView",
            "description_width": "",
            "handle_color": null
          }
        },
        "41af53ad5adb4495aedb6198b3cbc689": {
          "model_module": "@jupyter-widgets/base",
          "model_name": "LayoutModel",
          "model_module_version": "1.2.0",
          "state": {
            "_model_module": "@jupyter-widgets/base",
            "_model_module_version": "1.2.0",
            "_model_name": "LayoutModel",
            "_view_count": null,
            "_view_module": "@jupyter-widgets/base",
            "_view_module_version": "1.2.0",
            "_view_name": "LayoutView",
            "align_content": null,
            "align_items": null,
            "align_self": null,
            "border": null,
            "bottom": null,
            "display": null,
            "flex": null,
            "flex_flow": null,
            "grid_area": null,
            "grid_auto_columns": null,
            "grid_auto_flow": null,
            "grid_auto_rows": null,
            "grid_column": null,
            "grid_gap": null,
            "grid_row": null,
            "grid_template_areas": null,
            "grid_template_columns": null,
            "grid_template_rows": null,
            "height": null,
            "justify_content": null,
            "justify_items": null,
            "left": null,
            "margin": null,
            "max_height": null,
            "max_width": null,
            "min_height": null,
            "min_width": null,
            "object_fit": null,
            "object_position": null,
            "order": null,
            "overflow": null,
            "overflow_x": null,
            "overflow_y": null,
            "padding": null,
            "right": null,
            "top": null,
            "visibility": null,
            "width": null
          }
        },
        "df9f58fd62c34de49d45916bdad69d39": {
          "model_module": "@jupyter-widgets/controls",
          "model_name": "SliderStyleModel",
          "model_module_version": "1.5.0",
          "state": {
            "_model_module": "@jupyter-widgets/controls",
            "_model_module_version": "1.5.0",
            "_model_name": "SliderStyleModel",
            "_view_count": null,
            "_view_module": "@jupyter-widgets/base",
            "_view_module_version": "1.2.0",
            "_view_name": "StyleView",
            "description_width": "",
            "handle_color": null
          }
        },
        "8dbf4114d84b435785ba5088a31c7740": {
          "model_module": "@jupyter-widgets/base",
          "model_name": "LayoutModel",
          "model_module_version": "1.2.0",
          "state": {
            "_model_module": "@jupyter-widgets/base",
            "_model_module_version": "1.2.0",
            "_model_name": "LayoutModel",
            "_view_count": null,
            "_view_module": "@jupyter-widgets/base",
            "_view_module_version": "1.2.0",
            "_view_name": "LayoutView",
            "align_content": null,
            "align_items": null,
            "align_self": null,
            "border": null,
            "bottom": null,
            "display": null,
            "flex": null,
            "flex_flow": null,
            "grid_area": null,
            "grid_auto_columns": null,
            "grid_auto_flow": null,
            "grid_auto_rows": null,
            "grid_column": null,
            "grid_gap": null,
            "grid_row": null,
            "grid_template_areas": null,
            "grid_template_columns": null,
            "grid_template_rows": null,
            "height": null,
            "justify_content": null,
            "justify_items": null,
            "left": null,
            "margin": null,
            "max_height": null,
            "max_width": null,
            "min_height": null,
            "min_width": null,
            "object_fit": null,
            "object_position": null,
            "order": null,
            "overflow": null,
            "overflow_x": null,
            "overflow_y": null,
            "padding": null,
            "right": null,
            "top": null,
            "visibility": null,
            "width": null
          }
        },
        "cddc08ee3f0340c0b046311031019a8f": {
          "model_module": "@jupyter-widgets/controls",
          "model_name": "SliderStyleModel",
          "model_module_version": "1.5.0",
          "state": {
            "_model_module": "@jupyter-widgets/controls",
            "_model_module_version": "1.5.0",
            "_model_name": "SliderStyleModel",
            "_view_count": null,
            "_view_module": "@jupyter-widgets/base",
            "_view_module_version": "1.2.0",
            "_view_name": "StyleView",
            "description_width": "",
            "handle_color": null
          }
        },
        "f0534ab8441c4b8a8d57b0e084bc69b0": {
          "model_module": "@jupyter-widgets/base",
          "model_name": "LayoutModel",
          "model_module_version": "1.2.0",
          "state": {
            "_model_module": "@jupyter-widgets/base",
            "_model_module_version": "1.2.0",
            "_model_name": "LayoutModel",
            "_view_count": null,
            "_view_module": "@jupyter-widgets/base",
            "_view_module_version": "1.2.0",
            "_view_name": "LayoutView",
            "align_content": null,
            "align_items": null,
            "align_self": null,
            "border": null,
            "bottom": null,
            "display": null,
            "flex": null,
            "flex_flow": null,
            "grid_area": null,
            "grid_auto_columns": null,
            "grid_auto_flow": null,
            "grid_auto_rows": null,
            "grid_column": null,
            "grid_gap": null,
            "grid_row": null,
            "grid_template_areas": null,
            "grid_template_columns": null,
            "grid_template_rows": null,
            "height": null,
            "justify_content": null,
            "justify_items": null,
            "left": null,
            "margin": null,
            "max_height": null,
            "max_width": null,
            "min_height": null,
            "min_width": null,
            "object_fit": null,
            "object_position": null,
            "order": null,
            "overflow": null,
            "overflow_x": null,
            "overflow_y": null,
            "padding": null,
            "right": null,
            "top": null,
            "visibility": null,
            "width": null
          }
        },
        "8c1084743d8546e0824726fafa50a179": {
          "model_module": "@jupyter-widgets/controls",
          "model_name": "SliderStyleModel",
          "model_module_version": "1.5.0",
          "state": {
            "_model_module": "@jupyter-widgets/controls",
            "_model_module_version": "1.5.0",
            "_model_name": "SliderStyleModel",
            "_view_count": null,
            "_view_module": "@jupyter-widgets/base",
            "_view_module_version": "1.2.0",
            "_view_name": "StyleView",
            "description_width": "",
            "handle_color": null
          }
        },
        "a12e824a3c2e4edfb61b8ade1dc77215": {
          "model_module": "@jupyter-widgets/base",
          "model_name": "LayoutModel",
          "model_module_version": "1.2.0",
          "state": {
            "_model_module": "@jupyter-widgets/base",
            "_model_module_version": "1.2.0",
            "_model_name": "LayoutModel",
            "_view_count": null,
            "_view_module": "@jupyter-widgets/base",
            "_view_module_version": "1.2.0",
            "_view_name": "LayoutView",
            "align_content": null,
            "align_items": null,
            "align_self": null,
            "border": null,
            "bottom": null,
            "display": null,
            "flex": null,
            "flex_flow": null,
            "grid_area": null,
            "grid_auto_columns": null,
            "grid_auto_flow": null,
            "grid_auto_rows": null,
            "grid_column": null,
            "grid_gap": null,
            "grid_row": null,
            "grid_template_areas": null,
            "grid_template_columns": null,
            "grid_template_rows": null,
            "height": "400px",
            "justify_content": null,
            "justify_items": null,
            "left": null,
            "margin": null,
            "max_height": null,
            "max_width": null,
            "min_height": null,
            "min_width": null,
            "object_fit": null,
            "object_position": null,
            "order": null,
            "overflow": null,
            "overflow_x": null,
            "overflow_y": null,
            "padding": null,
            "right": null,
            "top": null,
            "visibility": null,
            "width": "800px"
          }
        },
        "2c08b41d89ce4c1aa2aab1c1d5420233": {
          "model_module": "bqplot",
          "model_name": "GraphModel",
          "model_module_version": "^0.5",
          "state": {
            "_model_module": "bqplot",
            "_model_module_version": "^0.5",
            "_model_name": "GraphModel",
            "_view_count": null,
            "_view_module": "bqplot",
            "_view_module_version": "^0.5",
            "_view_name": "Graph",
            "apply_clip": true,
            "charge": -500,
            "color": null,
            "colors": [
              "#1f77b4",
              "#ff7f0e",
              "#2ca02c",
              "#d62728",
              "#9467bd",
              "#8c564b",
              "#e377c2",
              "#7f7f7f",
              "#bcbd22",
              "#17becf"
            ],
            "directed": true,
            "display_legend": false,
            "enable_hover": true,
            "highlight_links": true,
            "hovered_point": null,
            "hovered_style": {},
            "interactions": {
              "click": "tooltip"
            },
            "labels": [],
            "link_color": {
              "dtype": "float64",
              "shape": [
                0
              ],
              "type": null
            },
            "link_data": [
              {
                "source": 1,
                "target": 0,
                "value": 1.5630932795886607
              },
              {
                "source": 0,
                "target": 2,
                "value": 1.5630932795886607
              },
              {
                "source": 4,
                "target": 3,
                "value": 1.4966067411930444
              },
              {
                "source": 3,
                "target": 2,
                "value": 1.4966067411930444
              },
              {
                "source": 6,
                "target": 5,
                "value": 1.2781284075891786
              },
              {
                "source": 5,
                "target": 2,
                "value": 1.2781284075891786
              },
              {
                "source": 8,
                "target": 7,
                "value": 1.583704847863358
              },
              {
                "source": 7,
                "target": 2,
                "value": 1.583704847863358
              },
              {
                "source": 10,
                "target": 9,
                "value": 2.548053590546872
              },
              {
                "source": 9,
                "target": 2,
                "value": 2.548053590546872
              },
              {
                "source": 12,
                "target": 11,
                "value": 2.0559414725986938
              },
              {
                "source": 11,
                "target": 2,
                "value": 2.0559414725986938
              },
              {
                "source": 14,
                "target": 13,
                "value": 1.226820658421329
              },
              {
                "source": 13,
                "target": 4,
                "value": 1.226820658421329
              },
              {
                "source": 6,
                "target": 15,
                "value": 1.4550489520373233
              },
              {
                "source": 15,
                "target": 14,
                "value": 1.4550489520373233
              },
              {
                "source": 2,
                "target": 16,
                "value": 1.5021240472244843
              },
              {
                "source": 14,
                "target": 16,
                "value": 1.5021240472244843
              },
              {
                "source": 16,
                "target": 4,
                "value": 1.5021240472244843
              }
            ],
            "link_distance": 20,
            "link_matrix": {
              "dtype": "float64",
              "shape": [
                0
              ],
              "type": null
            },
            "link_type": "arc",
            "node_data": [
              {
                "label": ".",
                "shape": "circle",
                "shape_attrs": {
                  "r": 2
                },
                "is_rule": true,
                "tooltip": "{J15} -> {A41} (conf: 0.444, supp: 0.034, lift: 1.563, conv: 1.287)"
              },
              {
                "label": "J15",
                "shape": "rect",
                "is_rule": false,
                "shape_attrs": {
                  "width": 26,
                  "height": 20
                }
              },
              {
                "label": "A41",
                "shape": "rect",
                "is_rule": false,
                "shape_attrs": {
                  "width": 26,
                  "height": 20
                }
              },
              {
                "label": ".",
                "shape": "circle",
                "shape_attrs": {
                  "r": 2
                },
                "is_rule": true,
                "tooltip": "{J18} -> {A41} (conf: 0.425, supp: 0.132, lift: 1.497, conv: 1.245)"
              },
              {
                "label": "J18",
                "shape": "rect",
                "is_rule": false,
                "shape_attrs": {
                  "width": 26,
                  "height": 20
                }
              },
              {
                "label": ".",
                "shape": "circle",
                "shape_attrs": {
                  "r": 2
                },
                "is_rule": true,
                "tooltip": "{J69} -> {A41} (conf: 0.363, supp: 0.039, lift: 1.278, conv: 1.124)"
              },
              {
                "label": "J69",
                "shape": "rect",
                "is_rule": false,
                "shape_attrs": {
                  "width": 26,
                  "height": 20
                }
              },
              {
                "label": ".",
                "shape": "circle",
                "shape_attrs": {
                  "r": 2
                },
                "is_rule": true,
                "tooltip": "{J98} -> {A41} (conf: 0.450, supp: 0.016, lift: 1.584, conv: 1.301)"
              },
              {
                "label": "J98",
                "shape": "rect",
                "is_rule": false,
                "shape_attrs": {
                  "width": 26,
                  "height": 20
                }
              },
              {
                "label": ".",
                "shape": "circle",
                "shape_attrs": {
                  "r": 2.548053590546872
                },
                "is_rule": true,
                "tooltip": "{L89} -> {A41} (conf: 0.723, supp: 0.025, lift: 2.548, conv: 2.589)"
              },
              {
                "label": "L89",
                "shape": "rect",
                "is_rule": false,
                "shape_attrs": {
                  "width": 26,
                  "height": 20
                }
              },
              {
                "label": ".",
                "shape": "circle",
                "shape_attrs": {
                  "r": 2.0559414725986938
                },
                "is_rule": true,
                "tooltip": "{N39} -> {A41} (conf: 0.584, supp: 0.025, lift: 2.056, conv: 1.720)"
              },
              {
                "label": "N39",
                "shape": "rect",
                "is_rule": false,
                "shape_attrs": {
                  "width": 26,
                  "height": 20
                }
              },
              {
                "label": ".",
                "shape": "circle",
                "shape_attrs": {
                  "r": 2
                },
                "is_rule": true,
                "tooltip": "{J96} -> {J18} (conf: 0.381, supp: 0.088, lift: 1.227, conv: 1.114)"
              },
              {
                "label": "J96",
                "shape": "rect",
                "is_rule": false,
                "shape_attrs": {
                  "width": 26,
                  "height": 20
                }
              },
              {
                "label": ".",
                "shape": "circle",
                "shape_attrs": {
                  "r": 2
                },
                "is_rule": true,
                "tooltip": "{J69} -> {J96} (conf: 0.337, supp: 0.036, lift: 1.455, conv: 1.159)"
              },
              {
                "label": ".",
                "shape": "circle",
                "shape_attrs": {
                  "r": 2
                },
                "is_rule": true,
                "tooltip": "{A41, J96} -> {J18} (conf: 0.466, supp: 0.015, lift: 1.502, conv: 1.292)"
              }
            ],
            "preserve_domain": {},
            "scales": {},
            "scales_metadata": {
              "x": {
                "orientation": "horizontal",
                "dimension": "x"
              },
              "y": {
                "orientation": "vertical",
                "dimension": "y"
              },
              "color": {
                "dimension": "color"
              },
              "link_color": {
                "dimension": "link_color"
              }
            },
            "selected": null,
            "selected_style": {},
            "static": false,
            "tooltip": "IPY_MODEL_0fcc135e2b8443da83b9481ba9211641",
            "tooltip_location": "mouse",
            "tooltip_style": {
              "opacity": 0.9
            },
            "unhovered_style": {},
            "unselected_style": {},
            "visible": true,
            "x": {
              "dtype": "float64",
              "shape": [
                0
              ],
              "type": null
            },
            "y": {
              "dtype": "float64",
              "shape": [
                0
              ],
              "type": null
            }
          }
        },
        "b576decbf960473ea41283f4de793a82": {
          "model_module": "bqplot",
          "model_name": "LinearScaleModel",
          "model_module_version": "^0.5",
          "state": {
            "_model_module": "bqplot",
            "_model_module_version": "^0.5",
            "_model_name": "LinearScaleModel",
            "_view_count": null,
            "_view_module": "bqplot",
            "_view_module_version": "^0.5",
            "_view_name": "LinearScale",
            "allow_padding": false,
            "max": 1,
            "mid_range": 0.8,
            "min": 0,
            "min_range": 0.6,
            "reverse": false,
            "stabilized": false
          }
        },
        "22c942ef0aa2481080ccf55caaa7ce0e": {
          "model_module": "bqplot",
          "model_name": "LinearScaleModel",
          "model_module_version": "^0.5",
          "state": {
            "_model_module": "bqplot",
            "_model_module_version": "^0.5",
            "_model_name": "LinearScaleModel",
            "_view_count": null,
            "_view_module": "bqplot",
            "_view_module_version": "^0.5",
            "_view_name": "LinearScale",
            "allow_padding": false,
            "max": 1,
            "mid_range": 0.8,
            "min": 0,
            "min_range": 0.6,
            "reverse": false,
            "stabilized": false
          }
        },
        "0fcc135e2b8443da83b9481ba9211641": {
          "model_module": "@jupyter-widgets/controls",
          "model_name": "VBoxModel",
          "model_module_version": "1.5.0",
          "state": {
            "_dom_classes": [],
            "_model_module": "@jupyter-widgets/controls",
            "_model_module_version": "1.5.0",
            "_model_name": "VBoxModel",
            "_view_count": null,
            "_view_module": "@jupyter-widgets/controls",
            "_view_module_version": "1.5.0",
            "_view_name": "VBoxView",
            "box_style": "",
            "children": [
              "IPY_MODEL_bf91149b1fbf45f08c60745e753a1b28",
              "IPY_MODEL_8e13679476804579afa341c5e6fa07eb"
            ],
            "layout": "IPY_MODEL_d4a84dc7cf49477d9621e35cdbe09c1f"
          }
        },
        "bf91149b1fbf45f08c60745e753a1b28": {
          "model_module": "bqplot",
          "model_name": "FigureModel",
          "model_module_version": "^0.5",
          "state": {
            "_dom_classes": [],
            "_model_module": "bqplot",
            "_model_module_version": "^0.5",
            "_model_name": "FigureModel",
            "_view_count": null,
            "_view_module": "bqplot",
            "_view_module_version": "^0.5",
            "_view_name": "Figure",
            "animation_duration": 0,
            "axes": [
              "IPY_MODEL_4e252b7af10c41a48ed7a1695f51a699",
              "IPY_MODEL_4579f28c701e4c34b38a9c598cd988f9",
              "IPY_MODEL_507ec3fe08d44c2e8c174a49f5ed7c94"
            ],
            "background_style": {},
            "fig_margin": {
              "top": 50,
              "bottom": 70,
              "left": 50,
              "right": 100
            },
            "interaction": null,
            "layout": "IPY_MODEL_abc76a3c49fe4abc951c63f01e6cb715",
            "legend_location": "top-right",
            "legend_style": {},
            "legend_text": {},
            "marks": [
              "IPY_MODEL_c64d27d24ba7443c901e522217a445b1"
            ],
            "max_aspect_ratio": 100,
            "min_aspect_ratio": 0.01,
            "padding_x": 0,
            "padding_y": 0.025,
            "pixel_ratio": null,
            "scale_x": "IPY_MODEL_30a0cde2c71a43d796f972a8b7788807",
            "scale_y": "IPY_MODEL_a6d7ac06e13a45acb90479e7c723267b",
            "theme": "classic",
            "title": "",
            "title_style": {}
          }
        },
        "8e13679476804579afa341c5e6fa07eb": {
          "model_module": "bqplot",
          "model_name": "ToolbarModel",
          "model_module_version": "^0.5",
          "state": {
            "_dom_classes": [],
            "_model_module": "bqplot",
            "_model_module_version": "^0.5",
            "_model_name": "ToolbarModel",
            "_panning": false,
            "_panzoom": null,
            "_view_count": null,
            "_view_module": "bqplot",
            "_view_module_version": "^0.5",
            "_view_name": "Toolbar",
            "figure": "IPY_MODEL_bf91149b1fbf45f08c60745e753a1b28",
            "layout": "IPY_MODEL_d553bf70594d4196928d8437d94eb80f"
          }
        },
        "d4a84dc7cf49477d9621e35cdbe09c1f": {
          "model_module": "@jupyter-widgets/base",
          "model_name": "LayoutModel",
          "model_module_version": "1.2.0",
          "state": {
            "_model_module": "@jupyter-widgets/base",
            "_model_module_version": "1.2.0",
            "_model_name": "LayoutModel",
            "_view_count": null,
            "_view_module": "@jupyter-widgets/base",
            "_view_module_version": "1.2.0",
            "_view_name": "LayoutView",
            "align_content": null,
            "align_items": null,
            "align_self": null,
            "border": null,
            "bottom": null,
            "display": null,
            "flex": null,
            "flex_flow": null,
            "grid_area": null,
            "grid_auto_columns": null,
            "grid_auto_flow": null,
            "grid_auto_rows": null,
            "grid_column": null,
            "grid_gap": null,
            "grid_row": null,
            "grid_template_areas": null,
            "grid_template_columns": null,
            "grid_template_rows": null,
            "height": null,
            "justify_content": null,
            "justify_items": null,
            "left": null,
            "margin": null,
            "max_height": null,
            "max_width": null,
            "min_height": null,
            "min_width": null,
            "object_fit": null,
            "object_position": null,
            "order": null,
            "overflow": null,
            "overflow_x": null,
            "overflow_y": null,
            "padding": null,
            "right": null,
            "top": null,
            "visibility": null,
            "width": null
          }
        },
        "4e252b7af10c41a48ed7a1695f51a699": {
          "model_module": "bqplot",
          "model_name": "AxisModel",
          "model_module_version": "^0.5",
          "state": {
            "_model_module": "bqplot",
            "_model_module_version": "^0.5",
            "_model_name": "AxisModel",
            "_view_count": null,
            "_view_module": "bqplot",
            "_view_module_version": "^0.5",
            "_view_name": "Axis",
            "color": null,
            "grid_color": null,
            "grid_lines": "solid",
            "label": "Sup*100",
            "label_color": null,
            "label_location": "middle",
            "label_offset": null,
            "num_ticks": null,
            "offset": {},
            "orientation": "horizontal",
            "scale": "IPY_MODEL_1301e5089efa4c8186e177429b548363",
            "side": "bottom",
            "tick_format": null,
            "tick_labels": {},
            "tick_rotate": 0,
            "tick_style": {},
            "tick_values": null,
            "visible": true
          }
        },
        "4579f28c701e4c34b38a9c598cd988f9": {
          "model_module": "bqplot",
          "model_name": "AxisModel",
          "model_module_version": "^0.5",
          "state": {
            "_model_module": "bqplot",
            "_model_module_version": "^0.5",
            "_model_name": "AxisModel",
            "_view_count": null,
            "_view_module": "bqplot",
            "_view_module_version": "^0.5",
            "_view_name": "Axis",
            "color": null,
            "grid_color": null,
            "grid_lines": "solid",
            "label": "Conf*100",
            "label_color": null,
            "label_location": "middle",
            "label_offset": null,
            "num_ticks": null,
            "offset": {},
            "orientation": "vertical",
            "scale": "IPY_MODEL_db4160876c6b47848238abb057aa9456",
            "side": "left",
            "tick_format": null,
            "tick_labels": {},
            "tick_rotate": 0,
            "tick_style": {},
            "tick_values": null,
            "visible": true
          }
        },
        "507ec3fe08d44c2e8c174a49f5ed7c94": {
          "model_module": "bqplot",
          "model_name": "ColorAxisModel",
          "model_module_version": "^0.5",
          "state": {
            "_model_module": "bqplot",
            "_model_module_version": "^0.5",
            "_model_name": "ColorAxisModel",
            "_view_count": null,
            "_view_module": "bqplot",
            "_view_module_version": "^0.5",
            "_view_name": "ColorAxis",
            "color": null,
            "grid_color": null,
            "grid_lines": "solid",
            "label": "Lift",
            "label_color": null,
            "label_location": "middle",
            "label_offset": null,
            "num_ticks": null,
            "offset": {},
            "orientation": "vertical",
            "scale": "IPY_MODEL_bda45d57118f4680a4efa763d0a02e01",
            "side": "right",
            "tick_format": "",
            "tick_labels": {},
            "tick_rotate": 0,
            "tick_style": {},
            "tick_values": null,
            "visible": true
          }
        },
        "abc76a3c49fe4abc951c63f01e6cb715": {
          "model_module": "@jupyter-widgets/base",
          "model_name": "LayoutModel",
          "model_module_version": "1.2.0",
          "state": {
            "_model_module": "@jupyter-widgets/base",
            "_model_module_version": "1.2.0",
            "_model_name": "LayoutModel",
            "_view_count": null,
            "_view_module": "@jupyter-widgets/base",
            "_view_module_version": "1.2.0",
            "_view_name": "LayoutView",
            "align_content": null,
            "align_items": null,
            "align_self": null,
            "border": null,
            "bottom": null,
            "display": null,
            "flex": null,
            "flex_flow": null,
            "grid_area": null,
            "grid_auto_columns": null,
            "grid_auto_flow": null,
            "grid_auto_rows": null,
            "grid_column": null,
            "grid_gap": null,
            "grid_row": null,
            "grid_template_areas": null,
            "grid_template_columns": null,
            "grid_template_rows": null,
            "height": null,
            "justify_content": null,
            "justify_items": null,
            "left": null,
            "margin": null,
            "max_height": "600px",
            "max_width": "600px",
            "min_height": "600px",
            "min_width": "600px",
            "object_fit": null,
            "object_position": null,
            "order": null,
            "overflow": null,
            "overflow_x": null,
            "overflow_y": null,
            "padding": null,
            "right": null,
            "top": null,
            "visibility": null,
            "width": null
          }
        },
        "c64d27d24ba7443c901e522217a445b1": {
          "model_module": "bqplot",
          "model_name": "ScatterModel",
          "model_module_version": "^0.5",
          "state": {
            "_model_module": "bqplot",
            "_model_module_version": "^0.5",
            "_model_name": "ScatterModel",
            "_view_count": null,
            "_view_module": "bqplot",
            "_view_module_version": "^0.5",
            "_view_name": "Scatter",
            "apply_clip": true,
            "color": {
              "dtype": "float64",
              "shape": [
                10
              ],
              "type": null
            },
            "colors": [
              "steelblue"
            ],
            "default_size": 64,
            "default_skew": 0.5,
            "display_legend": false,
            "display_names": false,
            "drag_color": null,
            "drag_size": 5,
            "enable_delete": false,
            "enable_hover": true,
            "enable_move": false,
            "fill": true,
            "hovered_point": null,
            "hovered_style": {},
            "interactions": {
              "hover": "tooltip"
            },
            "label_display_horizontal_offset": 0,
            "label_display_vertical_offset": 0,
            "labels": [],
            "marker": "circle",
            "names": [
              "{J15} -> {A41} (conf: 0.444, supp: 0.034, lift: 1.563, conv: 1.287)",
              "{J18} -> {A41} (conf: 0.425, supp: 0.132, lift: 1.497, conv: 1.245)",
              "{A41} -> {J18} (conf: 0.465, supp: 0.132, lift: 1.497, conv: 1.288)",
              "{J69} -> {A41} (conf: 0.363, supp: 0.039, lift: 1.278, conv: 1.124)",
              "{J98} -> {A41} (conf: 0.450, supp: 0.016, lift: 1.584, conv: 1.301)",
              "{L89} -> {A41} (conf: 0.723, supp: 0.025, lift: 2.548, conv: 2.589)",
              "{N39} -> {A41} (conf: 0.584, supp: 0.025, lift: 2.056, conv: 1.720)",
              "{J96} -> {J18} (conf: 0.381, supp: 0.088, lift: 1.227, conv: 1.114)",
              "{J69} -> {J96} (conf: 0.337, supp: 0.036, lift: 1.455, conv: 1.159)",
              "{A41, J96} -> {J18} (conf: 0.466, supp: 0.015, lift: 1.502, conv: 1.292)"
            ],
            "names_unique": true,
            "opacities": {
              "dtype": "float64",
              "shape": [
                1
              ],
              "type": null
            },
            "opacity": null,
            "preserve_domain": {},
            "restrict_x": false,
            "restrict_y": false,
            "rotation": null,
            "scales": {
              "x": "IPY_MODEL_1301e5089efa4c8186e177429b548363",
              "y": "IPY_MODEL_db4160876c6b47848238abb057aa9456",
              "color": "IPY_MODEL_bda45d57118f4680a4efa763d0a02e01"
            },
            "scales_metadata": {
              "x": {
                "orientation": "horizontal",
                "dimension": "x"
              },
              "y": {
                "orientation": "vertical",
                "dimension": "y"
              },
              "color": {
                "dimension": "color"
              },
              "size": {
                "dimension": "size"
              },
              "opacity": {
                "dimension": "opacity"
              },
              "rotation": {
                "dimension": "rotation"
              },
              "skew": {
                "dimension": "skew"
              }
            },
            "selected": null,
            "selected_style": {},
            "size": null,
            "skew": null,
            "stroke": null,
            "stroke_width": 1.5,
            "tooltip": "IPY_MODEL_e1184bafc208485296b8aa046d5e4aa4",
            "tooltip_location": "mouse",
            "tooltip_style": {
              "opacity": 0.9
            },
            "unhovered_style": {},
            "unselected_style": {},
            "update_on_move": false,
            "visible": true,
            "x": {
              "dtype": "float64",
              "shape": [
                10
              ],
              "type": null
            },
            "y": {
              "dtype": "float64",
              "shape": [
                10
              ],
              "type": null
            }
          }
        },
        "30a0cde2c71a43d796f972a8b7788807": {
          "model_module": "bqplot",
          "model_name": "LinearScaleModel",
          "model_module_version": "^0.5",
          "state": {
            "_model_module": "bqplot",
            "_model_module_version": "^0.5",
            "_model_name": "LinearScaleModel",
            "_view_count": null,
            "_view_module": "bqplot",
            "_view_module_version": "^0.5",
            "_view_name": "LinearScale",
            "allow_padding": false,
            "max": 1,
            "mid_range": 0.8,
            "min": 0,
            "min_range": 0.6,
            "reverse": false,
            "stabilized": false
          }
        },
        "a6d7ac06e13a45acb90479e7c723267b": {
          "model_module": "bqplot",
          "model_name": "LinearScaleModel",
          "model_module_version": "^0.5",
          "state": {
            "_model_module": "bqplot",
            "_model_module_version": "^0.5",
            "_model_name": "LinearScaleModel",
            "_view_count": null,
            "_view_module": "bqplot",
            "_view_module_version": "^0.5",
            "_view_name": "LinearScale",
            "allow_padding": false,
            "max": 1,
            "mid_range": 0.8,
            "min": 0,
            "min_range": 0.6,
            "reverse": false,
            "stabilized": false
          }
        },
        "d553bf70594d4196928d8437d94eb80f": {
          "model_module": "@jupyter-widgets/base",
          "model_name": "LayoutModel",
          "model_module_version": "1.2.0",
          "state": {
            "_model_module": "@jupyter-widgets/base",
            "_model_module_version": "1.2.0",
            "_model_name": "LayoutModel",
            "_view_count": null,
            "_view_module": "@jupyter-widgets/base",
            "_view_module_version": "1.2.0",
            "_view_name": "LayoutView",
            "align_content": null,
            "align_items": null,
            "align_self": null,
            "border": null,
            "bottom": null,
            "display": null,
            "flex": null,
            "flex_flow": null,
            "grid_area": null,
            "grid_auto_columns": null,
            "grid_auto_flow": null,
            "grid_auto_rows": null,
            "grid_column": null,
            "grid_gap": null,
            "grid_row": null,
            "grid_template_areas": null,
            "grid_template_columns": null,
            "grid_template_rows": null,
            "height": null,
            "justify_content": null,
            "justify_items": null,
            "left": null,
            "margin": null,
            "max_height": null,
            "max_width": null,
            "min_height": null,
            "min_width": null,
            "object_fit": null,
            "object_position": null,
            "order": null,
            "overflow": null,
            "overflow_x": null,
            "overflow_y": null,
            "padding": null,
            "right": null,
            "top": null,
            "visibility": null,
            "width": null
          }
        },
        "1301e5089efa4c8186e177429b548363": {
          "model_module": "bqplot",
          "model_name": "LinearScaleModel",
          "model_module_version": "^0.5",
          "state": {
            "_model_module": "bqplot",
            "_model_module_version": "^0.5",
            "_model_name": "LinearScaleModel",
            "_view_count": null,
            "_view_module": "bqplot",
            "_view_module_version": "^0.5",
            "_view_name": "LinearScale",
            "allow_padding": true,
            "max": null,
            "mid_range": 0.8,
            "min": null,
            "min_range": 0.6,
            "reverse": false,
            "stabilized": false
          }
        },
        "db4160876c6b47848238abb057aa9456": {
          "model_module": "bqplot",
          "model_name": "LinearScaleModel",
          "model_module_version": "^0.5",
          "state": {
            "_model_module": "bqplot",
            "_model_module_version": "^0.5",
            "_model_name": "LinearScaleModel",
            "_view_count": null,
            "_view_module": "bqplot",
            "_view_module_version": "^0.5",
            "_view_name": "LinearScale",
            "allow_padding": true,
            "max": null,
            "mid_range": 0.8,
            "min": null,
            "min_range": 0.6,
            "reverse": false,
            "stabilized": false
          }
        },
        "bda45d57118f4680a4efa763d0a02e01": {
          "model_module": "bqplot",
          "model_name": "ColorScaleModel",
          "model_module_version": "^0.5",
          "state": {
            "_model_module": "bqplot",
            "_model_module_version": "^0.5",
            "_model_name": "ColorScaleModel",
            "_view_count": null,
            "_view_module": "bqplot",
            "_view_module_version": "^0.5",
            "_view_name": "ColorScale",
            "allow_padding": true,
            "colors": [],
            "extrapolation": "constant",
            "max": null,
            "mid": null,
            "min": null,
            "reverse": false,
            "scale_type": "linear",
            "scheme": "Reds"
          }
        },
        "e1184bafc208485296b8aa046d5e4aa4": {
          "model_module": "bqplot",
          "model_name": "TooltipModel",
          "model_module_version": "^0.5",
          "state": {
            "_dom_classes": [],
            "_model_module": "bqplot",
            "_model_module_version": "^0.5",
            "_model_name": "TooltipModel",
            "_view_count": null,
            "_view_module": "bqplot",
            "_view_module_version": "^0.5",
            "_view_name": "Tooltip",
            "fields": [
              "name"
            ],
            "formats": [
              ""
            ],
            "labels": [],
            "layout": "IPY_MODEL_40d2f0ea0eb549538edcf6eeca569f25",
            "show_labels": true
          }
        },
        "40d2f0ea0eb549538edcf6eeca569f25": {
          "model_module": "@jupyter-widgets/base",
          "model_name": "LayoutModel",
          "model_module_version": "1.2.0",
          "state": {
            "_model_module": "@jupyter-widgets/base",
            "_model_module_version": "1.2.0",
            "_model_name": "LayoutModel",
            "_view_count": null,
            "_view_module": "@jupyter-widgets/base",
            "_view_module_version": "1.2.0",
            "_view_name": "LayoutView",
            "align_content": null,
            "align_items": null,
            "align_self": null,
            "border": null,
            "bottom": null,
            "display": null,
            "flex": null,
            "flex_flow": null,
            "grid_area": null,
            "grid_auto_columns": null,
            "grid_auto_flow": null,
            "grid_auto_rows": null,
            "grid_column": null,
            "grid_gap": null,
            "grid_row": null,
            "grid_template_areas": null,
            "grid_template_columns": null,
            "grid_template_rows": null,
            "height": null,
            "justify_content": null,
            "justify_items": null,
            "left": null,
            "margin": null,
            "max_height": null,
            "max_width": null,
            "min_height": null,
            "min_width": null,
            "object_fit": null,
            "object_position": null,
            "order": null,
            "overflow": null,
            "overflow_x": null,
            "overflow_y": null,
            "padding": null,
            "right": null,
            "top": null,
            "visibility": null,
            "width": null
          }
        },
        "37aa0460de5241c688f1059f83f515a1": {
          "model_module": "@jupyter-widgets/controls",
          "model_name": "VBoxModel",
          "model_module_version": "1.5.0",
          "state": {
            "_dom_classes": [],
            "_model_module": "@jupyter-widgets/controls",
            "_model_module_version": "1.5.0",
            "_model_name": "VBoxModel",
            "_view_count": null,
            "_view_module": "@jupyter-widgets/controls",
            "_view_module_version": "1.5.0",
            "_view_name": "VBoxView",
            "box_style": "",
            "children": [
              "IPY_MODEL_278b775c549c4938b456d4cc6bb93f5c",
              "IPY_MODEL_329be6b51c4b4d62994874c603fc6288"
            ],
            "layout": "IPY_MODEL_c799a4259dab4708b2b07009bb79afe9"
          }
        },
        "278b775c549c4938b456d4cc6bb93f5c": {
          "model_module": "bqplot",
          "model_name": "FigureModel",
          "model_module_version": "^0.5",
          "state": {
            "_dom_classes": [],
            "_model_module": "bqplot",
            "_model_module_version": "^0.5",
            "_model_name": "FigureModel",
            "_view_count": null,
            "_view_module": "bqplot",
            "_view_module_version": "^0.5",
            "_view_name": "Figure",
            "animation_duration": 0,
            "axes": [
              "IPY_MODEL_4a4d016226eb4abb87aaf3a6203ae2b0",
              "IPY_MODEL_4b7851652b2c40009574ad1ce31f1d59",
              "IPY_MODEL_aaba1fdb96d74afdaa68dbf4ec3a1eea"
            ],
            "background_style": {},
            "fig_margin": {
              "top": 50,
              "bottom": 70,
              "left": 50,
              "right": 100
            },
            "interaction": null,
            "layout": "IPY_MODEL_a21d55405bf64b48ace2f54843e47f4b",
            "legend_location": "top-right",
            "legend_style": {},
            "legend_text": {},
            "marks": [
              "IPY_MODEL_ae92326ebc8f463ab716b3a050e10854"
            ],
            "max_aspect_ratio": 100,
            "min_aspect_ratio": 0.01,
            "padding_x": 0,
            "padding_y": 0.025,
            "pixel_ratio": null,
            "scale_x": "IPY_MODEL_dded8bc5826b4743bc2e586564e44e5a",
            "scale_y": "IPY_MODEL_9d46c2c96cba493b9425f7af3c4e76fa",
            "theme": "classic",
            "title": "",
            "title_style": {}
          }
        },
        "329be6b51c4b4d62994874c603fc6288": {
          "model_module": "bqplot",
          "model_name": "ToolbarModel",
          "model_module_version": "^0.5",
          "state": {
            "_dom_classes": [],
            "_model_module": "bqplot",
            "_model_module_version": "^0.5",
            "_model_name": "ToolbarModel",
            "_panning": false,
            "_panzoom": null,
            "_view_count": null,
            "_view_module": "bqplot",
            "_view_module_version": "^0.5",
            "_view_name": "Toolbar",
            "figure": "IPY_MODEL_278b775c549c4938b456d4cc6bb93f5c",
            "layout": "IPY_MODEL_149156cacbd1473eaedfcd9654fc7c05"
          }
        },
        "c799a4259dab4708b2b07009bb79afe9": {
          "model_module": "@jupyter-widgets/base",
          "model_name": "LayoutModel",
          "model_module_version": "1.2.0",
          "state": {
            "_model_module": "@jupyter-widgets/base",
            "_model_module_version": "1.2.0",
            "_model_name": "LayoutModel",
            "_view_count": null,
            "_view_module": "@jupyter-widgets/base",
            "_view_module_version": "1.2.0",
            "_view_name": "LayoutView",
            "align_content": null,
            "align_items": null,
            "align_self": null,
            "border": null,
            "bottom": null,
            "display": null,
            "flex": null,
            "flex_flow": null,
            "grid_area": null,
            "grid_auto_columns": null,
            "grid_auto_flow": null,
            "grid_auto_rows": null,
            "grid_column": null,
            "grid_gap": null,
            "grid_row": null,
            "grid_template_areas": null,
            "grid_template_columns": null,
            "grid_template_rows": null,
            "height": null,
            "justify_content": null,
            "justify_items": null,
            "left": null,
            "margin": null,
            "max_height": null,
            "max_width": null,
            "min_height": null,
            "min_width": null,
            "object_fit": null,
            "object_position": null,
            "order": null,
            "overflow": null,
            "overflow_x": null,
            "overflow_y": null,
            "padding": null,
            "right": null,
            "top": null,
            "visibility": null,
            "width": null
          }
        },
        "4a4d016226eb4abb87aaf3a6203ae2b0": {
          "model_module": "bqplot",
          "model_name": "AxisModel",
          "model_module_version": "^0.5",
          "state": {
            "_model_module": "bqplot",
            "_model_module_version": "^0.5",
            "_model_name": "AxisModel",
            "_view_count": null,
            "_view_module": "bqplot",
            "_view_module_version": "^0.5",
            "_view_name": "Axis",
            "color": null,
            "grid_color": null,
            "grid_lines": "solid",
            "label": "Sup*100",
            "label_color": null,
            "label_location": "middle",
            "label_offset": null,
            "num_ticks": null,
            "offset": {},
            "orientation": "horizontal",
            "scale": "IPY_MODEL_a0c980050c324b55a85c675bfd9344fd",
            "side": "bottom",
            "tick_format": null,
            "tick_labels": {},
            "tick_rotate": 0,
            "tick_style": {},
            "tick_values": null,
            "visible": true
          }
        },
        "4b7851652b2c40009574ad1ce31f1d59": {
          "model_module": "bqplot",
          "model_name": "AxisModel",
          "model_module_version": "^0.5",
          "state": {
            "_model_module": "bqplot",
            "_model_module_version": "^0.5",
            "_model_name": "AxisModel",
            "_view_count": null,
            "_view_module": "bqplot",
            "_view_module_version": "^0.5",
            "_view_name": "Axis",
            "color": null,
            "grid_color": null,
            "grid_lines": "solid",
            "label": "Conf*100",
            "label_color": null,
            "label_location": "middle",
            "label_offset": null,
            "num_ticks": null,
            "offset": {},
            "orientation": "vertical",
            "scale": "IPY_MODEL_74475e1057084c92aca1a39071fe8ef2",
            "side": "left",
            "tick_format": null,
            "tick_labels": {},
            "tick_rotate": 0,
            "tick_style": {},
            "tick_values": null,
            "visible": true
          }
        },
        "aaba1fdb96d74afdaa68dbf4ec3a1eea": {
          "model_module": "bqplot",
          "model_name": "ColorAxisModel",
          "model_module_version": "^0.5",
          "state": {
            "_model_module": "bqplot",
            "_model_module_version": "^0.5",
            "_model_name": "ColorAxisModel",
            "_view_count": null,
            "_view_module": "bqplot",
            "_view_module_version": "^0.5",
            "_view_name": "ColorAxis",
            "color": null,
            "grid_color": null,
            "grid_lines": "solid",
            "label": "Lift",
            "label_color": null,
            "label_location": "middle",
            "label_offset": null,
            "num_ticks": null,
            "offset": {},
            "orientation": "vertical",
            "scale": "IPY_MODEL_7e469c31448f4927a0882def2b70bf29",
            "side": "right",
            "tick_format": "",
            "tick_labels": {},
            "tick_rotate": 0,
            "tick_style": {},
            "tick_values": null,
            "visible": true
          }
        },
        "a21d55405bf64b48ace2f54843e47f4b": {
          "model_module": "@jupyter-widgets/base",
          "model_name": "LayoutModel",
          "model_module_version": "1.2.0",
          "state": {
            "_model_module": "@jupyter-widgets/base",
            "_model_module_version": "1.2.0",
            "_model_name": "LayoutModel",
            "_view_count": null,
            "_view_module": "@jupyter-widgets/base",
            "_view_module_version": "1.2.0",
            "_view_name": "LayoutView",
            "align_content": null,
            "align_items": null,
            "align_self": null,
            "border": null,
            "bottom": null,
            "display": null,
            "flex": null,
            "flex_flow": null,
            "grid_area": null,
            "grid_auto_columns": null,
            "grid_auto_flow": null,
            "grid_auto_rows": null,
            "grid_column": null,
            "grid_gap": null,
            "grid_row": null,
            "grid_template_areas": null,
            "grid_template_columns": null,
            "grid_template_rows": null,
            "height": null,
            "justify_content": null,
            "justify_items": null,
            "left": null,
            "margin": null,
            "max_height": "600px",
            "max_width": "600px",
            "min_height": "600px",
            "min_width": "600px",
            "object_fit": null,
            "object_position": null,
            "order": null,
            "overflow": null,
            "overflow_x": null,
            "overflow_y": null,
            "padding": null,
            "right": null,
            "top": null,
            "visibility": null,
            "width": null
          }
        },
        "ae92326ebc8f463ab716b3a050e10854": {
          "model_module": "bqplot",
          "model_name": "ScatterModel",
          "model_module_version": "^0.5",
          "state": {
            "_model_module": "bqplot",
            "_model_module_version": "^0.5",
            "_model_name": "ScatterModel",
            "_view_count": null,
            "_view_module": "bqplot",
            "_view_module_version": "^0.5",
            "_view_name": "Scatter",
            "apply_clip": true,
            "color": {
              "dtype": "float64",
              "shape": [
                10
              ],
              "type": null
            },
            "colors": [
              "steelblue"
            ],
            "default_size": 64,
            "default_skew": 0.5,
            "display_legend": false,
            "display_names": false,
            "drag_color": null,
            "drag_size": 5,
            "enable_delete": false,
            "enable_hover": true,
            "enable_move": false,
            "fill": true,
            "hovered_point": null,
            "hovered_style": {},
            "interactions": {
              "hover": "tooltip"
            },
            "label_display_horizontal_offset": 0,
            "label_display_vertical_offset": 0,
            "labels": [],
            "marker": "circle",
            "names": [
              "{J15} -> {A41} (conf: 0.444, supp: 0.034, lift: 1.563, conv: 1.287)",
              "{J18} -> {A41} (conf: 0.425, supp: 0.132, lift: 1.497, conv: 1.245)",
              "{A41} -> {J18} (conf: 0.465, supp: 0.132, lift: 1.497, conv: 1.288)",
              "{J69} -> {A41} (conf: 0.363, supp: 0.039, lift: 1.278, conv: 1.124)",
              "{J98} -> {A41} (conf: 0.450, supp: 0.016, lift: 1.584, conv: 1.301)",
              "{L89} -> {A41} (conf: 0.723, supp: 0.025, lift: 2.548, conv: 2.589)",
              "{N39} -> {A41} (conf: 0.584, supp: 0.025, lift: 2.056, conv: 1.720)",
              "{J96} -> {J18} (conf: 0.381, supp: 0.088, lift: 1.227, conv: 1.114)",
              "{J69} -> {J96} (conf: 0.337, supp: 0.036, lift: 1.455, conv: 1.159)",
              "{A41, J96} -> {J18} (conf: 0.466, supp: 0.015, lift: 1.502, conv: 1.292)"
            ],
            "names_unique": true,
            "opacities": {
              "dtype": "float64",
              "shape": [
                1
              ],
              "type": null
            },
            "opacity": null,
            "preserve_domain": {},
            "restrict_x": false,
            "restrict_y": false,
            "rotation": null,
            "scales": {
              "x": "IPY_MODEL_a0c980050c324b55a85c675bfd9344fd",
              "y": "IPY_MODEL_74475e1057084c92aca1a39071fe8ef2",
              "color": "IPY_MODEL_7e469c31448f4927a0882def2b70bf29"
            },
            "scales_metadata": {
              "x": {
                "orientation": "horizontal",
                "dimension": "x"
              },
              "y": {
                "orientation": "vertical",
                "dimension": "y"
              },
              "color": {
                "dimension": "color"
              },
              "size": {
                "dimension": "size"
              },
              "opacity": {
                "dimension": "opacity"
              },
              "rotation": {
                "dimension": "rotation"
              },
              "skew": {
                "dimension": "skew"
              }
            },
            "selected": null,
            "selected_style": {},
            "size": null,
            "skew": null,
            "stroke": null,
            "stroke_width": 1.5,
            "tooltip": "IPY_MODEL_884a8e39e8964c9fab22fe937587afc7",
            "tooltip_location": "mouse",
            "tooltip_style": {
              "opacity": 0.9
            },
            "unhovered_style": {},
            "unselected_style": {},
            "update_on_move": false,
            "visible": true,
            "x": {
              "dtype": "float64",
              "shape": [
                10
              ],
              "type": null
            },
            "y": {
              "dtype": "float64",
              "shape": [
                10
              ],
              "type": null
            }
          }
        },
        "dded8bc5826b4743bc2e586564e44e5a": {
          "model_module": "bqplot",
          "model_name": "LinearScaleModel",
          "model_module_version": "^0.5",
          "state": {
            "_model_module": "bqplot",
            "_model_module_version": "^0.5",
            "_model_name": "LinearScaleModel",
            "_view_count": null,
            "_view_module": "bqplot",
            "_view_module_version": "^0.5",
            "_view_name": "LinearScale",
            "allow_padding": false,
            "max": 1,
            "mid_range": 0.8,
            "min": 0,
            "min_range": 0.6,
            "reverse": false,
            "stabilized": false
          }
        },
        "9d46c2c96cba493b9425f7af3c4e76fa": {
          "model_module": "bqplot",
          "model_name": "LinearScaleModel",
          "model_module_version": "^0.5",
          "state": {
            "_model_module": "bqplot",
            "_model_module_version": "^0.5",
            "_model_name": "LinearScaleModel",
            "_view_count": null,
            "_view_module": "bqplot",
            "_view_module_version": "^0.5",
            "_view_name": "LinearScale",
            "allow_padding": false,
            "max": 1,
            "mid_range": 0.8,
            "min": 0,
            "min_range": 0.6,
            "reverse": false,
            "stabilized": false
          }
        },
        "149156cacbd1473eaedfcd9654fc7c05": {
          "model_module": "@jupyter-widgets/base",
          "model_name": "LayoutModel",
          "model_module_version": "1.2.0",
          "state": {
            "_model_module": "@jupyter-widgets/base",
            "_model_module_version": "1.2.0",
            "_model_name": "LayoutModel",
            "_view_count": null,
            "_view_module": "@jupyter-widgets/base",
            "_view_module_version": "1.2.0",
            "_view_name": "LayoutView",
            "align_content": null,
            "align_items": null,
            "align_self": null,
            "border": null,
            "bottom": null,
            "display": null,
            "flex": null,
            "flex_flow": null,
            "grid_area": null,
            "grid_auto_columns": null,
            "grid_auto_flow": null,
            "grid_auto_rows": null,
            "grid_column": null,
            "grid_gap": null,
            "grid_row": null,
            "grid_template_areas": null,
            "grid_template_columns": null,
            "grid_template_rows": null,
            "height": null,
            "justify_content": null,
            "justify_items": null,
            "left": null,
            "margin": null,
            "max_height": null,
            "max_width": null,
            "min_height": null,
            "min_width": null,
            "object_fit": null,
            "object_position": null,
            "order": null,
            "overflow": null,
            "overflow_x": null,
            "overflow_y": null,
            "padding": null,
            "right": null,
            "top": null,
            "visibility": null,
            "width": null
          }
        },
        "a0c980050c324b55a85c675bfd9344fd": {
          "model_module": "bqplot",
          "model_name": "LinearScaleModel",
          "model_module_version": "^0.5",
          "state": {
            "_model_module": "bqplot",
            "_model_module_version": "^0.5",
            "_model_name": "LinearScaleModel",
            "_view_count": null,
            "_view_module": "bqplot",
            "_view_module_version": "^0.5",
            "_view_name": "LinearScale",
            "allow_padding": true,
            "max": null,
            "mid_range": 0.8,
            "min": null,
            "min_range": 0.6,
            "reverse": false,
            "stabilized": false
          }
        },
        "74475e1057084c92aca1a39071fe8ef2": {
          "model_module": "bqplot",
          "model_name": "LinearScaleModel",
          "model_module_version": "^0.5",
          "state": {
            "_model_module": "bqplot",
            "_model_module_version": "^0.5",
            "_model_name": "LinearScaleModel",
            "_view_count": null,
            "_view_module": "bqplot",
            "_view_module_version": "^0.5",
            "_view_name": "LinearScale",
            "allow_padding": true,
            "max": null,
            "mid_range": 0.8,
            "min": null,
            "min_range": 0.6,
            "reverse": false,
            "stabilized": false
          }
        },
        "7e469c31448f4927a0882def2b70bf29": {
          "model_module": "bqplot",
          "model_name": "ColorScaleModel",
          "model_module_version": "^0.5",
          "state": {
            "_model_module": "bqplot",
            "_model_module_version": "^0.5",
            "_model_name": "ColorScaleModel",
            "_view_count": null,
            "_view_module": "bqplot",
            "_view_module_version": "^0.5",
            "_view_name": "ColorScale",
            "allow_padding": true,
            "colors": [],
            "extrapolation": "constant",
            "max": null,
            "mid": null,
            "min": null,
            "reverse": false,
            "scale_type": "linear",
            "scheme": "Reds"
          }
        },
        "884a8e39e8964c9fab22fe937587afc7": {
          "model_module": "bqplot",
          "model_name": "TooltipModel",
          "model_module_version": "^0.5",
          "state": {
            "_dom_classes": [],
            "_model_module": "bqplot",
            "_model_module_version": "^0.5",
            "_model_name": "TooltipModel",
            "_view_count": null,
            "_view_module": "bqplot",
            "_view_module_version": "^0.5",
            "_view_name": "Tooltip",
            "fields": [
              "name"
            ],
            "formats": [
              ""
            ],
            "labels": [],
            "layout": "IPY_MODEL_7127ac0514d543c79ae2e7f56846dd1b",
            "show_labels": true
          }
        },
        "7127ac0514d543c79ae2e7f56846dd1b": {
          "model_module": "@jupyter-widgets/base",
          "model_name": "LayoutModel",
          "model_module_version": "1.2.0",
          "state": {
            "_model_module": "@jupyter-widgets/base",
            "_model_module_version": "1.2.0",
            "_model_name": "LayoutModel",
            "_view_count": null,
            "_view_module": "@jupyter-widgets/base",
            "_view_module_version": "1.2.0",
            "_view_name": "LayoutView",
            "align_content": null,
            "align_items": null,
            "align_self": null,
            "border": null,
            "bottom": null,
            "display": null,
            "flex": null,
            "flex_flow": null,
            "grid_area": null,
            "grid_auto_columns": null,
            "grid_auto_flow": null,
            "grid_auto_rows": null,
            "grid_column": null,
            "grid_gap": null,
            "grid_row": null,
            "grid_template_areas": null,
            "grid_template_columns": null,
            "grid_template_rows": null,
            "height": null,
            "justify_content": null,
            "justify_items": null,
            "left": null,
            "margin": null,
            "max_height": null,
            "max_width": null,
            "min_height": null,
            "min_width": null,
            "object_fit": null,
            "object_position": null,
            "order": null,
            "overflow": null,
            "overflow_x": null,
            "overflow_y": null,
            "padding": null,
            "right": null,
            "top": null,
            "visibility": null,
            "width": null
          }
        }
      }
    }
  },
  "nbformat": 4,
  "nbformat_minor": 0
}